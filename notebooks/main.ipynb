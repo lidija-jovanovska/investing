{
 "cells": [
  {
   "cell_type": "code",
   "execution_count": null,
   "id": "9748f7ac0807bbda",
   "metadata": {
    "ExecuteTime": {
     "end_time": "2025-02-27T20:14:26.933951Z",
     "start_time": "2025-02-27T20:14:26.882182Z"
    }
   },
   "outputs": [],
   "source": [
    "import os\n",
    "import datetime\n",
    "\n",
    "import pandas as pd\n",
    "from dotenv import load_dotenv\n",
    "from tqdm import tqdm\n",
    "import plotly.express as px\n",
    "import plotly\n",
    "\n",
    "from src.api.api_utils import FinancialModelingPrepAPI\n",
    "\n",
    "tqdm.pandas()"
   ]
  },
  {
   "cell_type": "markdown",
   "id": "dad1457822b0e912",
   "metadata": {},
   "source": [
    "#### Setup API"
   ]
  },
  {
   "cell_type": "code",
   "execution_count": 2,
   "id": "b7a69adfd29085b4",
   "metadata": {
    "ExecuteTime": {
     "end_time": "2025-02-27T20:14:28.318500Z",
     "start_time": "2025-02-27T20:14:28.298886Z"
    }
   },
   "outputs": [],
   "source": [
    "load_dotenv()\n",
    "api_key = os.getenv(\"API_KEY\")\n",
    "api = FinancialModelingPrepAPI(api_key)"
   ]
  },
  {
   "cell_type": "markdown",
   "id": "3ad3bdce22598a9a",
   "metadata": {},
   "source": [
    "#### Get S&P 500 companies"
   ]
  },
  {
   "cell_type": "code",
   "execution_count": 3,
   "id": "8fbd624522549495",
   "metadata": {
    "ExecuteTime": {
     "end_time": "2025-02-27T20:35:29.384410Z",
     "start_time": "2025-02-27T20:35:28.640729Z"
    }
   },
   "outputs": [
    {
     "data": {
      "application/vnd.microsoft.datawrangler.viewer.v0+json": {
       "columns": [
        {
         "name": "index",
         "rawType": "int64",
         "type": "integer"
        },
        {
         "name": "symbol",
         "rawType": "object",
         "type": "string"
        },
        {
         "name": "name",
         "rawType": "object",
         "type": "string"
        },
        {
         "name": "sector",
         "rawType": "object",
         "type": "string"
        },
        {
         "name": "subSector",
         "rawType": "object",
         "type": "string"
        },
        {
         "name": "headQuarter",
         "rawType": "object",
         "type": "string"
        },
        {
         "name": "dateFirstAdded",
         "rawType": "object",
         "type": "string"
        },
        {
         "name": "cik",
         "rawType": "object",
         "type": "string"
        },
        {
         "name": "founded",
         "rawType": "object",
         "type": "string"
        }
       ],
       "conversionMethod": "pd.DataFrame",
       "ref": "d8ea7d00-7f83-4a47-b212-8190681bee28",
       "rows": [
        [
         "0",
         "DASH",
         "DoorDash",
         "Communication Services",
         "Internet Content & Information",
         "San Francisco, CA",
         "2025-03-24",
         "0001792789",
         "2013"
        ],
        [
         "1",
         "EXE",
         "Expand Energy",
         "Energy",
         "Oil & Gas Exploration & Production",
         "Oklahoma City, OK",
         "2025-03-24",
         "0000895126",
         "1989"
        ],
        [
         "2",
         "TKO",
         "TKO Group Holdings",
         "Communication Services",
         "Entertainment",
         "New York, NY",
         "2025-03-24",
         "0001973266",
         "2023"
        ],
        [
         "3",
         "WSM",
         "Williams-Sonoma",
         "Consumer Cyclical",
         "Specialty Retail",
         "San Francisco, CA",
         "2025-03-24",
         "0000719955",
         "1956"
        ],
        [
         "4",
         "APO",
         "Apollo Global Management",
         "Financial Services",
         "Asset Management - Global",
         "New York City, New York",
         "2024-12-23",
         "0001858681",
         "1990"
        ]
       ],
       "shape": {
        "columns": 8,
        "rows": 5
       }
      },
      "text/html": [
       "<div>\n",
       "<style scoped>\n",
       "    .dataframe tbody tr th:only-of-type {\n",
       "        vertical-align: middle;\n",
       "    }\n",
       "\n",
       "    .dataframe tbody tr th {\n",
       "        vertical-align: top;\n",
       "    }\n",
       "\n",
       "    .dataframe thead th {\n",
       "        text-align: right;\n",
       "    }\n",
       "</style>\n",
       "<table border=\"1\" class=\"dataframe\">\n",
       "  <thead>\n",
       "    <tr style=\"text-align: right;\">\n",
       "      <th></th>\n",
       "      <th>symbol</th>\n",
       "      <th>name</th>\n",
       "      <th>sector</th>\n",
       "      <th>subSector</th>\n",
       "      <th>headQuarter</th>\n",
       "      <th>dateFirstAdded</th>\n",
       "      <th>cik</th>\n",
       "      <th>founded</th>\n",
       "    </tr>\n",
       "  </thead>\n",
       "  <tbody>\n",
       "    <tr>\n",
       "      <th>0</th>\n",
       "      <td>DASH</td>\n",
       "      <td>DoorDash</td>\n",
       "      <td>Communication Services</td>\n",
       "      <td>Internet Content &amp; Information</td>\n",
       "      <td>San Francisco, CA</td>\n",
       "      <td>2025-03-24</td>\n",
       "      <td>0001792789</td>\n",
       "      <td>2013</td>\n",
       "    </tr>\n",
       "    <tr>\n",
       "      <th>1</th>\n",
       "      <td>EXE</td>\n",
       "      <td>Expand Energy</td>\n",
       "      <td>Energy</td>\n",
       "      <td>Oil &amp; Gas Exploration &amp; Production</td>\n",
       "      <td>Oklahoma City, OK</td>\n",
       "      <td>2025-03-24</td>\n",
       "      <td>0000895126</td>\n",
       "      <td>1989</td>\n",
       "    </tr>\n",
       "    <tr>\n",
       "      <th>2</th>\n",
       "      <td>TKO</td>\n",
       "      <td>TKO Group Holdings</td>\n",
       "      <td>Communication Services</td>\n",
       "      <td>Entertainment</td>\n",
       "      <td>New York, NY</td>\n",
       "      <td>2025-03-24</td>\n",
       "      <td>0001973266</td>\n",
       "      <td>2023</td>\n",
       "    </tr>\n",
       "    <tr>\n",
       "      <th>3</th>\n",
       "      <td>WSM</td>\n",
       "      <td>Williams-Sonoma</td>\n",
       "      <td>Consumer Cyclical</td>\n",
       "      <td>Specialty Retail</td>\n",
       "      <td>San Francisco, CA</td>\n",
       "      <td>2025-03-24</td>\n",
       "      <td>0000719955</td>\n",
       "      <td>1956</td>\n",
       "    </tr>\n",
       "    <tr>\n",
       "      <th>4</th>\n",
       "      <td>APO</td>\n",
       "      <td>Apollo Global Management</td>\n",
       "      <td>Financial Services</td>\n",
       "      <td>Asset Management - Global</td>\n",
       "      <td>New York City, New York</td>\n",
       "      <td>2024-12-23</td>\n",
       "      <td>0001858681</td>\n",
       "      <td>1990</td>\n",
       "    </tr>\n",
       "  </tbody>\n",
       "</table>\n",
       "</div>"
      ],
      "text/plain": [
       "  symbol                      name                  sector  \\\n",
       "0   DASH                  DoorDash  Communication Services   \n",
       "1    EXE             Expand Energy                  Energy   \n",
       "2    TKO        TKO Group Holdings  Communication Services   \n",
       "3    WSM           Williams-Sonoma       Consumer Cyclical   \n",
       "4    APO  Apollo Global Management      Financial Services   \n",
       "\n",
       "                            subSector              headQuarter dateFirstAdded  \\\n",
       "0      Internet Content & Information        San Francisco, CA     2025-03-24   \n",
       "1  Oil & Gas Exploration & Production        Oklahoma City, OK     2025-03-24   \n",
       "2                       Entertainment             New York, NY     2025-03-24   \n",
       "3                    Specialty Retail        San Francisco, CA     2025-03-24   \n",
       "4           Asset Management - Global  New York City, New York     2024-12-23   \n",
       "\n",
       "          cik founded  \n",
       "0  0001792789    2013  \n",
       "1  0000895126    1989  \n",
       "2  0001973266    2023  \n",
       "3  0000719955    1956  \n",
       "4  0001858681    1990  "
      ]
     },
     "execution_count": 3,
     "metadata": {},
     "output_type": "execute_result"
    }
   ],
   "source": [
    "snp_url = f\"https://financialmodelingprep.com/api/v3/sp500_constituent?apikey={api_key}\"\n",
    "response = api.session.get(snp_url).json()\n",
    "snp_data = pd.DataFrame.from_records(response)\n",
    "snp_data.head()"
   ]
  },
  {
   "cell_type": "markdown",
   "id": "deb8be9fdef7a988",
   "metadata": {},
   "source": [
    "### Benjamin Graham's criteria for stock selection (Defensive Investor)\n",
    "\n",
    "1. Adequate size of the enterprise\n",
    "2. Strong financial condition\n",
    "3. Earnings stability\n",
    "4. Dividend record\n",
    "5. Earnings growth\n",
    "6. Moderate price/earnings ratio\n",
    "7. Moderate price to assets ratio"
   ]
  },
  {
   "cell_type": "markdown",
   "id": "259bf845237acfda",
   "metadata": {},
   "source": [
    "\n",
    "#### 1. Adequate size of the enterprise\n",
    "Adequate size of the enterprise (market cap > $2 billion in 2003 -> ~ $3,4 billion in 2024)\n",
    "Reference: Inflation calculator - https://www.nerdwallet.com/calculator/inflation-calculator\n"
   ]
  },
  {
   "cell_type": "code",
   "execution_count": 4,
   "id": "80c5c004dd486c82",
   "metadata": {
    "ExecuteTime": {
     "end_time": "2025-02-27T20:16:08.667553Z",
     "start_time": "2025-02-27T20:14:31.184535Z"
    }
   },
   "outputs": [
    {
     "name": "stderr",
     "output_type": "stream",
     "text": [
      "100%|██████████| 503/503 [01:16<00:00,  6.57it/s]\n"
     ]
    },
    {
     "name": "stdout",
     "output_type": "stream",
     "text": [
      "Companies without market cap: 94\n"
     ]
    },
    {
     "name": "stderr",
     "output_type": "stream",
     "text": [
      "100%|██████████| 503/503 [00:12<00:00, 40.74it/s]  "
     ]
    },
    {
     "name": "stdout",
     "output_type": "stream",
     "text": [
      "Companies without market cap: 0\n"
     ]
    },
    {
     "name": "stderr",
     "output_type": "stream",
     "text": [
      "\n"
     ]
    }
   ],
   "source": [
    "# Initial call returns an empty list sometimes, so we need to retry until we get the data\n",
    "snp_data[\"market_cap\"] = snp_data.progress_apply(\n",
    "    lambda x: api.get_market_cap(x[\"symbol\"]), axis=1\n",
    ")\n",
    "print(f\"Companies without market cap: {snp_data['market_cap'].isna().sum()}\")\n",
    "\n",
    "# set time limit for the while loop\n",
    "time_limit = datetime.datetime.now() + datetime.timedelta(seconds=30)\n",
    "\n",
    "# While loop to ensure all companies have a market cap\n",
    "while snp_data[\"market_cap\"].isna().any() and datetime.datetime.now() < time_limit:\n",
    "    # Apply the get_market_cap function to companies without a market cap\n",
    "    snp_data[\"market_cap\"] = snp_data.progress_apply(\n",
    "        lambda x: api.get_market_cap(x[\"symbol\"])\n",
    "        if pd.isna(x[\"market_cap\"])\n",
    "        else x[\"market_cap\"],\n",
    "        axis=1,\n",
    "    )\n",
    "\n",
    "# Sanity check\n",
    "print(f\"Companies without market cap: {snp_data['market_cap'].isna().sum()}\")"
   ]
  },
  {
   "cell_type": "code",
   "execution_count": 5,
   "id": "86ae517a6b78a615",
   "metadata": {
    "ExecuteTime": {
     "end_time": "2025-02-27T20:16:09.807137Z",
     "start_time": "2025-02-27T20:16:09.774053Z"
    }
   },
   "outputs": [
    {
     "data": {
      "text/plain": [
       "count    5.030000e+02\n",
       "mean     1.028615e+11\n",
       "std      2.953585e+11\n",
       "min      5.631606e+09\n",
       "25%      1.813118e+10\n",
       "50%      3.470108e+10\n",
       "75%      7.859223e+10\n",
       "max      3.143825e+12\n",
       "Name: market_cap, dtype: float64"
      ]
     },
     "execution_count": 5,
     "metadata": {},
     "output_type": "execute_result"
    }
   ],
   "source": [
    "snp_data[\"market_cap\"].describe()"
   ]
  },
  {
   "cell_type": "code",
   "execution_count": 6,
   "id": "74b51a4282ccf134",
   "metadata": {
    "ExecuteTime": {
     "end_time": "2025-02-27T20:16:14.676730Z",
     "start_time": "2025-02-27T20:16:14.599795Z"
    }
   },
   "outputs": [
    {
     "data": {
      "application/vnd.plotly.v1+json": {
       "config": {
        "plotlyServerURL": "https://plot.ly"
       },
       "data": [
        {
         "alignmentgroup": "True",
         "bingroup": "x",
         "hovertemplate": "market_cap=%{x}<br>count=%{y}<extra></extra>",
         "legendgroup": "",
         "marker": {
          "color": "#636efa",
          "pattern": {
           "shape": ""
          }
         },
         "name": "",
         "nbinsx": 3000,
         "offsetgroup": "",
         "orientation": "v",
         "showlegend": false,
         "type": "histogram",
         "x": [
          79563767335,
          24503310000,
          12812101980,
          18673476900,
          76102032000,
          18711489888,
          63714978563,
          30676203624,
          66218115125,
          16713525835,
          253636582804,
          22043054884,
          105316280240,
          26122579000,
          100931961130,
          43077482480,
          101646359595,
          11430303585,
          16572203060,
          21644252070,
          13802713050,
          15771127400,
          162595465000,
          19277852256,
          30948075900,
          22851399578,
          77247404558,
          173425004924,
          43977648507,
          118502658000,
          46263616074,
          47671700811,
          10839350799,
          18308646531,
          31325629691,
          19087883980,
          15213066400,
          34069926880,
          38647447700,
          30015435840,
          37668235200,
          34930411660,
          20703187740,
          46672200000,
          16725801870,
          34046874000,
          21250285600,
          12170412000,
          17203665549,
          10711920174,
          69864930003,
          16107405537,
          9010329120,
          32801708320,
          9149126220,
          7417607460,
          7942341120,
          10501911520,
          5631606162,
          18533505720,
          6029649720,
          6729824460,
          49088151000,
          27946995928,
          15167824320,
          6144423810,
          916547374000,
          10998249938,
          12403440960,
          21479585780,
          22615446624,
          15510398785,
          16722531260,
          28098387620,
          51891119280,
          36765802970,
          30223163340,
          13167183480,
          30682561880,
          22106430000,
          12593526192,
          31130450780,
          26733980240,
          195668820000,
          25360878920,
          20995116694,
          20812597650,
          13069129300,
          18682061940,
          19655082480,
          264580348200,
          8254810800,
          13788543600,
          41984932050,
          27491133620,
          21129036640,
          21598757633,
          21598757633,
          31492317780,
          25101245920,
          40218791080,
          7329565040,
          12460403861,
          24886512110,
          78281553200,
          26829553560,
          97826133300,
          58835063700,
          22622575297,
          27817756680,
          15613282440,
          41421606240,
          39778668480,
          8869207380,
          7638110690,
          79449563820,
          23991938520,
          26496618200,
          9327953869,
          8961058170,
          16620511442,
          34642987960,
          36089582400,
          13423108505,
          28108179224,
          16875237435,
          52624026680,
          32063562528,
          157012366350,
          13134220960,
          28148486700,
          48684862840,
          69056384400,
          12964586920,
          22365436080,
          11448879840,
          35449700160,
          18631681380,
          45124784250,
          54910032640,
          16176463090,
          53038870200,
          22128765390,
          6791992230,
          23424253920,
          15602466020,
          77291869798,
          82423390500,
          9672467730,
          53839430120,
          17947207680,
          17383895865,
          28617701400,
          13019107800,
          13677816600,
          28075733670,
          8095925838,
          16200186040,
          29934336250,
          30031883952,
          24427280700,
          19989473580,
          21332539200,
          40031267250,
          16189620634,
          22274188200,
          63862989300,
          35240255100,
          12974037840,
          50718345240,
          81981517230,
          7984107040,
          9447934000,
          80734887760,
          57561725320,
          11191836540,
          41183365766,
          30569215332,
          904232004500,
          1984429314440,
          17721702525,
          26538220800,
          1382303705409,
          6681042172,
          11763240511,
          38463217430,
          126956881040,
          27149868900,
          16189620634,
          68456981670,
          45521450800,
          64453553280,
          329136418800,
          12832914780,
          38280699840,
          31911229200,
          20578241320,
          84974468600,
          14807430000,
          19225630240,
          17508168900,
          91678997200,
          57095238530,
          59662579500,
          42361224890,
          43626132460,
          17329237310,
          28252818900,
          43073222610,
          9240909900,
          183669768140,
          53674564500,
          42816820640,
          70179505200,
          140711919180,
          44540810200,
          15567850569,
          468779223630,
          78046539270,
          53517468730,
          111835190350,
          9929040520,
          53911124820,
          1145457910909,
          22063246110,
          59888614500,
          45941398140,
          654780322649,
          157931036196,
          21239364520,
          42602177760,
          14184262720,
          77102953500,
          16332416100,
          29833495680,
          95749730560,
          25766960520,
          76104949640,
          8717372370,
          12262430910,
          34375457970,
          43265833920,
          91913513000,
          40690889120,
          257403850000,
          46308423330,
          13062665490,
          6235068000,
          11164800000,
          481458764760,
          19385115520,
          184364732250,
          12455966680,
          264976857600,
          98688636760,
          14897674080,
          14957655060,
          19747006740,
          93775308540,
          25218332910,
          11658515850,
          46511700300,
          9692618277,
          9622074040,
          10653863500,
          13585656951,
          29293845440,
          35575407630,
          36201735610,
          41983387920,
          95962270200,
          11861564000,
          13827804650,
          10425569550,
          1984429314440,
          25677122562,
          21363500813,
          2005637476000,
          28209942254,
          44643575160,
          51030268560,
          21168107363,
          33493671750,
          38262465360,
          19102378066,
          14259193200,
          160147206080,
          128614817100,
          9704699700,
          27209579280,
          17395205000,
          94774128480,
          15567763260,
          19991593563,
          25224508880,
          35807674070,
          19393701120,
          127856562000,
          58717622040,
          95272270800,
          38206598800,
          31608780000,
          169337039400,
          16526443120,
          36470538300,
          83026196174,
          51109228380,
          20103035862,
          26030503730,
          2708644000000,
          26554138360,
          55440870300,
          20082839910,
          99163642220,
          148189245480,
          84149210800,
          139339386340,
          51221533320,
          174480235440,
          62363080080,
          18565367250,
          20346150000,
          95199779000,
          30300746840,
          28085071740,
          62195759200,
          96511969840,
          11176406250,
          164307360000,
          32634231040,
          14311862700,
          18254045650,
          58915271100,
          87101570000,
          24107714076,
          141087183800,
          7154675400,
          51582953110,
          91856418920,
          18362830200,
          69978098070,
          78902913180,
          65043102600,
          9835450560,
          17857485480,
          14617566280,
          20931174850,
          49174041300,
          24435514840,
          41023050000,
          92304639070,
          21034800000,
          155358402360,
          5952446400,
          31854559520,
          144976785800,
          33230094080,
          156722264000,
          60379398771,
          72543935850,
          23570532720,
          51147964490,
          23299876600,
          17935862340,
          56268884100,
          123125433550,
          37852407860,
          150717233000,
          8329419335,
          89159734600,
          15202981860,
          382935031680,
          2913005063000,
          16128998400,
          8756486400,
          225608825900,
          433549280280,
          187107888600,
          9152259440,
          212053740800,
          150993906840,
          26551128240,
          57495090000,
          28521745920,
          388357812700,
          10235522392,
          67544362620,
          85047106805,
          127806711000,
          62710545000,
          355408774240,
          13483444500,
          108025686720,
          34701083900,
          107938566400,
          70261157000,
          77004044702,
          23164848620,
          141380176000,
          24889530510,
          11328660630,
          59425564360,
          26701927120,
          14277082240,
          8532074070,
          40934085400,
          20419502760,
          124736831500,
          192447005800,
          176860200000,
          11671500900,
          3143825088000,
          16028611619,
          16145369160,
          9516450040,
          762322266500,
          48839537318,
          12745115640,
          118708682960,
          50689564440,
          48236277058,
          47414043060,
          9520765380,
          18008313690,
          12426508820,
          87429829500,
          43999530080,
          185522973090,
          300059575200,
          91780654080,
          163207281200,
          93126086700,
          136054856700,
          11512480054,
          227679606800,
          19497236400,
          677799650000,
          72057330700,
          23831531840,
          16188465600,
          372514613000,
          15500563280,
          58885645800,
          838534190060,
          226491905280,
          60804404400,
          17033481300,
          40394512180,
          59367392000,
          83405746200,
          223467132000,
          23167527000,
          59404759380,
          134175189750,
          97465004000,
          146462261400,
          76168898440,
          21590120700,
          115949672400,
          10821025361,
          52298832000,
          82458661600,
          242322465600,
          124660450200,
          27965125680,
          39784200450,
          22315991040,
          113150722580,
          36636130000,
          46660938800,
          39081704000,
          72995660120,
          211603767700,
          30742320140,
          17972303850,
          33893510200,
          128111064120,
          33074525501,
          215505426240,
          24994928600,
          43670303760,
          309469718700,
          46262580000,
          111909141440,
          73903014920,
          98246168400,
          208206108600,
          71831252080,
          68106729600,
          50202682140,
          37929641880,
          40398397830,
          182905327800,
          129989634000,
          377567747000,
          23280825750,
          167287659000,
          46942367200,
          99490181700,
          150643680000,
          127828536220,
          39744759000,
          469596735300
         ],
         "xaxis": "x",
         "yaxis": "y"
        }
       ],
       "layout": {
        "barmode": "relative",
        "legend": {
         "tracegroupgap": 0
        },
        "template": {
         "data": {
          "bar": [
           {
            "error_x": {
             "color": "#2a3f5f"
            },
            "error_y": {
             "color": "#2a3f5f"
            },
            "marker": {
             "line": {
              "color": "#E5ECF6",
              "width": 0.5
             },
             "pattern": {
              "fillmode": "overlay",
              "size": 10,
              "solidity": 0.2
             }
            },
            "type": "bar"
           }
          ],
          "barpolar": [
           {
            "marker": {
             "line": {
              "color": "#E5ECF6",
              "width": 0.5
             },
             "pattern": {
              "fillmode": "overlay",
              "size": 10,
              "solidity": 0.2
             }
            },
            "type": "barpolar"
           }
          ],
          "carpet": [
           {
            "aaxis": {
             "endlinecolor": "#2a3f5f",
             "gridcolor": "white",
             "linecolor": "white",
             "minorgridcolor": "white",
             "startlinecolor": "#2a3f5f"
            },
            "baxis": {
             "endlinecolor": "#2a3f5f",
             "gridcolor": "white",
             "linecolor": "white",
             "minorgridcolor": "white",
             "startlinecolor": "#2a3f5f"
            },
            "type": "carpet"
           }
          ],
          "choropleth": [
           {
            "colorbar": {
             "outlinewidth": 0,
             "ticks": ""
            },
            "type": "choropleth"
           }
          ],
          "contour": [
           {
            "colorbar": {
             "outlinewidth": 0,
             "ticks": ""
            },
            "colorscale": [
             [
              0,
              "#0d0887"
             ],
             [
              0.1111111111111111,
              "#46039f"
             ],
             [
              0.2222222222222222,
              "#7201a8"
             ],
             [
              0.3333333333333333,
              "#9c179e"
             ],
             [
              0.4444444444444444,
              "#bd3786"
             ],
             [
              0.5555555555555556,
              "#d8576b"
             ],
             [
              0.6666666666666666,
              "#ed7953"
             ],
             [
              0.7777777777777778,
              "#fb9f3a"
             ],
             [
              0.8888888888888888,
              "#fdca26"
             ],
             [
              1,
              "#f0f921"
             ]
            ],
            "type": "contour"
           }
          ],
          "contourcarpet": [
           {
            "colorbar": {
             "outlinewidth": 0,
             "ticks": ""
            },
            "type": "contourcarpet"
           }
          ],
          "heatmap": [
           {
            "colorbar": {
             "outlinewidth": 0,
             "ticks": ""
            },
            "colorscale": [
             [
              0,
              "#0d0887"
             ],
             [
              0.1111111111111111,
              "#46039f"
             ],
             [
              0.2222222222222222,
              "#7201a8"
             ],
             [
              0.3333333333333333,
              "#9c179e"
             ],
             [
              0.4444444444444444,
              "#bd3786"
             ],
             [
              0.5555555555555556,
              "#d8576b"
             ],
             [
              0.6666666666666666,
              "#ed7953"
             ],
             [
              0.7777777777777778,
              "#fb9f3a"
             ],
             [
              0.8888888888888888,
              "#fdca26"
             ],
             [
              1,
              "#f0f921"
             ]
            ],
            "type": "heatmap"
           }
          ],
          "heatmapgl": [
           {
            "colorbar": {
             "outlinewidth": 0,
             "ticks": ""
            },
            "colorscale": [
             [
              0,
              "#0d0887"
             ],
             [
              0.1111111111111111,
              "#46039f"
             ],
             [
              0.2222222222222222,
              "#7201a8"
             ],
             [
              0.3333333333333333,
              "#9c179e"
             ],
             [
              0.4444444444444444,
              "#bd3786"
             ],
             [
              0.5555555555555556,
              "#d8576b"
             ],
             [
              0.6666666666666666,
              "#ed7953"
             ],
             [
              0.7777777777777778,
              "#fb9f3a"
             ],
             [
              0.8888888888888888,
              "#fdca26"
             ],
             [
              1,
              "#f0f921"
             ]
            ],
            "type": "heatmapgl"
           }
          ],
          "histogram": [
           {
            "marker": {
             "pattern": {
              "fillmode": "overlay",
              "size": 10,
              "solidity": 0.2
             }
            },
            "type": "histogram"
           }
          ],
          "histogram2d": [
           {
            "colorbar": {
             "outlinewidth": 0,
             "ticks": ""
            },
            "colorscale": [
             [
              0,
              "#0d0887"
             ],
             [
              0.1111111111111111,
              "#46039f"
             ],
             [
              0.2222222222222222,
              "#7201a8"
             ],
             [
              0.3333333333333333,
              "#9c179e"
             ],
             [
              0.4444444444444444,
              "#bd3786"
             ],
             [
              0.5555555555555556,
              "#d8576b"
             ],
             [
              0.6666666666666666,
              "#ed7953"
             ],
             [
              0.7777777777777778,
              "#fb9f3a"
             ],
             [
              0.8888888888888888,
              "#fdca26"
             ],
             [
              1,
              "#f0f921"
             ]
            ],
            "type": "histogram2d"
           }
          ],
          "histogram2dcontour": [
           {
            "colorbar": {
             "outlinewidth": 0,
             "ticks": ""
            },
            "colorscale": [
             [
              0,
              "#0d0887"
             ],
             [
              0.1111111111111111,
              "#46039f"
             ],
             [
              0.2222222222222222,
              "#7201a8"
             ],
             [
              0.3333333333333333,
              "#9c179e"
             ],
             [
              0.4444444444444444,
              "#bd3786"
             ],
             [
              0.5555555555555556,
              "#d8576b"
             ],
             [
              0.6666666666666666,
              "#ed7953"
             ],
             [
              0.7777777777777778,
              "#fb9f3a"
             ],
             [
              0.8888888888888888,
              "#fdca26"
             ],
             [
              1,
              "#f0f921"
             ]
            ],
            "type": "histogram2dcontour"
           }
          ],
          "mesh3d": [
           {
            "colorbar": {
             "outlinewidth": 0,
             "ticks": ""
            },
            "type": "mesh3d"
           }
          ],
          "parcoords": [
           {
            "line": {
             "colorbar": {
              "outlinewidth": 0,
              "ticks": ""
             }
            },
            "type": "parcoords"
           }
          ],
          "pie": [
           {
            "automargin": true,
            "type": "pie"
           }
          ],
          "scatter": [
           {
            "fillpattern": {
             "fillmode": "overlay",
             "size": 10,
             "solidity": 0.2
            },
            "type": "scatter"
           }
          ],
          "scatter3d": [
           {
            "line": {
             "colorbar": {
              "outlinewidth": 0,
              "ticks": ""
             }
            },
            "marker": {
             "colorbar": {
              "outlinewidth": 0,
              "ticks": ""
             }
            },
            "type": "scatter3d"
           }
          ],
          "scattercarpet": [
           {
            "marker": {
             "colorbar": {
              "outlinewidth": 0,
              "ticks": ""
             }
            },
            "type": "scattercarpet"
           }
          ],
          "scattergeo": [
           {
            "marker": {
             "colorbar": {
              "outlinewidth": 0,
              "ticks": ""
             }
            },
            "type": "scattergeo"
           }
          ],
          "scattergl": [
           {
            "marker": {
             "colorbar": {
              "outlinewidth": 0,
              "ticks": ""
             }
            },
            "type": "scattergl"
           }
          ],
          "scattermapbox": [
           {
            "marker": {
             "colorbar": {
              "outlinewidth": 0,
              "ticks": ""
             }
            },
            "type": "scattermapbox"
           }
          ],
          "scatterpolar": [
           {
            "marker": {
             "colorbar": {
              "outlinewidth": 0,
              "ticks": ""
             }
            },
            "type": "scatterpolar"
           }
          ],
          "scatterpolargl": [
           {
            "marker": {
             "colorbar": {
              "outlinewidth": 0,
              "ticks": ""
             }
            },
            "type": "scatterpolargl"
           }
          ],
          "scatterternary": [
           {
            "marker": {
             "colorbar": {
              "outlinewidth": 0,
              "ticks": ""
             }
            },
            "type": "scatterternary"
           }
          ],
          "surface": [
           {
            "colorbar": {
             "outlinewidth": 0,
             "ticks": ""
            },
            "colorscale": [
             [
              0,
              "#0d0887"
             ],
             [
              0.1111111111111111,
              "#46039f"
             ],
             [
              0.2222222222222222,
              "#7201a8"
             ],
             [
              0.3333333333333333,
              "#9c179e"
             ],
             [
              0.4444444444444444,
              "#bd3786"
             ],
             [
              0.5555555555555556,
              "#d8576b"
             ],
             [
              0.6666666666666666,
              "#ed7953"
             ],
             [
              0.7777777777777778,
              "#fb9f3a"
             ],
             [
              0.8888888888888888,
              "#fdca26"
             ],
             [
              1,
              "#f0f921"
             ]
            ],
            "type": "surface"
           }
          ],
          "table": [
           {
            "cells": {
             "fill": {
              "color": "#EBF0F8"
             },
             "line": {
              "color": "white"
             }
            },
            "header": {
             "fill": {
              "color": "#C8D4E3"
             },
             "line": {
              "color": "white"
             }
            },
            "type": "table"
           }
          ]
         },
         "layout": {
          "annotationdefaults": {
           "arrowcolor": "#2a3f5f",
           "arrowhead": 0,
           "arrowwidth": 1
          },
          "autotypenumbers": "strict",
          "coloraxis": {
           "colorbar": {
            "outlinewidth": 0,
            "ticks": ""
           }
          },
          "colorscale": {
           "diverging": [
            [
             0,
             "#8e0152"
            ],
            [
             0.1,
             "#c51b7d"
            ],
            [
             0.2,
             "#de77ae"
            ],
            [
             0.3,
             "#f1b6da"
            ],
            [
             0.4,
             "#fde0ef"
            ],
            [
             0.5,
             "#f7f7f7"
            ],
            [
             0.6,
             "#e6f5d0"
            ],
            [
             0.7,
             "#b8e186"
            ],
            [
             0.8,
             "#7fbc41"
            ],
            [
             0.9,
             "#4d9221"
            ],
            [
             1,
             "#276419"
            ]
           ],
           "sequential": [
            [
             0,
             "#0d0887"
            ],
            [
             0.1111111111111111,
             "#46039f"
            ],
            [
             0.2222222222222222,
             "#7201a8"
            ],
            [
             0.3333333333333333,
             "#9c179e"
            ],
            [
             0.4444444444444444,
             "#bd3786"
            ],
            [
             0.5555555555555556,
             "#d8576b"
            ],
            [
             0.6666666666666666,
             "#ed7953"
            ],
            [
             0.7777777777777778,
             "#fb9f3a"
            ],
            [
             0.8888888888888888,
             "#fdca26"
            ],
            [
             1,
             "#f0f921"
            ]
           ],
           "sequentialminus": [
            [
             0,
             "#0d0887"
            ],
            [
             0.1111111111111111,
             "#46039f"
            ],
            [
             0.2222222222222222,
             "#7201a8"
            ],
            [
             0.3333333333333333,
             "#9c179e"
            ],
            [
             0.4444444444444444,
             "#bd3786"
            ],
            [
             0.5555555555555556,
             "#d8576b"
            ],
            [
             0.6666666666666666,
             "#ed7953"
            ],
            [
             0.7777777777777778,
             "#fb9f3a"
            ],
            [
             0.8888888888888888,
             "#fdca26"
            ],
            [
             1,
             "#f0f921"
            ]
           ]
          },
          "colorway": [
           "#636efa",
           "#EF553B",
           "#00cc96",
           "#ab63fa",
           "#FFA15A",
           "#19d3f3",
           "#FF6692",
           "#B6E880",
           "#FF97FF",
           "#FECB52"
          ],
          "font": {
           "color": "#2a3f5f"
          },
          "geo": {
           "bgcolor": "white",
           "lakecolor": "white",
           "landcolor": "#E5ECF6",
           "showlakes": true,
           "showland": true,
           "subunitcolor": "white"
          },
          "hoverlabel": {
           "align": "left"
          },
          "hovermode": "closest",
          "mapbox": {
           "style": "light"
          },
          "paper_bgcolor": "white",
          "plot_bgcolor": "#E5ECF6",
          "polar": {
           "angularaxis": {
            "gridcolor": "white",
            "linecolor": "white",
            "ticks": ""
           },
           "bgcolor": "#E5ECF6",
           "radialaxis": {
            "gridcolor": "white",
            "linecolor": "white",
            "ticks": ""
           }
          },
          "scene": {
           "xaxis": {
            "backgroundcolor": "#E5ECF6",
            "gridcolor": "white",
            "gridwidth": 2,
            "linecolor": "white",
            "showbackground": true,
            "ticks": "",
            "zerolinecolor": "white"
           },
           "yaxis": {
            "backgroundcolor": "#E5ECF6",
            "gridcolor": "white",
            "gridwidth": 2,
            "linecolor": "white",
            "showbackground": true,
            "ticks": "",
            "zerolinecolor": "white"
           },
           "zaxis": {
            "backgroundcolor": "#E5ECF6",
            "gridcolor": "white",
            "gridwidth": 2,
            "linecolor": "white",
            "showbackground": true,
            "ticks": "",
            "zerolinecolor": "white"
           }
          },
          "shapedefaults": {
           "line": {
            "color": "#2a3f5f"
           }
          },
          "ternary": {
           "aaxis": {
            "gridcolor": "white",
            "linecolor": "white",
            "ticks": ""
           },
           "baxis": {
            "gridcolor": "white",
            "linecolor": "white",
            "ticks": ""
           },
           "bgcolor": "#E5ECF6",
           "caxis": {
            "gridcolor": "white",
            "linecolor": "white",
            "ticks": ""
           }
          },
          "title": {
           "x": 0.05
          },
          "xaxis": {
           "automargin": true,
           "gridcolor": "white",
           "linecolor": "white",
           "ticks": "",
           "title": {
            "standoff": 15
           },
           "zerolinecolor": "white",
           "zerolinewidth": 2
          },
          "yaxis": {
           "automargin": true,
           "gridcolor": "white",
           "linecolor": "white",
           "ticks": "",
           "title": {
            "standoff": 15
           },
           "zerolinecolor": "white",
           "zerolinewidth": 2
          }
         }
        },
        "title": {
         "text": "Market capitalization of S&P 500 companies"
        },
        "xaxis": {
         "anchor": "y",
         "domain": [
          0,
          1
         ],
         "title": {
          "text": "market_cap"
         }
        },
        "yaxis": {
         "anchor": "x",
         "domain": [
          0,
          1
         ],
         "title": {
          "text": "count"
         }
        }
       }
      }
     },
     "metadata": {},
     "output_type": "display_data"
    }
   ],
   "source": [
    "fig = px.histogram(\n",
    "    snp_data,\n",
    "    x=\"market_cap\",\n",
    "    title=\"Market capitalization of S&P 500 companies\",\n",
    "    nbins=3000,\n",
    ")\n",
    "fig.show()"
   ]
  },
  {
   "cell_type": "code",
   "execution_count": 7,
   "id": "f3377942762a00f5",
   "metadata": {
    "ExecuteTime": {
     "end_time": "2025-02-27T20:16:18.350033Z",
     "start_time": "2025-02-27T20:16:18.347206Z"
    }
   },
   "outputs": [],
   "source": [
    "# plotly.io.write_json(fig, 'data/market_cap.json')"
   ]
  },
  {
   "cell_type": "code",
   "execution_count": 8,
   "id": "fba49239de71c9b7",
   "metadata": {
    "ExecuteTime": {
     "end_time": "2025-02-27T20:16:19.204561Z",
     "start_time": "2025-02-27T20:16:19.199951Z"
    }
   },
   "outputs": [
    {
     "name": "stdout",
     "output_type": "stream",
     "text": [
      "503\n"
     ]
    }
   ],
   "source": [
    "market_cap_limit = 3421630434.78\n",
    "first_criteria = snp_data[snp_data[\"market_cap\"] >= market_cap_limit][\"symbol\"].unique()\n",
    "print(len(first_criteria))"
   ]
  },
  {
   "cell_type": "code",
   "execution_count": 9,
   "id": "40f9e0cb3643ad97",
   "metadata": {
    "ExecuteTime": {
     "end_time": "2025-02-27T20:17:09.210085Z",
     "start_time": "2025-02-27T20:17:09.166128Z"
    }
   },
   "outputs": [
    {
     "data": {
      "application/vnd.plotly.v1+json": {
       "config": {
        "plotlyServerURL": "https://plot.ly"
       },
       "data": [
        {
         "alignmentgroup": "True",
         "hovertemplate": "market_cap=%{x}<br>name=%{y}<extra></extra>",
         "legendgroup": "",
         "marker": {
          "color": "#636efa",
          "pattern": {
           "shape": ""
          }
         },
         "name": "",
         "offsetgroup": "",
         "orientation": "h",
         "showlegend": false,
         "textposition": "auto",
         "type": "bar",
         "x": [
          3143825088000,
          2913005063000,
          2708644000000,
          2005637476000,
          1984429314440,
          1984429314440,
          1382303705409,
          1145457910909,
          916547374000,
          904232004500
         ],
         "xaxis": "x",
         "y": [
          "Apple Inc.",
          "Microsoft",
          "Nvidia",
          "Amazon",
          "Alphabet Inc. (Class C)",
          "Alphabet Inc. (Class A)",
          "Meta Platforms",
          "Berkshire Hathaway",
          "Tesla, Inc.",
          "Broadcom"
         ],
         "yaxis": "y"
        }
       ],
       "layout": {
        "barmode": "relative",
        "legend": {
         "tracegroupgap": 0
        },
        "template": {
         "data": {
          "bar": [
           {
            "error_x": {
             "color": "#2a3f5f"
            },
            "error_y": {
             "color": "#2a3f5f"
            },
            "marker": {
             "line": {
              "color": "#E5ECF6",
              "width": 0.5
             },
             "pattern": {
              "fillmode": "overlay",
              "size": 10,
              "solidity": 0.2
             }
            },
            "type": "bar"
           }
          ],
          "barpolar": [
           {
            "marker": {
             "line": {
              "color": "#E5ECF6",
              "width": 0.5
             },
             "pattern": {
              "fillmode": "overlay",
              "size": 10,
              "solidity": 0.2
             }
            },
            "type": "barpolar"
           }
          ],
          "carpet": [
           {
            "aaxis": {
             "endlinecolor": "#2a3f5f",
             "gridcolor": "white",
             "linecolor": "white",
             "minorgridcolor": "white",
             "startlinecolor": "#2a3f5f"
            },
            "baxis": {
             "endlinecolor": "#2a3f5f",
             "gridcolor": "white",
             "linecolor": "white",
             "minorgridcolor": "white",
             "startlinecolor": "#2a3f5f"
            },
            "type": "carpet"
           }
          ],
          "choropleth": [
           {
            "colorbar": {
             "outlinewidth": 0,
             "ticks": ""
            },
            "type": "choropleth"
           }
          ],
          "contour": [
           {
            "colorbar": {
             "outlinewidth": 0,
             "ticks": ""
            },
            "colorscale": [
             [
              0,
              "#0d0887"
             ],
             [
              0.1111111111111111,
              "#46039f"
             ],
             [
              0.2222222222222222,
              "#7201a8"
             ],
             [
              0.3333333333333333,
              "#9c179e"
             ],
             [
              0.4444444444444444,
              "#bd3786"
             ],
             [
              0.5555555555555556,
              "#d8576b"
             ],
             [
              0.6666666666666666,
              "#ed7953"
             ],
             [
              0.7777777777777778,
              "#fb9f3a"
             ],
             [
              0.8888888888888888,
              "#fdca26"
             ],
             [
              1,
              "#f0f921"
             ]
            ],
            "type": "contour"
           }
          ],
          "contourcarpet": [
           {
            "colorbar": {
             "outlinewidth": 0,
             "ticks": ""
            },
            "type": "contourcarpet"
           }
          ],
          "heatmap": [
           {
            "colorbar": {
             "outlinewidth": 0,
             "ticks": ""
            },
            "colorscale": [
             [
              0,
              "#0d0887"
             ],
             [
              0.1111111111111111,
              "#46039f"
             ],
             [
              0.2222222222222222,
              "#7201a8"
             ],
             [
              0.3333333333333333,
              "#9c179e"
             ],
             [
              0.4444444444444444,
              "#bd3786"
             ],
             [
              0.5555555555555556,
              "#d8576b"
             ],
             [
              0.6666666666666666,
              "#ed7953"
             ],
             [
              0.7777777777777778,
              "#fb9f3a"
             ],
             [
              0.8888888888888888,
              "#fdca26"
             ],
             [
              1,
              "#f0f921"
             ]
            ],
            "type": "heatmap"
           }
          ],
          "heatmapgl": [
           {
            "colorbar": {
             "outlinewidth": 0,
             "ticks": ""
            },
            "colorscale": [
             [
              0,
              "#0d0887"
             ],
             [
              0.1111111111111111,
              "#46039f"
             ],
             [
              0.2222222222222222,
              "#7201a8"
             ],
             [
              0.3333333333333333,
              "#9c179e"
             ],
             [
              0.4444444444444444,
              "#bd3786"
             ],
             [
              0.5555555555555556,
              "#d8576b"
             ],
             [
              0.6666666666666666,
              "#ed7953"
             ],
             [
              0.7777777777777778,
              "#fb9f3a"
             ],
             [
              0.8888888888888888,
              "#fdca26"
             ],
             [
              1,
              "#f0f921"
             ]
            ],
            "type": "heatmapgl"
           }
          ],
          "histogram": [
           {
            "marker": {
             "pattern": {
              "fillmode": "overlay",
              "size": 10,
              "solidity": 0.2
             }
            },
            "type": "histogram"
           }
          ],
          "histogram2d": [
           {
            "colorbar": {
             "outlinewidth": 0,
             "ticks": ""
            },
            "colorscale": [
             [
              0,
              "#0d0887"
             ],
             [
              0.1111111111111111,
              "#46039f"
             ],
             [
              0.2222222222222222,
              "#7201a8"
             ],
             [
              0.3333333333333333,
              "#9c179e"
             ],
             [
              0.4444444444444444,
              "#bd3786"
             ],
             [
              0.5555555555555556,
              "#d8576b"
             ],
             [
              0.6666666666666666,
              "#ed7953"
             ],
             [
              0.7777777777777778,
              "#fb9f3a"
             ],
             [
              0.8888888888888888,
              "#fdca26"
             ],
             [
              1,
              "#f0f921"
             ]
            ],
            "type": "histogram2d"
           }
          ],
          "histogram2dcontour": [
           {
            "colorbar": {
             "outlinewidth": 0,
             "ticks": ""
            },
            "colorscale": [
             [
              0,
              "#0d0887"
             ],
             [
              0.1111111111111111,
              "#46039f"
             ],
             [
              0.2222222222222222,
              "#7201a8"
             ],
             [
              0.3333333333333333,
              "#9c179e"
             ],
             [
              0.4444444444444444,
              "#bd3786"
             ],
             [
              0.5555555555555556,
              "#d8576b"
             ],
             [
              0.6666666666666666,
              "#ed7953"
             ],
             [
              0.7777777777777778,
              "#fb9f3a"
             ],
             [
              0.8888888888888888,
              "#fdca26"
             ],
             [
              1,
              "#f0f921"
             ]
            ],
            "type": "histogram2dcontour"
           }
          ],
          "mesh3d": [
           {
            "colorbar": {
             "outlinewidth": 0,
             "ticks": ""
            },
            "type": "mesh3d"
           }
          ],
          "parcoords": [
           {
            "line": {
             "colorbar": {
              "outlinewidth": 0,
              "ticks": ""
             }
            },
            "type": "parcoords"
           }
          ],
          "pie": [
           {
            "automargin": true,
            "type": "pie"
           }
          ],
          "scatter": [
           {
            "fillpattern": {
             "fillmode": "overlay",
             "size": 10,
             "solidity": 0.2
            },
            "type": "scatter"
           }
          ],
          "scatter3d": [
           {
            "line": {
             "colorbar": {
              "outlinewidth": 0,
              "ticks": ""
             }
            },
            "marker": {
             "colorbar": {
              "outlinewidth": 0,
              "ticks": ""
             }
            },
            "type": "scatter3d"
           }
          ],
          "scattercarpet": [
           {
            "marker": {
             "colorbar": {
              "outlinewidth": 0,
              "ticks": ""
             }
            },
            "type": "scattercarpet"
           }
          ],
          "scattergeo": [
           {
            "marker": {
             "colorbar": {
              "outlinewidth": 0,
              "ticks": ""
             }
            },
            "type": "scattergeo"
           }
          ],
          "scattergl": [
           {
            "marker": {
             "colorbar": {
              "outlinewidth": 0,
              "ticks": ""
             }
            },
            "type": "scattergl"
           }
          ],
          "scattermapbox": [
           {
            "marker": {
             "colorbar": {
              "outlinewidth": 0,
              "ticks": ""
             }
            },
            "type": "scattermapbox"
           }
          ],
          "scatterpolar": [
           {
            "marker": {
             "colorbar": {
              "outlinewidth": 0,
              "ticks": ""
             }
            },
            "type": "scatterpolar"
           }
          ],
          "scatterpolargl": [
           {
            "marker": {
             "colorbar": {
              "outlinewidth": 0,
              "ticks": ""
             }
            },
            "type": "scatterpolargl"
           }
          ],
          "scatterternary": [
           {
            "marker": {
             "colorbar": {
              "outlinewidth": 0,
              "ticks": ""
             }
            },
            "type": "scatterternary"
           }
          ],
          "surface": [
           {
            "colorbar": {
             "outlinewidth": 0,
             "ticks": ""
            },
            "colorscale": [
             [
              0,
              "#0d0887"
             ],
             [
              0.1111111111111111,
              "#46039f"
             ],
             [
              0.2222222222222222,
              "#7201a8"
             ],
             [
              0.3333333333333333,
              "#9c179e"
             ],
             [
              0.4444444444444444,
              "#bd3786"
             ],
             [
              0.5555555555555556,
              "#d8576b"
             ],
             [
              0.6666666666666666,
              "#ed7953"
             ],
             [
              0.7777777777777778,
              "#fb9f3a"
             ],
             [
              0.8888888888888888,
              "#fdca26"
             ],
             [
              1,
              "#f0f921"
             ]
            ],
            "type": "surface"
           }
          ],
          "table": [
           {
            "cells": {
             "fill": {
              "color": "#EBF0F8"
             },
             "line": {
              "color": "white"
             }
            },
            "header": {
             "fill": {
              "color": "#C8D4E3"
             },
             "line": {
              "color": "white"
             }
            },
            "type": "table"
           }
          ]
         },
         "layout": {
          "annotationdefaults": {
           "arrowcolor": "#2a3f5f",
           "arrowhead": 0,
           "arrowwidth": 1
          },
          "autotypenumbers": "strict",
          "coloraxis": {
           "colorbar": {
            "outlinewidth": 0,
            "ticks": ""
           }
          },
          "colorscale": {
           "diverging": [
            [
             0,
             "#8e0152"
            ],
            [
             0.1,
             "#c51b7d"
            ],
            [
             0.2,
             "#de77ae"
            ],
            [
             0.3,
             "#f1b6da"
            ],
            [
             0.4,
             "#fde0ef"
            ],
            [
             0.5,
             "#f7f7f7"
            ],
            [
             0.6,
             "#e6f5d0"
            ],
            [
             0.7,
             "#b8e186"
            ],
            [
             0.8,
             "#7fbc41"
            ],
            [
             0.9,
             "#4d9221"
            ],
            [
             1,
             "#276419"
            ]
           ],
           "sequential": [
            [
             0,
             "#0d0887"
            ],
            [
             0.1111111111111111,
             "#46039f"
            ],
            [
             0.2222222222222222,
             "#7201a8"
            ],
            [
             0.3333333333333333,
             "#9c179e"
            ],
            [
             0.4444444444444444,
             "#bd3786"
            ],
            [
             0.5555555555555556,
             "#d8576b"
            ],
            [
             0.6666666666666666,
             "#ed7953"
            ],
            [
             0.7777777777777778,
             "#fb9f3a"
            ],
            [
             0.8888888888888888,
             "#fdca26"
            ],
            [
             1,
             "#f0f921"
            ]
           ],
           "sequentialminus": [
            [
             0,
             "#0d0887"
            ],
            [
             0.1111111111111111,
             "#46039f"
            ],
            [
             0.2222222222222222,
             "#7201a8"
            ],
            [
             0.3333333333333333,
             "#9c179e"
            ],
            [
             0.4444444444444444,
             "#bd3786"
            ],
            [
             0.5555555555555556,
             "#d8576b"
            ],
            [
             0.6666666666666666,
             "#ed7953"
            ],
            [
             0.7777777777777778,
             "#fb9f3a"
            ],
            [
             0.8888888888888888,
             "#fdca26"
            ],
            [
             1,
             "#f0f921"
            ]
           ]
          },
          "colorway": [
           "#636efa",
           "#EF553B",
           "#00cc96",
           "#ab63fa",
           "#FFA15A",
           "#19d3f3",
           "#FF6692",
           "#B6E880",
           "#FF97FF",
           "#FECB52"
          ],
          "font": {
           "color": "#2a3f5f"
          },
          "geo": {
           "bgcolor": "white",
           "lakecolor": "white",
           "landcolor": "#E5ECF6",
           "showlakes": true,
           "showland": true,
           "subunitcolor": "white"
          },
          "hoverlabel": {
           "align": "left"
          },
          "hovermode": "closest",
          "mapbox": {
           "style": "light"
          },
          "paper_bgcolor": "white",
          "plot_bgcolor": "#E5ECF6",
          "polar": {
           "angularaxis": {
            "gridcolor": "white",
            "linecolor": "white",
            "ticks": ""
           },
           "bgcolor": "#E5ECF6",
           "radialaxis": {
            "gridcolor": "white",
            "linecolor": "white",
            "ticks": ""
           }
          },
          "scene": {
           "xaxis": {
            "backgroundcolor": "#E5ECF6",
            "gridcolor": "white",
            "gridwidth": 2,
            "linecolor": "white",
            "showbackground": true,
            "ticks": "",
            "zerolinecolor": "white"
           },
           "yaxis": {
            "backgroundcolor": "#E5ECF6",
            "gridcolor": "white",
            "gridwidth": 2,
            "linecolor": "white",
            "showbackground": true,
            "ticks": "",
            "zerolinecolor": "white"
           },
           "zaxis": {
            "backgroundcolor": "#E5ECF6",
            "gridcolor": "white",
            "gridwidth": 2,
            "linecolor": "white",
            "showbackground": true,
            "ticks": "",
            "zerolinecolor": "white"
           }
          },
          "shapedefaults": {
           "line": {
            "color": "#2a3f5f"
           }
          },
          "ternary": {
           "aaxis": {
            "gridcolor": "white",
            "linecolor": "white",
            "ticks": ""
           },
           "baxis": {
            "gridcolor": "white",
            "linecolor": "white",
            "ticks": ""
           },
           "bgcolor": "#E5ECF6",
           "caxis": {
            "gridcolor": "white",
            "linecolor": "white",
            "ticks": ""
           }
          },
          "title": {
           "x": 0.05
          },
          "xaxis": {
           "automargin": true,
           "gridcolor": "white",
           "linecolor": "white",
           "ticks": "",
           "title": {
            "standoff": 15
           },
           "zerolinecolor": "white",
           "zerolinewidth": 2
          },
          "yaxis": {
           "automargin": true,
           "gridcolor": "white",
           "linecolor": "white",
           "ticks": "",
           "title": {
            "standoff": 15
           },
           "zerolinecolor": "white",
           "zerolinewidth": 2
          }
         }
        },
        "title": {
         "text": "Top 10 largest companies in the S&P 500"
        },
        "xaxis": {
         "anchor": "y",
         "domain": [
          0,
          1
         ],
         "title": {
          "text": "market_cap"
         }
        },
        "yaxis": {
         "anchor": "x",
         "domain": [
          0,
          1
         ],
         "title": {
          "text": "name"
         }
        }
       }
      }
     },
     "metadata": {},
     "output_type": "display_data"
    }
   ],
   "source": [
    "# plot for top 10 largest companies with their market cap\n",
    "fig = px.bar(\n",
    "    snp_data.sort_values(by=\"market_cap\", ascending=False).head(10),\n",
    "    x=\"market_cap\",\n",
    "    y=\"name\",\n",
    "    title=\"Top 10 largest companies in the S&P 500\",\n",
    "    orientation=\"h\",\n",
    ")\n",
    "fig.show()"
   ]
  },
  {
   "cell_type": "markdown",
   "id": "47441c2e7122b5ea",
   "metadata": {},
   "source": [
    "We can see that all companies have a market cap above 3.4 billion dollars since these are in fact the S&P 500 companies - the biggest companies in the US. This means that investing in any of these companies would satisfy the first criteria. However, if we want to use the same criteria for other indexes (say with smaller capitalization), this criteria would be useful to determine which companies are of adequate size. Note that, the limit of 3.4 billion dollars applies for 2024, so we can adjust this limit for other years."
   ]
  },
  {
   "cell_type": "code",
   "execution_count": 10,
   "id": "3449c9eda0533b18",
   "metadata": {
    "ExecuteTime": {
     "end_time": "2025-02-27T20:19:23.954414Z",
     "start_time": "2025-02-27T20:19:23.945094Z"
    }
   },
   "outputs": [],
   "source": [
    "plotly.io.write_json(fig, \"data/10_largest_companies.json\")"
   ]
  },
  {
   "cell_type": "code",
   "execution_count": 11,
   "id": "fc6061a151b873d1",
   "metadata": {
    "ExecuteTime": {
     "end_time": "2024-12-07T11:00:03.939513Z",
     "start_time": "2024-12-07T11:00:03.937445Z"
    }
   },
   "outputs": [],
   "source": [
    "# Uncomment to save data\n",
    "# snp_data.to_csv('snp_data.csv', index=False)"
   ]
  },
  {
   "cell_type": "markdown",
   "id": "fafc3007fbde50be",
   "metadata": {},
   "source": [
    "#### 2. Strong financial condition\n",
    "Strong financial condition (current ratio > 2) - Current assets at least twice their current liabilities."
   ]
  },
  {
   "cell_type": "code",
   "execution_count": 12,
   "id": "a912352b033e5ed4",
   "metadata": {
    "ExecuteTime": {
     "end_time": "2025-02-27T20:22:14.527949Z",
     "start_time": "2025-02-27T20:20:29.854064Z"
    }
   },
   "outputs": [
    {
     "name": "stderr",
     "output_type": "stream",
     "text": [
      "100%|██████████| 503/503 [01:21<00:00,  6.20it/s]\n"
     ]
    },
    {
     "name": "stdout",
     "output_type": "stream",
     "text": [
      "Companies without ratios: 105\n"
     ]
    },
    {
     "name": "stderr",
     "output_type": "stream",
     "text": [
      "100%|██████████| 105/105 [00:15<00:00,  6.86it/s]"
     ]
    },
    {
     "name": "stdout",
     "output_type": "stream",
     "text": [
      "503\n"
     ]
    },
    {
     "name": "stderr",
     "output_type": "stream",
     "text": [
      "\n"
     ]
    }
   ],
   "source": [
    "ratios = [api.get_ratios(ticker) for ticker in tqdm(snp_data[\"symbol\"])]\n",
    "ratios_df = pd.DataFrame.from_records(ratios)\n",
    "companies_without_ratios = ratios_df[ratios_df[\"currentRatio\"].isna()][\"symbol\"]\n",
    "print(f\"Companies without ratios: {len(companies_without_ratios)}\")\n",
    "# set time limit for the while loop\n",
    "time_limit = datetime.datetime.now() + datetime.timedelta(seconds=15)\n",
    "while len(companies_without_ratios) > 0 and datetime.datetime.now() < time_limit:\n",
    "    new_ratios = [api.get_ratios(ticker) for ticker in tqdm(companies_without_ratios)]\n",
    "    new_ratios_df = pd.DataFrame.from_records(new_ratios)\n",
    "    ratios_df = (\n",
    "        pd.concat([ratios_df, new_ratios_df])\n",
    "        .drop_duplicates(subset=\"symbol\", keep=\"last\")\n",
    "        .reset_index(drop=True)\n",
    "    )\n",
    "    companies_without_ratios = ratios_df[ratios_df[\"currentRatio\"].isna()][\"symbol\"]\n",
    "\n",
    "# Sanity check\n",
    "print(len(ratios_df))"
   ]
  },
  {
   "cell_type": "code",
   "execution_count": 13,
   "id": "ac6e19f796e5fffa",
   "metadata": {
    "ExecuteTime": {
     "end_time": "2025-02-27T20:22:14.769464Z",
     "start_time": "2025-02-27T20:22:14.599206Z"
    }
   },
   "outputs": [],
   "source": [
    "ratios_df[\"name\"] = ratios_df.apply(\n",
    "    lambda x: snp_data[snp_data[\"symbol\"] == x[\"symbol\"]][\"name\"].values[0], axis=1\n",
    ")"
   ]
  },
  {
   "cell_type": "code",
   "execution_count": 14,
   "id": "9211afe9a46274a9",
   "metadata": {
    "ExecuteTime": {
     "end_time": "2025-02-27T20:22:14.781579Z",
     "start_time": "2025-02-27T20:22:14.777614Z"
    }
   },
   "outputs": [
    {
     "name": "stdout",
     "output_type": "stream",
     "text": [
      "116\n"
     ]
    }
   ],
   "source": [
    "second_criteria = ratios_df[ratios_df[\"currentRatio\"] > 2][\"symbol\"].unique()\n",
    "print(len(second_criteria))"
   ]
  },
  {
   "cell_type": "code",
   "execution_count": 15,
   "id": "d9cd168b211c2296",
   "metadata": {
    "ExecuteTime": {
     "end_time": "2025-02-27T20:22:14.850320Z",
     "start_time": "2025-02-27T20:22:14.832018Z"
    }
   },
   "outputs": [
    {
     "data": {
      "application/vnd.microsoft.datawrangler.viewer.v0+json": {
       "columns": [
        {
         "name": "index",
         "rawType": "int64",
         "type": "integer"
        },
        {
         "name": "symbol",
         "rawType": "object",
         "type": "string"
        },
        {
         "name": "date",
         "rawType": "object",
         "type": "string"
        },
        {
         "name": "calendarYear",
         "rawType": "object",
         "type": "string"
        },
        {
         "name": "period",
         "rawType": "object",
         "type": "string"
        },
        {
         "name": "currentRatio",
         "rawType": "float64",
         "type": "float"
        },
        {
         "name": "quickRatio",
         "rawType": "float64",
         "type": "float"
        },
        {
         "name": "cashRatio",
         "rawType": "float64",
         "type": "float"
        },
        {
         "name": "daysOfSalesOutstanding",
         "rawType": "float64",
         "type": "float"
        },
        {
         "name": "daysOfInventoryOutstanding",
         "rawType": "float64",
         "type": "float"
        },
        {
         "name": "operatingCycle",
         "rawType": "float64",
         "type": "float"
        },
        {
         "name": "daysOfPayablesOutstanding",
         "rawType": "float64",
         "type": "float"
        },
        {
         "name": "cashConversionCycle",
         "rawType": "float64",
         "type": "float"
        },
        {
         "name": "grossProfitMargin",
         "rawType": "float64",
         "type": "float"
        },
        {
         "name": "operatingProfitMargin",
         "rawType": "float64",
         "type": "float"
        },
        {
         "name": "pretaxProfitMargin",
         "rawType": "float64",
         "type": "float"
        },
        {
         "name": "netProfitMargin",
         "rawType": "float64",
         "type": "float"
        },
        {
         "name": "effectiveTaxRate",
         "rawType": "float64",
         "type": "float"
        },
        {
         "name": "returnOnAssets",
         "rawType": "float64",
         "type": "float"
        },
        {
         "name": "returnOnEquity",
         "rawType": "float64",
         "type": "float"
        },
        {
         "name": "returnOnCapitalEmployed",
         "rawType": "float64",
         "type": "float"
        },
        {
         "name": "netIncomePerEBT",
         "rawType": "float64",
         "type": "float"
        },
        {
         "name": "ebtPerEbit",
         "rawType": "float64",
         "type": "float"
        },
        {
         "name": "ebitPerRevenue",
         "rawType": "float64",
         "type": "float"
        },
        {
         "name": "debtRatio",
         "rawType": "float64",
         "type": "float"
        },
        {
         "name": "debtEquityRatio",
         "rawType": "float64",
         "type": "float"
        },
        {
         "name": "longTermDebtToCapitalization",
         "rawType": "float64",
         "type": "float"
        },
        {
         "name": "totalDebtToCapitalization",
         "rawType": "float64",
         "type": "float"
        },
        {
         "name": "interestCoverage",
         "rawType": "float64",
         "type": "float"
        },
        {
         "name": "cashFlowToDebtRatio",
         "rawType": "float64",
         "type": "float"
        },
        {
         "name": "companyEquityMultiplier",
         "rawType": "float64",
         "type": "float"
        },
        {
         "name": "receivablesTurnover",
         "rawType": "float64",
         "type": "float"
        },
        {
         "name": "payablesTurnover",
         "rawType": "float64",
         "type": "float"
        },
        {
         "name": "inventoryTurnover",
         "rawType": "float64",
         "type": "float"
        },
        {
         "name": "fixedAssetTurnover",
         "rawType": "float64",
         "type": "float"
        },
        {
         "name": "assetTurnover",
         "rawType": "float64",
         "type": "float"
        },
        {
         "name": "operatingCashFlowPerShare",
         "rawType": "float64",
         "type": "float"
        },
        {
         "name": "freeCashFlowPerShare",
         "rawType": "float64",
         "type": "float"
        },
        {
         "name": "cashPerShare",
         "rawType": "float64",
         "type": "float"
        },
        {
         "name": "payoutRatio",
         "rawType": "float64",
         "type": "float"
        },
        {
         "name": "operatingCashFlowSalesRatio",
         "rawType": "float64",
         "type": "float"
        },
        {
         "name": "freeCashFlowOperatingCashFlowRatio",
         "rawType": "float64",
         "type": "float"
        },
        {
         "name": "cashFlowCoverageRatios",
         "rawType": "float64",
         "type": "float"
        },
        {
         "name": "shortTermCoverageRatios",
         "rawType": "float64",
         "type": "float"
        },
        {
         "name": "capitalExpenditureCoverageRatio",
         "rawType": "float64",
         "type": "float"
        },
        {
         "name": "dividendPaidAndCapexCoverageRatio",
         "rawType": "float64",
         "type": "float"
        },
        {
         "name": "dividendPayoutRatio",
         "rawType": "float64",
         "type": "float"
        },
        {
         "name": "priceBookValueRatio",
         "rawType": "float64",
         "type": "float"
        },
        {
         "name": "priceToBookRatio",
         "rawType": "float64",
         "type": "float"
        },
        {
         "name": "priceToSalesRatio",
         "rawType": "float64",
         "type": "float"
        },
        {
         "name": "priceEarningsRatio",
         "rawType": "float64",
         "type": "float"
        },
        {
         "name": "priceToFreeCashFlowsRatio",
         "rawType": "float64",
         "type": "float"
        },
        {
         "name": "priceToOperatingCashFlowsRatio",
         "rawType": "float64",
         "type": "float"
        },
        {
         "name": "priceCashFlowRatio",
         "rawType": "float64",
         "type": "float"
        },
        {
         "name": "priceEarningsToGrowthRatio",
         "rawType": "float64",
         "type": "float"
        },
        {
         "name": "priceSalesRatio",
         "rawType": "float64",
         "type": "float"
        },
        {
         "name": "dividendYield",
         "rawType": "float64",
         "type": "float"
        },
        {
         "name": "enterpriseValueMultiple",
         "rawType": "float64",
         "type": "float"
        },
        {
         "name": "priceFairValue",
         "rawType": "float64",
         "type": "float"
        },
        {
         "name": "name",
         "rawType": "object",
         "type": "string"
        }
       ],
       "conversionMethod": "pd.DataFrame",
       "ref": "60a7dab0-570e-48b9-b84a-094736e91cba",
       "rows": [
        [
         "212",
         "MET",
         "2024-12-31",
         "2024",
         "FY",
         "84.62628865979381",
         "84.62628865979381",
         "12.93041237113402",
         "160.68000057227061",
         "0.0",
         "160.68000057227061",
         "0.0",
         "160.68000057227061",
         "1.0155800678140692",
         "0.08043263659384522",
         "0.08043263659384522",
         "0.06332174485314106",
         "0.2095339736748488",
         "0.006533255985250725",
         "0.16126799052650756",
         "0.00831773696007575",
         "0.7872643187477766",
         "1.0",
         "0.08043263659384522",
         "0.0017226185573401707",
         "0.04252140644926216",
         "0.0",
         "0.040787082343072836",
         "5.421407907425265",
         "12.508997429305913",
         "24.68416833667335",
         "2.2715957101072473",
         "0.0",
         "0.0",
         "37.76175040518638",
         "0.10317555210146179",
         "20.665345413363532",
         "20.665345413363532",
         "142.36976217440542",
         "0.3901943063714415",
         "0.20885016524314348",
         "1.0",
         "12.508997429305913",
         "12.508997429305913",
         "0.0",
         "8.452808338158656",
         "0.3901943063714415",
         "2.1074888686463833",
         "2.1074888686463833",
         "0.8275037841395195",
         "13.068240397650248",
         "3.9621887929853403",
         "3.9621887929853403",
         "3.9621887929853403",
         "0.05672305784111978",
         "0.8275037841395195",
         "0.02985821307982679",
         "5.28130096297301",
         "2.1074888686463833",
         "MetLife"
        ],
        [
         "235",
         "COF",
         "2024-12-31",
         "2024",
         "FY",
         "132.9924924924925",
         "132.9924924924925",
         "4.546546546546547",
         "23.62906524851708",
         "0.0",
         "23.62906524851708",
         "-35.11846287200231",
         "58.74752812051939",
         "1.1769789322969932",
         "0.00029658416854162404",
         "0.15110452035181018",
         "0.12144610349764778",
         "0.19678510998307952",
         "0.009691029574982047",
         "0.07814556462226901",
         "2.3698715774764135e-05",
         "0.8037225042301185",
         "509.48275862068965",
         "0.00029658416854162404",
         "0.09178731148397205",
         "0.7401454330086865",
         "0.42533538804798954",
         "0.42533538804798954",
         "0.0007824092809928504",
         "0.40363199893307256",
         "8.063700973940511",
         "15.447077409162718",
         "-10.393393393393394",
         "0.0",
         "8.670361338949235",
         "0.07979695762877848",
         "47.44969950352757",
         "47.44969950352757",
         "224.82623464854979",
         "0.24421052631578946",
         "0.46428206177132336",
         "1.0",
         "0.40363199893307256",
         "0.0",
         "0.0",
         "15.654310344827586",
         "0.24421052631578946",
         "1.1227142669123453",
         "1.1227142669123453",
         "1.7448114133769688",
         "14.366960842105263",
         "3.758084916570296",
         "3.7580849165702954",
         "3.7580849165702954",
         "-4.651788942930284",
         "1.7448114133769688",
         "0.016998064447985513",
         "9500.350344827586",
         "1.1227142669123453",
         "Capital One"
        ],
        [
         "246",
         "HBAN",
         "2024-12-31",
         "2024",
         "FY",
         "145.5175879396985",
         "145.5175879396985",
         "8.467336683417086",
         "278.8730974700131",
         "0.0",
         "278.8730974700131",
         "0.0",
         "278.8730974700131",
         "1.0",
         "0.9883076302792058",
         "0.2422134865436952",
         "0.1955448039512146",
         "0.18435289221806075",
         "0.009499094158546736",
         "0.09827760891590678",
         "0.048056422798496305",
         "0.807324178110695",
         "0.2450790413054564",
         "0.9883076302792058",
         "0.0009743916172942271",
         "0.010081053698074974",
         "0.0",
         "0.009980440343046291",
         "2.1427010489510487",
         "9.120603015075377",
         "10.345997973657548",
         "1.308839050131926",
         "0.0",
         "0.0",
         "9.306754221388367",
         "0.048577584096361946",
         "1.2504986492547647",
         "1.2504986492547647",
         "19.951482030368858",
         "0.07371134020618557",
         "0.1829452676141518",
         "1.0",
         "9.120603015075377",
         "9.120603015075377",
         "0.0",
         "12.692307692307692",
         "0.07371134020618557",
         "1.1962826580547112",
         "1.1962826580547112",
         "2.3802660689446626",
         "12.17248436597938",
         "13.01080973553719",
         "13.01080973553719",
         "13.01080973553719",
         "0.9021959000667072",
         "2.3802660689446626",
         "0.006055570743816261",
         "0.0",
         "1.1962826580547112",
         "Huntington Bancshares"
        ],
        [
         "258",
         "L",
         "2024-12-31",
         "2024",
         "FY",
         "147.51304347826087",
         "147.51304347826087",
         "4.7043478260869565",
         "213.08428563141715",
         "0.0",
         "213.08428563141715",
         "15.214096248579008",
         "197.87018938283813",
         "0.8469168745286849",
         "0.10870700156621614",
         "0.10870700156621614",
         "0.08202331921805209",
         "0.20277481323372465",
         "0.017255897392089624",
         "0.073992673992674",
         "0.022901696240895535",
         "0.7545357524012807",
         "1.0",
         "0.10870700156621614",
         "0.10914904262719208",
         "0.46802721088435373",
         "0.31869228849513354",
         "0.31881371640407785",
         "4.249433106575964",
         "0.3382155635062612",
         "4.2879644165358455",
         "1.7129372019077902",
         "23.990909090909092",
         "0.0",
         "0.0",
         "0.2103779456451436",
         "13.733769181875966",
         "10.864432942885681",
         "31.326614001634432",
         "0.038896746817538894",
         "0.17547421544173095",
         "0.7910743801652893",
         "0.3382155635062612",
         "605.0",
         "4.7863924050632916",
         "4.403202328966521",
         "0.038896746817538894",
         "0.9761286970172685",
         "0.9761286970172685",
         "1.0820708509774348",
         "13.192234370579914",
         "7.795160635185959",
         "6.166551867768595",
         "6.166551867768595",
         "6.925923044554479",
         "1.0820708509774348",
         "0.0029484578370046833",
         "9.336376604554866",
         "0.9761286970172685",
         "Loews Corporation"
        ]
       ],
       "shape": {
        "columns": 59,
        "rows": 4
       }
      },
      "text/html": [
       "<div>\n",
       "<style scoped>\n",
       "    .dataframe tbody tr th:only-of-type {\n",
       "        vertical-align: middle;\n",
       "    }\n",
       "\n",
       "    .dataframe tbody tr th {\n",
       "        vertical-align: top;\n",
       "    }\n",
       "\n",
       "    .dataframe thead th {\n",
       "        text-align: right;\n",
       "    }\n",
       "</style>\n",
       "<table border=\"1\" class=\"dataframe\">\n",
       "  <thead>\n",
       "    <tr style=\"text-align: right;\">\n",
       "      <th></th>\n",
       "      <th>symbol</th>\n",
       "      <th>date</th>\n",
       "      <th>calendarYear</th>\n",
       "      <th>period</th>\n",
       "      <th>currentRatio</th>\n",
       "      <th>quickRatio</th>\n",
       "      <th>cashRatio</th>\n",
       "      <th>daysOfSalesOutstanding</th>\n",
       "      <th>daysOfInventoryOutstanding</th>\n",
       "      <th>operatingCycle</th>\n",
       "      <th>...</th>\n",
       "      <th>priceEarningsRatio</th>\n",
       "      <th>priceToFreeCashFlowsRatio</th>\n",
       "      <th>priceToOperatingCashFlowsRatio</th>\n",
       "      <th>priceCashFlowRatio</th>\n",
       "      <th>priceEarningsToGrowthRatio</th>\n",
       "      <th>priceSalesRatio</th>\n",
       "      <th>dividendYield</th>\n",
       "      <th>enterpriseValueMultiple</th>\n",
       "      <th>priceFairValue</th>\n",
       "      <th>name</th>\n",
       "    </tr>\n",
       "  </thead>\n",
       "  <tbody>\n",
       "    <tr>\n",
       "      <th>212</th>\n",
       "      <td>MET</td>\n",
       "      <td>2024-12-31</td>\n",
       "      <td>2024</td>\n",
       "      <td>FY</td>\n",
       "      <td>84.626289</td>\n",
       "      <td>84.626289</td>\n",
       "      <td>12.930412</td>\n",
       "      <td>160.680001</td>\n",
       "      <td>0.0</td>\n",
       "      <td>160.680001</td>\n",
       "      <td>...</td>\n",
       "      <td>13.068240</td>\n",
       "      <td>3.962189</td>\n",
       "      <td>3.962189</td>\n",
       "      <td>3.962189</td>\n",
       "      <td>0.056723</td>\n",
       "      <td>0.827504</td>\n",
       "      <td>0.029858</td>\n",
       "      <td>5.281301</td>\n",
       "      <td>2.107489</td>\n",
       "      <td>MetLife</td>\n",
       "    </tr>\n",
       "    <tr>\n",
       "      <th>235</th>\n",
       "      <td>COF</td>\n",
       "      <td>2024-12-31</td>\n",
       "      <td>2024</td>\n",
       "      <td>FY</td>\n",
       "      <td>132.992492</td>\n",
       "      <td>132.992492</td>\n",
       "      <td>4.546547</td>\n",
       "      <td>23.629065</td>\n",
       "      <td>0.0</td>\n",
       "      <td>23.629065</td>\n",
       "      <td>...</td>\n",
       "      <td>14.366961</td>\n",
       "      <td>3.758085</td>\n",
       "      <td>3.758085</td>\n",
       "      <td>3.758085</td>\n",
       "      <td>-4.651789</td>\n",
       "      <td>1.744811</td>\n",
       "      <td>0.016998</td>\n",
       "      <td>9500.350345</td>\n",
       "      <td>1.122714</td>\n",
       "      <td>Capital One</td>\n",
       "    </tr>\n",
       "    <tr>\n",
       "      <th>246</th>\n",
       "      <td>HBAN</td>\n",
       "      <td>2024-12-31</td>\n",
       "      <td>2024</td>\n",
       "      <td>FY</td>\n",
       "      <td>145.517588</td>\n",
       "      <td>145.517588</td>\n",
       "      <td>8.467337</td>\n",
       "      <td>278.873097</td>\n",
       "      <td>0.0</td>\n",
       "      <td>278.873097</td>\n",
       "      <td>...</td>\n",
       "      <td>12.172484</td>\n",
       "      <td>13.010810</td>\n",
       "      <td>13.010810</td>\n",
       "      <td>13.010810</td>\n",
       "      <td>0.902196</td>\n",
       "      <td>2.380266</td>\n",
       "      <td>0.006056</td>\n",
       "      <td>0.000000</td>\n",
       "      <td>1.196283</td>\n",
       "      <td>Huntington Bancshares</td>\n",
       "    </tr>\n",
       "    <tr>\n",
       "      <th>258</th>\n",
       "      <td>L</td>\n",
       "      <td>2024-12-31</td>\n",
       "      <td>2024</td>\n",
       "      <td>FY</td>\n",
       "      <td>147.513043</td>\n",
       "      <td>147.513043</td>\n",
       "      <td>4.704348</td>\n",
       "      <td>213.084286</td>\n",
       "      <td>0.0</td>\n",
       "      <td>213.084286</td>\n",
       "      <td>...</td>\n",
       "      <td>13.192234</td>\n",
       "      <td>7.795161</td>\n",
       "      <td>6.166552</td>\n",
       "      <td>6.166552</td>\n",
       "      <td>6.925923</td>\n",
       "      <td>1.082071</td>\n",
       "      <td>0.002948</td>\n",
       "      <td>9.336377</td>\n",
       "      <td>0.976129</td>\n",
       "      <td>Loews Corporation</td>\n",
       "    </tr>\n",
       "  </tbody>\n",
       "</table>\n",
       "<p>4 rows × 59 columns</p>\n",
       "</div>"
      ],
      "text/plain": [
       "    symbol        date calendarYear period  currentRatio  quickRatio  \\\n",
       "212    MET  2024-12-31         2024     FY     84.626289   84.626289   \n",
       "235    COF  2024-12-31         2024     FY    132.992492  132.992492   \n",
       "246   HBAN  2024-12-31         2024     FY    145.517588  145.517588   \n",
       "258      L  2024-12-31         2024     FY    147.513043  147.513043   \n",
       "\n",
       "     cashRatio  daysOfSalesOutstanding  daysOfInventoryOutstanding  \\\n",
       "212  12.930412              160.680001                         0.0   \n",
       "235   4.546547               23.629065                         0.0   \n",
       "246   8.467337              278.873097                         0.0   \n",
       "258   4.704348              213.084286                         0.0   \n",
       "\n",
       "     operatingCycle  ...  priceEarningsRatio  priceToFreeCashFlowsRatio  \\\n",
       "212      160.680001  ...           13.068240                   3.962189   \n",
       "235       23.629065  ...           14.366961                   3.758085   \n",
       "246      278.873097  ...           12.172484                  13.010810   \n",
       "258      213.084286  ...           13.192234                   7.795161   \n",
       "\n",
       "     priceToOperatingCashFlowsRatio  priceCashFlowRatio  \\\n",
       "212                        3.962189            3.962189   \n",
       "235                        3.758085            3.758085   \n",
       "246                       13.010810           13.010810   \n",
       "258                        6.166552            6.166552   \n",
       "\n",
       "     priceEarningsToGrowthRatio  priceSalesRatio  dividendYield  \\\n",
       "212                    0.056723         0.827504       0.029858   \n",
       "235                   -4.651789         1.744811       0.016998   \n",
       "246                    0.902196         2.380266       0.006056   \n",
       "258                    6.925923         1.082071       0.002948   \n",
       "\n",
       "     enterpriseValueMultiple  priceFairValue                   name  \n",
       "212                 5.281301        2.107489                MetLife  \n",
       "235              9500.350345        1.122714            Capital One  \n",
       "246                 0.000000        1.196283  Huntington Bancshares  \n",
       "258                 9.336377        0.976129      Loews Corporation  \n",
       "\n",
       "[4 rows x 59 columns]"
      ]
     },
     "execution_count": 15,
     "metadata": {},
     "output_type": "execute_result"
    }
   ],
   "source": [
    "# outliers\n",
    "ratios_df[ratios_df[\"currentRatio\"] > 50]"
   ]
  },
  {
   "cell_type": "code",
   "execution_count": 16,
   "id": "e1f0c03874f02310",
   "metadata": {
    "ExecuteTime": {
     "end_time": "2025-02-27T20:22:15.009437Z",
     "start_time": "2025-02-27T20:22:14.956662Z"
    }
   },
   "outputs": [
    {
     "data": {
      "application/vnd.plotly.v1+json": {
       "config": {
        "plotlyServerURL": "https://plot.ly"
       },
       "data": [
        {
         "alignmentgroup": "True",
         "hovertemplate": "<b>%{hovertext}</b><br><br>symbol=%{x}<br>currentRatio=%{y}<extra></extra>",
         "hovertext": [
          "NiSource",
          "JPMorgan Chase",
          "Vici Properties",
          "NVR, Inc.",
          "Hartford (The)",
          "BlackRock",
          "Everest Group",
          "PulteGroup",
          "W. R. Berkley Corporation",
          "Fifth Third Bancorp",
          "KeyCorp",
          "CoStar Group",
          "Prudential Financial",
          "Texas Pacific Land Corporation",
          "T. Rowe Price",
          "Copart",
          "State Street Corporation",
          "EQT Corporation",
          "Palantir Technologies",
          "Berkshire Hathaway",
          "Skyworks Solutions",
          "Monolithic Power Systems",
          "Welltower",
          "ON Semiconductor",
          "Regeneron Pharmaceuticals",
          "Fastenal",
          "Nvidia",
          "MarketAxess",
          "Arista Networks",
          "Edwards Lifesciences",
          "Snap-on",
          "Texas Instruments",
          "Intuitive Surgical",
          "Bio-Techne",
          "PPL Corporation",
          "Supermicro",
          "Hologic",
          "Moderna",
          "Revvity",
          "Kimco Realty",
          "Insulet Corporation",
          "Garmin",
          "Enphase Energy",
          "Exelon",
          "Deckers Brands",
          "Dayforce",
          "Monster Beverage",
          "Packaging Corporation of America",
          "Invesco",
          "Steris",
          "CF Industries",
          "Ansys",
          "Keysight Technologies",
          "Meta Platforms",
          "Lam Research",
          "EPAM Systems",
          "Cadence Design Systems",
          "Coterra",
          "Teradyne",
          "Travelers Companies (The)",
          "Raymond James Financial",
          "West Pharmaceutical Services",
          "Assurant",
          "Blackstone Inc.",
          "Vertex Pharmaceuticals",
          "Micron Technology",
          "Franklin Resources",
          "Advanced Micro Devices",
          "EOG Resources",
          "ResMed",
          "Brown–Forman",
          "Match Group",
          "Fox Corporation (Class B)",
          "Fox Corporation (Class A)",
          "IDEX Corporation",
          "Steel Dynamics",
          "BXP, Inc.",
          "Nucor",
          "Applied Materials",
          "Martin Marietta Materials",
          "W. W. Grainger",
          "First Solar",
          "Synopsys",
          "Honeywell",
          "Freeport-McMoRan",
          "Nordson Corporation",
          "Qualcomm",
          "Nike, Inc.",
          "Amphenol",
          "NXP Semiconductors",
          "Teledyne Technologies",
          "Hormel Foods",
          "CarMax",
          "Axon Enterprise",
          "Ralph Lauren Corporation",
          "Ingersoll Rand",
          "Globe Life",
          "Howmet Aerospace",
          "KLA Corporation",
          "Bunge Global",
          "Waters Corporation",
          "Cognizant",
          "Agilent Technologies",
          "Pool Corporation",
          "Halliburton",
          "Dover Corporation",
          "Allegion",
          "Medtronic",
          "Deere & Company",
          "Tesla, Inc.",
          "Goldman Sachs",
          "Elevance Health"
         ],
         "legendgroup": "",
         "marker": {
          "color": "#636efa",
          "pattern": {
           "shape": ""
          }
         },
         "name": "",
         "offsetgroup": "",
         "orientation": "v",
         "showlegend": false,
         "textposition": "auto",
         "type": "bar",
         "x": [
          "NI",
          "JPM",
          "VICI",
          "NVR",
          "HIG",
          "BLK",
          "EG",
          "PHM",
          "WRB",
          "FITB",
          "KEY",
          "CSGP",
          "PRU",
          "TPL",
          "TROW",
          "CPRT",
          "STT",
          "EQT",
          "PLTR",
          "BRK-B",
          "SWKS",
          "MPWR",
          "WELL",
          "ON",
          "REGN",
          "FAST",
          "NVDA",
          "MKTX",
          "ANET",
          "EW",
          "SNA",
          "TXN",
          "ISRG",
          "TECH",
          "PPL",
          "SMCI",
          "HOLX",
          "MRNA",
          "RVTY",
          "KIM",
          "PODD",
          "GRMN",
          "ENPH",
          "EXC",
          "DECK",
          "DAY",
          "MNST",
          "PKG",
          "IVZ",
          "STE",
          "CF",
          "ANSS",
          "KEYS",
          "META",
          "LRCX",
          "EPAM",
          "CDNS",
          "CTRA",
          "TER",
          "TRV",
          "RJF",
          "WST",
          "AIZ",
          "BX",
          "VRTX",
          "MU",
          "BEN",
          "AMD",
          "EOG",
          "RMD",
          "BF-B",
          "MTCH",
          "FOX",
          "FOXA",
          "IEX",
          "STLD",
          "BXP",
          "NUE",
          "AMAT",
          "MLM",
          "GWW",
          "FSLR",
          "SNPS",
          "HON",
          "FCX",
          "NDSN",
          "QCOM",
          "NKE",
          "APH",
          "NXPI",
          "TDY",
          "HRL",
          "KMX",
          "AXON",
          "RL",
          "IR",
          "GL",
          "HWM",
          "KLAC",
          "BG",
          "WAT",
          "CTSH",
          "A",
          "POOL",
          "HAL",
          "DOV",
          "ALLE",
          "MDT",
          "DE",
          "TSLA",
          "GS",
          "ELV"
         ],
         "xaxis": "x",
         "y": [
          38.737430167597765,
          33.34930898228499,
          27.916755158771014,
          17.543182719699974,
          16.692182410423452,
          16.397135416666668,
          14.41635687732342,
          11.081974412742424,
          10.774912815443336,
          9.564269662921348,
          9.036150234741784,
          8.962882491399602,
          8.625,
          8.333923841059603,
          8.005447117566954,
          7.028978613258412,
          6.714837398373984,
          6.276765299260256,
          5.958013810995384,
          5.941609333752787,
          5.543388086942094,
          5.313062902497564,
          5.2774536765634545,
          5.058435720707222,
          4.731105646122252,
          4.67457429777325,
          4.439851498864077,
          4.410020473507589,
          4.359387707148247,
          4.175790592612278,
          4.149141965678627,
          4.124622563821027,
          4.074371168280525,
          3.873904341224377,
          3.779527559055118,
          3.7665687026949453,
          3.686174315464713,
          3.671350861287398,
          3.59762364109631,
          3.5816023533003096,
          3.5792959878879635,
          3.5388962355871705,
          3.5253987707755448,
          3.429038854805726,
          3.3937593837717865,
          3.3792154163799037,
          3.3179416483905975,
          3.227835463258786,
          3.1419797687861273,
          3.081344435291856,
          3.0806845965770173,
          3.00843724500204,
          2.9831814996496147,
          2.9778842719371355,
          2.9695526362252957,
          2.9550947031748795,
          2.9312198700099628,
          2.9234154929577465,
          2.908194159585897,
          2.8939828080229226,
          2.8299626433079994,
          2.794513081395349,
          2.782152760272246,
          2.78196234671392,
          2.692139370476351,
          2.63538062283737,
          2.632255936675462,
          2.6162615025408598,
          2.600741083835109,
          2.5890364627658116,
          2.588838999358563,
          2.5438784554317775,
          2.540989159891599,
          2.540989159891599,
          2.529299666507861,
          2.5255188941789273,
          2.509236913056423,
          2.5065300381756077,
          2.5059045819555976,
          2.501968503937008,
          2.488937093275488,
          2.4496630952873772,
          2.4412728480219763,
          2.4407894736842106,
          2.4192139737991267,
          2.412653720029443,
          2.402037319116527,
          2.3961106391012934,
          2.3718105685880797,
          2.357972885732731,
          2.334020291693088,
          2.32007312232768,
          2.3101469491635696,
          2.30304053986323,
          2.289940021810251,
          2.289020836769476,
          2.2683310824961906,
          2.170432537120723,
          2.152248532110761,
          2.1463349024882312,
          2.1134461442619132,
          2.093165969316597,
          2.0891820580474936,
          2.0482618759372935,
          2.0466115702479337,
          2.04163071976807,
          2.0408953938872147,
          2.0330892575771617,
          2.0260604163405853,
          2.024912390270983,
          2.0082980225988702,
          2.0064897881275052
         ],
         "yaxis": "y"
        }
       ],
       "layout": {
        "barmode": "relative",
        "legend": {
         "tracegroupgap": 0
        },
        "template": {
         "data": {
          "bar": [
           {
            "error_x": {
             "color": "#2a3f5f"
            },
            "error_y": {
             "color": "#2a3f5f"
            },
            "marker": {
             "line": {
              "color": "#E5ECF6",
              "width": 0.5
             },
             "pattern": {
              "fillmode": "overlay",
              "size": 10,
              "solidity": 0.2
             }
            },
            "type": "bar"
           }
          ],
          "barpolar": [
           {
            "marker": {
             "line": {
              "color": "#E5ECF6",
              "width": 0.5
             },
             "pattern": {
              "fillmode": "overlay",
              "size": 10,
              "solidity": 0.2
             }
            },
            "type": "barpolar"
           }
          ],
          "carpet": [
           {
            "aaxis": {
             "endlinecolor": "#2a3f5f",
             "gridcolor": "white",
             "linecolor": "white",
             "minorgridcolor": "white",
             "startlinecolor": "#2a3f5f"
            },
            "baxis": {
             "endlinecolor": "#2a3f5f",
             "gridcolor": "white",
             "linecolor": "white",
             "minorgridcolor": "white",
             "startlinecolor": "#2a3f5f"
            },
            "type": "carpet"
           }
          ],
          "choropleth": [
           {
            "colorbar": {
             "outlinewidth": 0,
             "ticks": ""
            },
            "type": "choropleth"
           }
          ],
          "contour": [
           {
            "colorbar": {
             "outlinewidth": 0,
             "ticks": ""
            },
            "colorscale": [
             [
              0,
              "#0d0887"
             ],
             [
              0.1111111111111111,
              "#46039f"
             ],
             [
              0.2222222222222222,
              "#7201a8"
             ],
             [
              0.3333333333333333,
              "#9c179e"
             ],
             [
              0.4444444444444444,
              "#bd3786"
             ],
             [
              0.5555555555555556,
              "#d8576b"
             ],
             [
              0.6666666666666666,
              "#ed7953"
             ],
             [
              0.7777777777777778,
              "#fb9f3a"
             ],
             [
              0.8888888888888888,
              "#fdca26"
             ],
             [
              1,
              "#f0f921"
             ]
            ],
            "type": "contour"
           }
          ],
          "contourcarpet": [
           {
            "colorbar": {
             "outlinewidth": 0,
             "ticks": ""
            },
            "type": "contourcarpet"
           }
          ],
          "heatmap": [
           {
            "colorbar": {
             "outlinewidth": 0,
             "ticks": ""
            },
            "colorscale": [
             [
              0,
              "#0d0887"
             ],
             [
              0.1111111111111111,
              "#46039f"
             ],
             [
              0.2222222222222222,
              "#7201a8"
             ],
             [
              0.3333333333333333,
              "#9c179e"
             ],
             [
              0.4444444444444444,
              "#bd3786"
             ],
             [
              0.5555555555555556,
              "#d8576b"
             ],
             [
              0.6666666666666666,
              "#ed7953"
             ],
             [
              0.7777777777777778,
              "#fb9f3a"
             ],
             [
              0.8888888888888888,
              "#fdca26"
             ],
             [
              1,
              "#f0f921"
             ]
            ],
            "type": "heatmap"
           }
          ],
          "heatmapgl": [
           {
            "colorbar": {
             "outlinewidth": 0,
             "ticks": ""
            },
            "colorscale": [
             [
              0,
              "#0d0887"
             ],
             [
              0.1111111111111111,
              "#46039f"
             ],
             [
              0.2222222222222222,
              "#7201a8"
             ],
             [
              0.3333333333333333,
              "#9c179e"
             ],
             [
              0.4444444444444444,
              "#bd3786"
             ],
             [
              0.5555555555555556,
              "#d8576b"
             ],
             [
              0.6666666666666666,
              "#ed7953"
             ],
             [
              0.7777777777777778,
              "#fb9f3a"
             ],
             [
              0.8888888888888888,
              "#fdca26"
             ],
             [
              1,
              "#f0f921"
             ]
            ],
            "type": "heatmapgl"
           }
          ],
          "histogram": [
           {
            "marker": {
             "pattern": {
              "fillmode": "overlay",
              "size": 10,
              "solidity": 0.2
             }
            },
            "type": "histogram"
           }
          ],
          "histogram2d": [
           {
            "colorbar": {
             "outlinewidth": 0,
             "ticks": ""
            },
            "colorscale": [
             [
              0,
              "#0d0887"
             ],
             [
              0.1111111111111111,
              "#46039f"
             ],
             [
              0.2222222222222222,
              "#7201a8"
             ],
             [
              0.3333333333333333,
              "#9c179e"
             ],
             [
              0.4444444444444444,
              "#bd3786"
             ],
             [
              0.5555555555555556,
              "#d8576b"
             ],
             [
              0.6666666666666666,
              "#ed7953"
             ],
             [
              0.7777777777777778,
              "#fb9f3a"
             ],
             [
              0.8888888888888888,
              "#fdca26"
             ],
             [
              1,
              "#f0f921"
             ]
            ],
            "type": "histogram2d"
           }
          ],
          "histogram2dcontour": [
           {
            "colorbar": {
             "outlinewidth": 0,
             "ticks": ""
            },
            "colorscale": [
             [
              0,
              "#0d0887"
             ],
             [
              0.1111111111111111,
              "#46039f"
             ],
             [
              0.2222222222222222,
              "#7201a8"
             ],
             [
              0.3333333333333333,
              "#9c179e"
             ],
             [
              0.4444444444444444,
              "#bd3786"
             ],
             [
              0.5555555555555556,
              "#d8576b"
             ],
             [
              0.6666666666666666,
              "#ed7953"
             ],
             [
              0.7777777777777778,
              "#fb9f3a"
             ],
             [
              0.8888888888888888,
              "#fdca26"
             ],
             [
              1,
              "#f0f921"
             ]
            ],
            "type": "histogram2dcontour"
           }
          ],
          "mesh3d": [
           {
            "colorbar": {
             "outlinewidth": 0,
             "ticks": ""
            },
            "type": "mesh3d"
           }
          ],
          "parcoords": [
           {
            "line": {
             "colorbar": {
              "outlinewidth": 0,
              "ticks": ""
             }
            },
            "type": "parcoords"
           }
          ],
          "pie": [
           {
            "automargin": true,
            "type": "pie"
           }
          ],
          "scatter": [
           {
            "fillpattern": {
             "fillmode": "overlay",
             "size": 10,
             "solidity": 0.2
            },
            "type": "scatter"
           }
          ],
          "scatter3d": [
           {
            "line": {
             "colorbar": {
              "outlinewidth": 0,
              "ticks": ""
             }
            },
            "marker": {
             "colorbar": {
              "outlinewidth": 0,
              "ticks": ""
             }
            },
            "type": "scatter3d"
           }
          ],
          "scattercarpet": [
           {
            "marker": {
             "colorbar": {
              "outlinewidth": 0,
              "ticks": ""
             }
            },
            "type": "scattercarpet"
           }
          ],
          "scattergeo": [
           {
            "marker": {
             "colorbar": {
              "outlinewidth": 0,
              "ticks": ""
             }
            },
            "type": "scattergeo"
           }
          ],
          "scattergl": [
           {
            "marker": {
             "colorbar": {
              "outlinewidth": 0,
              "ticks": ""
             }
            },
            "type": "scattergl"
           }
          ],
          "scattermapbox": [
           {
            "marker": {
             "colorbar": {
              "outlinewidth": 0,
              "ticks": ""
             }
            },
            "type": "scattermapbox"
           }
          ],
          "scatterpolar": [
           {
            "marker": {
             "colorbar": {
              "outlinewidth": 0,
              "ticks": ""
             }
            },
            "type": "scatterpolar"
           }
          ],
          "scatterpolargl": [
           {
            "marker": {
             "colorbar": {
              "outlinewidth": 0,
              "ticks": ""
             }
            },
            "type": "scatterpolargl"
           }
          ],
          "scatterternary": [
           {
            "marker": {
             "colorbar": {
              "outlinewidth": 0,
              "ticks": ""
             }
            },
            "type": "scatterternary"
           }
          ],
          "surface": [
           {
            "colorbar": {
             "outlinewidth": 0,
             "ticks": ""
            },
            "colorscale": [
             [
              0,
              "#0d0887"
             ],
             [
              0.1111111111111111,
              "#46039f"
             ],
             [
              0.2222222222222222,
              "#7201a8"
             ],
             [
              0.3333333333333333,
              "#9c179e"
             ],
             [
              0.4444444444444444,
              "#bd3786"
             ],
             [
              0.5555555555555556,
              "#d8576b"
             ],
             [
              0.6666666666666666,
              "#ed7953"
             ],
             [
              0.7777777777777778,
              "#fb9f3a"
             ],
             [
              0.8888888888888888,
              "#fdca26"
             ],
             [
              1,
              "#f0f921"
             ]
            ],
            "type": "surface"
           }
          ],
          "table": [
           {
            "cells": {
             "fill": {
              "color": "#EBF0F8"
             },
             "line": {
              "color": "white"
             }
            },
            "header": {
             "fill": {
              "color": "#C8D4E3"
             },
             "line": {
              "color": "white"
             }
            },
            "type": "table"
           }
          ]
         },
         "layout": {
          "annotationdefaults": {
           "arrowcolor": "#2a3f5f",
           "arrowhead": 0,
           "arrowwidth": 1
          },
          "autotypenumbers": "strict",
          "coloraxis": {
           "colorbar": {
            "outlinewidth": 0,
            "ticks": ""
           }
          },
          "colorscale": {
           "diverging": [
            [
             0,
             "#8e0152"
            ],
            [
             0.1,
             "#c51b7d"
            ],
            [
             0.2,
             "#de77ae"
            ],
            [
             0.3,
             "#f1b6da"
            ],
            [
             0.4,
             "#fde0ef"
            ],
            [
             0.5,
             "#f7f7f7"
            ],
            [
             0.6,
             "#e6f5d0"
            ],
            [
             0.7,
             "#b8e186"
            ],
            [
             0.8,
             "#7fbc41"
            ],
            [
             0.9,
             "#4d9221"
            ],
            [
             1,
             "#276419"
            ]
           ],
           "sequential": [
            [
             0,
             "#0d0887"
            ],
            [
             0.1111111111111111,
             "#46039f"
            ],
            [
             0.2222222222222222,
             "#7201a8"
            ],
            [
             0.3333333333333333,
             "#9c179e"
            ],
            [
             0.4444444444444444,
             "#bd3786"
            ],
            [
             0.5555555555555556,
             "#d8576b"
            ],
            [
             0.6666666666666666,
             "#ed7953"
            ],
            [
             0.7777777777777778,
             "#fb9f3a"
            ],
            [
             0.8888888888888888,
             "#fdca26"
            ],
            [
             1,
             "#f0f921"
            ]
           ],
           "sequentialminus": [
            [
             0,
             "#0d0887"
            ],
            [
             0.1111111111111111,
             "#46039f"
            ],
            [
             0.2222222222222222,
             "#7201a8"
            ],
            [
             0.3333333333333333,
             "#9c179e"
            ],
            [
             0.4444444444444444,
             "#bd3786"
            ],
            [
             0.5555555555555556,
             "#d8576b"
            ],
            [
             0.6666666666666666,
             "#ed7953"
            ],
            [
             0.7777777777777778,
             "#fb9f3a"
            ],
            [
             0.8888888888888888,
             "#fdca26"
            ],
            [
             1,
             "#f0f921"
            ]
           ]
          },
          "colorway": [
           "#636efa",
           "#EF553B",
           "#00cc96",
           "#ab63fa",
           "#FFA15A",
           "#19d3f3",
           "#FF6692",
           "#B6E880",
           "#FF97FF",
           "#FECB52"
          ],
          "font": {
           "color": "#2a3f5f"
          },
          "geo": {
           "bgcolor": "white",
           "lakecolor": "white",
           "landcolor": "#E5ECF6",
           "showlakes": true,
           "showland": true,
           "subunitcolor": "white"
          },
          "hoverlabel": {
           "align": "left"
          },
          "hovermode": "closest",
          "mapbox": {
           "style": "light"
          },
          "paper_bgcolor": "white",
          "plot_bgcolor": "#E5ECF6",
          "polar": {
           "angularaxis": {
            "gridcolor": "white",
            "linecolor": "white",
            "ticks": ""
           },
           "bgcolor": "#E5ECF6",
           "radialaxis": {
            "gridcolor": "white",
            "linecolor": "white",
            "ticks": ""
           }
          },
          "scene": {
           "xaxis": {
            "backgroundcolor": "#E5ECF6",
            "gridcolor": "white",
            "gridwidth": 2,
            "linecolor": "white",
            "showbackground": true,
            "ticks": "",
            "zerolinecolor": "white"
           },
           "yaxis": {
            "backgroundcolor": "#E5ECF6",
            "gridcolor": "white",
            "gridwidth": 2,
            "linecolor": "white",
            "showbackground": true,
            "ticks": "",
            "zerolinecolor": "white"
           },
           "zaxis": {
            "backgroundcolor": "#E5ECF6",
            "gridcolor": "white",
            "gridwidth": 2,
            "linecolor": "white",
            "showbackground": true,
            "ticks": "",
            "zerolinecolor": "white"
           }
          },
          "shapedefaults": {
           "line": {
            "color": "#2a3f5f"
           }
          },
          "ternary": {
           "aaxis": {
            "gridcolor": "white",
            "linecolor": "white",
            "ticks": ""
           },
           "baxis": {
            "gridcolor": "white",
            "linecolor": "white",
            "ticks": ""
           },
           "bgcolor": "#E5ECF6",
           "caxis": {
            "gridcolor": "white",
            "linecolor": "white",
            "ticks": ""
           }
          },
          "title": {
           "x": 0.05
          },
          "xaxis": {
           "automargin": true,
           "gridcolor": "white",
           "linecolor": "white",
           "ticks": "",
           "title": {
            "standoff": 15
           },
           "zerolinecolor": "white",
           "zerolinewidth": 2
          },
          "yaxis": {
           "automargin": true,
           "gridcolor": "white",
           "linecolor": "white",
           "ticks": "",
           "title": {
            "standoff": 15
           },
           "zerolinecolor": "white",
           "zerolinewidth": 2
          }
         }
        },
        "title": {
         "text": "Current ratio of S&P 500 companies"
        },
        "xaxis": {
         "anchor": "y",
         "domain": [
          0,
          1
         ],
         "title": {
          "text": "symbol"
         }
        },
        "yaxis": {
         "anchor": "x",
         "domain": [
          0,
          1
         ],
         "title": {
          "text": "currentRatio"
         }
        }
       }
      }
     },
     "metadata": {},
     "output_type": "display_data"
    }
   ],
   "source": [
    "df_current_ratio_gt_2 = ratios_df[\n",
    "    (ratios_df[\"currentRatio\"] > 2) & (ratios_df[\"currentRatio\"] < 50)\n",
    "].sort_values(by=\"currentRatio\", ascending=False)\n",
    "fig = px.bar(\n",
    "    df_current_ratio_gt_2,\n",
    "    x=\"symbol\",\n",
    "    y=\"currentRatio\",\n",
    "    title=\"Current ratio of S&P 500 companies\",\n",
    "    hover_name=\"name\",\n",
    ")\n",
    "fig.show()"
   ]
  },
  {
   "cell_type": "code",
   "execution_count": 17,
   "id": "6b94831202bd2ca1",
   "metadata": {
    "ExecuteTime": {
     "end_time": "2025-02-27T20:25:23.080207Z",
     "start_time": "2025-02-27T20:25:23.074692Z"
    }
   },
   "outputs": [],
   "source": [
    "plotly.io.write_json(fig, \"data/current_ratio.json\")"
   ]
  },
  {
   "cell_type": "code",
   "execution_count": 18,
   "id": "c186721a749ebf51",
   "metadata": {
    "ExecuteTime": {
     "end_time": "2025-02-27T20:25:50.753242Z",
     "start_time": "2025-02-27T20:25:50.749539Z"
    }
   },
   "outputs": [],
   "source": [
    "# Uncomment to save data\n",
    "# ratios_df.to_csv('ratios.csv', index=False)"
   ]
  },
  {
   "cell_type": "markdown",
   "id": "e71e9ade3ebab8ff",
   "metadata": {},
   "source": [
    "#### 3. Earnings stability\n",
    "- Positive earnings for each of the last 10 years. (Earnings per share). \n",
    "- Note that it is possible that some companies went public less than 10 years ago, so they are automatically excluded from this criteria. \n",
    "- Also, depending on when you run this code, you may end up with 11 years - where the average EPS per year for the 11th year will be calculated with less than four quarters. This is because we request for 44 quarters (11 years) of data - the response includes data for future quarters as well.\n",
    "- Advice: If you like the business, go deeper into the data - the indicators may seem misleading. For example, Amazon is not on the list just because it has a negative EPS for one quarter in 2014."
   ]
  },
  {
   "cell_type": "code",
   "execution_count": 19,
   "id": "a0613cef498a9c2",
   "metadata": {
    "ExecuteTime": {
     "end_time": "2025-02-27T21:19:40.678185Z",
     "start_time": "2025-02-27T21:19:40.675845Z"
    }
   },
   "outputs": [],
   "source": [
    "# TODO: Add long term debt to net current assets (working capital) explanation + graph"
   ]
  },
  {
   "cell_type": "code",
   "execution_count": 20,
   "id": "a282544ea61aca26",
   "metadata": {
    "ExecuteTime": {
     "end_time": "2025-02-27T20:27:10.049478Z",
     "start_time": "2025-02-27T20:25:52.350143Z"
    }
   },
   "outputs": [
    {
     "name": "stderr",
     "output_type": "stream",
     "text": [
      "100%|██████████| 503/503 [01:21<00:00,  6.21it/s]\n"
     ]
    },
    {
     "data": {
      "application/vnd.microsoft.datawrangler.viewer.v0+json": {
       "columns": [
        {
         "name": "index",
         "rawType": "int64",
         "type": "integer"
        },
        {
         "name": "date",
         "rawType": "object",
         "type": "string"
        },
        {
         "name": "symbol",
         "rawType": "object",
         "type": "string"
        },
        {
         "name": "eps",
         "rawType": "float64",
         "type": "float"
        },
        {
         "name": "epsEstimated",
         "rawType": "float64",
         "type": "float"
        },
        {
         "name": "time",
         "rawType": "object",
         "type": "string"
        },
        {
         "name": "revenue",
         "rawType": "float64",
         "type": "float"
        },
        {
         "name": "revenueEstimated",
         "rawType": "float64",
         "type": "float"
        },
        {
         "name": "updatedFromDate",
         "rawType": "object",
         "type": "string"
        },
        {
         "name": "fiscalDateEnding",
         "rawType": "object",
         "type": "string"
        }
       ],
       "conversionMethod": "pd.DataFrame",
       "ref": "a6cb7a5f-91bc-4f90-807a-d28291910900",
       "rows": [
        [
         "3",
         "2025-02-26",
         "INVH",
         "0.23",
         "0.47",
         "amc",
         "659130000.0",
         "658705280.0",
         "2025-04-26",
         "2024-12-31"
        ],
        [
         "4",
         "2024-10-30",
         "INVH",
         "0.15",
         "0.17",
         "amc",
         "660322000.0",
         "652730000.0",
         "2024-10-31",
         "2024-09-30"
        ],
        [
         "5",
         "2024-07-24",
         "INVH",
         "0.12",
         "0.18",
         "amc",
         "674916000.0",
         "642580000.0",
         "2025-04-25",
         "2024-06-30"
        ],
        [
         "6",
         "2024-04-30",
         "INVH",
         "0.23",
         "0.46",
         "amc",
         "667603000.0",
         "642040000.0",
         "2025-04-25",
         "2024-03-31"
        ],
        [
         "7",
         "2024-02-13",
         "INVH",
         "0.21",
         "0.45",
         "amc",
         "624321000.0",
         "623640000.0",
         "2025-04-25",
         "2023-12-31"
        ],
        [
         "8",
         "2023-10-25",
         "INVH",
         "0.21",
         "0.45",
         "amc",
         "612793000.0",
         "611770000.0",
         "2025-04-25",
         "2023-09-30"
        ],
        [
         "9",
         "2023-07-26",
         "INVH",
         "0.22",
         "0.45",
         "amc",
         "598342000.0",
         "605910000.0",
         "2025-04-25",
         "2023-06-30"
        ],
        [
         "10",
         "2023-05-01",
         "INVH",
         "0.2",
         "0.44",
         "amc",
         "585735000.0",
         "591200000.0",
         "2025-04-25",
         "2023-03-31"
        ],
        [
         "11",
         "2023-02-15",
         "INVH",
         "0.16",
         "0.15",
         "amc",
         "576100000.0",
         "568831618.0",
         "2025-04-25",
         "2022-12-31"
        ],
        [
         "12",
         "2022-10-26",
         "INVH",
         "0.13",
         "0.16",
         "amc",
         "567826000.0",
         "561265248.0",
         "2025-04-25",
         "2022-09-30"
        ],
        [
         "13",
         "2022-07-27",
         "INVH",
         "0.18",
         "0.15",
         "amc",
         "557300000.0",
         "539665583.0",
         "2025-04-25",
         "2022-06-30"
        ],
        [
         "14",
         "2022-04-27",
         "INVH",
         "0.15",
         "0.14",
         "amc",
         "529990000.0",
         "526493293.0",
         "2025-04-25",
         "2022-03-31"
        ],
        [
         "15",
         "2022-02-15",
         "INVH",
         "0.12",
         "0.12",
         "amc",
         "518115000.0",
         "516620831.0",
         "2025-04-25",
         "2021-12-31"
        ],
        [
         "16",
         "2021-10-27",
         "INVH",
         "0.12",
         "0.1",
         "amc",
         "509734000.0",
         "495600000.0",
         "2025-04-25",
         "2021-09-30"
        ],
        [
         "17",
         "2021-07-28",
         "INVH",
         "0.11",
         "0.08",
         "amc",
         "491644000.0",
         "480670000.0",
         "2025-04-25",
         "2021-06-30"
        ],
        [
         "18",
         "2021-04-28",
         "INVH",
         "0.1",
         "0.07",
         "amc",
         "475576000.0",
         "448069285.0",
         "2025-04-25",
         "2021-03-31"
        ],
        [
         "19",
         "2021-02-16",
         "INVH",
         "0.13",
         "0.06",
         "amc",
         "464100000.0",
         "430742812.0",
         "2025-04-25",
         "2020-12-31"
        ],
        [
         "20",
         "2020-10-28",
         "INVH",
         "0.06",
         "0.04429",
         "amc",
         "459184000.0",
         "306122666.0",
         "2025-04-25",
         "2020-09-30"
        ],
        [
         "21",
         "2020-08-03",
         "INVH",
         "0.08",
         "0.06",
         "amc",
         "449755000.0",
         "337316250.0",
         "2025-04-25",
         "2020-06-30"
        ],
        [
         "22",
         "2020-05-06",
         "INVH",
         "0.09",
         "0.05",
         "amc",
         "449789000.0",
         "333968332.0",
         "2025-04-25",
         "2020-03-31"
        ],
        [
         "23",
         "2020-02-18",
         "INVH",
         "0.1",
         "0.06",
         "amc",
         "444277000.0",
         "366528523.0",
         "2025-04-25",
         "2019-12-31"
        ],
        [
         "24",
         "2019-10-29",
         "INVH",
         "0.06",
         "0.03375",
         "amc",
         "443326000.0",
         "221663000.0",
         "2025-04-25",
         "2019-09-30"
        ],
        [
         "25",
         "2019-07-30",
         "INVH",
         "0.07",
         "0.025",
         "amc",
         "441582000.0",
         "364305150.0",
         "2025-04-25",
         "2019-06-30"
        ],
        [
         "26",
         "2019-05-06",
         "INVH",
         "0.04",
         "0.02",
         "amc",
         "435500000.0",
         "217750000.0",
         "2025-04-25",
         "2019-03-31"
        ],
        [
         "27",
         "2019-02-14",
         "INVH",
         "0.11",
         "0.3",
         "amc",
         "432616000.0",
         "86523200.0",
         "2025-04-25",
         "2018-12-31"
        ],
        [
         "28",
         "2018-11-05",
         "INVH",
         "0.00158",
         "0.29",
         "bmo",
         "434251000.0",
         "843519539.0",
         "2025-04-25",
         "2018-09-30"
        ],
        [
         "29",
         "2018-08-09",
         "INVH",
         "0.02",
         "0.29",
         "amc",
         "432426000.0",
         "144133333.0",
         "2025-04-25",
         "2018-06-30"
        ],
        [
         "30",
         "2018-05-14",
         "INVH",
         "-0.03",
         "0.28",
         "amc",
         "423669000.0",
         "423700000.0",
         "2025-04-25",
         "2018-03-31"
        ],
        [
         "31",
         "2018-02-21",
         "INVH",
         "-0.11",
         "0.27",
         "amc",
         "329954000.0",
         "306238552.0",
         "2025-04-25",
         "2017-12-31"
        ],
        [
         "32",
         "2017-11-08",
         "INVH",
         "-0.07",
         "0.08",
         "amc",
         "243536000.0",
         "278285714.0",
         "2025-04-25",
         "2017-09-30"
        ],
        [
         "33",
         "2017-08-10",
         "INVH",
         "0.02",
         "0.024",
         "amc",
         "242216000.0",
         "242200000.0",
         "2025-04-25",
         "2017-06-30"
        ],
        [
         "34",
         "2017-05-11",
         "INVH",
         "-0.14",
         "0.25",
         "amc",
         "238750000.0",
         "17057142.0",
         "2025-04-25",
         "2017-03-31"
        ],
        [
         "45",
         "2025-04-24",
         "KDP",
         "0.42",
         "0.3824",
         "bmo",
         "3635000000.0",
         "3566639931.0",
         "2025-04-26",
         "2025-03-31"
        ],
        [
         "46",
         "2025-02-25",
         "KDP",
         "0.58",
         "0.571",
         "bmo",
         "4070000000.0",
         "4011399700.0",
         "2025-04-26",
         "2024-12-31"
        ],
        [
         "47",
         "2024-10-24",
         "KDP",
         "0.51",
         "0.51",
         "bmo",
         "3891000000.0",
         "3923806385.0",
         "2025-04-24",
         "2024-09-30"
        ],
        [
         "48",
         "2024-07-25",
         "KDP",
         "0.45",
         "0.45",
         "bmo",
         "3922000000.0",
         "3913135707.0",
         "2025-04-24",
         "2024-06-30"
        ],
        [
         "49",
         "2024-04-25",
         "KDP",
         "0.38",
         "0.35",
         "bmo",
         "3468000000.0",
         "3406949193.0",
         "2025-04-24",
         "2024-03-31"
        ],
        [
         "50",
         "2024-02-22",
         "KDP",
         "0.55",
         "0.54",
         "bmo",
         "3867000000.0",
         "3913810000.0",
         "2025-04-24",
         "2023-12-31"
        ],
        [
         "51",
         "2023-10-26",
         "KDP",
         "0.48",
         "0.47",
         "bmo",
         "3805000000.0",
         "3767650000.0",
         "2025-04-24",
         "2023-09-30"
        ],
        [
         "52",
         "2023-07-27",
         "KDP",
         "0.42",
         "0.4",
         "bmo",
         "3789000000.0",
         "3690430000.0",
         "2025-04-24",
         "2023-06-30"
        ],
        [
         "53",
         "2023-04-27",
         "KDP",
         "0.34",
         "0.33",
         "bmo",
         "3353000000.0",
         "3298290000.0",
         "2025-04-24",
         "2023-03-31"
        ],
        [
         "54",
         "2023-02-23",
         "KDP",
         "0.5",
         "0.51",
         "bmo",
         "3803000000.0",
         "3779918838.0",
         "2025-04-24",
         "2022-12-31"
        ],
        [
         "55",
         "2022-10-27",
         "KDP",
         "0.46",
         "0.46",
         "bmo",
         "3622000000.0",
         "3633092586.0",
         "2025-04-24",
         "2022-09-30"
        ],
        [
         "56",
         "2022-07-28",
         "KDP",
         "0.39",
         "0.39",
         "bmo",
         "3554000000.0",
         "3378682500.0",
         "2025-04-24",
         "2022-06-30"
        ],
        [
         "57",
         "2022-04-28",
         "KDP",
         "0.33",
         "0.33",
         "bmo",
         "3078000000.0",
         "3011061483.0",
         "2025-04-24",
         "2022-03-31"
        ],
        [
         "58",
         "2022-02-24",
         "KDP",
         "0.45",
         "0.45",
         "bmo",
         "3391000000.0",
         "3304747730.0",
         "2025-04-24",
         "2021-12-31"
        ],
        [
         "59",
         "2021-10-28",
         "KDP",
         "0.44",
         "0.44",
         "bmo",
         "3250000000.0",
         "3160910000.0",
         "2025-04-24",
         "2021-09-30"
        ],
        [
         "60",
         "2021-07-29",
         "KDP",
         "0.38",
         "0.37",
         "bmo",
         "3140000000.0",
         "3140000000.0",
         "2025-04-24",
         "2021-06-30"
        ],
        [
         "61",
         "2021-04-29",
         "KDP",
         "0.33",
         "0.31",
         "bmo",
         "2902000000.0",
         "2721570000.0",
         "2025-04-24",
         "2021-03-31"
        ],
        [
         "62",
         "2021-02-25",
         "KDP",
         "0.39",
         "0.4",
         "bmo",
         "3121000000.0",
         "3199024999.0",
         "2025-04-24",
         "2020-12-31"
        ]
       ],
       "shape": {
        "columns": 9,
        "rows": 14154
       }
      },
      "text/html": [
       "<div>\n",
       "<style scoped>\n",
       "    .dataframe tbody tr th:only-of-type {\n",
       "        vertical-align: middle;\n",
       "    }\n",
       "\n",
       "    .dataframe tbody tr th {\n",
       "        vertical-align: top;\n",
       "    }\n",
       "\n",
       "    .dataframe thead th {\n",
       "        text-align: right;\n",
       "    }\n",
       "</style>\n",
       "<table border=\"1\" class=\"dataframe\">\n",
       "  <thead>\n",
       "    <tr style=\"text-align: right;\">\n",
       "      <th></th>\n",
       "      <th>date</th>\n",
       "      <th>symbol</th>\n",
       "      <th>eps</th>\n",
       "      <th>epsEstimated</th>\n",
       "      <th>time</th>\n",
       "      <th>revenue</th>\n",
       "      <th>revenueEstimated</th>\n",
       "      <th>updatedFromDate</th>\n",
       "      <th>fiscalDateEnding</th>\n",
       "    </tr>\n",
       "  </thead>\n",
       "  <tbody>\n",
       "    <tr>\n",
       "      <th>3</th>\n",
       "      <td>2025-02-26</td>\n",
       "      <td>INVH</td>\n",
       "      <td>0.23</td>\n",
       "      <td>0.47</td>\n",
       "      <td>amc</td>\n",
       "      <td>6.591300e+08</td>\n",
       "      <td>6.587053e+08</td>\n",
       "      <td>2025-04-26</td>\n",
       "      <td>2024-12-31</td>\n",
       "    </tr>\n",
       "    <tr>\n",
       "      <th>4</th>\n",
       "      <td>2024-10-30</td>\n",
       "      <td>INVH</td>\n",
       "      <td>0.15</td>\n",
       "      <td>0.17</td>\n",
       "      <td>amc</td>\n",
       "      <td>6.603220e+08</td>\n",
       "      <td>6.527300e+08</td>\n",
       "      <td>2024-10-31</td>\n",
       "      <td>2024-09-30</td>\n",
       "    </tr>\n",
       "    <tr>\n",
       "      <th>5</th>\n",
       "      <td>2024-07-24</td>\n",
       "      <td>INVH</td>\n",
       "      <td>0.12</td>\n",
       "      <td>0.18</td>\n",
       "      <td>amc</td>\n",
       "      <td>6.749160e+08</td>\n",
       "      <td>6.425800e+08</td>\n",
       "      <td>2025-04-25</td>\n",
       "      <td>2024-06-30</td>\n",
       "    </tr>\n",
       "    <tr>\n",
       "      <th>6</th>\n",
       "      <td>2024-04-30</td>\n",
       "      <td>INVH</td>\n",
       "      <td>0.23</td>\n",
       "      <td>0.46</td>\n",
       "      <td>amc</td>\n",
       "      <td>6.676030e+08</td>\n",
       "      <td>6.420400e+08</td>\n",
       "      <td>2025-04-25</td>\n",
       "      <td>2024-03-31</td>\n",
       "    </tr>\n",
       "    <tr>\n",
       "      <th>7</th>\n",
       "      <td>2024-02-13</td>\n",
       "      <td>INVH</td>\n",
       "      <td>0.21</td>\n",
       "      <td>0.45</td>\n",
       "      <td>amc</td>\n",
       "      <td>6.243210e+08</td>\n",
       "      <td>6.236400e+08</td>\n",
       "      <td>2025-04-25</td>\n",
       "      <td>2023-12-31</td>\n",
       "    </tr>\n",
       "    <tr>\n",
       "      <th>...</th>\n",
       "      <td>...</td>\n",
       "      <td>...</td>\n",
       "      <td>...</td>\n",
       "      <td>...</td>\n",
       "      <td>...</td>\n",
       "      <td>...</td>\n",
       "      <td>...</td>\n",
       "      <td>...</td>\n",
       "      <td>...</td>\n",
       "    </tr>\n",
       "    <tr>\n",
       "      <th>15498</th>\n",
       "      <td>2016-02-02</td>\n",
       "      <td>XOM</td>\n",
       "      <td>0.67</td>\n",
       "      <td>0.63</td>\n",
       "      <td>bmo</td>\n",
       "      <td>5.769100e+10</td>\n",
       "      <td>3.578494e+10</td>\n",
       "      <td>2025-04-24</td>\n",
       "      <td>2015-12-31</td>\n",
       "    </tr>\n",
       "    <tr>\n",
       "      <th>15499</th>\n",
       "      <td>2015-10-30</td>\n",
       "      <td>XOM</td>\n",
       "      <td>1.01</td>\n",
       "      <td>0.89</td>\n",
       "      <td>bmo</td>\n",
       "      <td>6.567900e+10</td>\n",
       "      <td>5.787555e+10</td>\n",
       "      <td>2025-04-24</td>\n",
       "      <td>2015-09-30</td>\n",
       "    </tr>\n",
       "    <tr>\n",
       "      <th>15500</th>\n",
       "      <td>2015-07-31</td>\n",
       "      <td>XOM</td>\n",
       "      <td>1.00</td>\n",
       "      <td>1.11</td>\n",
       "      <td>bmo</td>\n",
       "      <td>7.136000e+10</td>\n",
       "      <td>7.920960e+10</td>\n",
       "      <td>2025-04-24</td>\n",
       "      <td>2015-06-30</td>\n",
       "    </tr>\n",
       "    <tr>\n",
       "      <th>15501</th>\n",
       "      <td>2015-04-30</td>\n",
       "      <td>XOM</td>\n",
       "      <td>1.17</td>\n",
       "      <td>0.83</td>\n",
       "      <td>bmo</td>\n",
       "      <td>6.475800e+10</td>\n",
       "      <td>4.593944e+10</td>\n",
       "      <td>2025-04-24</td>\n",
       "      <td>2015-03-31</td>\n",
       "    </tr>\n",
       "    <tr>\n",
       "      <th>15502</th>\n",
       "      <td>2015-02-02</td>\n",
       "      <td>XOM</td>\n",
       "      <td>1.32</td>\n",
       "      <td>1.34</td>\n",
       "      <td>bmo</td>\n",
       "      <td>8.262100e+10</td>\n",
       "      <td>8.387283e+10</td>\n",
       "      <td>2025-04-24</td>\n",
       "      <td>2014-12-31</td>\n",
       "    </tr>\n",
       "  </tbody>\n",
       "</table>\n",
       "<p>14154 rows × 9 columns</p>\n",
       "</div>"
      ],
      "text/plain": [
       "             date symbol   eps  epsEstimated time       revenue  \\\n",
       "3      2025-02-26   INVH  0.23          0.47  amc  6.591300e+08   \n",
       "4      2024-10-30   INVH  0.15          0.17  amc  6.603220e+08   \n",
       "5      2024-07-24   INVH  0.12          0.18  amc  6.749160e+08   \n",
       "6      2024-04-30   INVH  0.23          0.46  amc  6.676030e+08   \n",
       "7      2024-02-13   INVH  0.21          0.45  amc  6.243210e+08   \n",
       "...           ...    ...   ...           ...  ...           ...   \n",
       "15498  2016-02-02    XOM  0.67          0.63  bmo  5.769100e+10   \n",
       "15499  2015-10-30    XOM  1.01          0.89  bmo  6.567900e+10   \n",
       "15500  2015-07-31    XOM  1.00          1.11  bmo  7.136000e+10   \n",
       "15501  2015-04-30    XOM  1.17          0.83  bmo  6.475800e+10   \n",
       "15502  2015-02-02    XOM  1.32          1.34  bmo  8.262100e+10   \n",
       "\n",
       "       revenueEstimated updatedFromDate fiscalDateEnding  \n",
       "3          6.587053e+08      2025-04-26       2024-12-31  \n",
       "4          6.527300e+08      2024-10-31       2024-09-30  \n",
       "5          6.425800e+08      2025-04-25       2024-06-30  \n",
       "6          6.420400e+08      2025-04-25       2024-03-31  \n",
       "7          6.236400e+08      2025-04-25       2023-12-31  \n",
       "...                 ...             ...              ...  \n",
       "15498      3.578494e+10      2025-04-24       2015-12-31  \n",
       "15499      5.787555e+10      2025-04-24       2015-09-30  \n",
       "15500      7.920960e+10      2025-04-24       2015-06-30  \n",
       "15501      4.593944e+10      2025-04-24       2015-03-31  \n",
       "15502      8.387283e+10      2025-04-24       2014-12-31  \n",
       "\n",
       "[14154 rows x 9 columns]"
      ]
     },
     "execution_count": 20,
     "metadata": {},
     "output_type": "execute_result"
    }
   ],
   "source": [
    "earnings = [api.get_earnings(ticker) for ticker in tqdm(snp_data[\"symbol\"])]\n",
    "earnings = [item for sublist in earnings for item in sublist]\n",
    "earnings_df = pd.DataFrame.from_records(earnings)\n",
    "earnings_df = earnings_df.dropna()\n",
    "earnings_df"
   ]
  },
  {
   "cell_type": "code",
   "execution_count": 21,
   "id": "b41dd2cbff41fbb1",
   "metadata": {
    "ExecuteTime": {
     "end_time": "2025-02-27T20:27:10.163787Z",
     "start_time": "2025-02-27T20:27:10.090043Z"
    }
   },
   "outputs": [],
   "source": [
    "# calculate yearly eps per company\n",
    "earnings_df[\"year\"] = pd.to_datetime(earnings_df[\"date\"]).dt.year\n",
    "earnings_df = earnings_df.groupby([\"symbol\", \"year\"]).agg({\"eps\": \"mean\"}).reset_index()"
   ]
  },
  {
   "cell_type": "code",
   "execution_count": 22,
   "id": "f1cdcf63708cfb8c",
   "metadata": {
    "ExecuteTime": {
     "end_time": "2025-02-27T20:27:11.795471Z",
     "start_time": "2025-02-27T20:27:10.253609Z"
    }
   },
   "outputs": [
    {
     "name": "stdout",
     "output_type": "stream",
     "text": [
      "308\n"
     ]
    }
   ],
   "source": [
    "# group by company and get all symbols which always have positive eps\n",
    "earnings_df[\"name\"] = earnings_df.apply(\n",
    "    lambda x: snp_data[snp_data[\"symbol\"] == x[\"symbol\"]][\"name\"].values[0], axis=1\n",
    ")\n",
    "third_criteria = (\n",
    "    earnings_df.groupby(\"symbol\").filter(lambda x: all(x[\"eps\"] > 0))[\"symbol\"].unique()\n",
    ")\n",
    "print(len(third_criteria))"
   ]
  },
  {
   "cell_type": "code",
   "execution_count": 23,
   "id": "a474a94c3a90168b",
   "metadata": {
    "ExecuteTime": {
     "end_time": "2025-02-27T20:27:12.770824Z",
     "start_time": "2025-02-27T20:27:11.903004Z"
    }
   },
   "outputs": [
    {
     "data": {
      "application/vnd.plotly.v1+json": {
       "config": {
        "plotlyServerURL": "https://plot.ly"
       },
       "data": [
        {
         "hovertemplate": "name=Agilent Technologies<br>year=%{x}<br>eps=%{y}<extra></extra>",
         "legendgroup": "Agilent Technologies",
         "line": {
          "color": "#636efa",
          "dash": "solid"
         },
         "marker": {
          "symbol": "circle"
         },
         "mode": "lines",
         "name": "Agilent Technologies",
         "showlegend": true,
         "type": "scattergl",
         "x": [
          2014,
          2015,
          2016,
          2017,
          2018,
          2019,
          2020,
          2021,
          2022,
          2023,
          2024,
          2025
         ],
         "xaxis": "x",
         "y": [
          0.88,
          0.4325,
          0.495,
          0.5925,
          0.6975,
          0.78,
          0.8200000000000001,
          1.085,
          1.3025,
          1.3625,
          1.3225,
          1.31
         ],
         "yaxis": "y"
        },
        {
         "hovertemplate": "name=AbbVie<br>year=%{x}<br>eps=%{y}<extra></extra>",
         "legendgroup": "AbbVie",
         "line": {
          "color": "#EF553B",
          "dash": "solid"
         },
         "marker": {
          "symbol": "circle"
         },
         "mode": "lines",
         "name": "AbbVie",
         "showlegend": true,
         "type": "scattergl",
         "x": [
          2015,
          2016,
          2017,
          2018,
          2019,
          2020,
          2021,
          2022,
          2023,
          2024,
          2025
         ],
         "xaxis": "x",
         "y": [
          1.01,
          1.1875,
          1.3275,
          1.8725,
          2.1574999999999998,
          2.45,
          3.0775,
          3.395,
          2.98,
          2.6875,
          2.31
         ],
         "yaxis": "y"
        },
        {
         "hovertemplate": "name=Abbott Laboratories<br>year=%{x}<br>eps=%{y}<extra></extra>",
         "legendgroup": "Abbott Laboratories",
         "line": {
          "color": "#00cc96",
          "dash": "solid"
         },
         "marker": {
          "symbol": "circle"
         },
         "mode": "lines",
         "name": "Abbott Laboratories",
         "showlegend": true,
         "type": "scattergl",
         "x": [
          2015,
          2016,
          2017,
          2018,
          2019,
          2020,
          2021,
          2022,
          2023,
          2024,
          2025
         ],
         "xaxis": "x",
         "y": [
          0.56,
          0.5425,
          0.6025,
          0.7025,
          0.775,
          0.7875,
          1.335,
          1.4075,
          1.07,
          1.13,
          1.215
         ],
         "yaxis": "y"
        },
        {
         "hovertemplate": "name=Accenture<br>year=%{x}<br>eps=%{y}<extra></extra>",
         "legendgroup": "Accenture",
         "line": {
          "color": "#ab63fa",
          "dash": "solid"
         },
         "marker": {
          "symbol": "circle"
         },
         "mode": "lines",
         "name": "Accenture",
         "showlegend": true,
         "type": "scattergl",
         "x": [
          2014,
          2015,
          2016,
          2017,
          2018,
          2019,
          2020,
          2021,
          2022,
          2023,
          2024,
          2025
         ],
         "xaxis": "x",
         "y": [
          1.29,
          1.22,
          1.4100000000000001,
          1.53,
          1.7275,
          1.8725,
          1.9575,
          2.3525,
          2.79,
          2.965,
          3.07,
          2.82
         ],
         "yaxis": "y"
        },
        {
         "hovertemplate": "name=Analog Devices<br>year=%{x}<br>eps=%{y}<extra></extra>",
         "legendgroup": "Analog Devices",
         "line": {
          "color": "#FFA15A",
          "dash": "solid"
         },
         "marker": {
          "symbol": "circle"
         },
         "mode": "lines",
         "name": "Analog Devices",
         "showlegend": true,
         "type": "scattergl",
         "x": [
          2014,
          2015,
          2016,
          2017,
          2018,
          2019,
          2020,
          2021,
          2022,
          2023,
          2024,
          2025
         ],
         "xaxis": "x",
         "y": [
          0.69,
          0.79,
          0.7675000000000001,
          1.17,
          1.4875,
          1.2850000000000001,
          1.2275,
          1.6075,
          2.3975,
          2.52,
          1.595,
          1.63
         ],
         "yaxis": "y"
        },
        {
         "hovertemplate": "name=Archer Daniels Midland<br>year=%{x}<br>eps=%{y}<extra></extra>",
         "legendgroup": "Archer Daniels Midland",
         "line": {
          "color": "#19d3f3",
          "dash": "solid"
         },
         "marker": {
          "symbol": "circle"
         },
         "mode": "lines",
         "name": "Archer Daniels Midland",
         "showlegend": true,
         "type": "scattergl",
         "x": [
          2015,
          2016,
          2017,
          2018,
          2019,
          2020,
          2021,
          2022,
          2023,
          2024,
          2025
         ],
         "xaxis": "x",
         "y": [
          0.7424999999999999,
          0.5075,
          0.5925,
          0.86,
          0.6775,
          0.95,
          1.225,
          1.8525,
          1.8849999999999998,
          1.235,
          1.14
         ],
         "yaxis": "y"
        },
        {
         "hovertemplate": "name=American Electric Power<br>year=%{x}<br>eps=%{y}<extra></extra>",
         "legendgroup": "American Electric Power",
         "line": {
          "color": "#FF6692",
          "dash": "solid"
         },
         "marker": {
          "symbol": "circle"
         },
         "mode": "lines",
         "name": "American Electric Power",
         "showlegend": true,
         "type": "scattergl",
         "x": [
          2015,
          2016,
          2017,
          2018,
          2019,
          2020,
          2021,
          2022,
          2023,
          2024,
          2025
         ],
         "xaxis": "x",
         "y": [
          0.925,
          0.9375,
          0.87,
          1.02,
          1.0925,
          1.0425,
          1.1575,
          1.255,
          1.2650000000000001,
          1.4,
          1.24
         ],
         "yaxis": "y"
        },
        {
         "hovertemplate": "name=AES Corporation<br>year=%{x}<br>eps=%{y}<extra></extra>",
         "legendgroup": "AES Corporation",
         "line": {
          "color": "#B6E880",
          "dash": "solid"
         },
         "marker": {
          "symbol": "circle"
         },
         "mode": "lines",
         "name": "AES Corporation",
         "showlegend": true,
         "type": "scattergl",
         "x": [
          2015,
          2016,
          2017,
          2018,
          2019,
          2020,
          2021,
          2022,
          2023,
          2024,
          2025
         ],
         "xaxis": "x",
         "y": [
          0.325,
          0.24000000000000002,
          0.2525,
          0.3275,
          0.345,
          0.3275,
          0.3925,
          0.4075,
          0.38,
          0.58,
          0.54
         ],
         "yaxis": "y"
        },
        {
         "hovertemplate": "name=Aflac<br>year=%{x}<br>eps=%{y}<extra></extra>",
         "legendgroup": "Aflac",
         "line": {
          "color": "#FF97FF",
          "dash": "solid"
         },
         "marker": {
          "symbol": "circle"
         },
         "mode": "lines",
         "name": "Aflac",
         "showlegend": true,
         "type": "scattergl",
         "x": [
          2015,
          2016,
          2017,
          2018,
          2019,
          2020,
          2021,
          2022,
          2023,
          2024,
          2025
         ],
         "xaxis": "x",
         "y": [
          0.7375,
          0.855,
          0.835,
          0.9775,
          1.1075,
          1.2275,
          1.4300000000000002,
          1.3475,
          1.565,
          1.725,
          1.56
         ],
         "yaxis": "y"
        },
        {
         "hovertemplate": "name=Assurant<br>year=%{x}<br>eps=%{y}<extra></extra>",
         "legendgroup": "Assurant",
         "line": {
          "color": "#FECB52",
          "dash": "solid"
         },
         "marker": {
          "symbol": "circle"
         },
         "mode": "lines",
         "name": "Assurant",
         "showlegend": true,
         "type": "scattergl",
         "x": [
          2015,
          2016,
          2017,
          2018,
          2019,
          2020,
          2021,
          2022,
          2023,
          2024,
          2025
         ],
         "xaxis": "x",
         "y": [
          1.3199999999999998,
          1.2275,
          0.64,
          1.7525,
          1.7525,
          2.2625,
          2.3125,
          2.545,
          3.54,
          4.11,
          4.79
         ],
         "yaxis": "y"
        },
        {
         "hovertemplate": "name=Arthur J. Gallagher & Co.<br>year=%{x}<br>eps=%{y}<extra></extra>",
         "legendgroup": "Arthur J. Gallagher & Co.",
         "line": {
          "color": "#636efa",
          "dash": "solid"
         },
         "marker": {
          "symbol": "circle"
         },
         "mode": "lines",
         "name": "Arthur J. Gallagher & Co.",
         "showlegend": true,
         "type": "scattergl",
         "x": [
          2015,
          2016,
          2017,
          2018,
          2019,
          2020,
          2021,
          2022,
          2023,
          2024,
          2025
         ],
         "xaxis": "x",
         "y": [
          0.635,
          0.665,
          0.7250000000000001,
          0.9349999999999999,
          0.9025000000000001,
          1.1075,
          1.35,
          1.8025,
          2.1174999999999997,
          2.465,
          2.13
         ],
         "yaxis": "y"
        },
        {
         "hovertemplate": "name=Akamai Technologies<br>year=%{x}<br>eps=%{y}<extra></extra>",
         "legendgroup": "Akamai Technologies",
         "line": {
          "color": "#EF553B",
          "dash": "solid"
         },
         "marker": {
          "symbol": "circle"
         },
         "mode": "lines",
         "name": "Akamai Technologies",
         "showlegend": true,
         "type": "scattergl",
         "x": [
          2015,
          2016,
          2017,
          2018,
          2019,
          2020,
          2021,
          2022,
          2023,
          2024,
          2025
         ],
         "xaxis": "x",
         "y": [
          0.6125,
          0.675,
          0.6625,
          0.8125,
          1.085,
          1.28,
          1.395,
          1.3725,
          1.4725,
          1.625,
          1.66
         ],
         "yaxis": "y"
        },
        {
         "hovertemplate": "name=Align Technology<br>year=%{x}<br>eps=%{y}<extra></extra>",
         "legendgroup": "Align Technology",
         "line": {
          "color": "#00cc96",
          "dash": "solid"
         },
         "marker": {
          "symbol": "circle"
         },
         "mode": "lines",
         "name": "Align Technology",
         "showlegend": true,
         "type": "scattergl",
         "x": [
          2015,
          2016,
          2017,
          2018,
          2019,
          2020,
          2021,
          2022,
          2023,
          2024,
          2025
         ],
         "xaxis": "x",
         "y": [
          0.3975,
          0.59,
          0.845,
          1.225,
          1.175,
          1.04,
          2.7525,
          2.08,
          1.9775,
          2.33,
          2.44
         ],
         "yaxis": "y"
        },
        {
         "hovertemplate": "name=Allegion<br>year=%{x}<br>eps=%{y}<extra></extra>",
         "legendgroup": "Allegion",
         "line": {
          "color": "#ab63fa",
          "dash": "solid"
         },
         "marker": {
          "symbol": "circle"
         },
         "mode": "lines",
         "name": "Allegion",
         "showlegend": true,
         "type": "scattergl",
         "x": [
          2015,
          2016,
          2017,
          2018,
          2019,
          2020,
          2021,
          2022,
          2023,
          2024,
          2025
         ],
         "xaxis": "x",
         "y": [
          0.725,
          0.855,
          0.9175,
          1.0975000000000001,
          1.2075,
          1.2275,
          1.3925,
          1.2975,
          1.72,
          1.8375,
          1.86
         ],
         "yaxis": "y"
        },
        {
         "hovertemplate": "name=Amcor<br>year=%{x}<br>eps=%{y}<extra></extra>",
         "legendgroup": "Amcor",
         "line": {
          "color": "#FFA15A",
          "dash": "solid"
         },
         "marker": {
          "symbol": "circle"
         },
         "mode": "lines",
         "name": "Amcor",
         "showlegend": true,
         "type": "scattergl",
         "x": [
          2019,
          2020,
          2021,
          2022,
          2023,
          2024,
          2025
         ],
         "xaxis": "x",
         "y": [
          0.13,
          0.1675,
          0.1925,
          0.2,
          0.18,
          0.1775,
          0.16
         ],
         "yaxis": "y"
        },
        {
         "hovertemplate": "name=Ametek<br>year=%{x}<br>eps=%{y}<extra></extra>",
         "legendgroup": "Ametek",
         "line": {
          "color": "#19d3f3",
          "dash": "solid"
         },
         "marker": {
          "symbol": "circle"
         },
         "mode": "lines",
         "name": "Ametek",
         "showlegend": true,
         "type": "scattergl",
         "x": [
          2015,
          2016,
          2017,
          2018,
          2019,
          2020,
          2021,
          2022,
          2023,
          2024,
          2025
         ],
         "xaxis": "x",
         "y": [
          0.6375,
          0.5875,
          0.6225,
          0.7849999999999999,
          0.9925,
          0.9875,
          1.1400000000000001,
          1.3825,
          1.555,
          1.66,
          1.87
         ],
         "yaxis": "y"
        },
        {
         "hovertemplate": "name=Ameriprise Financial<br>year=%{x}<br>eps=%{y}<extra></extra>",
         "legendgroup": "Ameriprise Financial",
         "line": {
          "color": "#FF6692",
          "dash": "solid"
         },
         "marker": {
          "symbol": "circle"
         },
         "mode": "lines",
         "name": "Ameriprise Financial",
         "showlegend": true,
         "type": "scattergl",
         "x": [
          2015,
          2016,
          2017,
          2018,
          2019,
          2020,
          2021,
          2022,
          2023,
          2024,
          2025
         ],
         "xaxis": "x",
         "y": [
          2.29,
          2.29,
          2.94,
          3.6525,
          3.9625,
          3.43,
          5.285,
          6.0925,
          7.1475,
          8.4225,
          9.43
         ],
         "yaxis": "y"
        },
        {
         "hovertemplate": "name=American Tower<br>year=%{x}<br>eps=%{y}<extra></extra>",
         "legendgroup": "American Tower",
         "line": {
          "color": "#B6E880",
          "dash": "solid"
         },
         "marker": {
          "symbol": "circle"
         },
         "mode": "lines",
         "name": "American Tower",
         "showlegend": true,
         "type": "scattergl",
         "x": [
          2015,
          2016,
          2017,
          2018,
          2019,
          2020,
          2021,
          2022,
          2023,
          2024,
          2025
         ],
         "xaxis": "x",
         "y": [
          0.86,
          1.3875,
          1.615,
          1.7675,
          2.0625,
          2.0925,
          2.36,
          2.12,
          2.48,
          2.42,
          2.32
         ],
         "yaxis": "y"
        },
        {
         "hovertemplate": "name=Amazon<br>year=%{x}<br>eps=%{y}<extra></extra>",
         "legendgroup": "Amazon",
         "line": {
          "color": "#FF97FF",
          "dash": "solid"
         },
         "marker": {
          "symbol": "circle"
         },
         "mode": "lines",
         "name": "Amazon",
         "showlegend": true,
         "type": "scattergl",
         "x": [
          2015,
          2016,
          2017,
          2018,
          2019,
          2020,
          2021,
          2022,
          2023,
          2024,
          2025
         ],
         "xaxis": "x",
         "y": [
          0.0075,
          0.055,
          0.05,
          0.20249999999999999,
          0.27999999999999997,
          0.4275,
          0.64,
          0.475,
          0.5275,
          1.1675,
          1.86
         ],
         "yaxis": "y"
        },
        {
         "hovertemplate": "name=Arista Networks<br>year=%{x}<br>eps=%{y}<extra></extra>",
         "legendgroup": "Arista Networks",
         "line": {
          "color": "#FECB52",
          "dash": "solid"
         },
         "marker": {
          "symbol": "circle"
         },
         "mode": "lines",
         "name": "Arista Networks",
         "showlegend": true,
         "type": "scattergl",
         "x": [
          2015,
          2016,
          2017,
          2018,
          2019,
          2020,
          2021,
          2022,
          2023,
          2024,
          2025
         ],
         "xaxis": "x",
         "y": [
          0.1375,
          0.1925,
          0.31,
          0.46499999999999997,
          0.605,
          0.5549999999999999,
          0.6675,
          0.9975,
          1.5625,
          2.1425,
          0.65
         ],
         "yaxis": "y"
        },
        {
         "hovertemplate": "name=Ansys<br>year=%{x}<br>eps=%{y}<extra></extra>",
         "legendgroup": "Ansys",
         "line": {
          "color": "#636efa",
          "dash": "solid"
         },
         "marker": {
          "symbol": "circle"
         },
         "mode": "lines",
         "name": "Ansys",
         "showlegend": true,
         "type": "scattergl",
         "x": [
          2015,
          2016,
          2017,
          2018,
          2019,
          2020,
          2021,
          2022,
          2023,
          2024,
          2025
         ],
         "xaxis": "x",
         "y": [
          0.86,
          0.89,
          0.9775,
          1.2325,
          1.6125,
          1.495,
          1.8800000000000001,
          1.9275,
          1.9875,
          2.6025,
          4.44
         ],
         "yaxis": "y"
        },
        {
         "hovertemplate": "name=A. O. Smith<br>year=%{x}<br>eps=%{y}<extra></extra>",
         "legendgroup": "A. O. Smith",
         "line": {
          "color": "#EF553B",
          "dash": "solid"
         },
         "marker": {
          "symbol": "circle"
         },
         "mode": "lines",
         "name": "A. O. Smith",
         "showlegend": true,
         "type": "scattergl",
         "x": [
          2014,
          2015,
          2016,
          2017,
          2018,
          2019,
          2020,
          2021,
          2022,
          2023,
          2024,
          2025
         ],
         "xaxis": "x",
         "y": [
          0.3,
          0.365,
          0.4575,
          0.51,
          0.6174999999999999,
          0.6025,
          0.49750000000000005,
          0.715,
          0.7875,
          0.9275,
          0.9624999999999999,
          0.85
         ],
         "yaxis": "y"
        },
        {
         "hovertemplate": "name=Amphenol<br>year=%{x}<br>eps=%{y}<extra></extra>",
         "legendgroup": "Amphenol",
         "line": {
          "color": "#00cc96",
          "dash": "solid"
         },
         "marker": {
          "symbol": "circle"
         },
         "mode": "lines",
         "name": "Amphenol",
         "showlegend": true,
         "type": "scattergl",
         "x": [
          2015,
          2016,
          2017,
          2018,
          2019,
          2020,
          2021,
          2022,
          2023,
          2024,
          2025
         ],
         "xaxis": "x",
         "y": [
          0.1525,
          0.1625,
          0.1975,
          0.2275,
          0.2375,
          0.225,
          0.29500000000000004,
          0.3675,
          0.3725,
          0.4375,
          0.5900000000000001
         ],
         "yaxis": "y"
        },
        {
         "hovertemplate": "name=Aptiv<br>year=%{x}<br>eps=%{y}<extra></extra>",
         "legendgroup": "Aptiv",
         "line": {
          "color": "#ab63fa",
          "dash": "solid"
         },
         "marker": {
          "symbol": "circle"
         },
         "mode": "lines",
         "name": "Aptiv",
         "showlegend": true,
         "type": "scattergl",
         "x": [
          2014,
          2015,
          2016,
          2017,
          2018,
          2019,
          2020,
          2021,
          2022,
          2023,
          2024,
          2025
         ],
         "xaxis": "x",
         "y": [
          1.29,
          1.2875,
          1.46,
          1.6975,
          1.3025,
          1.2475,
          0.46499999999999997,
          0.7925,
          0.6725,
          1.1825,
          1.4925,
          1.75
         ],
         "yaxis": "y"
        },
        {
         "hovertemplate": "name=Alexandria Real Estate Equities<br>year=%{x}<br>eps=%{y}<extra></extra>",
         "legendgroup": "Alexandria Real Estate Equities",
         "line": {
          "color": "#FFA15A",
          "dash": "solid"
         },
         "marker": {
          "symbol": "circle"
         },
         "mode": "lines",
         "name": "Alexandria Real Estate Equities",
         "showlegend": true,
         "type": "scattergl",
         "x": [
          2015,
          2016,
          2017,
          2018,
          2019,
          2020,
          2021,
          2022,
          2023,
          2024,
          2025
         ],
         "xaxis": "x",
         "y": [
          1.2875,
          1.355,
          1.4775,
          1.62,
          1.7175,
          1.8025,
          1.9075,
          1.95,
          2.2075,
          2.34,
          2.39
         ],
         "yaxis": "y"
        },
        {
         "hovertemplate": "name=Atmos Energy<br>year=%{x}<br>eps=%{y}<extra></extra>",
         "legendgroup": "Atmos Energy",
         "line": {
          "color": "#19d3f3",
          "dash": "solid"
         },
         "marker": {
          "symbol": "circle"
         },
         "mode": "lines",
         "name": "Atmos Energy",
         "showlegend": true,
         "type": "scattergl",
         "x": [
          2015,
          2016,
          2017,
          2018,
          2019,
          2020,
          2021,
          2022,
          2023,
          2024,
          2025
         ],
         "xaxis": "x",
         "y": [
          0.775,
          0.8475,
          0.9025000000000001,
          1.005,
          1.0925,
          1.185,
          1.29,
          1.415,
          1.5325,
          1.7175,
          2.23
         ],
         "yaxis": "y"
        },
        {
         "hovertemplate": "name=AvalonBay Communities<br>year=%{x}<br>eps=%{y}<extra></extra>",
         "legendgroup": "AvalonBay Communities",
         "line": {
          "color": "#FF6692",
          "dash": "solid"
         },
         "marker": {
          "symbol": "circle"
         },
         "mode": "lines",
         "name": "AvalonBay Communities",
         "showlegend": true,
         "type": "scattergl",
         "x": [
          2015,
          2016,
          2017,
          2018,
          2019,
          2020,
          2021,
          2022,
          2023,
          2024,
          2025
         ],
         "xaxis": "x",
         "y": [
          1.7575,
          1.9375,
          1.8224999999999998,
          2.005,
          2.34,
          2.2775,
          2.1075,
          2.3975,
          2.62,
          2.7375000000000003,
          2.8
         ],
         "yaxis": "y"
        },
        {
         "hovertemplate": "name=Broadcom<br>year=%{x}<br>eps=%{y}<extra></extra>",
         "legendgroup": "Broadcom",
         "line": {
          "color": "#B6E880",
          "dash": "solid"
         },
         "marker": {
          "symbol": "circle"
         },
         "mode": "lines",
         "name": "Broadcom",
         "showlegend": true,
         "type": "scattergl",
         "x": [
          2014,
          2015,
          2016,
          2017,
          2018,
          2019,
          2020,
          2021,
          2022,
          2023,
          2024,
          2025
         ],
         "xaxis": "x",
         "y": [
          0.2,
          0.2225,
          0.2825,
          0.4,
          0.5225,
          0.535,
          0.555,
          0.7,
          0.9425,
          1.0550000000000002,
          1.215,
          1.6
         ],
         "yaxis": "y"
        },
        {
         "hovertemplate": "name=American Water Works<br>year=%{x}<br>eps=%{y}<extra></extra>",
         "legendgroup": "American Water Works",
         "line": {
          "color": "#FF97FF",
          "dash": "solid"
         },
         "marker": {
          "symbol": "circle"
         },
         "mode": "lines",
         "name": "American Water Works",
         "showlegend": true,
         "type": "scattergl",
         "x": [
          2015,
          2016,
          2017,
          2018,
          2019,
          2020,
          2021,
          2022,
          2023,
          2024,
          2025
         ],
         "xaxis": "x",
         "y": [
          0.65,
          0.7075,
          0.73,
          0.8274999999999999,
          0.8925,
          0.9575,
          1.05,
          1.1375,
          1.2025,
          1.255,
          1.22
         ],
         "yaxis": "y"
        },
        {
         "hovertemplate": "name=Best Buy<br>year=%{x}<br>eps=%{y}<extra></extra>",
         "legendgroup": "Best Buy",
         "line": {
          "color": "#FECB52",
          "dash": "solid"
         },
         "marker": {
          "symbol": "circle"
         },
         "mode": "lines",
         "name": "Best Buy",
         "showlegend": true,
         "type": "scattergl",
         "x": [
          2014,
          2015,
          2016,
          2017,
          2018,
          2019,
          2020,
          2021,
          2022,
          2023,
          2024,
          2025
         ],
         "xaxis": "x",
         "y": [
          0.32,
          0.6875,
          0.79,
          0.9974999999999999,
          1.27,
          1.4875,
          1.835,
          2.6925,
          1.805,
          1.5675,
          1.6300000000000001,
          2.58
         ],
         "yaxis": "y"
        },
        {
         "hovertemplate": "name=Biogen<br>year=%{x}<br>eps=%{y}<extra></extra>",
         "legendgroup": "Biogen",
         "line": {
          "color": "#636efa",
          "dash": "solid"
         },
         "marker": {
          "symbol": "circle"
         },
         "mode": "lines",
         "name": "Biogen",
         "showlegend": true,
         "type": "scattergl",
         "x": [
          2015,
          2016,
          2017,
          2018,
          2019,
          2020,
          2021,
          2022,
          2023,
          2024,
          2025
         ],
         "xaxis": "x",
         "y": [
          4.1525,
          4.9225,
          5.3975,
          6.1274999999999995,
          8.0725,
          9.145,
          5.092499999999999,
          4.2575,
          3.9575,
          3.995,
          3.44
         ],
         "yaxis": "y"
        },
        {
         "hovertemplate": "name=Booking Holdings<br>year=%{x}<br>eps=%{y}<extra></extra>",
         "legendgroup": "Booking Holdings",
         "line": {
          "color": "#EF553B",
          "dash": "solid"
         },
         "marker": {
          "symbol": "circle"
         },
         "mode": "lines",
         "name": "Booking Holdings",
         "showlegend": true,
         "type": "scattergl",
         "x": [
          2015,
          2016,
          2017,
          2018,
          2019,
          2020,
          2021,
          2022,
          2023,
          2024,
          2025
         ],
         "xaxis": "x",
         "y": [
          14.192499999999999,
          17.07,
          18.6125,
          21.8275,
          25.6525,
          7.1325,
          7.330000000000001,
          22.96,
          36.56999999999999,
          44.545,
          41.55
         ],
         "yaxis": "y"
        },
        {
         "hovertemplate": "name=BlackRock<br>year=%{x}<br>eps=%{y}<extra></extra>",
         "legendgroup": "BlackRock",
         "line": {
          "color": "#00cc96",
          "dash": "solid"
         },
         "marker": {
          "symbol": "circle"
         },
         "mode": "lines",
         "name": "BlackRock",
         "showlegend": true,
         "type": "scattergl",
         "x": [
          2014,
          2015,
          2016,
          2017,
          2018,
          2019,
          2020,
          2021,
          2022,
          2023,
          2024,
          2025
         ],
         "xaxis": "x",
         "y": [
          5.21,
          4.9175,
          4.73,
          5.265,
          6.78,
          6.5625,
          8.0025,
          9.7325,
          9.2125,
          9.2625,
          10.3225,
          11.615
         ],
         "yaxis": "y"
        },
        {
         "hovertemplate": "name=Bristol Myers Squibb<br>year=%{x}<br>eps=%{y}<extra></extra>",
         "legendgroup": "Bristol Myers Squibb",
         "line": {
          "color": "#ab63fa",
          "dash": "solid"
         },
         "marker": {
          "symbol": "circle"
         },
         "mode": "lines",
         "name": "Bristol Myers Squibb",
         "showlegend": true,
         "type": "scattergl",
         "x": [
          2015,
          2016,
          2017,
          2018,
          2019,
          2020,
          2021,
          2022,
          2023,
          2024,
          2025
         ],
         "xaxis": "x",
         "y": [
          0.5225,
          0.645,
          0.74,
          0.93,
          1.0975,
          1.5499999999999998,
          1.7825,
          1.9275,
          1.905,
          0.2924999999999999,
          1.7349999999999999
         ],
         "yaxis": "y"
        },
        {
         "hovertemplate": "name=Broadridge Financial Solutions<br>year=%{x}<br>eps=%{y}<extra></extra>",
         "legendgroup": "Broadridge Financial Solutions",
         "line": {
          "color": "#FFA15A",
          "dash": "solid"
         },
         "marker": {
          "symbol": "circle"
         },
         "mode": "lines",
         "name": "Broadridge Financial Solutions",
         "showlegend": true,
         "type": "scattergl",
         "x": [
          2015,
          2016,
          2017,
          2018,
          2019,
          2020,
          2021,
          2022,
          2023,
          2024,
          2025
         ],
         "xaxis": "x",
         "y": [
          0.63,
          0.6924999999999999,
          0.8325,
          1.11,
          1.1375000000000002,
          1.3325,
          1.4375,
          1.5625,
          1.815,
          1.9125,
          1.56
         ],
         "yaxis": "y"
        },
        {
         "hovertemplate": "name=Berkshire Hathaway<br>year=%{x}<br>eps=%{y}<extra></extra>",
         "legendgroup": "Berkshire Hathaway",
         "line": {
          "color": "#19d3f3",
          "dash": "solid"
         },
         "marker": {
          "symbol": "circle"
         },
         "mode": "lines",
         "name": "Berkshire Hathaway",
         "showlegend": true,
         "type": "scattergl",
         "x": [
          2015,
          2016,
          2017,
          2018,
          2019,
          2020,
          2021,
          2022,
          2023,
          2024,
          2025
         ],
         "xaxis": "x",
         "y": [
          1.7166666666666668,
          1.815,
          1.5725,
          2.2675,
          2.5374999999999996,
          2.2,
          2.75,
          3.5475,
          4.0825,
          4.795,
          6.73
         ],
         "yaxis": "y"
        },
        {
         "hovertemplate": "name=Brown & Brown<br>year=%{x}<br>eps=%{y}<extra></extra>",
         "legendgroup": "Brown & Brown",
         "line": {
          "color": "#FF6692",
          "dash": "solid"
         },
         "marker": {
          "symbol": "circle"
         },
         "mode": "lines",
         "name": "Brown & Brown",
         "showlegend": true,
         "type": "scattergl",
         "x": [
          2015,
          2016,
          2017,
          2018,
          2019,
          2020,
          2021,
          2022,
          2023,
          2024,
          2025
         ],
         "xaxis": "x",
         "y": [
          0.185,
          0.22999999999999998,
          0.235,
          0.3025,
          0.345,
          0.41250000000000003,
          0.5225,
          0.5525,
          0.6825,
          0.89,
          0.86
         ],
         "yaxis": "y"
        },
        {
         "hovertemplate": "name=BXP, Inc.<br>year=%{x}<br>eps=%{y}<extra></extra>",
         "legendgroup": "BXP, Inc.",
         "line": {
          "color": "#B6E880",
          "dash": "solid"
         },
         "marker": {
          "symbol": "circle"
         },
         "mode": "lines",
         "name": "BXP, Inc.",
         "showlegend": true,
         "type": "scattergl",
         "x": [
          2015,
          2016,
          2017,
          2018,
          2019,
          2020,
          2021,
          2022,
          2023,
          2024,
          2025
         ],
         "xaxis": "x",
         "y": [
          1.28,
          1.2325,
          1.565,
          1.4625,
          1.6825,
          1.745,
          1.595,
          1.8075,
          1.8275000000000001,
          1.7825,
          1.79
         ],
         "yaxis": "y"
        },
        {
         "hovertemplate": "name=Carrier Global<br>year=%{x}<br>eps=%{y}<extra></extra>",
         "legendgroup": "Carrier Global",
         "line": {
          "color": "#FF97FF",
          "dash": "solid"
         },
         "marker": {
          "symbol": "circle"
         },
         "mode": "lines",
         "name": "Carrier Global",
         "showlegend": true,
         "type": "scattergl",
         "x": [
          2020,
          2021,
          2022,
          2023,
          2024,
          2025
         ],
         "xaxis": "x",
         "y": [
          0.45,
          0.535,
          0.5925,
          0.65,
          0.7125,
          0.54
         ],
         "yaxis": "y"
        },
        {
         "hovertemplate": "name=Caterpillar Inc.<br>year=%{x}<br>eps=%{y}<extra></extra>",
         "legendgroup": "Caterpillar Inc.",
         "line": {
          "color": "#FECB52",
          "dash": "solid"
         },
         "marker": {
          "symbol": "circle"
         },
         "mode": "lines",
         "name": "Caterpillar Inc.",
         "showlegend": true,
         "type": "scattergl",
         "x": [
          2015,
          2016,
          2017,
          2018,
          2019,
          2020,
          2021,
          2022,
          2023,
          2024,
          2025
         ],
         "xaxis": "x",
         "y": [
          1.2725,
          0.8375,
          1.3875,
          2.7025,
          2.745,
          1.65,
          2.5625,
          3.175,
          4.96,
          5.4975000000000005,
          5.14
         ],
         "yaxis": "y"
        },
        {
         "hovertemplate": "name=Chubb Limited<br>year=%{x}<br>eps=%{y}<extra></extra>",
         "legendgroup": "Chubb Limited",
         "line": {
          "color": "#636efa",
          "dash": "solid"
         },
         "marker": {
          "symbol": "circle"
         },
         "mode": "lines",
         "name": "Chubb Limited",
         "showlegend": true,
         "type": "scattergl",
         "x": [
          2015,
          2016,
          2017,
          2018,
          2019,
          2020,
          2021,
          2022,
          2023,
          2024,
          2025
         ],
         "xaxis": "x",
         "y": [
          2.465,
          2.4425,
          1.8525,
          2.65,
          2.465,
          1.6,
          2.99,
          3.75,
          4.5825,
          6.202500000000001,
          4.85
         ],
         "yaxis": "y"
        },
        {
         "hovertemplate": "name=Cboe Global Markets<br>year=%{x}<br>eps=%{y}<extra></extra>",
         "legendgroup": "Cboe Global Markets",
         "line": {
          "color": "#EF553B",
          "dash": "solid"
         },
         "marker": {
          "symbol": "circle"
         },
         "mode": "lines",
         "name": "Cboe Global Markets",
         "showlegend": true,
         "type": "scattergl",
         "x": [
          2015,
          2016,
          2017,
          2018,
          2019,
          2020,
          2021,
          2022,
          2023,
          2024,
          2025
         ],
         "xaxis": "x",
         "y": [
          0.61,
          0.595,
          0.7925,
          1.09,
          1.2675,
          1.32,
          1.3925,
          1.71,
          1.885,
          2.145,
          2.1
         ],
         "yaxis": "y"
        },
        {
         "hovertemplate": "name=CBRE Group<br>year=%{x}<br>eps=%{y}<extra></extra>",
         "legendgroup": "CBRE Group",
         "line": {
          "color": "#00cc96",
          "dash": "solid"
         },
         "marker": {
          "symbol": "circle"
         },
         "mode": "lines",
         "name": "CBRE Group",
         "showlegend": true,
         "type": "scattergl",
         "x": [
          2015,
          2016,
          2017,
          2018,
          2019,
          2020,
          2021,
          2022,
          2023,
          2024,
          2025
         ],
         "xaxis": "x",
         "y": [
          0.48,
          0.5475,
          0.6625000000000001,
          0.765,
          0.9,
          0.7875,
          1.2650000000000001,
          1.5375,
          0.9475,
          1.0425,
          1.5899999999999999
         ],
         "yaxis": "y"
        },
        {
         "hovertemplate": "name=Crown Castle<br>year=%{x}<br>eps=%{y}<extra></extra>",
         "legendgroup": "Crown Castle",
         "line": {
          "color": "#ab63fa",
          "dash": "solid"
         },
         "marker": {
          "symbol": "circle"
         },
         "mode": "lines",
         "name": "Crown Castle",
         "showlegend": true,
         "type": "scattergl",
         "x": [
          2015,
          2016,
          2017,
          2018,
          2019,
          2020,
          2021,
          2022,
          2023,
          2024,
          2025
         ],
         "xaxis": "x",
         "y": [
          1.0725,
          1.135,
          1.185,
          1.3275000000000001,
          1.475,
          1.4525,
          1.88,
          1.8225,
          1.895,
          1.75,
          1.8
         ],
         "yaxis": "y"
        },
        {
         "hovertemplate": "name=Cadence Design Systems<br>year=%{x}<br>eps=%{y}<extra></extra>",
         "legendgroup": "Cadence Design Systems",
         "line": {
          "color": "#FFA15A",
          "dash": "solid"
         },
         "marker": {
          "symbol": "circle"
         },
         "mode": "lines",
         "name": "Cadence Design Systems",
         "showlegend": true,
         "type": "scattergl",
         "x": [
          2015,
          2016,
          2017,
          2018,
          2019,
          2020,
          2021,
          2022,
          2023,
          2024,
          2025
         ],
         "xaxis": "x",
         "y": [
          0.2625,
          0.295,
          0.3375,
          0.4325,
          0.5425,
          0.625,
          0.8300000000000001,
          1.0325,
          1.1825,
          1.3675,
          1.88
         ],
         "yaxis": "y"
        },
        {
         "hovertemplate": "name=CDW<br>year=%{x}<br>eps=%{y}<extra></extra>",
         "legendgroup": "CDW",
         "line": {
          "color": "#19d3f3",
          "dash": "solid"
         },
         "marker": {
          "symbol": "circle"
         },
         "mode": "lines",
         "name": "CDW",
         "showlegend": true,
         "type": "scattergl",
         "x": [
          2015,
          2016,
          2017,
          2018,
          2019,
          2020,
          2021,
          2022,
          2023,
          2024,
          2025
         ],
         "xaxis": "x",
         "y": [
          0.7,
          0.825,
          0.93,
          1.21,
          1.465,
          1.585,
          1.9275,
          2.3425000000000002,
          2.4525,
          2.405,
          2.48
         ],
         "yaxis": "y"
        },
        {
         "hovertemplate": "name=Citizens Financial Group<br>year=%{x}<br>eps=%{y}<extra></extra>",
         "legendgroup": "Citizens Financial Group",
         "line": {
          "color": "#FF6692",
          "dash": "solid"
         },
         "marker": {
          "symbol": "circle"
         },
         "mode": "lines",
         "name": "Citizens Financial Group",
         "showlegend": true,
         "type": "scattergl",
         "x": [
          2016,
          2017,
          2018,
          2019,
          2020,
          2021,
          2022,
          2023,
          2024,
          2025
         ],
         "xaxis": "x",
         "y": [
          0.4633333333333334,
          0.6075,
          0.825,
          0.95,
          0.5700000000000001,
          1.245,
          1.1175,
          1.005,
          0.635,
          0.81
         ],
         "yaxis": "y"
        },
        {
         "hovertemplate": "name=Church & Dwight<br>year=%{x}<br>eps=%{y}<extra></extra>",
         "legendgroup": "Church & Dwight",
         "line": {
          "color": "#B6E880",
          "dash": "solid"
         },
         "marker": {
          "symbol": "circle"
         },
         "mode": "lines",
         "name": "Church & Dwight",
         "showlegend": true,
         "type": "scattergl",
         "x": [
          2015,
          2016,
          2017,
          2018,
          2019,
          2020,
          2021,
          2022,
          2023,
          2024,
          2025
         ],
         "xaxis": "x",
         "y": [
          0.4025,
          0.435,
          0.46499999999999997,
          0.5549999999999999,
          0.625,
          0.7125,
          0.73,
          0.7475,
          0.7675,
          0.8325,
          0.77
         ],
         "yaxis": "y"
        },
        {
         "hovertemplate": "name=C.H. Robinson<br>year=%{x}<br>eps=%{y}<extra></extra>",
         "legendgroup": "C.H. Robinson",
         "line": {
          "color": "#FF97FF",
          "dash": "solid"
         },
         "marker": {
          "symbol": "circle"
         },
         "mode": "lines",
         "name": "C.H. Robinson",
         "showlegend": true,
         "type": "scattergl",
         "x": [
          2015,
          2016,
          2017,
          2018,
          2019,
          2020,
          2021,
          2022,
          2023,
          2024,
          2025
         ],
         "xaxis": "x",
         "y": [
          0.85,
          0.9025,
          0.8375,
          1.0625,
          1.1975,
          0.84,
          1.4125,
          2.06,
          0.9375,
          0.9475,
          1.21
         ],
         "yaxis": "y"
        },
        {
         "hovertemplate": "name=Colgate-Palmolive<br>year=%{x}<br>eps=%{y}<extra></extra>",
         "legendgroup": "Colgate-Palmolive",
         "line": {
          "color": "#FECB52",
          "dash": "solid"
         },
         "marker": {
          "symbol": "circle"
         },
         "mode": "lines",
         "name": "Colgate-Palmolive",
         "showlegend": true,
         "type": "scattergl",
         "x": [
          2015,
          2016,
          2017,
          2018,
          2019,
          2020,
          2021,
          2022,
          2023,
          2024,
          2025
         ],
         "xaxis": "x",
         "y": [
          0.71,
          0.6975,
          0.7175,
          0.745,
          0.71,
          0.7525,
          0.795,
          0.7475,
          0.7825,
          0.8875,
          0.91
         ],
         "yaxis": "y"
        },
        {
         "hovertemplate": "name=Comcast<br>year=%{x}<br>eps=%{y}<extra></extra>",
         "legendgroup": "Comcast",
         "line": {
          "color": "#636efa",
          "dash": "solid"
         },
         "marker": {
          "symbol": "circle"
         },
         "mode": "lines",
         "name": "Comcast",
         "showlegend": true,
         "type": "scattergl",
         "x": [
          2015,
          2016,
          2017,
          2018,
          2019,
          2020,
          2021,
          2022,
          2023,
          2024,
          2025
         ],
         "xaxis": "x",
         "y": [
          0.40249999999999997,
          0.43,
          0.505,
          0.6025,
          0.7425,
          0.71,
          0.7575000000000001,
          0.9,
          0.9875,
          1.0525,
          1.025
         ],
         "yaxis": "y"
        },
        {
         "hovertemplate": "name=CME Group<br>year=%{x}<br>eps=%{y}<extra></extra>",
         "legendgroup": "CME Group",
         "line": {
          "color": "#EF553B",
          "dash": "solid"
         },
         "marker": {
          "symbol": "circle"
         },
         "mode": "lines",
         "name": "CME Group",
         "showlegend": true,
         "type": "scattergl",
         "x": [
          2015,
          2016,
          2017,
          2018,
          2019,
          2020,
          2021,
          2022,
          2023,
          2024,
          2025
         ],
         "xaxis": "x",
         "y": [
          0.975,
          1.065,
          1.1949999999999998,
          1.5425,
          1.7625,
          1.7149999999999999,
          1.605,
          1.93,
          2.2225,
          2.5275,
          2.66
         ],
         "yaxis": "y"
        },
        {
         "hovertemplate": "name=CMS Energy<br>year=%{x}<br>eps=%{y}<extra></extra>",
         "legendgroup": "CMS Energy",
         "line": {
          "color": "#00cc96",
          "dash": "solid"
         },
         "marker": {
          "symbol": "circle"
         },
         "mode": "lines",
         "name": "CMS Energy",
         "showlegend": true,
         "type": "scattergl",
         "x": [
          2015,
          2016,
          2017,
          2018,
          2019,
          2020,
          2021,
          2022,
          2023,
          2024,
          2025
         ],
         "xaxis": "x",
         "y": [
          0.46499999999999997,
          0.53,
          0.4875,
          0.61,
          0.5525,
          0.7,
          0.7325,
          0.69,
          0.665,
          0.88,
          0.9450000000000001
         ],
         "yaxis": "y"
        },
        {
         "hovertemplate": "name=Centene Corporation<br>year=%{x}<br>eps=%{y}<extra></extra>",
         "legendgroup": "Centene Corporation",
         "line": {
          "color": "#ab63fa",
          "dash": "solid"
         },
         "marker": {
          "symbol": "circle"
         },
         "mode": "lines",
         "name": "Centene Corporation",
         "showlegend": true,
         "type": "scattergl",
         "x": [
          2015,
          2016,
          2017,
          2018,
          2019,
          2020,
          2021,
          2022,
          2023,
          2024,
          2025
         ],
         "xaxis": "x",
         "y": [
          0.3725,
          0.515,
          0.66,
          0.845,
          1.0825,
          1.3125,
          1.15,
          1.4775,
          1.7675,
          1.6875,
          1.85
         ],
         "yaxis": "y"
        },
        {
         "hovertemplate": "name=Capital One<br>year=%{x}<br>eps=%{y}<extra></extra>",
         "legendgroup": "Capital One",
         "line": {
          "color": "#FFA15A",
          "dash": "solid"
         },
         "marker": {
          "symbol": "circle"
         },
         "mode": "lines",
         "name": "Capital One",
         "showlegend": true,
         "type": "scattergl",
         "x": [
          2015,
          2016,
          2017,
          2018,
          2019,
          2020,
          2021,
          2022,
          2023,
          2024,
          2025
         ],
         "xaxis": "x",
         "y": [
          1.8725,
          1.7525,
          1.8525,
          2.6075,
          2.7525,
          0.6699999999999999,
          6.695,
          5.0475,
          3.275,
          3.275,
          3.5749999999999997
         ],
         "yaxis": "y"
        },
        {
         "hovertemplate": "name=Cooper Companies (The)<br>year=%{x}<br>eps=%{y}<extra></extra>",
         "legendgroup": "Cooper Companies (The)",
         "line": {
          "color": "#19d3f3",
          "dash": "solid"
         },
         "marker": {
          "symbol": "circle"
         },
         "mode": "lines",
         "name": "Cooper Companies (The)",
         "showlegend": true,
         "type": "scattergl",
         "x": [
          2014,
          2015,
          2016,
          2017,
          2018,
          2019,
          2020,
          2021,
          2022,
          2023,
          2024,
          2025
         ],
         "xaxis": "x",
         "y": [
          0.49,
          0.46499999999999997,
          0.53,
          0.6075,
          0.7224999999999999,
          0.775,
          0.6025,
          0.8275,
          0.7775000000000001,
          0.8025,
          0.925,
          0.92
         ],
         "yaxis": "y"
        },
        {
         "hovertemplate": "name=Cencora<br>year=%{x}<br>eps=%{y}<extra></extra>",
         "legendgroup": "Cencora",
         "line": {
          "color": "#FF6692",
          "dash": "solid"
         },
         "marker": {
          "symbol": "circle"
         },
         "mode": "lines",
         "name": "Cencora",
         "showlegend": true,
         "type": "scattergl",
         "x": [
          2015,
          2016,
          2017,
          2018,
          2019,
          2020,
          2021,
          2022,
          2023,
          2024,
          2025
         ],
         "xaxis": "x",
         "y": [
          1.24,
          1.405,
          1.4725000000000001,
          1.62,
          1.77,
          1.9749999999999999,
          2.315,
          2.164,
          2.4466666666666668,
          3.44,
          3.73
         ],
         "yaxis": "y"
        },
        {
         "hovertemplate": "name=Corpay<br>year=%{x}<br>eps=%{y}<extra></extra>",
         "legendgroup": "Corpay",
         "line": {
          "color": "#B6E880",
          "dash": "solid"
         },
         "marker": {
          "symbol": "circle"
         },
         "mode": "lines",
         "name": "Corpay",
         "showlegend": true,
         "type": "scattergl",
         "x": [
          2021,
          2022,
          2023,
          2024,
          2025
         ],
         "xaxis": "x",
         "y": [
          2.74,
          3.223333333333333,
          3.426666666666667,
          4.5225,
          5.36
         ],
         "yaxis": "y"
        },
        {
         "hovertemplate": "name=Campbell Soup Company<br>year=%{x}<br>eps=%{y}<extra></extra>",
         "legendgroup": "Campbell Soup Company",
         "line": {
          "color": "#FF97FF",
          "dash": "solid"
         },
         "marker": {
          "symbol": "circle"
         },
         "mode": "lines",
         "name": "Campbell Soup Company",
         "showlegend": true,
         "type": "scattergl",
         "x": [
          2014,
          2015,
          2016,
          2017,
          2018,
          2019,
          2020,
          2021,
          2022,
          2023,
          2024,
          2025
         ],
         "xaxis": "x",
         "y": [
          0.74,
          0.665,
          0.745,
          0.735,
          0.685,
          0.6325000000000001,
          0.8,
          0.7125,
          0.7424999999999999,
          0.7225,
          0.7675000000000001,
          0.74
         ],
         "yaxis": "y"
        },
        {
         "hovertemplate": "name=Copart<br>year=%{x}<br>eps=%{y}<extra></extra>",
         "legendgroup": "Copart",
         "line": {
          "color": "#FECB52",
          "dash": "solid"
         },
         "marker": {
          "symbol": "circle"
         },
         "mode": "lines",
         "name": "Copart",
         "showlegend": true,
         "type": "scattergl",
         "x": [
          2014,
          2015,
          2016,
          2017,
          2018,
          2019,
          2020,
          2021,
          2022,
          2023,
          2024,
          2025
         ],
         "xaxis": "x",
         "y": [
          0.05,
          0.055,
          0.07,
          0.0825,
          0.12,
          0.1525,
          0.17,
          0.25,
          0.2775,
          0.3375,
          0.355,
          0.4
         ],
         "yaxis": "y"
        },
        {
         "hovertemplate": "name=Camden Property Trust<br>year=%{x}<br>eps=%{y}<extra></extra>",
         "legendgroup": "Camden Property Trust",
         "line": {
          "color": "#636efa",
          "dash": "solid"
         },
         "marker": {
          "symbol": "circle"
         },
         "mode": "lines",
         "name": "Camden Property Trust",
         "showlegend": true,
         "type": "scattergl",
         "x": [
          2015,
          2016,
          2017,
          2018,
          2019,
          2020,
          2021,
          2022,
          2023,
          2024,
          2025
         ],
         "xaxis": "x",
         "y": [
          1.0825,
          1.17,
          1.125,
          1.1125,
          1.255,
          1.2325,
          1.2725,
          1.5875,
          1.7075,
          1.6349999999999998,
          1.73
         ],
         "yaxis": "y"
        },
        {
         "hovertemplate": "name=Charles River Laboratories<br>year=%{x}<br>eps=%{y}<extra></extra>",
         "legendgroup": "Charles River Laboratories",
         "line": {
          "color": "#EF553B",
          "dash": "solid"
         },
         "marker": {
          "symbol": "circle"
         },
         "mode": "lines",
         "name": "Charles River Laboratories",
         "showlegend": true,
         "type": "scattergl",
         "x": [
          2015,
          2016,
          2017,
          2018,
          2019,
          2020,
          2021,
          2022,
          2023,
          2024,
          2025
         ],
         "xaxis": "x",
         "y": [
          0.8975,
          1.0899999999999999,
          1.2725,
          1.4825,
          1.5525,
          1.94,
          2.5575,
          2.66,
          2.7925,
          2.53,
          2.66
         ],
         "yaxis": "y"
        },
        {
         "hovertemplate": "name=Salesforce<br>year=%{x}<br>eps=%{y}<extra></extra>",
         "legendgroup": "Salesforce",
         "line": {
          "color": "#00cc96",
          "dash": "solid"
         },
         "marker": {
          "symbol": "circle"
         },
         "mode": "lines",
         "name": "Salesforce",
         "showlegend": true,
         "type": "scattergl",
         "x": [
          2014,
          2015,
          2016,
          2017,
          2018,
          2019,
          2020,
          2021,
          2022,
          2023,
          2024,
          2025
         ],
         "xaxis": "x",
         "y": [
          0.14,
          0.175,
          0.22749999999999998,
          0.32,
          0.6025,
          0.76,
          1.135,
          1.25,
          1.1025,
          1.9,
          2.425,
          2.78
         ],
         "yaxis": "y"
        },
        {
         "hovertemplate": "name=CSX Corporation<br>year=%{x}<br>eps=%{y}<extra></extra>",
         "legendgroup": "CSX Corporation",
         "line": {
          "color": "#ab63fa",
          "dash": "solid"
         },
         "marker": {
          "symbol": "circle"
         },
         "mode": "lines",
         "name": "CSX Corporation",
         "showlegend": true,
         "type": "scattergl",
         "x": [
          2015,
          2016,
          2017,
          2018,
          2019,
          2020,
          2021,
          2022,
          2023,
          2024,
          2025
         ],
         "xaxis": "x",
         "y": [
          0.1675,
          0.15,
          0.1775,
          0.29,
          0.35,
          0.3,
          0.37,
          0.465,
          0.46499999999999997,
          0.465,
          0.38
         ],
         "yaxis": "y"
        },
        {
         "hovertemplate": "name=Cintas<br>year=%{x}<br>eps=%{y}<extra></extra>",
         "legendgroup": "Cintas",
         "line": {
          "color": "#FFA15A",
          "dash": "solid"
         },
         "marker": {
          "symbol": "circle"
         },
         "mode": "lines",
         "name": "Cintas",
         "showlegend": true,
         "type": "scattergl",
         "x": [
          2014,
          2015,
          2016,
          2017,
          2018,
          2019,
          2020,
          2021,
          2022,
          2023,
          2024,
          2025
         ],
         "xaxis": "x",
         "y": [
          0.22,
          0.23,
          0.275,
          0.32,
          0.425,
          0.5325,
          0.44000000000000006,
          0.6699999999999999,
          0.75,
          0.8625,
          1.0375,
          1.13
         ],
         "yaxis": "y"
        },
        {
         "hovertemplate": "name=Coterra<br>year=%{x}<br>eps=%{y}<extra></extra>",
         "legendgroup": "Coterra",
         "line": {
          "color": "#19d3f3",
          "dash": "solid"
         },
         "marker": {
          "symbol": "circle"
         },
         "mode": "lines",
         "name": "Coterra",
         "showlegend": true,
         "type": "scattergl",
         "x": [
          2017,
          2018,
          2019,
          2020,
          2021,
          2022,
          2023,
          2024,
          2025
         ],
         "xaxis": "x",
         "y": [
          0.10500000000000001,
          0.22,
          0.45999999999999996,
          0.14500000000000002,
          0.52,
          1.1525,
          0.73,
          0.43,
          0.49
         ],
         "yaxis": "y"
        },
        {
         "hovertemplate": "name=Cognizant<br>year=%{x}<br>eps=%{y}<extra></extra>",
         "legendgroup": "Cognizant",
         "line": {
          "color": "#FF6692",
          "dash": "solid"
         },
         "marker": {
          "symbol": "circle"
         },
         "mode": "lines",
         "name": "Cognizant",
         "showlegend": true,
         "type": "scattergl",
         "x": [
          2015,
          2016,
          2017,
          2018,
          2019,
          2020,
          2021,
          2022,
          2023,
          2024,
          2025
         ],
         "xaxis": "x",
         "y": [
          0.7325,
          0.8325,
          0.905,
          1.1175,
          1.0150000000000001,
          0.955,
          0.9225,
          1.1225,
          1.095,
          1.18,
          1.21
         ],
         "yaxis": "y"
        },
        {
         "hovertemplate": "name=Corteva<br>year=%{x}<br>eps=%{y}<extra></extra>",
         "legendgroup": "Corteva",
         "line": {
          "color": "#B6E880",
          "dash": "solid"
         },
         "marker": {
          "symbol": "circle"
         },
         "mode": "lines",
         "name": "Corteva",
         "showlegend": true,
         "type": "scattergl",
         "x": [
          2019,
          2020,
          2021,
          2022,
          2023,
          2024,
          2025
         ],
         "xaxis": "x",
         "y": [
          0.5149999999999999,
          0.3825,
          0.5225,
          0.6425,
          0.6725,
          0.595,
          0.32
         ],
         "yaxis": "y"
        },
        {
         "hovertemplate": "name=CVS Health<br>year=%{x}<br>eps=%{y}<extra></extra>",
         "legendgroup": "CVS Health",
         "line": {
          "color": "#FF97FF",
          "dash": "solid"
         },
         "marker": {
          "symbol": "circle"
         },
         "mode": "lines",
         "name": "CVS Health",
         "showlegend": true,
         "type": "scattergl",
         "x": [
          2015,
          2016,
          2017,
          2018,
          2019,
          2020,
          2021,
          2022,
          2023,
          2024,
          2025
         ],
         "xaxis": "x",
         "y": [
          1.2125,
          1.405,
          1.4275,
          1.705,
          1.8725,
          1.985,
          1.9324999999999999,
          2.1725,
          2.1525,
          1.5875000000000001,
          1.19
         ],
         "yaxis": "y"
        },
        {
         "hovertemplate": "name=Chevron Corporation<br>year=%{x}<br>eps=%{y}<extra></extra>",
         "legendgroup": "Chevron Corporation",
         "line": {
          "color": "#FECB52",
          "dash": "solid"
         },
         "marker": {
          "symbol": "circle"
         },
         "mode": "lines",
         "name": "Chevron Corporation",
         "showlegend": true,
         "type": "scattergl",
         "x": [
          2015,
          2016,
          2017,
          2018,
          2019,
          2020,
          2021,
          2022,
          2023,
          2024,
          2025
         ],
         "xaxis": "x",
         "y": [
          1.1525,
          0.06749999999999999,
          0.8,
          1.63,
          1.665,
          0.325,
          1.39,
          4.325,
          3.4425,
          2.86,
          2.06
         ],
         "yaxis": "y"
        },
        {
         "hovertemplate": "name=Dominion Energy<br>year=%{x}<br>eps=%{y}<extra></extra>",
         "legendgroup": "Dominion Energy",
         "line": {
          "color": "#636efa",
          "dash": "solid"
         },
         "marker": {
          "symbol": "circle"
         },
         "mode": "lines",
         "name": "Dominion Energy",
         "showlegend": true,
         "type": "scattergl",
         "x": [
          2015,
          2016,
          2017,
          2018,
          2019,
          2020,
          2021,
          2022,
          2023,
          2024,
          2025
         ],
         "xaxis": "x",
         "y": [
          0.8975,
          0.8775,
          0.9175,
          1.015,
          0.985,
          1.0425,
          0.9425000000000001,
          0.99,
          0.8375,
          0.6175,
          0.58
         ],
         "yaxis": "y"
        },
        {
         "hovertemplate": "name=DuPont<br>year=%{x}<br>eps=%{y}<extra></extra>",
         "legendgroup": "DuPont",
         "line": {
          "color": "#EF553B",
          "dash": "solid"
         },
         "marker": {
          "symbol": "circle"
         },
         "mode": "lines",
         "name": "DuPont",
         "showlegend": true,
         "type": "scattergl",
         "x": [
          2020,
          2021,
          2022,
          2023,
          2024,
          2025
         ],
         "xaxis": "x",
         "y": [
          0.79,
          1.0175,
          0.9,
          0.875,
          0.9525,
          1.13
         ],
         "yaxis": "y"
        },
        {
         "hovertemplate": "name=Deere & Company<br>year=%{x}<br>eps=%{y}<extra></extra>",
         "legendgroup": "Deere & Company",
         "line": {
          "color": "#00cc96",
          "dash": "solid"
         },
         "marker": {
          "symbol": "circle"
         },
         "mode": "lines",
         "name": "Deere & Company",
         "showlegend": true,
         "type": "scattergl",
         "x": [
          2014,
          2015,
          2016,
          2017,
          2018,
          2019,
          2020,
          2021,
          2022,
          2023,
          2024,
          2025
         ],
         "xaxis": "x",
         "y": [
          2.11,
          1.44,
          1.2025000000000001,
          1.6600000000000001,
          2.335,
          2.4775,
          2.103333333333333,
          4.73,
          5.8325,
          8.68,
          6.4,
          3.19
         ],
         "yaxis": "y"
        },
        {
         "hovertemplate": "name=Discover Financial<br>year=%{x}<br>eps=%{y}<extra></extra>",
         "legendgroup": "Discover Financial",
         "line": {
          "color": "#ab63fa",
          "dash": "solid"
         },
         "marker": {
          "symbol": "circle"
         },
         "mode": "lines",
         "name": "Discover Financial",
         "showlegend": true,
         "type": "scattergl",
         "x": [
          2015,
          2016,
          2017,
          2018,
          2019,
          2020,
          2021,
          2022,
          2023,
          2024,
          2025
         ],
         "xaxis": "x",
         "y": [
          1.295,
          1.38,
          1.435,
          1.8325,
          2.215,
          0.8125,
          4.18,
          3.84,
          3.37,
          3.0974999999999997,
          4.68
         ],
         "yaxis": "y"
        },
        {
         "hovertemplate": "name=Dollar General<br>year=%{x}<br>eps=%{y}<extra></extra>",
         "legendgroup": "Dollar General",
         "line": {
          "color": "#FFA15A",
          "dash": "solid"
         },
         "marker": {
          "symbol": "circle"
         },
         "mode": "lines",
         "name": "Dollar General",
         "showlegend": true,
         "type": "scattergl",
         "x": [
          2014,
          2015,
          2016,
          2017,
          2018,
          2019,
          2020,
          2021,
          2022,
          2023,
          2024,
          2025
         ],
         "xaxis": "x",
         "y": [
          0.79,
          0.96,
          1.0750000000000002,
          1.15,
          1.4175,
          1.62,
          2.5225,
          2.5525,
          2.5725,
          2.1725,
          1.5175,
          1.68
         ],
         "yaxis": "y"
        },
        {
         "hovertemplate": "name=Quest Diagnostics<br>year=%{x}<br>eps=%{y}<extra></extra>",
         "legendgroup": "Quest Diagnostics",
         "line": {
          "color": "#19d3f3",
          "dash": "solid"
         },
         "marker": {
          "symbol": "circle"
         },
         "mode": "lines",
         "name": "Quest Diagnostics",
         "showlegend": true,
         "type": "scattergl",
         "x": [
          2015,
          2016,
          2017,
          2018,
          2019,
          2020,
          2021,
          2022,
          2023,
          2024,
          2025
         ],
         "xaxis": "x",
         "y": [
          1.165,
          1.2550000000000001,
          1.395,
          1.5875,
          1.5625,
          2.085,
          3.845,
          2.8175,
          2.135,
          2.21,
          2.2199999999999998
         ],
         "yaxis": "y"
        },
        {
         "hovertemplate": "name=D. R. Horton<br>year=%{x}<br>eps=%{y}<extra></extra>",
         "legendgroup": "D. R. Horton",
         "line": {
          "color": "#FF6692",
          "dash": "solid"
         },
         "marker": {
          "symbol": "circle"
         },
         "mode": "lines",
         "name": "D. R. Horton",
         "showlegend": true,
         "type": "scattergl",
         "x": [
          2015,
          2016,
          2017,
          2018,
          2019,
          2020,
          2021,
          2022,
          2023,
          2024,
          2025
         ],
         "xaxis": "x",
         "y": [
          0.5,
          0.59,
          0.6825,
          1.02,
          1.06,
          1.5825,
          2.87,
          4.135,
          3.46,
          3.59,
          2.5949999999999998
         ],
         "yaxis": "y"
        },
        {
         "hovertemplate": "name=Danaher Corporation<br>year=%{x}<br>eps=%{y}<extra></extra>",
         "legendgroup": "Danaher Corporation",
         "line": {
          "color": "#B6E880",
          "dash": "solid"
         },
         "marker": {
          "symbol": "circle"
         },
         "mode": "lines",
         "name": "Danaher Corporation",
         "showlegend": true,
         "type": "scattergl",
         "x": [
          2015,
          2016,
          2017,
          2018,
          2019,
          2020,
          2021,
          2022,
          2023,
          2024,
          2025
         ],
         "xaxis": "x",
         "y": [
          1.025,
          1.1175000000000002,
          0.9725,
          1.1075,
          1.175,
          1.3499999999999999,
          2.31,
          2.6925,
          2.325,
          1.8599999999999999,
          2.01
         ],
         "yaxis": "y"
        },
        {
         "hovertemplate": "name=Digital Realty<br>year=%{x}<br>eps=%{y}<extra></extra>",
         "legendgroup": "Digital Realty",
         "line": {
          "color": "#FF97FF",
          "dash": "solid"
         },
         "marker": {
          "symbol": "circle"
         },
         "mode": "lines",
         "name": "Digital Realty",
         "showlegend": true,
         "type": "scattergl",
         "x": [
          2015,
          2016,
          2017,
          2018,
          2019,
          2020,
          2021,
          2022,
          2023,
          2024,
          2025
         ],
         "xaxis": "x",
         "y": [
          1.2675,
          1.415,
          1.495,
          1.6125,
          1.68,
          1.5275,
          1.53,
          1.64,
          1.6524999999999999,
          1.6549999999999998,
          0.39
         ],
         "yaxis": "y"
        },
        {
         "hovertemplate": "name=Dollar Tree<br>year=%{x}<br>eps=%{y}<extra></extra>",
         "legendgroup": "Dollar Tree",
         "line": {
          "color": "#FECB52",
          "dash": "solid"
         },
         "marker": {
          "symbol": "circle"
         },
         "mode": "lines",
         "name": "Dollar Tree",
         "showlegend": true,
         "type": "scattergl",
         "x": [
          2014,
          2015,
          2016,
          2017,
          2018,
          2019,
          2020,
          2021,
          2022,
          2023,
          2024,
          2025
         ],
         "xaxis": "x",
         "y": [
          0.69,
          0.6525,
          0.8575,
          1.085,
          1.3525,
          1.2275,
          1.33,
          1.48,
          1.795,
          1.3599999999999999,
          1.4425,
          2.11
         ],
         "yaxis": "y"
        },
        {
         "hovertemplate": "name=Healthpeak Properties<br>year=%{x}<br>eps=%{y}<extra></extra>",
         "legendgroup": "Healthpeak Properties",
         "line": {
          "color": "#636efa",
          "dash": "solid"
         },
         "marker": {
          "symbol": "circle"
         },
         "mode": "lines",
         "name": "Healthpeak Properties",
         "showlegend": true,
         "type": "scattergl",
         "x": [
          2015,
          2016,
          2017,
          2018,
          2019,
          2020,
          2021,
          2022,
          2023,
          2024,
          2025
         ],
         "xaxis": "x",
         "y": [
          0.79,
          0.7375,
          0.515,
          0.46749999999999997,
          0.4375,
          0.4225,
          0.4025,
          0.4275,
          0.44,
          0.4525,
          0.46
         ],
         "yaxis": "y"
        },
        {
         "hovertemplate": "name=Domino's<br>year=%{x}<br>eps=%{y}<extra></extra>",
         "legendgroup": "Domino's",
         "line": {
          "color": "#EF553B",
          "dash": "solid"
         },
         "marker": {
          "symbol": "circle"
         },
         "mode": "lines",
         "name": "Domino's",
         "showlegend": true,
         "type": "scattergl",
         "x": [
          2015,
          2016,
          2017,
          2018,
          2019,
          2020,
          2021,
          2022,
          2023,
          2024,
          2025
         ],
         "xaxis": "x",
         "y": [
          0.8,
          0.995,
          1.3325,
          1.97,
          2.265,
          2.92,
          3.1199999999999997,
          3.09,
          3.54,
          4.07,
          4.89
         ],
         "yaxis": "y"
        },
        {
         "hovertemplate": "name=DTE Energy<br>year=%{x}<br>eps=%{y}<extra></extra>",
         "legendgroup": "DTE Energy",
         "line": {
          "color": "#00cc96",
          "dash": "solid"
         },
         "marker": {
          "symbol": "circle"
         },
         "mode": "lines",
         "name": "DTE Energy",
         "showlegend": true,
         "type": "scattergl",
         "x": [
          2015,
          2016,
          2017,
          2018,
          2019,
          2020,
          2021,
          2022,
          2023,
          2024,
          2025
         ],
         "xaxis": "x",
         "y": [
          1.2449999999999999,
          1.3675,
          1.2875,
          1.665,
          1.4649999999999999,
          1.7875,
          1.8125,
          1.1766666666666667,
          1.2675,
          1.8225,
          1.51
         ],
         "yaxis": "y"
        },
        {
         "hovertemplate": "name=DaVita<br>year=%{x}<br>eps=%{y}<extra></extra>",
         "legendgroup": "DaVita",
         "line": {
          "color": "#ab63fa",
          "dash": "solid"
         },
         "marker": {
          "symbol": "circle"
         },
         "mode": "lines",
         "name": "DaVita",
         "showlegend": true,
         "type": "scattergl",
         "x": [
          2015,
          2016,
          2017,
          2018,
          2019,
          2020,
          2021,
          2022,
          2023,
          2024,
          2025
         ],
         "xaxis": "x",
         "y": [
          0.9425,
          0.9725,
          0.875,
          0.895,
          1.1400000000000001,
          1.86,
          2.19,
          1.845,
          1.7225000000000001,
          2.2424999999999997,
          2.24
         ],
         "yaxis": "y"
        },
        {
         "hovertemplate": "name=Devon Energy<br>year=%{x}<br>eps=%{y}<extra></extra>",
         "legendgroup": "Devon Energy",
         "line": {
          "color": "#FFA15A",
          "dash": "solid"
         },
         "marker": {
          "symbol": "circle"
         },
         "mode": "lines",
         "name": "Devon Energy",
         "showlegend": true,
         "type": "scattergl",
         "x": [
          2015,
          2016,
          2017,
          2018,
          2019,
          2020,
          2021,
          2022,
          2023,
          2024,
          2025
         ],
         "xaxis": "x",
         "y": [
          0.6475,
          0.0975,
          0.365,
          0.3875,
          0.295,
          0.060000000000000005,
          0.46592,
          2.01,
          1.4874999999999998,
          1.27,
          1.16
         ],
         "yaxis": "y"
        },
        {
         "hovertemplate": "name=Electronic Arts<br>year=%{x}<br>eps=%{y}<extra></extra>",
         "legendgroup": "Electronic Arts",
         "line": {
          "color": "#19d3f3",
          "dash": "solid"
         },
         "marker": {
          "symbol": "circle"
         },
         "mode": "lines",
         "name": "Electronic Arts",
         "showlegend": true,
         "type": "scattergl",
         "x": [
          2015,
          2016,
          2017,
          2018,
          2019,
          2020,
          2021,
          2022,
          2023,
          2024,
          2025
         ],
         "xaxis": "x",
         "y": [
          0.6025,
          0.74,
          1.1099999999999999,
          1.1625,
          1.1075,
          1.395,
          1.645,
          1.4875,
          1.77,
          1.75,
          2.83
         ],
         "yaxis": "y"
        },
        {
         "hovertemplate": "name=eBay<br>year=%{x}<br>eps=%{y}<extra></extra>",
         "legendgroup": "eBay",
         "line": {
          "color": "#FF6692",
          "dash": "solid"
         },
         "marker": {
          "symbol": "circle"
         },
         "mode": "lines",
         "name": "eBay",
         "showlegend": true,
         "type": "scattergl",
         "x": [
          2015,
          2016,
          2017,
          2018,
          2019,
          2020,
          2021,
          2022,
          2023,
          2024,
          2025
         ],
         "xaxis": "x",
         "y": [
          0.715,
          0.4625,
          0.49,
          0.5525,
          0.6825,
          0.8775000000000001,
          0.96,
          1.0225,
          1.06,
          1.1724999999999999,
          1.25
         ],
         "yaxis": "y"
        },
        {
         "hovertemplate": "name=Consolidated Edison<br>year=%{x}<br>eps=%{y}<extra></extra>",
         "legendgroup": "Consolidated Edison",
         "line": {
          "color": "#B6E880",
          "dash": "solid"
         },
         "marker": {
          "symbol": "circle"
         },
         "mode": "lines",
         "name": "Consolidated Edison",
         "showlegend": true,
         "type": "scattergl",
         "x": [
          2014,
          2015,
          2016,
          2017,
          2018,
          2019,
          2020,
          2021,
          2022,
          2023,
          2024,
          2025
         ],
         "xaxis": "x",
         "y": [
          1.48,
          1.01,
          0.9724999999999999,
          1,
          1.09,
          1.0699999999999998,
          1.075,
          1.0325,
          1.185,
          1.2175,
          1.355,
          0.98
         ],
         "yaxis": "y"
        },
        {
         "hovertemplate": "name=Edison International<br>year=%{x}<br>eps=%{y}<extra></extra>",
         "legendgroup": "Edison International",
         "line": {
          "color": "#FF97FF",
          "dash": "solid"
         },
         "marker": {
          "symbol": "circle"
         },
         "mode": "lines",
         "name": "Edison International",
         "showlegend": true,
         "type": "scattergl",
         "x": [
          2015,
          2016,
          2017,
          2018,
          2019,
          2020,
          2021,
          2022,
          2023,
          2024,
          2025
         ],
         "xaxis": "x",
         "y": [
          1.075,
          0.9725,
          1.1,
          1.0750000000000002,
          1.1625,
          1.0725,
          1.1524999999999999,
          1.1625,
          1.1575,
          1.2875,
          1.05
         ],
         "yaxis": "y"
        },
        {
         "hovertemplate": "name=Estée Lauder Companies (The)<br>year=%{x}<br>eps=%{y}<extra></extra>",
         "legendgroup": "Estée Lauder Companies (The)",
         "line": {
          "color": "#FECB52",
          "dash": "solid"
         },
         "marker": {
          "symbol": "circle"
         },
         "mode": "lines",
         "name": "Estée Lauder Companies (The)",
         "showlegend": true,
         "type": "scattergl",
         "x": [
          2015,
          2016,
          2017,
          2018,
          2019,
          2020,
          2021,
          2022,
          2023,
          2024,
          2025
         ],
         "xaxis": "x",
         "y": [
          0.7675,
          0.8049999999999999,
          0.9625,
          1.1775,
          1.4,
          0.9674999999999999,
          1.725,
          1.6749999999999998,
          0.5475,
          0.6575,
          0.62
         ],
         "yaxis": "y"
        },
        {
         "hovertemplate": "name=Elevance Health<br>year=%{x}<br>eps=%{y}<extra></extra>",
         "legendgroup": "Elevance Health",
         "line": {
          "color": "#636efa",
          "dash": "solid"
         },
         "marker": {
          "symbol": "circle"
         },
         "mode": "lines",
         "name": "Elevance Health",
         "showlegend": true,
         "type": "scattergl",
         "x": [
          2015,
          2016,
          2017,
          2018,
          2019,
          2020,
          2021,
          2022,
          2023,
          2024,
          2025
         ],
         "xaxis": "x",
         "y": [
          2.675,
          2.595,
          3.1149999999999998,
          3.6900000000000004,
          4.495,
          5.9399999999999995,
          5.8425,
          7.24,
          8.18,
          8.6875,
          7.905
         ],
         "yaxis": "y"
        },
        {
         "hovertemplate": "name=Emerson Electric<br>year=%{x}<br>eps=%{y}<extra></extra>",
         "legendgroup": "Emerson Electric",
         "line": {
          "color": "#EF553B",
          "dash": "solid"
         },
         "marker": {
          "symbol": "circle"
         },
         "mode": "lines",
         "name": "Emerson Electric",
         "showlegend": true,
         "type": "scattergl",
         "x": [
          2015,
          2016,
          2017,
          2018,
          2019,
          2020,
          2021,
          2022,
          2023,
          2024,
          2025
         ],
         "xaxis": "x",
         "y": [
          0.7925,
          0.745,
          0.645,
          0.7775,
          0.9199999999999999,
          0.865,
          1.025,
          1.3125,
          1.1025,
          1.3725,
          1.38
         ],
         "yaxis": "y"
        },
        {
         "hovertemplate": "name=EPAM Systems<br>year=%{x}<br>eps=%{y}<extra></extra>",
         "legendgroup": "EPAM Systems",
         "line": {
          "color": "#00cc96",
          "dash": "solid"
         },
         "marker": {
          "symbol": "circle"
         },
         "mode": "lines",
         "name": "EPAM Systems",
         "showlegend": true,
         "type": "scattergl",
         "x": [
          2015,
          2016,
          2017,
          2018,
          2019,
          2020,
          2021,
          2022,
          2023,
          2024,
          2025
         ],
         "xaxis": "x",
         "y": [
          0.6425,
          0.7424999999999999,
          0.8025,
          1.03,
          1.2974999999999999,
          1.5125,
          2.0225,
          2.6825,
          2.6925,
          2.6950000000000003,
          2.84
         ],
         "yaxis": "y"
        },
        {
         "hovertemplate": "name=Equinix<br>year=%{x}<br>eps=%{y}<extra></extra>",
         "legendgroup": "Equinix",
         "line": {
          "color": "#ab63fa",
          "dash": "solid"
         },
         "marker": {
          "symbol": "circle"
         },
         "mode": "lines",
         "name": "Equinix",
         "showlegend": true,
         "type": "scattergl",
         "x": [
          2015,
          2016,
          2017,
          2018,
          2019,
          2020,
          2021,
          2022,
          2023,
          2024,
          2025
         ],
         "xaxis": "x",
         "y": [
          2.6775,
          3.4775,
          4.445,
          5.1025,
          5.6175,
          6.1375,
          6.6725,
          7.1725,
          7.977499999999999,
          8.6075,
          7.92
         ],
         "yaxis": "y"
        },
        {
         "hovertemplate": "name=Equity Residential<br>year=%{x}<br>eps=%{y}<extra></extra>",
         "legendgroup": "Equity Residential",
         "line": {
          "color": "#FFA15A",
          "dash": "solid"
         },
         "marker": {
          "symbol": "circle"
         },
         "mode": "lines",
         "name": "Equity Residential",
         "showlegend": true,
         "type": "scattergl",
         "x": [
          2015,
          2016,
          2017,
          2018,
          2019,
          2020,
          2021,
          2022,
          2023,
          2024,
          2025
         ],
         "xaxis": "x",
         "y": [
          0.825,
          0.7075,
          0.765,
          0.7025,
          0.7999999999999999,
          0.7675,
          0.7425,
          0.835,
          0.9275,
          0.885,
          1
         ],
         "yaxis": "y"
        },
        {
         "hovertemplate": "name=Eversource Energy<br>year=%{x}<br>eps=%{y}<extra></extra>",
         "legendgroup": "Eversource Energy",
         "line": {
          "color": "#19d3f3",
          "dash": "solid"
         },
         "marker": {
          "symbol": "circle"
         },
         "mode": "lines",
         "name": "Eversource Energy",
         "showlegend": true,
         "type": "scattergl",
         "x": [
          2015,
          2016,
          2017,
          2018,
          2019,
          2020,
          2021,
          2022,
          2023,
          2024,
          2025
         ],
         "xaxis": "x",
         "y": [
          0.735,
          0.71,
          0.77,
          0.8225,
          0.855,
          0.89,
          0.935,
          1.02,
          1.075,
          0.7649999999999999,
          1.01
         ],
         "yaxis": "y"
        },
        {
         "hovertemplate": "name=Essex Property Trust<br>year=%{x}<br>eps=%{y}<extra></extra>",
         "legendgroup": "Essex Property Trust",
         "line": {
          "color": "#FF6692",
          "dash": "solid"
         },
         "marker": {
          "symbol": "circle"
         },
         "mode": "lines",
         "name": "Essex Property Trust",
         "showlegend": true,
         "type": "scattergl",
         "x": [
          2015,
          2016,
          2017,
          2018,
          2019,
          2020,
          2021,
          2022,
          2023,
          2024,
          2025
         ],
         "xaxis": "x",
         "y": [
          2.355,
          2.715,
          2.9125,
          3.0975,
          3.275,
          3.31,
          2.9425,
          3.4975,
          3.5149999999999997,
          3.9825,
          3.92
         ],
         "yaxis": "y"
        },
        {
         "hovertemplate": "name=Eaton Corporation<br>year=%{x}<br>eps=%{y}<extra></extra>",
         "legendgroup": "Eaton Corporation",
         "line": {
          "color": "#B6E880",
          "dash": "solid"
         },
         "marker": {
          "symbol": "circle"
         },
         "mode": "lines",
         "name": "Eaton Corporation",
         "showlegend": true,
         "type": "scattergl",
         "x": [
          2015,
          2016,
          2017,
          2018,
          2019,
          2020,
          2021,
          2022,
          2023,
          2024,
          2025
         ],
         "xaxis": "x",
         "y": [
          1.1025,
          1.0675,
          1.12,
          1.3025,
          1.4425,
          1.085,
          1.5474999999999999,
          1.8075,
          2.1550000000000002,
          2.63,
          2.83
         ],
         "yaxis": "y"
        },
        {
         "hovertemplate": "name=Entergy<br>year=%{x}<br>eps=%{y}<extra></extra>",
         "legendgroup": "Entergy",
         "line": {
          "color": "#FF97FF",
          "dash": "solid"
         },
         "marker": {
          "symbol": "circle"
         },
         "mode": "lines",
         "name": "Entergy",
         "showlegend": true,
         "type": "scattergl",
         "x": [
          2015,
          2016,
          2017,
          2018,
          2019,
          2020,
          2021,
          2022,
          2023,
          2024,
          2025
         ],
         "xaxis": "x",
         "y": [
          0.6475,
          1.0475,
          0.85,
          0.9375,
          0.6625,
          0.705,
          0.75,
          0.8375,
          0.8474999999999999,
          0.815,
          0.66
         ],
         "yaxis": "y"
        },
        {
         "hovertemplate": "name=Evergy<br>year=%{x}<br>eps=%{y}<extra></extra>",
         "legendgroup": "Evergy",
         "line": {
          "color": "#FECB52",
          "dash": "solid"
         },
         "marker": {
          "symbol": "circle"
         },
         "mode": "lines",
         "name": "Evergy",
         "showlegend": true,
         "type": "scattergl",
         "x": [
          2015,
          2016,
          2017,
          2018,
          2019,
          2020,
          2021,
          2022,
          2023,
          2024,
          2025
         ],
         "xaxis": "x",
         "y": [
          0.5325,
          0.5825,
          0.6025,
          0.655,
          0.6525,
          0.785,
          0.915,
          0.9025,
          0.895,
          0.93,
          0.35
         ],
         "yaxis": "y"
        },
        {
         "hovertemplate": "name=Edwards Lifesciences<br>year=%{x}<br>eps=%{y}<extra></extra>",
         "legendgroup": "Edwards Lifesciences",
         "line": {
          "color": "#636efa",
          "dash": "solid"
         },
         "marker": {
          "symbol": "circle"
         },
         "mode": "lines",
         "name": "Edwards Lifesciences",
         "showlegend": true,
         "type": "scattergl",
         "x": [
          2015,
          2016,
          2017,
          2018,
          2019,
          2020,
          2021,
          2022,
          2023,
          2024,
          2025
         ],
         "xaxis": "x",
         "y": [
          0.185,
          0.23249999999999998,
          0.29000000000000004,
          0.3725,
          0.44,
          0.46,
          0.555,
          0.5875,
          0.6275,
          0.6675,
          0.615
         ],
         "yaxis": "y"
        },
        {
         "hovertemplate": "name=Exelon<br>year=%{x}<br>eps=%{y}<extra></extra>",
         "legendgroup": "Exelon",
         "line": {
          "color": "#EF553B",
          "dash": "solid"
         },
         "marker": {
          "symbol": "circle"
         },
         "mode": "lines",
         "name": "Exelon",
         "showlegend": true,
         "type": "scattergl",
         "x": [
          2015,
          2016,
          2017,
          2018,
          2019,
          2020,
          2021,
          2022,
          2023,
          2024,
          2025
         ],
         "xaxis": "x",
         "y": [
          0.6525,
          0.655,
          0.62,
          0.775,
          0.7424999999999999,
          0.8225,
          0.67,
          0.6825,
          0.5525,
          0.615,
          0.64
         ],
         "yaxis": "y"
        },
        {
         "hovertemplate": "name=Expeditors International<br>year=%{x}<br>eps=%{y}<extra></extra>",
         "legendgroup": "Expeditors International",
         "line": {
          "color": "#00cc96",
          "dash": "solid"
         },
         "marker": {
          "symbol": "circle"
         },
         "mode": "lines",
         "name": "Expeditors International",
         "showlegend": true,
         "type": "scattergl",
         "x": [
          2015,
          2016,
          2017,
          2018,
          2019,
          2020,
          2021,
          2022,
          2023,
          2024,
          2025
         ],
         "xaxis": "x",
         "y": [
          0.5933333333333334,
          0.59,
          0.595,
          0.795,
          0.905,
          0.9275,
          1.69,
          2.38,
          1.3425,
          1.2825,
          1.68
         ],
         "yaxis": "y"
        },
        {
         "hovertemplate": "name=Extra Space Storage<br>year=%{x}<br>eps=%{y}<extra></extra>",
         "legendgroup": "Extra Space Storage",
         "line": {
          "color": "#ab63fa",
          "dash": "solid"
         },
         "marker": {
          "symbol": "circle"
         },
         "mode": "lines",
         "name": "Extra Space Storage",
         "showlegend": true,
         "type": "scattergl",
         "x": [
          2015,
          2016,
          2017,
          2018,
          2019,
          2020,
          2021,
          2022,
          2023,
          2024,
          2025
         ],
         "xaxis": "x",
         "y": [
          0.675,
          0.78,
          1.07,
          1.095,
          1.21,
          1.2625,
          1.3425,
          1.7,
          1.625,
          2.0275,
          2.03
         ],
         "yaxis": "y"
        },
        {
         "hovertemplate": "name=Ford Motor Company<br>year=%{x}<br>eps=%{y}<extra></extra>",
         "legendgroup": "Ford Motor Company",
         "line": {
          "color": "#FFA15A",
          "dash": "solid"
         },
         "marker": {
          "symbol": "circle"
         },
         "mode": "lines",
         "name": "Ford Motor Company",
         "showlegend": true,
         "type": "scattergl",
         "x": [
          2015,
          2016,
          2017,
          2018,
          2019,
          2020,
          2021,
          2022,
          2023,
          2024,
          2025
         ],
         "xaxis": "x",
         "y": [
          0.35250000000000004,
          0.51,
          0.42,
          0.345,
          0.35,
          0.04750000000000001,
          0.4675,
          0.405,
          0.5625,
          0.435,
          0.39
         ],
         "yaxis": "y"
        },
        {
         "hovertemplate": "name=Diamondback Energy<br>year=%{x}<br>eps=%{y}<extra></extra>",
         "legendgroup": "Diamondback Energy",
         "line": {
          "color": "#19d3f3",
          "dash": "solid"
         },
         "marker": {
          "symbol": "circle"
         },
         "mode": "lines",
         "name": "Diamondback Energy",
         "showlegend": true,
         "type": "scattergl",
         "x": [
          2016,
          2017,
          2018,
          2019,
          2020,
          2021,
          2022,
          2023,
          2024,
          2025
         ],
         "xaxis": "x",
         "y": [
          0.35,
          1.1300000000000001,
          1.615,
          1.4425,
          1.0375,
          2.1149999999999998,
          5.595000000000001,
          4.64,
          4.285,
          3.64
         ],
         "yaxis": "y"
        },
        {
         "hovertemplate": "name=Fastenal<br>year=%{x}<br>eps=%{y}<extra></extra>",
         "legendgroup": "Fastenal",
         "line": {
          "color": "#FF6692",
          "dash": "solid"
         },
         "marker": {
          "symbol": "circle"
         },
         "mode": "lines",
         "name": "Fastenal",
         "showlegend": true,
         "type": "scattergl",
         "x": [
          2015,
          2016,
          2017,
          2018,
          2019,
          2020,
          2021,
          2022,
          2023,
          2024,
          2025
         ],
         "xaxis": "x",
         "y": [
          0.225,
          0.2175,
          0.23500000000000001,
          0.2975,
          0.3425,
          0.365,
          0.3875,
          0.4675,
          0.4975,
          0.5025000000000001,
          0.49
         ],
         "yaxis": "y"
        },
        {
         "hovertemplate": "name=FactSet<br>year=%{x}<br>eps=%{y}<extra></extra>",
         "legendgroup": "FactSet",
         "line": {
          "color": "#B6E880",
          "dash": "solid"
         },
         "marker": {
          "symbol": "circle"
         },
         "mode": "lines",
         "name": "FactSet",
         "showlegend": true,
         "type": "scattergl",
         "x": [
          2014,
          2015,
          2016,
          2017,
          2018,
          2019,
          2020,
          2021,
          2022,
          2023,
          2024,
          2025
         ],
         "xaxis": "x",
         "y": [
          1.32,
          1.4625,
          1.6675,
          1.9,
          2.2125000000000004,
          2.5575,
          2.7925,
          2.83,
          3.5375,
          3.66,
          4.175,
          4.28
         ],
         "yaxis": "y"
        },
        {
         "hovertemplate": "name=F5, Inc.<br>year=%{x}<br>eps=%{y}<extra></extra>",
         "legendgroup": "F5, Inc.",
         "line": {
          "color": "#FF97FF",
          "dash": "solid"
         },
         "marker": {
          "symbol": "circle"
         },
         "mode": "lines",
         "name": "F5, Inc.",
         "showlegend": true,
         "type": "scattergl",
         "x": [
          2015,
          2016,
          2017,
          2018,
          2019,
          2020,
          2021,
          2022,
          2023,
          2024,
          2025
         ],
         "xaxis": "x",
         "y": [
          1.6625,
          1.8325,
          2.1,
          2.4775,
          2.5949999999999998,
          2.3475,
          2.715,
          2.5525,
          2.9275,
          3.3425000000000002,
          3.84
         ],
         "yaxis": "y"
        },
        {
         "hovertemplate": "name=Fiserv<br>year=%{x}<br>eps=%{y}<extra></extra>",
         "legendgroup": "Fiserv",
         "line": {
          "color": "#FECB52",
          "dash": "solid"
         },
         "marker": {
          "symbol": "circle"
         },
         "mode": "lines",
         "name": "Fiserv",
         "showlegend": true,
         "type": "scattergl",
         "x": [
          2015,
          2016,
          2017,
          2018,
          2019,
          2020,
          2021,
          2022,
          2023,
          2024,
          2025
         ],
         "xaxis": "x",
         "y": [
          0.475,
          0.535,
          0.6125,
          0.7424999999999999,
          0.88,
          1.0625,
          1.0855000000000001,
          0.895,
          1.815,
          2.125,
          2.325
         ],
         "yaxis": "y"
        },
        {
         "hovertemplate": "name=Fidelity National Information Services<br>year=%{x}<br>eps=%{y}<extra></extra>",
         "legendgroup": "Fidelity National Information Services",
         "line": {
          "color": "#636efa",
          "dash": "solid"
         },
         "marker": {
          "symbol": "circle"
         },
         "mode": "lines",
         "name": "Fidelity National Information Services",
         "showlegend": true,
         "type": "scattergl",
         "x": [
          2015,
          2016,
          2017,
          2018,
          2019,
          2020,
          2021,
          2022,
          2023,
          2024,
          2025
         ],
         "xaxis": "x",
         "y": [
          0.79,
          0.9075,
          1.0499999999999998,
          1.2525,
          1.6125,
          1.355,
          1.565,
          1.7149999999999999,
          1.3725,
          1.2,
          1.4
         ],
         "yaxis": "y"
        },
        {
         "hovertemplate": "name=Fox Corporation (Class B)<br>year=%{x}<br>eps=%{y}<extra></extra>",
         "legendgroup": "Fox Corporation (Class B)",
         "line": {
          "color": "#EF553B",
          "dash": "solid"
         },
         "marker": {
          "symbol": "circle"
         },
         "mode": "lines",
         "name": "Fox Corporation (Class B)",
         "showlegend": true,
         "type": "scattergl",
         "x": [
          2022,
          2023,
          2024,
          2025
         ],
         "xaxis": "x",
         "y": [
          0.7225,
          0.8475,
          0.945,
          0.96
         ],
         "yaxis": "y"
        },
        {
         "hovertemplate": "name=Fox Corporation (Class A)<br>year=%{x}<br>eps=%{y}<extra></extra>",
         "legendgroup": "Fox Corporation (Class A)",
         "line": {
          "color": "#00cc96",
          "dash": "solid"
         },
         "marker": {
          "symbol": "circle"
         },
         "mode": "lines",
         "name": "Fox Corporation (Class A)",
         "showlegend": true,
         "type": "scattergl",
         "x": [
          2019,
          2020,
          2021,
          2022,
          2023,
          2024,
          2025
         ],
         "xaxis": "x",
         "y": [
          0.7366666666666667,
          0.7075,
          0.7000000000000001,
          0.7225,
          0.8475,
          0.945,
          0.96
         ],
         "yaxis": "y"
        },
        {
         "hovertemplate": "name=Federal Realty Investment Trust<br>year=%{x}<br>eps=%{y}<extra></extra>",
         "legendgroup": "Federal Realty Investment Trust",
         "line": {
          "color": "#ab63fa",
          "dash": "solid"
         },
         "marker": {
          "symbol": "circle"
         },
         "mode": "lines",
         "name": "Federal Realty Investment Trust",
         "showlegend": true,
         "type": "scattergl",
         "x": [
          2014,
          2015,
          2016,
          2017,
          2018,
          2019,
          2020,
          2021,
          2022,
          2023,
          2024,
          2025
         ],
         "xaxis": "x",
         "y": [
          1.23,
          1.3075,
          1.225,
          1.355,
          1.53,
          1.58,
          1.3275000000000001,
          1.3275,
          1.6199999999999999,
          1.6225,
          1.67,
          1.73
         ],
         "yaxis": "y"
        },
        {
         "hovertemplate": "name=Fortinet<br>year=%{x}<br>eps=%{y}<extra></extra>",
         "legendgroup": "Fortinet",
         "line": {
          "color": "#FFA15A",
          "dash": "solid"
         },
         "marker": {
          "symbol": "circle"
         },
         "mode": "lines",
         "name": "Fortinet",
         "showlegend": true,
         "type": "scattergl",
         "x": [
          2015,
          2016,
          2017,
          2018,
          2019,
          2020,
          2021,
          2022,
          2023,
          2024,
          2025
         ],
         "xaxis": "x",
         "y": [
          0.025,
          0.0325,
          0.05,
          0.075,
          0.11499999999999999,
          0.1525,
          0.19,
          0.2525,
          0.3925,
          0.5349999999999999,
          0.74
         ],
         "yaxis": "y"
        },
        {
         "hovertemplate": "name=Fortive<br>year=%{x}<br>eps=%{y}<extra></extra>",
         "legendgroup": "Fortive",
         "line": {
          "color": "#19d3f3",
          "dash": "solid"
         },
         "marker": {
          "symbol": "circle"
         },
         "mode": "lines",
         "name": "Fortive",
         "showlegend": true,
         "type": "scattergl",
         "x": [
          2016,
          2017,
          2018,
          2019,
          2020,
          2021,
          2022,
          2023,
          2024,
          2025
         ],
         "xaxis": "x",
         "y": [
          0.655,
          0.69,
          0.8425,
          0.8425,
          0.8475,
          0.6625,
          0.765,
          0.8325,
          0.9275,
          1.17
         ],
         "yaxis": "y"
        },
        {
         "hovertemplate": "name=General Dynamics<br>year=%{x}<br>eps=%{y}<extra></extra>",
         "legendgroup": "General Dynamics",
         "line": {
          "color": "#FF6692",
          "dash": "solid"
         },
         "marker": {
          "symbol": "circle"
         },
         "mode": "lines",
         "name": "General Dynamics",
         "showlegend": true,
         "type": "scattergl",
         "x": [
          2015,
          2016,
          2017,
          2018,
          2019,
          2020,
          2021,
          2022,
          2023,
          2024,
          2025
         ],
         "xaxis": "x",
         "y": [
          2.2199999999999998,
          2.415,
          2.5175,
          2.715,
          2.885,
          2.755,
          2.9125,
          3.0025,
          2.99,
          3.2824999999999998,
          3.9050000000000002
         ],
         "yaxis": "y"
        },
        {
         "hovertemplate": "name=GE Aerospace<br>year=%{x}<br>eps=%{y}<extra></extra>",
         "legendgroup": "GE Aerospace",
         "line": {
          "color": "#B6E880",
          "dash": "solid"
         },
         "marker": {
          "symbol": "circle"
         },
         "mode": "lines",
         "name": "GE Aerospace",
         "showlegend": true,
         "type": "scattergl",
         "x": [
          2015,
          2016,
          2017,
          2018,
          2019,
          2020,
          2021,
          2022,
          2023,
          2024,
          2025
         ],
         "xaxis": "x",
         "y": [
          2.94,
          3.12,
          2.48,
          1.52,
          1.26,
          0.33999999999999997,
          0.4625,
          0.5725,
          0.7525,
          1.0499999999999998,
          1.405
         ],
         "yaxis": "y"
        },
        {
         "hovertemplate": "name=Gen Digital<br>year=%{x}<br>eps=%{y}<extra></extra>",
         "legendgroup": "Gen Digital",
         "line": {
          "color": "#FF97FF",
          "dash": "solid"
         },
         "marker": {
          "symbol": "circle"
         },
         "mode": "lines",
         "name": "Gen Digital",
         "showlegend": true,
         "type": "scattergl",
         "x": [
          2015,
          2016,
          2017,
          2018,
          2019,
          2020,
          2021,
          2022,
          2023,
          2024,
          2025
         ],
         "xaxis": "x",
         "y": [
          0.45,
          0.26749999999999996,
          0.3325,
          0.4275,
          0.36,
          0.2733333333333334,
          0.38,
          0.45,
          0.4625,
          0.5225,
          0.56
         ],
         "yaxis": "y"
        },
        {
         "hovertemplate": "name=Gilead Sciences<br>year=%{x}<br>eps=%{y}<extra></extra>",
         "legendgroup": "Gilead Sciences",
         "line": {
          "color": "#FECB52",
          "dash": "solid"
         },
         "marker": {
          "symbol": "circle"
         },
         "mode": "lines",
         "name": "Gilead Sciences",
         "showlegend": true,
         "type": "scattergl",
         "x": [
          2015,
          2016,
          2017,
          2018,
          2019,
          2020,
          2021,
          2022,
          2023,
          2024,
          2025
         ],
         "xaxis": "x",
         "y": [
          2.935,
          3.045,
          2.44,
          1.7525,
          1.6925,
          1.55,
          2.1975,
          1.5725,
          1.6675,
          1.1075,
          1.855
         ],
         "yaxis": "y"
        },
        {
         "hovertemplate": "name=General Mills<br>year=%{x}<br>eps=%{y}<extra></extra>",
         "legendgroup": "General Mills",
         "line": {
          "color": "#636efa",
          "dash": "solid"
         },
         "marker": {
          "symbol": "circle"
         },
         "mode": "lines",
         "name": "General Mills",
         "showlegend": true,
         "type": "scattergl",
         "x": [
          2014,
          2015,
          2016,
          2017,
          2018,
          2019,
          2020,
          2021,
          2022,
          2023,
          2024,
          2025
         ],
         "xaxis": "x",
         "y": [
          0.8,
          0.765,
          0.735,
          0.745,
          0.785,
          0.85,
          0.9825,
          0.9275,
          1.0425,
          1.1075,
          1.1625,
          1
         ],
         "yaxis": "y"
        },
        {
         "hovertemplate": "name=General Motors<br>year=%{x}<br>eps=%{y}<extra></extra>",
         "legendgroup": "General Motors",
         "line": {
          "color": "#EF553B",
          "dash": "solid"
         },
         "marker": {
          "symbol": "circle"
         },
         "mode": "lines",
         "name": "General Motors",
         "showlegend": true,
         "type": "scattergl",
         "x": [
          2015,
          2016,
          2017,
          2018,
          2019,
          2020,
          2021,
          2022,
          2023,
          2024,
          2025
         ],
         "xaxis": "x",
         "y": [
          1.21,
          1.5575,
          1.5474999999999999,
          1.69,
          1.5499999999999998,
          0.75,
          1.9175,
          1.7075,
          2.13,
          2.47,
          1.92
         ],
         "yaxis": "y"
        },
        {
         "hovertemplate": "name=Generac<br>year=%{x}<br>eps=%{y}<extra></extra>",
         "legendgroup": "Generac",
         "line": {
          "color": "#00cc96",
          "dash": "solid"
         },
         "marker": {
          "symbol": "circle"
         },
         "mode": "lines",
         "name": "Generac",
         "showlegend": true,
         "type": "scattergl",
         "x": [
          2015,
          2016,
          2017,
          2018,
          2019,
          2020,
          2021,
          2022,
          2023,
          2024,
          2025
         ],
         "xaxis": "x",
         "y": [
          0.7225,
          0.7224999999999999,
          0.7875000000000001,
          1.1625,
          1.24,
          1.47,
          2.31,
          2.335,
          1.2825,
          1.6375,
          2.8
         ],
         "yaxis": "y"
        },
        {
         "hovertemplate": "name=Alphabet Inc. (Class C)<br>year=%{x}<br>eps=%{y}<extra></extra>",
         "legendgroup": "Alphabet Inc. (Class C)",
         "line": {
          "color": "#ab63fa",
          "dash": "solid"
         },
         "marker": {
          "symbol": "circle"
         },
         "mode": "lines",
         "name": "Alphabet Inc. (Class C)",
         "showlegend": true,
         "type": "scattergl",
         "x": [
          2015,
          2016,
          2017,
          2018,
          2019,
          2020,
          2021,
          2022,
          2023,
          2024,
          2025
         ],
         "xaxis": "x",
         "y": [
          0.36,
          0.42,
          0.39749999999999996,
          0.5575,
          0.6225,
          0.6475,
          1.2975,
          1.2575,
          1.3025,
          1.885,
          2.48
         ],
         "yaxis": "y"
        },
        {
         "hovertemplate": "name=Alphabet Inc. (Class A)<br>year=%{x}<br>eps=%{y}<extra></extra>",
         "legendgroup": "Alphabet Inc. (Class A)",
         "line": {
          "color": "#FFA15A",
          "dash": "solid"
         },
         "marker": {
          "symbol": "circle"
         },
         "mode": "lines",
         "name": "Alphabet Inc. (Class A)",
         "showlegend": true,
         "type": "scattergl",
         "x": [
          2015,
          2016,
          2017,
          2018,
          2019,
          2020,
          2021,
          2022,
          2023,
          2024,
          2025
         ],
         "xaxis": "x",
         "y": [
          0.34750000000000003,
          0.42,
          0.39749999999999996,
          0.5575,
          0.6225,
          0.6475,
          1.2975,
          1.2575,
          1.3025,
          1.885,
          2.48
         ],
         "yaxis": "y"
        },
        {
         "hovertemplate": "name=Global Payments<br>year=%{x}<br>eps=%{y}<extra></extra>",
         "legendgroup": "Global Payments",
         "line": {
          "color": "#19d3f3",
          "dash": "solid"
         },
         "marker": {
          "symbol": "circle"
         },
         "mode": "lines",
         "name": "Global Payments",
         "showlegend": true,
         "type": "scattergl",
         "x": [
          2015,
          2017,
          2018,
          2019,
          2020,
          2021,
          2022,
          2023,
          2024,
          2025
         ],
         "xaxis": "x",
         "y": [
          0.6525,
          0.9575,
          1.2325,
          1.47,
          1.5550000000000002,
          1.96,
          2.26,
          2.5475,
          2.8125,
          2.95
         ],
         "yaxis": "y"
        },
        {
         "hovertemplate": "name=Garmin<br>year=%{x}<br>eps=%{y}<extra></extra>",
         "legendgroup": "Garmin",
         "line": {
          "color": "#FF6692",
          "dash": "solid"
         },
         "marker": {
          "symbol": "circle"
         },
         "mode": "lines",
         "name": "Garmin",
         "showlegend": true,
         "type": "scattergl",
         "x": [
          2015,
          2016,
          2017,
          2018,
          2019,
          2020,
          2021,
          2022,
          2023,
          2024,
          2025
         ],
         "xaxis": "x",
         "y": [
          0.6375,
          0.7125,
          0.72,
          0.865,
          1.045,
          1.1725,
          1.5,
          1.335,
          1.3075,
          1.6775,
          2.41
         ],
         "yaxis": "y"
        },
        {
         "hovertemplate": "name=Goldman Sachs<br>year=%{x}<br>eps=%{y}<extra></extra>",
         "legendgroup": "Goldman Sachs",
         "line": {
          "color": "#B6E880",
          "dash": "solid"
         },
         "marker": {
          "symbol": "circle"
         },
         "mode": "lines",
         "name": "Goldman Sachs",
         "showlegend": true,
         "type": "scattergl",
         "x": [
          2015,
          2016,
          2017,
          2018,
          2019,
          2020,
          2021,
          2022,
          2023,
          2024,
          2025
         ],
         "xaxis": "x",
         "y": [
          4.4925,
          3.99,
          4.8,
          6.2225,
          5.5875,
          5.9350000000000005,
          15.1575,
          9.3875,
          5.435,
          8.52,
          13.035
         ],
         "yaxis": "y"
        },
        {
         "hovertemplate": "name=Halliburton<br>year=%{x}<br>eps=%{y}<extra></extra>",
         "legendgroup": "Halliburton",
         "line": {
          "color": "#FF97FF",
          "dash": "solid"
         },
         "marker": {
          "symbol": "circle"
         },
         "mode": "lines",
         "name": "Halliburton",
         "showlegend": true,
         "type": "scattergl",
         "x": [
          2015,
          2016,
          2017,
          2018,
          2019,
          2020,
          2021,
          2022,
          2023,
          2024,
          2025
         ],
         "xaxis": "x",
         "y": [
          0.6074999999999999,
          0.0625,
          0.1825,
          0.505,
          0.3325,
          0.1975,
          0.2275,
          0.44999999999999996,
          0.75,
          0.7875,
          0.6499999999999999
         ],
         "yaxis": "y"
        },
        {
         "hovertemplate": "name=HCA Healthcare<br>year=%{x}<br>eps=%{y}<extra></extra>",
         "legendgroup": "HCA Healthcare",
         "line": {
          "color": "#FECB52",
          "dash": "solid"
         },
         "marker": {
          "symbol": "circle"
         },
         "mode": "lines",
         "name": "HCA Healthcare",
         "showlegend": true,
         "type": "scattergl",
         "x": [
          2015,
          2016,
          2017,
          2018,
          2019,
          2020,
          2021,
          2022,
          2023,
          2024,
          2025
         ],
         "xaxis": "x",
         "y": [
          1.3050000000000002,
          1.6675,
          1.6475,
          2.225,
          2.6,
          2.21,
          4.3025,
          4.17,
          4.4425,
          5.605,
          6.335
         ],
         "yaxis": "y"
        },
        {
         "hovertemplate": "name=Hartford (The)<br>year=%{x}<br>eps=%{y}<extra></extra>",
         "legendgroup": "Hartford (The)",
         "line": {
          "color": "#636efa",
          "dash": "solid"
         },
         "marker": {
          "symbol": "circle"
         },
         "mode": "lines",
         "name": "Hartford (The)",
         "showlegend": true,
         "type": "scattergl",
         "x": [
          2015,
          2016,
          2017,
          2018,
          2019,
          2020,
          2021,
          2022,
          2023,
          2024,
          2025
         ],
         "xaxis": "x",
         "y": [
          0.9425,
          0.8475,
          0.93,
          1.0899999999999999,
          1.25,
          1.3625,
          1.4775,
          1.8175,
          2.04,
          2.6075,
          2.5700000000000003
         ],
         "yaxis": "y"
        },
        {
         "hovertemplate": "name=Huntington Ingalls Industries<br>year=%{x}<br>eps=%{y}<extra></extra>",
         "legendgroup": "Huntington Ingalls Industries",
         "line": {
          "color": "#EF553B",
          "dash": "solid"
         },
         "marker": {
          "symbol": "circle"
         },
         "mode": "lines",
         "name": "Huntington Ingalls Industries",
         "showlegend": true,
         "type": "scattergl",
         "x": [
          2015,
          2016,
          2017,
          2018,
          2019,
          2020,
          2021,
          2022,
          2023,
          2024,
          2025
         ],
         "xaxis": "x",
         "y": [
          2.1725,
          2.545,
          3.1375,
          4.32,
          3.6500000000000004,
          3.835,
          4.17,
          3.5925000000000002,
          3.3175,
          4.4275,
          3.15
         ],
         "yaxis": "y"
        },
        {
         "hovertemplate": "name=Hilton Worldwide<br>year=%{x}<br>eps=%{y}<extra></extra>",
         "legendgroup": "Hilton Worldwide",
         "line": {
          "color": "#00cc96",
          "dash": "solid"
         },
         "marker": {
          "symbol": "circle"
         },
         "mode": "lines",
         "name": "Hilton Worldwide",
         "showlegend": true,
         "type": "scattergl",
         "x": [
          2015,
          2016,
          2017,
          2018,
          2019,
          2020,
          2021,
          2022,
          2023,
          2024,
          2025
         ],
         "xaxis": "x",
         "y": [
          0.5775,
          0.6525,
          0.54,
          0.64,
          0.925,
          0.2975,
          0.315,
          1.0075,
          1.5325,
          1.76,
          1.76
         ],
         "yaxis": "y"
        },
        {
         "hovertemplate": "name=Hologic<br>year=%{x}<br>eps=%{y}<extra></extra>",
         "legendgroup": "Hologic",
         "line": {
          "color": "#ab63fa",
          "dash": "solid"
         },
         "marker": {
          "symbol": "circle"
         },
         "mode": "lines",
         "name": "Hologic",
         "showlegend": true,
         "type": "scattergl",
         "x": [
          2015,
          2016,
          2017,
          2018,
          2019,
          2020,
          2021,
          2022,
          2023,
          2024,
          2025
         ],
         "xaxis": "x",
         "y": [
          0.415,
          0.49,
          0.505,
          0.56,
          0.61,
          1,
          2.0975,
          1.5025,
          0.9875,
          1.02,
          1.03
         ],
         "yaxis": "y"
        },
        {
         "hovertemplate": "name=Honeywell<br>year=%{x}<br>eps=%{y}<extra></extra>",
         "legendgroup": "Honeywell",
         "line": {
          "color": "#FFA15A",
          "dash": "solid"
         },
         "marker": {
          "symbol": "circle"
         },
         "mode": "lines",
         "name": "Honeywell",
         "showlegend": true,
         "type": "scattergl",
         "x": [
          2015,
          2016,
          2017,
          2018,
          2019,
          2020,
          2021,
          2022,
          2023,
          2024,
          2025
         ],
         "xaxis": "x",
         "y": [
          1.4875,
          1.5925,
          1.7375,
          1.97,
          2.0025,
          1.7725,
          2.0075,
          2.0875,
          2.2725,
          2.48,
          2.47
         ],
         "yaxis": "y"
        },
        {
         "hovertemplate": "name=Hewlett Packard Enterprise<br>year=%{x}<br>eps=%{y}<extra></extra>",
         "legendgroup": "Hewlett Packard Enterprise",
         "line": {
          "color": "#19d3f3",
          "dash": "solid"
         },
         "marker": {
          "symbol": "circle"
         },
         "mode": "lines",
         "name": "Hewlett Packard Enterprise",
         "showlegend": true,
         "type": "scattergl",
         "x": [
          2015,
          2016,
          2017,
          2018,
          2019,
          2020,
          2021,
          2022,
          2023,
          2024,
          2025
         ],
         "xaxis": "x",
         "y": [
          0.55,
          0.4825,
          0.33,
          0.3925,
          0.445,
          0.3375,
          0.4925,
          0.505,
          0.54,
          0.495,
          0.49
         ],
         "yaxis": "y"
        },
        {
         "hovertemplate": "name=Hormel Foods<br>year=%{x}<br>eps=%{y}<extra></extra>",
         "legendgroup": "Hormel Foods",
         "line": {
          "color": "#FF6692",
          "dash": "solid"
         },
         "marker": {
          "symbol": "circle"
         },
         "mode": "lines",
         "name": "Hormel Foods",
         "showlegend": true,
         "type": "scattergl",
         "x": [
          2014,
          2015,
          2016,
          2017,
          2018,
          2019,
          2020,
          2021,
          2022,
          2023,
          2024,
          2025
         ],
         "xaxis": "x",
         "y": [
          0.32,
          0.335,
          0.41000000000000003,
          0.395,
          0.445,
          0.435,
          0.4175,
          0.4325,
          0.4575,
          0.405,
          0.395,
          0.35
         ],
         "yaxis": "y"
        },
        {
         "hovertemplate": "name=Henry Schein<br>year=%{x}<br>eps=%{y}<extra></extra>",
         "legendgroup": "Henry Schein",
         "line": {
          "color": "#B6E880",
          "dash": "solid"
         },
         "marker": {
          "symbol": "circle"
         },
         "mode": "lines",
         "name": "Henry Schein",
         "showlegend": true,
         "type": "scattergl",
         "x": [
          2015,
          2016,
          2017,
          2018,
          2019,
          2020,
          2021,
          2022,
          2023,
          2024,
          2025
         ],
         "xaxis": "x",
         "y": [
          0.7325,
          0.7975,
          0.8925,
          0.9975,
          0.915,
          0.7160375,
          1.1125,
          1.155,
          1.2625,
          1.0525,
          1.19
         ],
         "yaxis": "y"
        },
        {
         "hovertemplate": "name=Host Hotels & Resorts<br>year=%{x}<br>eps=%{y}<extra></extra>",
         "legendgroup": "Host Hotels & Resorts",
         "line": {
          "color": "#FF97FF",
          "dash": "solid"
         },
         "marker": {
          "symbol": "circle"
         },
         "mode": "lines",
         "name": "Host Hotels & Resorts",
         "showlegend": true,
         "type": "scattergl",
         "x": [
          2015,
          2016,
          2017,
          2018,
          2019,
          2020,
          2021,
          2022,
          2023,
          2024,
          2025
         ],
         "xaxis": "x",
         "y": [
          0.37,
          0.41,
          0.4175,
          0.4325,
          0.405,
          0.0675,
          0.0775,
          0.41,
          0.445,
          0.4925,
          0.44
         ],
         "yaxis": "y"
        },
        {
         "hovertemplate": "name=Hershey Company (The)<br>year=%{x}<br>eps=%{y}<extra></extra>",
         "legendgroup": "Hershey Company (The)",
         "line": {
          "color": "#FECB52",
          "dash": "solid"
         },
         "marker": {
          "symbol": "circle"
         },
         "mode": "lines",
         "name": "Hershey Company (The)",
         "showlegend": true,
         "type": "scattergl",
         "x": [
          2015,
          2016,
          2017,
          2018,
          2019,
          2020,
          2021,
          2022,
          2023,
          2024,
          2025
         ],
         "xaxis": "x",
         "y": [
          1.02,
          1.08,
          1.225,
          1.2825,
          1.4425000000000001,
          1.52,
          1.745,
          2.0475,
          2.3975,
          2.175,
          2.69
         ],
         "yaxis": "y"
        },
        {
         "hovertemplate": "name=Howmet Aerospace<br>year=%{x}<br>eps=%{y}<extra></extra>",
         "legendgroup": "Howmet Aerospace",
         "line": {
          "color": "#636efa",
          "dash": "solid"
         },
         "marker": {
          "symbol": "circle"
         },
         "mode": "lines",
         "name": "Howmet Aerospace",
         "showlegend": true,
         "type": "scattergl",
         "x": [
          2015,
          2016,
          2017,
          2018,
          2019,
          2020,
          2021,
          2022,
          2023,
          2024,
          2025
         ],
         "xaxis": "x",
         "y": [
          0.6525,
          0.22,
          0.2575,
          0.335,
          0.48,
          0.375,
          0.23,
          0.32999999999999996,
          0.425,
          0.62,
          0.74
         ],
         "yaxis": "y"
        },
        {
         "hovertemplate": "name=IBM<br>year=%{x}<br>eps=%{y}<extra></extra>",
         "legendgroup": "IBM",
         "line": {
          "color": "#EF553B",
          "dash": "solid"
         },
         "marker": {
          "symbol": "circle"
         },
         "mode": "lines",
         "name": "IBM",
         "showlegend": true,
         "type": "scattergl",
         "x": [
          2015,
          2016,
          2017,
          2018,
          2019,
          2020,
          2021,
          2022,
          2023,
          2024,
          2025
         ],
         "xaxis": "x",
         "y": [
          3.9749999999999996,
          3.3575,
          3.37,
          3.5324999999999998,
          3.2425,
          2.8275,
          2.1725,
          2.2175000000000002,
          2.335,
          2.5700000000000003,
          2.76
         ],
         "yaxis": "y"
        },
        {
         "hovertemplate": "name=Intercontinental Exchange<br>year=%{x}<br>eps=%{y}<extra></extra>",
         "legendgroup": "Intercontinental Exchange",
         "line": {
          "color": "#00cc96",
          "dash": "solid"
         },
         "marker": {
          "symbol": "circle"
         },
         "mode": "lines",
         "name": "Intercontinental Exchange",
         "showlegend": true,
         "type": "scattergl",
         "x": [
          2015,
          2016,
          2017,
          2018,
          2019,
          2020,
          2021,
          2022,
          2023,
          2024,
          2025
         ],
         "xaxis": "x",
         "y": [
          0.5725,
          0.6799999999999999,
          0.7324999999999999,
          0.845,
          0.965,
          1.0825,
          1.2325,
          1.35,
          1.3875,
          1.47,
          1.52
         ],
         "yaxis": "y"
        },
        {
         "hovertemplate": "name=Idexx Laboratories<br>year=%{x}<br>eps=%{y}<extra></extra>",
         "legendgroup": "Idexx Laboratories",
         "line": {
          "color": "#ab63fa",
          "dash": "solid"
         },
         "marker": {
          "symbol": "circle"
         },
         "mode": "lines",
         "name": "Idexx Laboratories",
         "showlegend": true,
         "type": "scattergl",
         "x": [
          2015,
          2016,
          2017,
          2018,
          2019,
          2020,
          2021,
          2022,
          2023,
          2024,
          2025
         ],
         "xaxis": "x",
         "y": [
          0.5275,
          0.5875,
          0.7725,
          1.0150000000000001,
          1.205,
          1.435,
          2.1825,
          1.9675,
          2.4499999999999997,
          2.7375,
          2.62
         ],
         "yaxis": "y"
        },
        {
         "hovertemplate": "name=IDEX Corporation<br>year=%{x}<br>eps=%{y}<extra></extra>",
         "legendgroup": "IDEX Corporation",
         "line": {
          "color": "#FFA15A",
          "dash": "solid"
         },
         "marker": {
          "symbol": "circle"
         },
         "mode": "lines",
         "name": "IDEX Corporation",
         "showlegend": true,
         "type": "scattergl",
         "x": [
          2015,
          2016,
          2017,
          2018,
          2019,
          2020,
          2021,
          2022,
          2023,
          2024,
          2025
         ],
         "xaxis": "x",
         "y": [
          0.8775,
          0.9225,
          1.0375,
          1.305,
          1.4425,
          1.29,
          1.53,
          1.9175,
          2.1,
          1.9175,
          2.04
         ],
         "yaxis": "y"
        },
        {
         "hovertemplate": "name=IQVIA<br>year=%{x}<br>eps=%{y}<extra></extra>",
         "legendgroup": "IQVIA",
         "line": {
          "color": "#19d3f3",
          "dash": "solid"
         },
         "marker": {
          "symbol": "circle"
         },
         "mode": "lines",
         "name": "IQVIA",
         "showlegend": true,
         "type": "scattergl",
         "x": [
          2015,
          2016,
          2017,
          2018,
          2019,
          2020,
          2021,
          2022,
          2023,
          2024,
          2025
         ],
         "xaxis": "x",
         "y": [
          0.8133333333333334,
          0.93,
          1.095,
          1.3625,
          1.54,
          1.5125,
          2.1475,
          2.485,
          2.5375,
          2.715,
          3.12
         ],
         "yaxis": "y"
        },
        {
         "hovertemplate": "name=Ingersoll Rand<br>year=%{x}<br>eps=%{y}<extra></extra>",
         "legendgroup": "Ingersoll Rand",
         "line": {
          "color": "#FF6692",
          "dash": "solid"
         },
         "marker": {
          "symbol": "circle"
         },
         "mode": "lines",
         "name": "Ingersoll Rand",
         "showlegend": true,
         "type": "scattergl",
         "x": [
          2017,
          2018,
          2019,
          2020,
          2021,
          2022,
          2023,
          2024,
          2025
         ],
         "xaxis": "x",
         "y": [
          0.32499999999999996,
          0.4475,
          0.4475,
          0.3375,
          0.5025,
          0.5825,
          0.7050000000000001,
          0.8275,
          0.84
         ],
         "yaxis": "y"
        },
        {
         "hovertemplate": "name=Iron Mountain<br>year=%{x}<br>eps=%{y}<extra></extra>",
         "legendgroup": "Iron Mountain",
         "line": {
          "color": "#B6E880",
          "dash": "solid"
         },
         "marker": {
          "symbol": "circle"
         },
         "mode": "lines",
         "name": "Iron Mountain",
         "showlegend": true,
         "type": "scattergl",
         "x": [
          2015,
          2016,
          2017,
          2018,
          2019,
          2020,
          2021,
          2022,
          2023,
          2024,
          2025
         ],
         "xaxis": "x",
         "y": [
          0.5125,
          0.49749999999999994,
          0.52,
          0.5325,
          0.55,
          0.595,
          0.76,
          0.89,
          0.97,
          1.105,
          1.24
         ],
         "yaxis": "y"
        },
        {
         "hovertemplate": "name=Intuitive Surgical<br>year=%{x}<br>eps=%{y}<extra></extra>",
         "legendgroup": "Intuitive Surgical",
         "line": {
          "color": "#FF97FF",
          "dash": "solid"
         },
         "marker": {
          "symbol": "circle"
         },
         "mode": "lines",
         "name": "Intuitive Surgical",
         "showlegend": true,
         "type": "scattergl",
         "x": [
          2015,
          2016,
          2017,
          2018,
          2019,
          2020,
          2021,
          2022,
          2023,
          2024,
          2025
         ],
         "xaxis": "x",
         "y": [
          0.49,
          0.6125,
          0.7075,
          0.88,
          1.0325,
          0.8375,
          1.2149999999999999,
          1.19,
          1.335,
          1.6800000000000002,
          2.01
         ],
         "yaxis": "y"
        },
        {
         "hovertemplate": "name=Gartner<br>year=%{x}<br>eps=%{y}<extra></extra>",
         "legendgroup": "Gartner",
         "line": {
          "color": "#FECB52",
          "dash": "solid"
         },
         "marker": {
          "symbol": "circle"
         },
         "mode": "lines",
         "name": "Gartner",
         "showlegend": true,
         "type": "scattergl",
         "x": [
          2015,
          2016,
          2017,
          2018,
          2019,
          2020,
          2021,
          2022,
          2023,
          2024,
          2025
         ],
         "xaxis": "x",
         "y": [
          0.5475,
          0.705,
          0.775,
          0.9425,
          0.9824999999999999,
          1.1225,
          1.965,
          2.645,
          2.9975,
          2.9225000000000003,
          5.45
         ],
         "yaxis": "y"
        },
        {
         "hovertemplate": "name=Invesco<br>year=%{x}<br>eps=%{y}<extra></extra>",
         "legendgroup": "Invesco",
         "line": {
          "color": "#636efa",
          "dash": "solid"
         },
         "marker": {
          "symbol": "circle"
         },
         "mode": "lines",
         "name": "Invesco",
         "showlegend": true,
         "type": "scattergl",
         "x": [
          2015,
          2016,
          2017,
          2018,
          2019,
          2020,
          2021,
          2022,
          2023,
          2024,
          2025
         ],
         "xaxis": "x",
         "y": [
          0.625,
          0.5575,
          0.6375,
          0.68,
          0.5875,
          0.465,
          0.7375,
          0.5375,
          0.3575,
          0.4175,
          0.48
         ],
         "yaxis": "y"
        },
        {
         "hovertemplate": "name=Jacobs Solutions<br>year=%{x}<br>eps=%{y}<extra></extra>",
         "legendgroup": "Jacobs Solutions",
         "line": {
          "color": "#EF553B",
          "dash": "solid"
         },
         "marker": {
          "symbol": "circle"
         },
         "mode": "lines",
         "name": "Jacobs Solutions",
         "showlegend": true,
         "type": "scattergl",
         "x": [
          2014,
          2015,
          2016,
          2017,
          2018,
          2019,
          2020,
          2021,
          2022,
          2023,
          2024,
          2025
         ],
         "xaxis": "x",
         "y": [
          0.86,
          0.815,
          0.77,
          0.8075,
          1.1075,
          1.265,
          1.3699999999999999,
          1.5725,
          1.735,
          1.8,
          1.815,
          1.33
         ],
         "yaxis": "y"
        },
        {
         "hovertemplate": "name=J.B. Hunt<br>year=%{x}<br>eps=%{y}<extra></extra>",
         "legendgroup": "J.B. Hunt",
         "line": {
          "color": "#00cc96",
          "dash": "solid"
         },
         "marker": {
          "symbol": "circle"
         },
         "mode": "lines",
         "name": "J.B. Hunt",
         "showlegend": true,
         "type": "scattergl",
         "x": [
          2015,
          2016,
          2017,
          2018,
          2019,
          2020,
          2021,
          2022,
          2023,
          2024,
          2025
         ],
         "xaxis": "x",
         "y": [
          0.9125,
          0.9450000000000001,
          0.89,
          1.2375,
          1.4075,
          1.1625,
          1.575,
          2.3899999999999997,
          1.855,
          1.375,
          1.35
         ],
         "yaxis": "y"
        },
        {
         "hovertemplate": "name=Johnson Controls<br>year=%{x}<br>eps=%{y}<extra></extra>",
         "legendgroup": "Johnson Controls",
         "line": {
          "color": "#ab63fa",
          "dash": "solid"
         },
         "marker": {
          "symbol": "circle"
         },
         "mode": "lines",
         "name": "Johnson Controls",
         "showlegend": true,
         "type": "scattergl",
         "x": [
          2014,
          2015,
          2016,
          2017,
          2018,
          2019,
          2020,
          2021,
          2022,
          2023,
          2024,
          2025
         ],
         "xaxis": "x",
         "y": [
          0.58,
          0.5875,
          0.6725,
          0.6525,
          0.7025,
          0.5025000000000001,
          0.5625,
          0.665,
          0.7525,
          0.875,
          0.9275,
          0.64
         ],
         "yaxis": "y"
        },
        {
         "hovertemplate": "name=Jack Henry & Associates<br>year=%{x}<br>eps=%{y}<extra></extra>",
         "legendgroup": "Jack Henry & Associates",
         "line": {
          "color": "#FFA15A",
          "dash": "solid"
         },
         "marker": {
          "symbol": "circle"
         },
         "mode": "lines",
         "name": "Jack Henry & Associates",
         "showlegend": true,
         "type": "scattergl",
         "x": [
          2014,
          2015,
          2016,
          2017,
          2018,
          2019,
          2020,
          2021,
          2022,
          2023,
          2024,
          2025
         ],
         "xaxis": "x",
         "y": [
          0.64,
          0.685,
          0.7625,
          0.785,
          0.9775,
          0.9,
          0.9724999999999999,
          1.0775,
          1.255,
          1.2375,
          1.365,
          1.34
         ],
         "yaxis": "y"
        },
        {
         "hovertemplate": "name=Juniper Networks<br>year=%{x}<br>eps=%{y}<extra></extra>",
         "legendgroup": "Juniper Networks",
         "line": {
          "color": "#19d3f3",
          "dash": "solid"
         },
         "marker": {
          "symbol": "circle"
         },
         "mode": "lines",
         "name": "Juniper Networks",
         "showlegend": true,
         "type": "scattergl",
         "x": [
          2015,
          2016,
          2017,
          2018,
          2019,
          2020,
          2021,
          2022,
          2023,
          2024,
          2025
         ],
         "xaxis": "x",
         "y": [
          0.4575,
          0.52,
          0.56,
          0.4575,
          0.4325,
          0.39749999999999996,
          0.435,
          0.4675,
          0.5775,
          0.4225,
          0.64
         ],
         "yaxis": "y"
        },
        {
         "hovertemplate": "name=Keurig Dr Pepper<br>year=%{x}<br>eps=%{y}<extra></extra>",
         "legendgroup": "Keurig Dr Pepper",
         "line": {
          "color": "#FF6692",
          "dash": "solid"
         },
         "marker": {
          "symbol": "circle"
         },
         "mode": "lines",
         "name": "Keurig Dr Pepper",
         "showlegend": true,
         "type": "scattergl",
         "x": [
          2015,
          2016,
          2017,
          2018,
          2019,
          2020,
          2021,
          2022,
          2023,
          2024,
          2025
         ],
         "xaxis": "x",
         "y": [
          0.975,
          1.0899999999999999,
          1.0750000000000002,
          0.6699999999999999,
          0.2925,
          0.33999999999999997,
          0.385,
          0.40750000000000003,
          0.435,
          0.47250000000000003,
          0.5
         ],
         "yaxis": "y"
        },
        {
         "hovertemplate": "name=Keysight Technologies<br>year=%{x}<br>eps=%{y}<extra></extra>",
         "legendgroup": "Keysight Technologies",
         "line": {
          "color": "#B6E880",
          "dash": "solid"
         },
         "marker": {
          "symbol": "circle"
         },
         "mode": "lines",
         "name": "Keysight Technologies",
         "showlegend": true,
         "type": "scattergl",
         "x": [
          2015,
          2016,
          2017,
          2018,
          2019,
          2020,
          2021,
          2022,
          2023,
          2024,
          2025
         ],
         "xaxis": "x",
         "y": [
          0.63,
          0.6075,
          0.6325,
          0.81,
          1.1825,
          1.2125,
          1.5575,
          1.9075,
          2.08,
          1.565,
          1.82
         ],
         "yaxis": "y"
        },
        {
         "hovertemplate": "name=Kraft Heinz<br>year=%{x}<br>eps=%{y}<extra></extra>",
         "legendgroup": "Kraft Heinz",
         "line": {
          "color": "#FF97FF",
          "dash": "solid"
         },
         "marker": {
          "symbol": "circle"
         },
         "mode": "lines",
         "name": "Kraft Heinz",
         "showlegend": true,
         "type": "scattergl",
         "x": [
          2015,
          2016,
          2017,
          2018,
          2019,
          2020,
          2021,
          2022,
          2023,
          2024,
          2025
         ],
         "xaxis": "x",
         "y": [
          0.71,
          0.7575,
          0.89,
          0.8925000000000001,
          0.77,
          0.7,
          0.7375,
          0.6799999999999999,
          0.76,
          0.75,
          0.84
         ],
         "yaxis": "y"
        },
        {
         "hovertemplate": "name=Kimco Realty<br>year=%{x}<br>eps=%{y}<extra></extra>",
         "legendgroup": "Kimco Realty",
         "line": {
          "color": "#FECB52",
          "dash": "solid"
         },
         "marker": {
          "symbol": "circle"
         },
         "mode": "lines",
         "name": "Kimco Realty",
         "showlegend": true,
         "type": "scattergl",
         "x": [
          2014,
          2015,
          2016,
          2017,
          2018,
          2019,
          2020,
          2021,
          2022,
          2023,
          2024,
          2025
         ],
         "xaxis": "x",
         "y": [
          0.39,
          0.3775,
          0.38,
          0.36,
          0.35,
          0.3625,
          0.3075,
          0.2975,
          0.3925,
          0.40750000000000003,
          0.405,
          0.42
         ],
         "yaxis": "y"
        },
        {
         "hovertemplate": "name=Kimberly-Clark<br>year=%{x}<br>eps=%{y}<extra></extra>",
         "legendgroup": "Kimberly-Clark",
         "line": {
          "color": "#636efa",
          "dash": "solid"
         },
         "marker": {
          "symbol": "circle"
         },
         "mode": "lines",
         "name": "Kimberly-Clark",
         "showlegend": true,
         "type": "scattergl",
         "x": [
          2015,
          2016,
          2017,
          2018,
          2019,
          2020,
          2021,
          2022,
          2023,
          2024,
          2025
         ],
         "xaxis": "x",
         "y": [
          1.4224999999999999,
          1.5,
          1.5275,
          1.645,
          1.6925,
          1.94,
          1.645,
          1.3475000000000001,
          1.65,
          1.8275,
          1.7149999999999999
         ],
         "yaxis": "y"
        },
        {
         "hovertemplate": "name=Kinder Morgan<br>year=%{x}<br>eps=%{y}<extra></extra>",
         "legendgroup": "Kinder Morgan",
         "line": {
          "color": "#EF553B",
          "dash": "solid"
         },
         "marker": {
          "symbol": "circle"
         },
         "mode": "lines",
         "name": "Kinder Morgan",
         "showlegend": true,
         "type": "scattergl",
         "x": [
          2015,
          2016,
          2017,
          2018,
          2019,
          2020,
          2021,
          2022,
          2023,
          2024,
          2025
         ],
         "xaxis": "x",
         "y": [
          0.19666666666666666,
          0.175,
          0.1625,
          0.2125,
          0.235,
          0.22,
          0.32999999999999996,
          0.2775,
          0.275,
          0.2775,
          0.33
         ],
         "yaxis": "y"
        },
        {
         "hovertemplate": "name=CarMax<br>year=%{x}<br>eps=%{y}<extra></extra>",
         "legendgroup": "CarMax",
         "line": {
          "color": "#00cc96",
          "dash": "solid"
         },
         "marker": {
          "symbol": "circle"
         },
         "mode": "lines",
         "name": "CarMax",
         "showlegend": true,
         "type": "scattergl",
         "x": [
          2014,
          2015,
          2016,
          2017,
          2018,
          2019,
          2020,
          2021,
          2022,
          2023,
          2024,
          2025
         ],
         "xaxis": "x",
         "y": [
          0.6,
          0.745,
          0.81,
          0.9325,
          1.1075,
          1.29,
          1.185,
          1.8125,
          0.8925000000000001,
          0.7175,
          0.7375,
          0.64
         ],
         "yaxis": "y"
        },
        {
         "hovertemplate": "name=Coca-Cola Company (The)<br>year=%{x}<br>eps=%{y}<extra></extra>",
         "legendgroup": "Coca-Cola Company (The)",
         "line": {
          "color": "#ab63fa",
          "dash": "solid"
         },
         "marker": {
          "symbol": "circle"
         },
         "mode": "lines",
         "name": "Coca-Cola Company (The)",
         "showlegend": true,
         "type": "scattergl",
         "x": [
          2015,
          2016,
          2017,
          2018,
          2019,
          2020,
          2021,
          2022,
          2023,
          2024,
          2025
         ],
         "xaxis": "x",
         "y": [
          0.515,
          0.48,
          0.4725,
          0.5125,
          0.525,
          0.48,
          0.5875,
          0.62,
          0.6625,
          0.705,
          0.55
         ],
         "yaxis": "y"
        },
        {
         "hovertemplate": "name=Kroger<br>year=%{x}<br>eps=%{y}<extra></extra>",
         "legendgroup": "Kroger",
         "line": {
          "color": "#FFA15A",
          "dash": "solid"
         },
         "marker": {
          "symbol": "circle"
         },
         "mode": "lines",
         "name": "Kroger",
         "showlegend": true,
         "type": "scattergl",
         "x": [
          2014,
          2015,
          2016,
          2017,
          2018,
          2019,
          2020,
          2021,
          2022,
          2023,
          2024,
          2025
         ],
         "xaxis": "x",
         "y": [
          0.35,
          0.505,
          0.5375,
          0.485,
          0.5625,
          0.5275,
          0.8075,
          0.895,
          1.0799999999999998,
          1.1025,
          1.17,
          1.14
         ],
         "yaxis": "y"
        },
        {
         "hovertemplate": "name=Leidos<br>year=%{x}<br>eps=%{y}<extra></extra>",
         "legendgroup": "Leidos",
         "line": {
          "color": "#19d3f3",
          "dash": "solid"
         },
         "marker": {
          "symbol": "circle"
         },
         "mode": "lines",
         "name": "Leidos",
         "showlegend": true,
         "type": "scattergl",
         "x": [
          2015,
          2016,
          2017,
          2018,
          2019,
          2020,
          2021,
          2022,
          2023,
          2024,
          2025
         ],
         "xaxis": "x",
         "y": [
          0.6966666666666667,
          0.8575,
          0.905,
          1.04,
          1.1875,
          1.43,
          1.67,
          1.58,
          1.7825,
          2.46,
          2.37
         ],
         "yaxis": "y"
        },
        {
         "hovertemplate": "name=Lennar<br>year=%{x}<br>eps=%{y}<extra></extra>",
         "legendgroup": "Lennar",
         "line": {
          "color": "#FF6692",
          "dash": "solid"
         },
         "marker": {
          "symbol": "circle"
         },
         "mode": "lines",
         "name": "Lennar",
         "showlegend": true,
         "type": "scattergl",
         "x": [
          2015,
          2016,
          2017,
          2018,
          2019,
          2020,
          2021,
          2022,
          2023,
          2024,
          2025
         ],
         "xaxis": "x",
         "y": [
          0.906,
          0.9825,
          0.8533333333333334,
          1.32,
          1.3675000000000002,
          1.7925,
          2.9050000000000002,
          4.2325,
          3.44,
          3.5775,
          2.14
         ],
         "yaxis": "y"
        },
        {
         "hovertemplate": "name=LabCorp<br>year=%{x}<br>eps=%{y}<extra></extra>",
         "legendgroup": "LabCorp",
         "line": {
          "color": "#B6E880",
          "dash": "solid"
         },
         "marker": {
          "symbol": "circle"
         },
         "mode": "lines",
         "name": "LabCorp",
         "showlegend": true,
         "type": "scattergl",
         "x": [
          2014,
          2015,
          2016,
          2017,
          2018,
          2019,
          2020,
          2021,
          2022,
          2023,
          2024,
          2025
         ],
         "xaxis": "x",
         "y": [
          1.79,
          1.8849999999999998,
          2.14,
          2.325,
          2.7625,
          2.7425,
          4.0525,
          8.075,
          5.6274999999999995,
          3.69,
          3.605,
          3.45
         ],
         "yaxis": "y"
        },
        {
         "hovertemplate": "name=L3Harris<br>year=%{x}<br>eps=%{y}<extra></extra>",
         "legendgroup": "L3Harris",
         "line": {
          "color": "#FF97FF",
          "dash": "solid"
         },
         "marker": {
          "symbol": "circle"
         },
         "mode": "lines",
         "name": "L3Harris",
         "showlegend": true,
         "type": "scattergl",
         "x": [
          2015,
          2016,
          2017,
          2018,
          2019,
          2020,
          2021,
          2022,
          2023,
          2024,
          2025
         ],
         "xaxis": "x",
         "y": [
          1.3175000000000001,
          1.4449999999999998,
          1.4175,
          1.725,
          2.2675,
          2.83,
          3.235,
          3.2275,
          3.0725,
          3.2475,
          2.9400000000000004
         ],
         "yaxis": "y"
        },
        {
         "hovertemplate": "name=LKQ Corporation<br>year=%{x}<br>eps=%{y}<extra></extra>",
         "legendgroup": "LKQ Corporation",
         "line": {
          "color": "#FECB52",
          "dash": "solid"
         },
         "marker": {
          "symbol": "circle"
         },
         "mode": "lines",
         "name": "LKQ Corporation",
         "showlegend": true,
         "type": "scattergl",
         "x": [
          2015,
          2016,
          2017,
          2018,
          2019,
          2020,
          2021,
          2022,
          2023,
          2024,
          2025
         ],
         "xaxis": "x",
         "y": [
          0.34,
          0.435,
          0.45499999999999996,
          0.5325,
          0.575,
          0.5975,
          0.945,
          0.9825,
          0.9425,
          0.88,
          0.795
         ],
         "yaxis": "y"
        },
        {
         "hovertemplate": "name=Lockheed Martin<br>year=%{x}<br>eps=%{y}<extra></extra>",
         "legendgroup": "Lockheed Martin",
         "line": {
          "color": "#636efa",
          "dash": "solid"
         },
         "marker": {
          "symbol": "circle"
         },
         "mode": "lines",
         "name": "Lockheed Martin",
         "showlegend": true,
         "type": "scattergl",
         "x": [
          2015,
          2016,
          2017,
          2018,
          2019,
          2020,
          2021,
          2022,
          2023,
          2024,
          2025
         ],
         "xaxis": "x",
         "y": [
          2.8825,
          3.085,
          3.18,
          4.4425,
          5.195,
          5.9375,
          6.6825,
          5.6525,
          6.8425,
          6.9799999999999995,
          7.475
         ],
         "yaxis": "y"
        },
        {
         "hovertemplate": "name=Alliant Energy<br>year=%{x}<br>eps=%{y}<extra></extra>",
         "legendgroup": "Alliant Energy",
         "line": {
          "color": "#EF553B",
          "dash": "solid"
         },
         "marker": {
          "symbol": "circle"
         },
         "mode": "lines",
         "name": "Alliant Energy",
         "showlegend": true,
         "type": "scattergl",
         "x": [
          2015,
          2016,
          2017,
          2018,
          2019,
          2020,
          2021,
          2022,
          2023,
          2024,
          2025
         ],
         "xaxis": "x",
         "y": [
          0.455,
          0.44,
          0.47,
          0.5325,
          0.5575,
          0.66,
          0.6275,
          0.67,
          0.685,
          0.705,
          0.7
         ],
         "yaxis": "y"
        },
        {
         "hovertemplate": "name=Lam Research<br>year=%{x}<br>eps=%{y}<extra></extra>",
         "legendgroup": "Lam Research",
         "line": {
          "color": "#00cc96",
          "dash": "solid"
         },
         "marker": {
          "symbol": "circle"
         },
         "mode": "lines",
         "name": "Lam Research",
         "showlegend": true,
         "type": "scattergl",
         "x": [
          2015,
          2016,
          2017,
          2018,
          2019,
          2020,
          2021,
          2022,
          2023,
          2024,
          2025
         ],
         "xaxis": "x",
         "y": [
          0.1475,
          0.16,
          0.29,
          0.445,
          0.36,
          0.4625,
          0.75,
          0.8775,
          0.765,
          0.8,
          0.9750000000000001
         ],
         "yaxis": "y"
        },
        {
         "hovertemplate": "name=Lamb Weston<br>year=%{x}<br>eps=%{y}<extra></extra>",
         "legendgroup": "Lamb Weston",
         "line": {
          "color": "#ab63fa",
          "dash": "solid"
         },
         "marker": {
          "symbol": "circle"
         },
         "mode": "lines",
         "name": "Lamb Weston",
         "showlegend": true,
         "type": "scattergl",
         "x": [
          2017,
          2018,
          2019,
          2020,
          2021,
          2022,
          2023,
          2024,
          2025
         ],
         "xaxis": "x",
         "y": [
          0.575,
          0.7075,
          0.8200000000000001,
          0.58,
          0.4375,
          0.6575,
          1.39,
          0.9640000000000001,
          1.1
         ],
         "yaxis": "y"
        },
        {
         "hovertemplate": "name=LyondellBasell<br>year=%{x}<br>eps=%{y}<extra></extra>",
         "legendgroup": "LyondellBasell",
         "line": {
          "color": "#FFA15A",
          "dash": "solid"
         },
         "marker": {
          "symbol": "circle"
         },
         "mode": "lines",
         "name": "LyondellBasell",
         "showlegend": true,
         "type": "scattergl",
         "x": [
          2015,
          2016,
          2017,
          2018,
          2019,
          2020,
          2021,
          2022,
          2023,
          2024,
          2025
         ],
         "xaxis": "x",
         "y": [
          2.6675,
          2.315,
          2.4125,
          3.035,
          2.3725,
          1.355,
          4.1875,
          3.6950000000000003,
          2.1725,
          1.7275,
          0.645
         ],
         "yaxis": "y"
        },
        {
         "hovertemplate": "name=Mastercard<br>year=%{x}<br>eps=%{y}<extra></extra>",
         "legendgroup": "Mastercard",
         "line": {
          "color": "#19d3f3",
          "dash": "solid"
         },
         "marker": {
          "symbol": "circle"
         },
         "mode": "lines",
         "name": "Mastercard",
         "showlegend": true,
         "type": "scattergl",
         "x": [
          2015,
          2016,
          2017,
          2018,
          2019,
          2020,
          2021,
          2022,
          2023,
          2024,
          2025
         ],
         "xaxis": "x",
         "y": [
          0.84,
          0.9225,
          1.0775000000000001,
          1.52,
          1.8425,
          1.6875,
          1.925,
          2.5875,
          2.9325,
          3.4925,
          3.82
         ],
         "yaxis": "y"
        },
        {
         "hovertemplate": "name=Mid-America Apartment Communities<br>year=%{x}<br>eps=%{y}<extra></extra>",
         "legendgroup": "Mid-America Apartment Communities",
         "line": {
          "color": "#FF6692",
          "dash": "solid"
         },
         "marker": {
          "symbol": "circle"
         },
         "mode": "lines",
         "name": "Mid-America Apartment Communities",
         "showlegend": true,
         "type": "scattergl",
         "x": [
          2015,
          2016,
          2017,
          2018,
          2019,
          2020,
          2021,
          2022,
          2023,
          2024,
          2025
         ],
         "xaxis": "x",
         "y": [
          1.3050000000000002,
          1.3875,
          1.4849999999999999,
          1.4975,
          1.5575,
          1.52,
          1.69,
          1.895,
          2.13,
          2.2425,
          2.23
         ],
         "yaxis": "y"
        },
        {
         "hovertemplate": "name=Microchip Technology<br>year=%{x}<br>eps=%{y}<extra></extra>",
         "legendgroup": "Microchip Technology",
         "line": {
          "color": "#B6E880",
          "dash": "solid"
         },
         "marker": {
          "symbol": "circle"
         },
         "mode": "lines",
         "name": "Microchip Technology",
         "showlegend": true,
         "type": "scattergl",
         "x": [
          2015,
          2016,
          2017,
          2018,
          2019,
          2020,
          2021,
          2022,
          2023,
          2024,
          2025
         ],
         "xaxis": "x",
         "y": [
          0.335,
          0.39,
          0.62,
          0.775,
          0.75,
          0.7375,
          0.9500000000000001,
          1.345,
          1.615,
          0.66,
          0.2
         ],
         "yaxis": "y"
        },
        {
         "hovertemplate": "name=McKesson Corporation<br>year=%{x}<br>eps=%{y}<extra></extra>",
         "legendgroup": "McKesson Corporation",
         "line": {
          "color": "#FF97FF",
          "dash": "solid"
         },
         "marker": {
          "symbol": "circle"
         },
         "mode": "lines",
         "name": "McKesson Corporation",
         "showlegend": true,
         "type": "scattergl",
         "x": [
          2015,
          2016,
          2017,
          2018,
          2019,
          2020,
          2021,
          2022,
          2023,
          2024,
          2025
         ],
         "xaxis": "x",
         "y": [
          3.0700000000000003,
          3.015,
          3.045,
          3.35,
          3.5,
          3.9125,
          5.34,
          5.9675,
          6.8975,
          7.2175,
          8.03
         ],
         "yaxis": "y"
        },
        {
         "hovertemplate": "name=Moody's Corporation<br>year=%{x}<br>eps=%{y}<extra></extra>",
         "legendgroup": "Moody's Corporation",
         "line": {
          "color": "#FECB52",
          "dash": "solid"
         },
         "marker": {
          "symbol": "circle"
         },
         "mode": "lines",
         "name": "Moody's Corporation",
         "showlegend": true,
         "type": "scattergl",
         "x": [
          2015,
          2016,
          2017,
          2018,
          2019,
          2020,
          2021,
          2022,
          2023,
          2024,
          2025
         ],
         "xaxis": "x",
         "y": [
          1.155,
          1.165,
          1.4325,
          1.815,
          1.98,
          2.5575,
          2.9699999999999998,
          2.3225000000000002,
          2.33,
          3.0125,
          3.225
         ],
         "yaxis": "y"
        },
        {
         "hovertemplate": "name=Mondelez International<br>year=%{x}<br>eps=%{y}<extra></extra>",
         "legendgroup": "Mondelez International",
         "line": {
          "color": "#636efa",
          "dash": "solid"
         },
         "marker": {
          "symbol": "circle"
         },
         "mode": "lines",
         "name": "Mondelez International",
         "showlegend": true,
         "type": "scattergl",
         "x": [
          2015,
          2016,
          2017,
          2018,
          2019,
          2020,
          2021,
          2022,
          2023,
          2024,
          2025
         ],
         "xaxis": "x",
         "y": [
          0.4425,
          0.475,
          0.5125,
          0.5925,
          0.6225,
          0.64,
          0.7,
          0.7424999999999999,
          0.8,
          0.9099999999999999,
          0.65
         ],
         "yaxis": "y"
        },
        {
         "hovertemplate": "name=MetLife<br>year=%{x}<br>eps=%{y}<extra></extra>",
         "legendgroup": "MetLife",
         "line": {
          "color": "#EF553B",
          "dash": "solid"
         },
         "marker": {
          "symbol": "circle"
         },
         "mode": "lines",
         "name": "MetLife",
         "showlegend": true,
         "type": "scattergl",
         "x": [
          2015,
          2016,
          2017,
          2018,
          2019,
          2020,
          2021,
          2022,
          2023,
          2024,
          2025
         ],
         "xaxis": "x",
         "y": [
          1.25,
          1.135,
          1.3,
          1.2875,
          1.37,
          1.53,
          2.2475,
          1.865,
          1.745,
          1.9975,
          2.08
         ],
         "yaxis": "y"
        },
        {
         "hovertemplate": "name=Meta Platforms<br>year=%{x}<br>eps=%{y}<extra></extra>",
         "legendgroup": "Meta Platforms",
         "line": {
          "color": "#00cc96",
          "dash": "solid"
         },
         "marker": {
          "symbol": "circle"
         },
         "mode": "lines",
         "name": "Meta Platforms",
         "showlegend": true,
         "type": "scattergl",
         "x": [
          2015,
          2016,
          2017,
          2018,
          2019,
          2020,
          2021,
          2022,
          2023,
          2024,
          2025
         ],
         "xaxis": "x",
         "y": [
          0.5075000000000001,
          0.905,
          1.405,
          1.85,
          2.0949999999999998,
          2.1174999999999997,
          3.5025,
          2.6225,
          3.1425,
          5.3075,
          8.02
         ],
         "yaxis": "y"
        },
        {
         "hovertemplate": "name=Mohawk Industries<br>year=%{x}<br>eps=%{y}<extra></extra>",
         "legendgroup": "Mohawk Industries",
         "line": {
          "color": "#ab63fa",
          "dash": "solid"
         },
         "marker": {
          "symbol": "circle"
         },
         "mode": "lines",
         "name": "Mohawk Industries",
         "showlegend": true,
         "type": "scattergl",
         "x": [
          2015,
          2016,
          2017,
          2018,
          2019,
          2020,
          2021,
          2022,
          2023,
          2024,
          2025
         ],
         "xaxis": "x",
         "y": [
          2.41,
          3.0425,
          3.3625,
          3.3075,
          2.575,
          1.8849999999999998,
          3.8575,
          3.62,
          2.1375,
          2.43,
          1.95
         ],
         "yaxis": "y"
        },
        {
         "hovertemplate": "name=McCormick & Company<br>year=%{x}<br>eps=%{y}<extra></extra>",
         "legendgroup": "McCormick & Company",
         "line": {
          "color": "#FFA15A",
          "dash": "solid"
         },
         "marker": {
          "symbol": "circle"
         },
         "mode": "lines",
         "name": "McCormick & Company",
         "showlegend": true,
         "type": "scattergl",
         "x": [
          2015,
          2016,
          2017,
          2018,
          2019,
          2020,
          2021,
          2022,
          2023,
          2024,
          2025
         ],
         "xaxis": "x",
         "y": [
          0.435,
          0.46499999999999997,
          0.4975,
          0.605,
          0.6775,
          0.7150000000000001,
          0.75,
          0.6599999999999999,
          0.6425,
          0.75,
          0.7
         ],
         "yaxis": "y"
        },
        {
         "hovertemplate": "name=MarketAxess<br>year=%{x}<br>eps=%{y}<extra></extra>",
         "legendgroup": "MarketAxess",
         "line": {
          "color": "#19d3f3",
          "dash": "solid"
         },
         "marker": {
          "symbol": "circle"
         },
         "mode": "lines",
         "name": "MarketAxess",
         "showlegend": true,
         "type": "scattergl",
         "x": [
          2015,
          2016,
          2017,
          2018,
          2019,
          2020,
          2021,
          2022,
          2023,
          2024,
          2025
         ],
         "xaxis": "x",
         "y": [
          0.615,
          0.78,
          0.9725,
          1.0625,
          1.3225,
          1.8150000000000002,
          1.8275,
          1.61,
          1.6475,
          1.9075,
          1.73
         ],
         "yaxis": "y"
        },
        {
         "hovertemplate": "name=Martin Marietta Materials<br>year=%{x}<br>eps=%{y}<extra></extra>",
         "legendgroup": "Martin Marietta Materials",
         "line": {
          "color": "#FF6692",
          "dash": "solid"
         },
         "marker": {
          "symbol": "circle"
         },
         "mode": "lines",
         "name": "Martin Marietta Materials",
         "showlegend": true,
         "type": "scattergl",
         "x": [
          2015,
          2016,
          2017,
          2018,
          2019,
          2020,
          2021,
          2022,
          2023,
          2024,
          2025
         ],
         "xaxis": "x",
         "y": [
          1.09,
          1.5575,
          1.715,
          2.035,
          2.335,
          2.46,
          3.0075000000000003,
          3.0525,
          4.4350000000000005,
          4.3075,
          4.79
         ],
         "yaxis": "y"
        },
        {
         "hovertemplate": "name=3M<br>year=%{x}<br>eps=%{y}<extra></extra>",
         "legendgroup": "3M",
         "line": {
          "color": "#B6E880",
          "dash": "solid"
         },
         "marker": {
          "symbol": "circle"
         },
         "mode": "lines",
         "name": "3M",
         "showlegend": true,
         "type": "scattergl",
         "x": [
          2015,
          2016,
          2017,
          2018,
          2019,
          2020,
          2021,
          2022,
          2023,
          2024,
          2025
         ],
         "xaxis": "x",
         "y": [
          1.9575,
          1.9849999999999999,
          2.1550000000000002,
          2.4425,
          2.33,
          2.13,
          2.5475,
          2.5324999999999998,
          2.275,
          2.1799999999999997,
          1.7799999999999998
         ],
         "yaxis": "y"
        },
        {
         "hovertemplate": "name=Monster Beverage<br>year=%{x}<br>eps=%{y}<extra></extra>",
         "legendgroup": "Monster Beverage",
         "line": {
          "color": "#FF97FF",
          "dash": "solid"
         },
         "marker": {
          "symbol": "circle"
         },
         "mode": "lines",
         "name": "Monster Beverage",
         "showlegend": true,
         "type": "scattergl",
         "x": [
          2015,
          2016,
          2017,
          2018,
          2019,
          2020,
          2021,
          2022,
          2023,
          2024,
          2025
         ],
         "xaxis": "x",
         "y": [
          0.1225,
          0.14500000000000002,
          0.1875,
          0.2175,
          0.2525,
          0.2825,
          0.3275,
          0.28500000000000003,
          0.3675,
          0.40249999999999997,
          0.38
         ],
         "yaxis": "y"
        },
        {
         "hovertemplate": "name=Altria<br>year=%{x}<br>eps=%{y}<extra></extra>",
         "legendgroup": "Altria",
         "line": {
          "color": "#FECB52",
          "dash": "solid"
         },
         "marker": {
          "symbol": "circle"
         },
         "mode": "lines",
         "name": "Altria",
         "showlegend": true,
         "type": "scattergl",
         "x": [
          2015,
          2016,
          2017,
          2018,
          2019,
          2020,
          2021,
          2022,
          2023,
          2024,
          2025
         ],
         "xaxis": "x",
         "y": [
          0.6950000000000001,
          0.755,
          0.79,
          0.9875,
          1.0075,
          1.0975000000000001,
          1.1275,
          1.1875,
          1.2375,
          1.255,
          1.29
         ],
         "yaxis": "y"
        },
        {
         "hovertemplate": "name=Molina Healthcare<br>year=%{x}<br>eps=%{y}<extra></extra>",
         "legendgroup": "Molina Healthcare",
         "line": {
          "color": "#636efa",
          "dash": "solid"
         },
         "marker": {
          "symbol": "circle"
         },
         "mode": "lines",
         "name": "Molina Healthcare",
         "showlegend": true,
         "type": "scattergl",
         "x": [
          2015,
          2016,
          2017,
          2018,
          2019,
          2020,
          2021,
          2022,
          2023,
          2024,
          2025
         ],
         "xaxis": "x",
         "y": [
          0.685,
          0.6625,
          0.8049999999999999,
          1.6175,
          3.005,
          3.4749999999999996,
          2.54,
          4.1725,
          5.1525,
          5.495,
          5.5649999999999995
         ],
         "yaxis": "y"
        },
        {
         "hovertemplate": "name=Monolithic Power Systems<br>year=%{x}<br>eps=%{y}<extra></extra>",
         "legendgroup": "Monolithic Power Systems",
         "line": {
          "color": "#EF553B",
          "dash": "solid"
         },
         "marker": {
          "symbol": "circle"
         },
         "mode": "lines",
         "name": "Monolithic Power Systems",
         "showlegend": true,
         "type": "scattergl",
         "x": [
          2015,
          2016,
          2017,
          2018,
          2019,
          2020,
          2021,
          2022,
          2023,
          2024,
          2025
         ],
         "xaxis": "x",
         "y": [
          0.4525,
          0.54,
          0.6875,
          0.8925000000000001,
          0.9575,
          1.19,
          1.6600000000000001,
          2.8375,
          3.0175,
          3.23,
          4.09
         ],
         "yaxis": "y"
        },
        {
         "hovertemplate": "name=Merck & Co.<br>year=%{x}<br>eps=%{y}<extra></extra>",
         "legendgroup": "Merck & Co.",
         "line": {
          "color": "#00cc96",
          "dash": "solid"
         },
         "marker": {
          "symbol": "circle"
         },
         "mode": "lines",
         "name": "Merck & Co.",
         "showlegend": true,
         "type": "scattergl",
         "x": [
          2015,
          2016,
          2017,
          2018,
          2019,
          2020,
          2021,
          2022,
          2023,
          2024,
          2025
         ],
         "xaxis": "x",
         "y": [
          0.885,
          0.9550000000000001,
          0.9725,
          1.07,
          1.2675,
          1.4425,
          1.445,
          1.915,
          0.7725,
          1.4875,
          1.9700000000000002
         ],
         "yaxis": "y"
        },
        {
         "hovertemplate": "name=MSCI<br>year=%{x}<br>eps=%{y}<extra></extra>",
         "legendgroup": "MSCI",
         "line": {
          "color": "#ab63fa",
          "dash": "solid"
         },
         "marker": {
          "symbol": "circle"
         },
         "mode": "lines",
         "name": "MSCI",
         "showlegend": true,
         "type": "scattergl",
         "x": [
          2015,
          2016,
          2017,
          2018,
          2019,
          2020,
          2021,
          2022,
          2023,
          2024,
          2025
         ],
         "xaxis": "x",
         "y": [
          0.5375,
          0.72,
          0.91,
          1.2775,
          1.52,
          1.885,
          2.35,
          2.78,
          3.1725,
          3.675,
          4.09
         ],
         "yaxis": "y"
        },
        {
         "hovertemplate": "name=Motorola Solutions<br>year=%{x}<br>eps=%{y}<extra></extra>",
         "legendgroup": "Motorola Solutions",
         "line": {
          "color": "#FFA15A",
          "dash": "solid"
         },
         "marker": {
          "symbol": "circle"
         },
         "mode": "lines",
         "name": "Motorola Solutions",
         "showlegend": true,
         "type": "scattergl",
         "x": [
          2015,
          2016,
          2017,
          2018,
          2019,
          2020,
          2021,
          2022,
          2023,
          2024,
          2025
         ],
         "xaxis": "x",
         "y": [
          0.7825,
          1.115,
          1.3475,
          1.65,
          1.91,
          1.9425,
          2.2875,
          2.4050000000000002,
          2.915,
          3.4225000000000003,
          4.04
         ],
         "yaxis": "y"
        },
        {
         "hovertemplate": "name=M&T Bank<br>year=%{x}<br>eps=%{y}<extra></extra>",
         "legendgroup": "M&T Bank",
         "line": {
          "color": "#19d3f3",
          "dash": "solid"
         },
         "marker": {
          "symbol": "circle"
         },
         "mode": "lines",
         "name": "M&T Bank",
         "showlegend": true,
         "type": "scattergl",
         "x": [
          2015,
          2016,
          2017,
          2018,
          2019,
          2020,
          2021,
          2022,
          2023,
          2024,
          2025
         ],
         "xaxis": "x",
         "y": [
          1.8533333333333333,
          2.0125,
          2.165,
          3.0975,
          3.5475,
          2.505,
          3.5025,
          3.1550000000000002,
          4.3325,
          3.605,
          3.65
         ],
         "yaxis": "y"
        },
        {
         "hovertemplate": "name=Match Group<br>year=%{x}<br>eps=%{y}<extra></extra>",
         "legendgroup": "Match Group",
         "line": {
          "color": "#FF6692",
          "dash": "solid"
         },
         "marker": {
          "symbol": "circle"
         },
         "mode": "lines",
         "name": "Match Group",
         "showlegend": true,
         "type": "scattergl",
         "x": [
          2016,
          2017,
          2018,
          2019,
          2020,
          2021,
          2022,
          2023,
          2024,
          2025
         ],
         "xaxis": "x",
         "y": [
          0.58,
          0.74,
          1.48,
          1.12,
          0.515,
          0.485,
          0.3625,
          0.4425,
          0.56,
          0.82
         ],
         "yaxis": "y"
        },
        {
         "hovertemplate": "name=Mettler Toledo<br>year=%{x}<br>eps=%{y}<extra></extra>",
         "legendgroup": "Mettler Toledo",
         "line": {
          "color": "#B6E880",
          "dash": "solid"
         },
         "marker": {
          "symbol": "circle"
         },
         "mode": "lines",
         "name": "Mettler Toledo",
         "showlegend": true,
         "type": "scattergl",
         "x": [
          2015,
          2016,
          2017,
          2018,
          2019,
          2020,
          2021,
          2022,
          2023,
          2024,
          2025
         ],
         "xaxis": "x",
         "y": [
          3.1375,
          3.555,
          4.225,
          4.87,
          5.47,
          6.0225,
          8.16,
          9.4925,
          10.195,
          9.537500000000001,
          12.41
         ],
         "yaxis": "y"
        },
        {
         "hovertemplate": "name=Nasdaq, Inc.<br>year=%{x}<br>eps=%{y}<extra></extra>",
         "legendgroup": "Nasdaq, Inc.",
         "line": {
          "color": "#FF97FF",
          "dash": "solid"
         },
         "marker": {
          "symbol": "circle"
         },
         "mode": "lines",
         "name": "Nasdaq, Inc.",
         "showlegend": true,
         "type": "scattergl",
         "x": [
          2015,
          2016,
          2017,
          2018,
          2019,
          2020,
          2021,
          2022,
          2023,
          2024,
          2025
         ],
         "xaxis": "x",
         "y": [
          0.2725,
          0.3,
          0.345,
          0.3825,
          0.415,
          0.4875,
          0.6,
          0.6675,
          0.6875,
          0.695,
          0.775
         ],
         "yaxis": "y"
        },
        {
         "hovertemplate": "name=Nordson Corporation<br>year=%{x}<br>eps=%{y}<extra></extra>",
         "legendgroup": "Nordson Corporation",
         "line": {
          "color": "#FECB52",
          "dash": "solid"
         },
         "marker": {
          "symbol": "circle"
         },
         "mode": "lines",
         "name": "Nordson Corporation",
         "showlegend": true,
         "type": "scattergl",
         "x": [
          2014,
          2015,
          2016,
          2017,
          2018,
          2019,
          2020,
          2021,
          2022,
          2023,
          2024,
          2025
         ],
         "xaxis": "x",
         "y": [
          1.15,
          0.8999999999999999,
          1.165,
          1.3425,
          1.4875,
          1.4675,
          1.37,
          1.935,
          2.3575,
          2.255,
          2.435,
          2.06
         ],
         "yaxis": "y"
        },
        {
         "hovertemplate": "name=Netflix<br>year=%{x}<br>eps=%{y}<extra></extra>",
         "legendgroup": "Netflix",
         "line": {
          "color": "#636efa",
          "dash": "solid"
         },
         "marker": {
          "symbol": "circle"
         },
         "mode": "lines",
         "name": "Netflix",
         "showlegend": true,
         "type": "scattergl",
         "x": [
          2015,
          2016,
          2017,
          2018,
          2019,
          2020,
          2021,
          2022,
          2023,
          2024,
          2025
         ],
         "xaxis": "x",
         "y": [
          0.07250000000000001,
          0.08499999999999999,
          0.2475,
          0.6975,
          0.7825,
          1.55,
          2.775,
          2.79,
          2.505,
          4.4175,
          5.4399999999999995
         ],
         "yaxis": "y"
        },
        {
         "hovertemplate": "name=NiSource<br>year=%{x}<br>eps=%{y}<extra></extra>",
         "legendgroup": "NiSource",
         "line": {
          "color": "#EF553B",
          "dash": "solid"
         },
         "marker": {
          "symbol": "circle"
         },
         "mode": "lines",
         "name": "NiSource",
         "showlegend": true,
         "type": "scattergl",
         "x": [
          2015,
          2016,
          2017,
          2018,
          2019,
          2020,
          2021,
          2022,
          2023,
          2024,
          2025
         ],
         "xaxis": "x",
         "y": [
          0.4,
          0.2625,
          0.3025,
          0.3175,
          0.4166666666666667,
          0.3575,
          0.3375,
          0.33999999999999997,
          0.3925,
          0.4475,
          0.49
         ],
         "yaxis": "y"
        },
        {
         "hovertemplate": "name=Northrop Grumman<br>year=%{x}<br>eps=%{y}<extra></extra>",
         "legendgroup": "Northrop Grumman",
         "line": {
          "color": "#00cc96",
          "dash": "solid"
         },
         "marker": {
          "symbol": "circle"
         },
         "mode": "lines",
         "name": "Northrop Grumman",
         "showlegend": true,
         "type": "scattergl",
         "x": [
          2015,
          2016,
          2017,
          2018,
          2019,
          2020,
          2021,
          2022,
          2023,
          2024,
          2025
         ],
         "xaxis": "x",
         "y": [
          2.5475000000000003,
          2.7125,
          3.29,
          4.1899999999999995,
          5.135,
          5.7475000000000005,
          6.5525,
          6.095,
          6.13,
          6.4875,
          6.225
         ],
         "yaxis": "y"
        },
        {
         "hovertemplate": "name=ServiceNow<br>year=%{x}<br>eps=%{y}<extra></extra>",
         "legendgroup": "ServiceNow",
         "line": {
          "color": "#ab63fa",
          "dash": "solid"
         },
         "marker": {
          "symbol": "circle"
         },
         "mode": "lines",
         "name": "ServiceNow",
         "showlegend": true,
         "type": "scattergl",
         "x": [
          2015,
          2016,
          2017,
          2018,
          2019,
          2020,
          2021,
          2022,
          2023,
          2024,
          2025
         ],
         "xaxis": "x",
         "y": [
          0.07333333333333333,
          0.165,
          0.27,
          0.52,
          0.785,
          1.1125,
          1.415,
          1.6925,
          2.485,
          3.3425000000000002,
          3.855
         ],
         "yaxis": "y"
        },
        {
         "hovertemplate": "name=Norfolk Southern Railway<br>year=%{x}<br>eps=%{y}<extra></extra>",
         "legendgroup": "Norfolk Southern Railway",
         "line": {
          "color": "#FFA15A",
          "dash": "solid"
         },
         "marker": {
          "symbol": "circle"
         },
         "mode": "lines",
         "name": "Norfolk Southern Railway",
         "showlegend": true,
         "type": "scattergl",
         "x": [
          2015,
          2016,
          2017,
          2018,
          2019,
          2020,
          2021,
          2022,
          2023,
          2024,
          2025
         ],
         "xaxis": "x",
         "y": [
          1.405,
          1.35,
          1.5899999999999999,
          2.16,
          2.5675,
          2.2925,
          2.9074999999999998,
          3.4,
          3.085,
          2.9075,
          2.865
         ],
         "yaxis": "y"
        },
        {
         "hovertemplate": "name=NetApp<br>year=%{x}<br>eps=%{y}<extra></extra>",
         "legendgroup": "NetApp",
         "line": {
          "color": "#19d3f3",
          "dash": "solid"
         },
         "marker": {
          "symbol": "circle"
         },
         "mode": "lines",
         "name": "NetApp",
         "showlegend": true,
         "type": "scattergl",
         "x": [
          2015,
          2016,
          2017,
          2018,
          2019,
          2020,
          2021,
          2022,
          2023,
          2024,
          2025
         ],
         "xaxis": "x",
         "y": [
          0.575,
          0.5775,
          0.7775,
          1.0350000000000001,
          1.04,
          1.0325,
          1.175,
          1.385,
          1.4100000000000001,
          1.7925,
          1.91
         ],
         "yaxis": "y"
        },
        {
         "hovertemplate": "name=Nvidia<br>year=%{x}<br>eps=%{y}<extra></extra>",
         "legendgroup": "Nvidia",
         "line": {
          "color": "#FF6692",
          "dash": "solid"
         },
         "marker": {
          "symbol": "circle"
         },
         "mode": "lines",
         "name": "Nvidia",
         "showlegend": true,
         "type": "scattergl",
         "x": [
          2013,
          2014,
          2015,
          2016,
          2017,
          2018,
          2019,
          2020,
          2021,
          2022,
          2023,
          2024,
          2025
         ],
         "xaxis": "x",
         "y": [
          0.01,
          0.01,
          0.01,
          0.0125,
          0.025,
          0.0475,
          0.0275,
          0.05500000000000001,
          0.0975,
          0.095,
          0.2175,
          0.655,
          0.89
         ],
         "yaxis": "y"
        },
        {
         "hovertemplate": "name=NVR, Inc.<br>year=%{x}<br>eps=%{y}<extra></extra>",
         "legendgroup": "NVR, Inc.",
         "line": {
          "color": "#B6E880",
          "dash": "solid"
         },
         "marker": {
          "symbol": "circle"
         },
         "mode": "lines",
         "name": "NVR, Inc.",
         "showlegend": true,
         "type": "scattergl",
         "x": [
          2015,
          2016,
          2017,
          2018,
          2019,
          2020,
          2021,
          2022,
          2023,
          2024,
          2025
         ],
         "xaxis": "x",
         "y": [
          20.369999999999997,
          24.545,
          34.0325,
          44.655,
          53.8525,
          54.245,
          77.2575,
          111.9525,
          118.7825,
          122.28999999999999,
          117.38
         ],
         "yaxis": "y"
        },
        {
         "hovertemplate": "name=News Corp (Class B)<br>year=%{x}<br>eps=%{y}<extra></extra>",
         "legendgroup": "News Corp (Class B)",
         "line": {
          "color": "#FF97FF",
          "dash": "solid"
         },
         "marker": {
          "symbol": "circle"
         },
         "mode": "lines",
         "name": "News Corp (Class B)",
         "showlegend": true,
         "type": "scattergl",
         "x": [
          2022,
          2023,
          2024,
          2025
         ],
         "xaxis": "x",
         "y": [
          0.27249999999999996,
          0.1325,
          0.1875,
          0.33
         ],
         "yaxis": "y"
        },
        {
         "hovertemplate": "name=News Corp (Class A)<br>year=%{x}<br>eps=%{y}<extra></extra>",
         "legendgroup": "News Corp (Class A)",
         "line": {
          "color": "#FECB52",
          "dash": "solid"
         },
         "marker": {
          "symbol": "circle"
         },
         "mode": "lines",
         "name": "News Corp (Class A)",
         "showlegend": true,
         "type": "scattergl",
         "x": [
          2015,
          2016,
          2017,
          2018,
          2019,
          2020,
          2021,
          2022,
          2023,
          2024,
          2025
         ],
         "xaxis": "x",
         "y": [
          0.10750000000000001,
          0.11333333333333334,
          0.11,
          0.1375,
          0.09666666666666668,
          0.06,
          0.20500000000000002,
          0.27249999999999996,
          0.1325,
          0.1875,
          0.33
         ],
         "yaxis": "y"
        },
        {
         "hovertemplate": "name=NXP Semiconductors<br>year=%{x}<br>eps=%{y}<extra></extra>",
         "legendgroup": "NXP Semiconductors",
         "line": {
          "color": "#636efa",
          "dash": "solid"
         },
         "marker": {
          "symbol": "circle"
         },
         "mode": "lines",
         "name": "NXP Semiconductors",
         "showlegend": true,
         "type": "scattergl",
         "x": [
          2015,
          2016,
          2017,
          2018,
          2019,
          2020,
          2021,
          2022,
          2023,
          2024,
          2025
         ],
         "xaxis": "x",
         "y": [
          1.4275,
          1.255,
          1.58,
          1.895,
          2.2275,
          1.7125,
          2.5475,
          3.7700000000000005,
          3.5125,
          3.4000000000000004,
          3.18
         ],
         "yaxis": "y"
        },
        {
         "hovertemplate": "name=Realty Income<br>year=%{x}<br>eps=%{y}<extra></extra>",
         "legendgroup": "Realty Income",
         "line": {
          "color": "#EF553B",
          "dash": "solid"
         },
         "marker": {
          "symbol": "circle"
         },
         "mode": "lines",
         "name": "Realty Income",
         "showlegend": true,
         "type": "scattergl",
         "x": [
          2015,
          2016,
          2017,
          2018,
          2019,
          2020,
          2021,
          2022,
          2023,
          2024,
          2025
         ],
         "xaxis": "x",
         "y": [
          0.6775,
          0.71,
          0.765,
          0.79,
          0.815,
          0.8525,
          0.8725,
          0.9675,
          1,
          1.0375,
          1.05
         ],
         "yaxis": "y"
        },
        {
         "hovertemplate": "name=Old Dominion<br>year=%{x}<br>eps=%{y}<extra></extra>",
         "legendgroup": "Old Dominion",
         "line": {
          "color": "#00cc96",
          "dash": "solid"
         },
         "marker": {
          "symbol": "circle"
         },
         "mode": "lines",
         "name": "Old Dominion",
         "showlegend": true,
         "type": "scattergl",
         "x": [
          2015,
          2016,
          2017,
          2018,
          2019,
          2020,
          2021,
          2022,
          2023,
          2024,
          2025
         ],
         "xaxis": "x",
         "y": [
          0.2925,
          0.2975,
          0.34,
          0.545,
          0.65,
          0.6625,
          1.015,
          1.46,
          1.4075,
          1.43,
          1.21
         ],
         "yaxis": "y"
        },
        {
         "hovertemplate": "name=ONEOK<br>year=%{x}<br>eps=%{y}<extra></extra>",
         "legendgroup": "ONEOK",
         "line": {
          "color": "#ab63fa",
          "dash": "solid"
         },
         "marker": {
          "symbol": "circle"
         },
         "mode": "lines",
         "name": "ONEOK",
         "showlegend": true,
         "type": "scattergl",
         "x": [
          2015,
          2016,
          2017,
          2018,
          2019,
          2020,
          2021,
          2022,
          2023,
          2024,
          2025
         ],
         "xaxis": "x",
         "y": [
          0.3775,
          0.425,
          0.41,
          0.6475,
          0.75,
          0.655,
          0.8,
          0.9175,
          1.3625,
          1.195,
          1.57
         ],
         "yaxis": "y"
        },
        {
         "hovertemplate": "name=ON Semiconductor<br>year=%{x}<br>eps=%{y}<extra></extra>",
         "legendgroup": "ON Semiconductor",
         "line": {
          "color": "#FFA15A",
          "dash": "solid"
         },
         "marker": {
          "symbol": "circle"
         },
         "mode": "lines",
         "name": "ON Semiconductor",
         "showlegend": true,
         "type": "scattergl",
         "x": [
          2015,
          2016,
          2017,
          2018,
          2019,
          2020,
          2021,
          2022,
          2023,
          2024,
          2025
         ],
         "xaxis": "x",
         "y": [
          0.20500000000000002,
          0.2,
          0.27249999999999996,
          0.455,
          0.4275,
          0.1975,
          0.55,
          1.275,
          1.3075,
          1.07,
          0.95
         ],
         "yaxis": "y"
        },
        {
         "hovertemplate": "name=O'Reilly Auto Parts<br>year=%{x}<br>eps=%{y}<extra></extra>",
         "legendgroup": "O'Reilly Auto Parts",
         "line": {
          "color": "#19d3f3",
          "dash": "solid"
         },
         "marker": {
          "symbol": "circle"
         },
         "mode": "lines",
         "name": "O'Reilly Auto Parts",
         "showlegend": true,
         "type": "scattergl",
         "x": [
          2015,
          2016,
          2017,
          2018,
          2019,
          2020,
          2021,
          2022,
          2023,
          2024,
          2025
         ],
         "xaxis": "x",
         "y": [
          2.1875,
          2.5825,
          2.8625,
          3.8225,
          4.34,
          5.5975,
          7.215,
          8.19,
          9.4,
          10.105,
          9.655000000000001
         ],
         "yaxis": "y"
        },
        {
         "hovertemplate": "name=Otis Worldwide<br>year=%{x}<br>eps=%{y}<extra></extra>",
         "legendgroup": "Otis Worldwide",
         "line": {
          "color": "#FF6692",
          "dash": "solid"
         },
         "marker": {
          "symbol": "circle"
         },
         "mode": "lines",
         "name": "Otis Worldwide",
         "showlegend": true,
         "type": "scattergl",
         "x": [
          2020,
          2021,
          2022,
          2023,
          2024,
          2025
         ],
         "xaxis": "x",
         "y": [
          0.6166666666666667,
          0.735,
          0.7875,
          0.855,
          0.9425,
          0.925
         ],
         "yaxis": "y"
        },
        {
         "hovertemplate": "name=Paycom<br>year=%{x}<br>eps=%{y}<extra></extra>",
         "legendgroup": "Paycom",
         "line": {
          "color": "#B6E880",
          "dash": "solid"
         },
         "marker": {
          "symbol": "circle"
         },
         "mode": "lines",
         "name": "Paycom",
         "showlegend": true,
         "type": "scattergl",
         "x": [
          2015,
          2016,
          2017,
          2018,
          2019,
          2020,
          2021,
          2022,
          2023,
          2024,
          2025
         ],
         "xaxis": "x",
         "y": [
          0.09,
          0.1975,
          0.3,
          0.5875,
          0.8125,
          0.8775,
          1.05,
          1.385,
          1.895,
          1.9525,
          2.32
         ],
         "yaxis": "y"
        },
        {
         "hovertemplate": "name=Paychex<br>year=%{x}<br>eps=%{y}<extra></extra>",
         "legendgroup": "Paychex",
         "line": {
          "color": "#FF97FF",
          "dash": "solid"
         },
         "marker": {
          "symbol": "circle"
         },
         "mode": "lines",
         "name": "Paychex",
         "showlegend": true,
         "type": "scattergl",
         "x": [
          2014,
          2015,
          2016,
          2017,
          2018,
          2019,
          2020,
          2021,
          2022,
          2023,
          2024,
          2025
         ],
         "xaxis": "x",
         "y": [
          0.47,
          0.485,
          0.5175,
          0.575,
          0.64,
          0.7324999999999999,
          0.735,
          0.87,
          0.995,
          1.12,
          1.2,
          1.49
         ],
         "yaxis": "y"
        },
        {
         "hovertemplate": "name=Public Service Enterprise Group<br>year=%{x}<br>eps=%{y}<extra></extra>",
         "legendgroup": "Public Service Enterprise Group",
         "line": {
          "color": "#FECB52",
          "dash": "solid"
         },
         "marker": {
          "symbol": "circle"
         },
         "mode": "lines",
         "name": "Public Service Enterprise Group",
         "showlegend": true,
         "type": "scattergl",
         "x": [
          2022,
          2023,
          2024,
          2025
         ],
         "xaxis": "x",
         "y": [
          0.88,
          0.895,
          0.845,
          0.84
         ],
         "yaxis": "y"
        },
        {
         "hovertemplate": "name=PepsiCo<br>year=%{x}<br>eps=%{y}<extra></extra>",
         "legendgroup": "PepsiCo",
         "line": {
          "color": "#636efa",
          "dash": "solid"
         },
         "marker": {
          "symbol": "circle"
         },
         "mode": "lines",
         "name": "PepsiCo",
         "showlegend": true,
         "type": "scattergl",
         "x": [
          2015,
          2016,
          2017,
          2018,
          2019,
          2020,
          2021,
          2022,
          2023,
          2024,
          2025
         ],
         "xaxis": "x",
         "y": [
          1.155,
          1.175,
          1.265,
          1.3675000000000002,
          1.3900000000000001,
          1.375,
          1.5474999999999999,
          1.5599999999999998,
          1.8775,
          1.995,
          1.72
         ],
         "yaxis": "y"
        },
        {
         "hovertemplate": "name=Pfizer<br>year=%{x}<br>eps=%{y}<extra></extra>",
         "legendgroup": "Pfizer",
         "line": {
          "color": "#EF553B",
          "dash": "solid"
         },
         "marker": {
          "symbol": "circle"
         },
         "mode": "lines",
         "name": "Pfizer",
         "showlegend": true,
         "type": "scattergl",
         "x": [
          2015,
          2016,
          2017,
          2018,
          2019,
          2020,
          2021,
          2022,
          2023,
          2024,
          2025
         ],
         "xaxis": "x",
         "y": [
          0.5525,
          0.6125,
          0.625,
          0.745,
          0.76,
          0.7125,
          0.9400000000000001,
          1.6425,
          0.7175,
          0.645,
          0.63
         ],
         "yaxis": "y"
        },
        {
         "hovertemplate": "name=Principal Financial Group<br>year=%{x}<br>eps=%{y}<extra></extra>",
         "legendgroup": "Principal Financial Group",
         "line": {
          "color": "#00cc96",
          "dash": "solid"
         },
         "marker": {
          "symbol": "circle"
         },
         "mode": "lines",
         "name": "Principal Financial Group",
         "showlegend": true,
         "type": "scattergl",
         "x": [
          2015,
          2016,
          2017,
          2018,
          2019,
          2020,
          2021,
          2022,
          2023,
          2024,
          2025
         ],
         "xaxis": "x",
         "y": [
          1.0825,
          1.0725,
          1.2825,
          1.4024999999999999,
          1.3225,
          1.2175,
          1.6,
          1.705,
          1.6075,
          1.7175,
          1.875
         ],
         "yaxis": "y"
        },
        {
         "hovertemplate": "name=Procter & Gamble<br>year=%{x}<br>eps=%{y}<extra></extra>",
         "legendgroup": "Procter & Gamble",
         "line": {
          "color": "#ab63fa",
          "dash": "solid"
         },
         "marker": {
          "symbol": "circle"
         },
         "mode": "lines",
         "name": "Procter & Gamble",
         "showlegend": true,
         "type": "scattergl",
         "x": [
          2015,
          2016,
          2017,
          2018,
          2019,
          2020,
          2021,
          2022,
          2023,
          2024,
          2025
         ],
         "xaxis": "x",
         "y": [
          0.99,
          0.93,
          0.995,
          1.0625,
          1.195,
          1.345,
          1.41,
          1.4425,
          1.54,
          1.6724999999999999,
          1.71
         ],
         "yaxis": "y"
        },
        {
         "hovertemplate": "name=Packaging Corporation of America<br>year=%{x}<br>eps=%{y}<extra></extra>",
         "legendgroup": "Packaging Corporation of America",
         "line": {
          "color": "#FFA15A",
          "dash": "solid"
         },
         "marker": {
          "symbol": "circle"
         },
         "mode": "lines",
         "name": "Packaging Corporation of America",
         "showlegend": true,
         "type": "scattergl",
         "x": [
          2015,
          2016,
          2017,
          2018,
          2019,
          2020,
          2021,
          2022,
          2023,
          2024,
          2025
         ],
         "xaxis": "x",
         "y": [
          1.1524999999999999,
          1.185,
          1.425,
          1.855,
          2.0275,
          1.54,
          1.99,
          2.885,
          2.2275,
          2.175,
          2.39
         ],
         "yaxis": "y"
        },
        {
         "hovertemplate": "name=Prologis<br>year=%{x}<br>eps=%{y}<extra></extra>",
         "legendgroup": "Prologis",
         "line": {
          "color": "#19d3f3",
          "dash": "solid"
         },
         "marker": {
          "symbol": "circle"
         },
         "mode": "lines",
         "name": "Prologis",
         "showlegend": true,
         "type": "scattergl",
         "x": [
          2015,
          2016,
          2017,
          2018,
          2019,
          2020,
          2021,
          2022,
          2023,
          2024,
          2025
         ],
         "xaxis": "x",
         "y": [
          0.495,
          0.5725,
          0.6925,
          0.6125,
          0.7,
          0.825,
          0.925,
          1.0975000000000001,
          1.2675,
          1.24,
          1.46
         ],
         "yaxis": "y"
        },
        {
         "hovertemplate": "name=Philip Morris International<br>year=%{x}<br>eps=%{y}<extra></extra>",
         "legendgroup": "Philip Morris International",
         "line": {
          "color": "#FF6692",
          "dash": "solid"
         },
         "marker": {
          "symbol": "circle"
         },
         "mode": "lines",
         "name": "Philip Morris International",
         "showlegend": true,
         "type": "scattergl",
         "x": [
          2015,
          2016,
          2017,
          2018,
          2019,
          2020,
          2021,
          2022,
          2023,
          2024,
          2025
         ],
         "xaxis": "x",
         "y": [
          1.2033333333333334,
          1.0474999999999999,
          1.1225,
          1.29,
          1.3075,
          1.285,
          1.495,
          1.48,
          1.51,
          1.59,
          1.62
         ],
         "yaxis": "y"
        },
        {
         "hovertemplate": "name=Pentair<br>year=%{x}<br>eps=%{y}<extra></extra>",
         "legendgroup": "Pentair",
         "line": {
          "color": "#B6E880",
          "dash": "solid"
         },
         "marker": {
          "symbol": "circle"
         },
         "mode": "lines",
         "name": "Pentair",
         "showlegend": true,
         "type": "scattergl",
         "x": [
          2015,
          2016,
          2017,
          2018,
          2019,
          2020,
          2021,
          2022,
          2023,
          2024,
          2025
         ],
         "xaxis": "x",
         "y": [
          0.9075,
          0.9450000000000001,
          0.845,
          0.765,
          0.575,
          0.6225,
          0.81,
          0.9325,
          0.925,
          1.03,
          1.0950000000000002
         ],
         "yaxis": "y"
        },
        {
         "hovertemplate": "name=Pool Corporation<br>year=%{x}<br>eps=%{y}<extra></extra>",
         "legendgroup": "Pool Corporation",
         "line": {
          "color": "#FF97FF",
          "dash": "solid"
         },
         "marker": {
          "symbol": "circle"
         },
         "mode": "lines",
         "name": "Pool Corporation",
         "showlegend": true,
         "type": "scattergl",
         "x": [
          2015,
          2016,
          2017,
          2018,
          2019,
          2020,
          2021,
          2022,
          2023,
          2024,
          2025
         ],
         "xaxis": "x",
         "y": [
          0.6975,
          0.865,
          0.9575,
          1.355,
          1.5425,
          2.0325,
          3.6875,
          4.8175,
          3.455,
          2.905,
          1.145
         ],
         "yaxis": "y"
        },
        {
         "hovertemplate": "name=PPG Industries<br>year=%{x}<br>eps=%{y}<extra></extra>",
         "legendgroup": "PPG Industries",
         "line": {
          "color": "#FECB52",
          "dash": "solid"
         },
         "marker": {
          "symbol": "circle"
         },
         "mode": "lines",
         "name": "PPG Industries",
         "showlegend": true,
         "type": "scattergl",
         "x": [
          2015,
          2016,
          2017,
          2018,
          2019,
          2020,
          2021,
          2022,
          2023,
          2024,
          2025
         ],
         "xaxis": "x",
         "y": [
          1.3825,
          1.4875,
          1.4725000000000001,
          1.4825,
          1.5125,
          1.355,
          1.775,
          1.525,
          1.8399999999999999,
          2.005,
          1.61
         ],
         "yaxis": "y"
        },
        {
         "hovertemplate": "name=PPL Corporation<br>year=%{x}<br>eps=%{y}<extra></extra>",
         "legendgroup": "PPL Corporation",
         "line": {
          "color": "#636efa",
          "dash": "solid"
         },
         "marker": {
          "symbol": "circle"
         },
         "mode": "lines",
         "name": "PPL Corporation",
         "showlegend": true,
         "type": "scattergl",
         "x": [
          2015,
          2016,
          2017,
          2018,
          2019,
          2020,
          2021,
          2022,
          2023,
          2024,
          2025
         ],
         "xaxis": "x",
         "y": [
          0.5875,
          0.5725,
          0.575,
          0.6075,
          0.6025,
          0.5925,
          0.355,
          0.33499999999999996,
          0.37,
          0.43500000000000005,
          0.34
         ],
         "yaxis": "y"
        },
        {
         "hovertemplate": "name=Prudential Financial<br>year=%{x}<br>eps=%{y}<extra></extra>",
         "legendgroup": "Prudential Financial",
         "line": {
          "color": "#EF553B",
          "dash": "solid"
         },
         "marker": {
          "symbol": "circle"
         },
         "mode": "lines",
         "name": "Prudential Financial",
         "showlegend": true,
         "type": "scattergl",
         "x": [
          2015,
          2016,
          2017,
          2018,
          2019,
          2020,
          2021,
          2022,
          2023,
          2024,
          2025
         ],
         "xaxis": "x",
         "y": [
          2.555,
          2.1550000000000002,
          2.5875,
          2.9825,
          2.95,
          2.4275,
          3.6525,
          2.555,
          2.865,
          3.1425,
          2.96
         ],
         "yaxis": "y"
        },
        {
         "hovertemplate": "name=Public Storage<br>year=%{x}<br>eps=%{y}<extra></extra>",
         "legendgroup": "Public Storage",
         "line": {
          "color": "#00cc96",
          "dash": "solid"
         },
         "marker": {
          "symbol": "circle"
         },
         "mode": "lines",
         "name": "Public Storage",
         "showlegend": true,
         "type": "scattergl",
         "x": [
          2015,
          2016,
          2017,
          2018,
          2019,
          2020,
          2021,
          2022,
          2023,
          2024,
          2025
         ],
         "xaxis": "x",
         "y": [
          1.835,
          1.99,
          2.3225,
          2.4825,
          2.315,
          2.6275,
          2.7025,
          3.3375,
          3.6100000000000003,
          4.165,
          4.21
         ],
         "yaxis": "y"
        },
        {
         "hovertemplate": "name=PTC Inc.<br>year=%{x}<br>eps=%{y}<extra></extra>",
         "legendgroup": "PTC Inc.",
         "line": {
          "color": "#ab63fa",
          "dash": "solid"
         },
         "marker": {
          "symbol": "circle"
         },
         "mode": "lines",
         "name": "PTC Inc.",
         "showlegend": true,
         "type": "scattergl",
         "x": [
          2015,
          2016,
          2017,
          2018,
          2019,
          2020,
          2021,
          2022,
          2023,
          2024,
          2025
         ],
         "xaxis": "x",
         "y": [
          0.5575,
          0.2975,
          0.29500000000000004,
          0.365,
          0.485,
          0.64,
          0.9950000000000001,
          1.145,
          1.085,
          1.2725,
          1.1
         ],
         "yaxis": "y"
        },
        {
         "hovertemplate": "name=Quanta Services<br>year=%{x}<br>eps=%{y}<extra></extra>",
         "legendgroup": "Quanta Services",
         "line": {
          "color": "#FFA15A",
          "dash": "solid"
         },
         "marker": {
          "symbol": "circle"
         },
         "mode": "lines",
         "name": "Quanta Services",
         "showlegend": true,
         "type": "scattergl",
         "x": [
          2015,
          2016,
          2017,
          2018,
          2019,
          2020,
          2021,
          2022,
          2023,
          2024,
          2025
         ],
         "xaxis": "x",
         "y": [
          0.33999999999999997,
          0.315,
          0.52,
          0.58,
          0.8425,
          0.885,
          1.1475,
          1.5550000000000002,
          1.7025000000000001,
          2.0175,
          2.94
         ],
         "yaxis": "y"
        },
        {
         "hovertemplate": "name=PayPal<br>year=%{x}<br>eps=%{y}<extra></extra>",
         "legendgroup": "PayPal",
         "line": {
          "color": "#19d3f3",
          "dash": "solid"
         },
         "marker": {
          "symbol": "circle"
         },
         "mode": "lines",
         "name": "PayPal",
         "showlegend": true,
         "type": "scattergl",
         "x": [
          2015,
          2016,
          2017,
          2018,
          2019,
          2020,
          2021,
          2022,
          2023,
          2024,
          2025
         ],
         "xaxis": "x",
         "y": [
          0.32,
          0.36,
          0.445,
          0.57,
          0.735,
          0.915,
          1.1400000000000001,
          1,
          1.2175,
          1.3175,
          1.19
         ],
         "yaxis": "y"
        },
        {
         "hovertemplate": "name=Qualcomm<br>year=%{x}<br>eps=%{y}<extra></extra>",
         "legendgroup": "Qualcomm",
         "line": {
          "color": "#FF6692",
          "dash": "solid"
         },
         "marker": {
          "symbol": "circle"
         },
         "mode": "lines",
         "name": "Qualcomm",
         "showlegend": true,
         "type": "scattergl",
         "x": [
          2015,
          2016,
          2017,
          2018,
          2019,
          2020,
          2021,
          2022,
          2023,
          2024,
          2025
         ],
         "xaxis": "x",
         "y": [
          1.16,
          1.1125,
          1.07,
          0.8575,
          0.8875,
          1.045,
          2.135,
          3.1325,
          2.1025,
          2.5525,
          3.41
         ],
         "yaxis": "y"
        },
        {
         "hovertemplate": "name=Regency Centers<br>year=%{x}<br>eps=%{y}<extra></extra>",
         "legendgroup": "Regency Centers",
         "line": {
          "color": "#B6E880",
          "dash": "solid"
         },
         "marker": {
          "symbol": "circle"
         },
         "mode": "lines",
         "name": "Regency Centers",
         "showlegend": true,
         "type": "scattergl",
         "x": [
          2015,
          2016,
          2017,
          2018,
          2019,
          2020,
          2021,
          2022,
          2023,
          2024,
          2025
         ],
         "xaxis": "x",
         "y": [
          0.6625,
          0.8200000000000001,
          0.91,
          0.9425,
          0.975,
          0.82,
          0.835,
          1.02,
          1.0275,
          1.0575,
          1.09
         ],
         "yaxis": "y"
        },
        {
         "hovertemplate": "name=Regeneron Pharmaceuticals<br>year=%{x}<br>eps=%{y}<extra></extra>",
         "legendgroup": "Regeneron Pharmaceuticals",
         "line": {
          "color": "#FF97FF",
          "dash": "solid"
         },
         "marker": {
          "symbol": "circle"
         },
         "mode": "lines",
         "name": "Regeneron Pharmaceuticals",
         "showlegend": true,
         "type": "scattergl",
         "x": [
          2015,
          2016,
          2017,
          2018,
          2019,
          2020,
          2021,
          2022,
          2023,
          2024,
          2025
         ],
         "xaxis": "x",
         "y": [
          3.0075000000000003,
          2.8375,
          3.5300000000000002,
          5.305,
          5.995,
          7.404999999999999,
          14.897499999999999,
          12.79,
          11.120000000000001,
          11.3575,
          12.07
         ],
         "yaxis": "y"
        },
        {
         "hovertemplate": "name=Regions Financial Corporation<br>year=%{x}<br>eps=%{y}<extra></extra>",
         "legendgroup": "Regions Financial Corporation",
         "line": {
          "color": "#FECB52",
          "dash": "solid"
         },
         "marker": {
          "symbol": "circle"
         },
         "mode": "lines",
         "name": "Regions Financial Corporation",
         "showlegend": true,
         "type": "scattergl",
         "x": [
          2015,
          2016,
          2017,
          2018,
          2019,
          2020,
          2021,
          2022,
          2023,
          2024,
          2025
         ],
         "xaxis": "x",
         "y": [
          0.175,
          0.2075,
          0.2425,
          0.3275,
          0.375,
          0.195,
          0.665,
          0.5325,
          0.59,
          0.4675,
          0.565
         ],
         "yaxis": "y"
        },
        {
         "hovertemplate": "name=Raymond James Financial<br>year=%{x}<br>eps=%{y}<extra></extra>",
         "legendgroup": "Raymond James Financial",
         "line": {
          "color": "#636efa",
          "dash": "solid"
         },
         "marker": {
          "symbol": "circle"
         },
         "mode": "lines",
         "name": "Raymond James Financial",
         "showlegend": true,
         "type": "scattergl",
         "x": [
          2015,
          2016,
          2017,
          2018,
          2019,
          2020,
          2021,
          2022,
          2023,
          2024,
          2025
         ],
         "xaxis": "x",
         "y": [
          0.5725,
          0.64,
          0.845,
          1.0775000000000001,
          1.2325,
          1.0175,
          1.7625,
          1.84,
          2.075,
          2.5125,
          2.675
         ],
         "yaxis": "y"
        },
        {
         "hovertemplate": "name=Ralph Lauren Corporation<br>year=%{x}<br>eps=%{y}<extra></extra>",
         "legendgroup": "Ralph Lauren Corporation",
         "line": {
          "color": "#EF553B",
          "dash": "solid"
         },
         "marker": {
          "symbol": "circle"
         },
         "mode": "lines",
         "name": "Ralph Lauren Corporation",
         "showlegend": true,
         "type": "scattergl",
         "x": [
          2015,
          2016,
          2017,
          2018,
          2019,
          2020,
          2021,
          2022,
          2023,
          2024,
          2025
         ],
         "xaxis": "x",
         "y": [
          1.76,
          1.5274999999999999,
          1.4625,
          1.6824999999999999,
          1.9275,
          0.44999999999999996,
          1.74,
          1.885,
          2.1725,
          2.7800000000000002,
          4.82
         ],
         "yaxis": "y"
        },
        {
         "hovertemplate": "name=ResMed<br>year=%{x}<br>eps=%{y}<extra></extra>",
         "legendgroup": "ResMed",
         "line": {
          "color": "#00cc96",
          "dash": "solid"
         },
         "marker": {
          "symbol": "circle"
         },
         "mode": "lines",
         "name": "ResMed",
         "showlegend": true,
         "type": "scattergl",
         "x": [
          2015,
          2016,
          2017,
          2018,
          2019,
          2020,
          2021,
          2022,
          2023,
          2024,
          2025
         ],
         "xaxis": "x",
         "y": [
          0.64,
          0.6825,
          0.7175,
          0.92,
          0.9425,
          1.275,
          1.3925,
          1.4475,
          1.645,
          2.0725,
          2.4000000000000004
         ],
         "yaxis": "y"
        },
        {
         "hovertemplate": "name=Rockwell Automation<br>year=%{x}<br>eps=%{y}<extra></extra>",
         "legendgroup": "Rockwell Automation",
         "line": {
          "color": "#ab63fa",
          "dash": "solid"
         },
         "marker": {
          "symbol": "circle"
         },
         "mode": "lines",
         "name": "Rockwell Automation",
         "showlegend": true,
         "type": "scattergl",
         "x": [
          2015,
          2016,
          2017,
          2018,
          2019,
          2020,
          2021,
          2022,
          2023,
          2024,
          2025
         ],
         "xaxis": "x",
         "y": [
          1.5975000000000001,
          1.4825,
          1.6875,
          2.03,
          2.165,
          1.92,
          2.3575,
          2.375,
          3.03,
          2.43,
          1.83
         ],
         "yaxis": "y"
        },
        {
         "hovertemplate": "name=Rollins, Inc.<br>year=%{x}<br>eps=%{y}<extra></extra>",
         "legendgroup": "Rollins, Inc.",
         "line": {
          "color": "#FFA15A",
          "dash": "solid"
         },
         "marker": {
          "symbol": "circle"
         },
         "mode": "lines",
         "name": "Rollins, Inc.",
         "showlegend": true,
         "type": "scattergl",
         "x": [
          2015,
          2016,
          2017,
          2018,
          2019,
          2020,
          2021,
          2022,
          2023,
          2024,
          2025
         ],
         "xaxis": "x",
         "y": [
          0.075,
          0.085,
          0.095,
          0.115,
          0.12,
          0.13,
          0.165,
          0.1775,
          0.21500000000000002,
          0.2425,
          0.225
         ],
         "yaxis": "y"
        },
        {
         "hovertemplate": "name=Roper Technologies<br>year=%{x}<br>eps=%{y}<extra></extra>",
         "legendgroup": "Roper Technologies",
         "line": {
          "color": "#19d3f3",
          "dash": "solid"
         },
         "marker": {
          "symbol": "circle"
         },
         "mode": "lines",
         "name": "Roper Technologies",
         "showlegend": true,
         "type": "scattergl",
         "x": [
          2015,
          2016,
          2017,
          2018,
          2019,
          2020,
          2021,
          2022,
          2023,
          2024,
          2025
         ],
         "xaxis": "x",
         "y": [
          1.6775,
          1.6325,
          2.1425,
          2.8225,
          3.2199999999999998,
          3.1375,
          3.7075,
          3.7800000000000002,
          4.065,
          4.470000000000001,
          4.81
         ],
         "yaxis": "y"
        },
        {
         "hovertemplate": "name=Ross Stores<br>year=%{x}<br>eps=%{y}<extra></extra>",
         "legendgroup": "Ross Stores",
         "line": {
          "color": "#FF6692",
          "dash": "solid"
         },
         "marker": {
          "symbol": "circle"
         },
         "mode": "lines",
         "name": "Ross Stores",
         "showlegend": true,
         "type": "scattergl",
         "x": [
          2014,
          2015,
          2016,
          2017,
          2018,
          2019,
          2020,
          2021,
          2022,
          2023,
          2024,
          2025
         ],
         "xaxis": "x",
         "y": [
          0.47,
          0.6075,
          0.6799999999999999,
          0.7825,
          0.9625,
          1.1124999999999998,
          0.6699999999999999,
          1.1225,
          1.0150000000000001,
          1.2625000000000002,
          1.5875,
          1.79
         ],
         "yaxis": "y"
        },
        {
         "hovertemplate": "name=Republic Services<br>year=%{x}<br>eps=%{y}<extra></extra>",
         "legendgroup": "Republic Services",
         "line": {
          "color": "#B6E880",
          "dash": "solid"
         },
         "marker": {
          "symbol": "circle"
         },
         "mode": "lines",
         "name": "Republic Services",
         "showlegend": true,
         "type": "scattergl",
         "x": [
          2015,
          2016,
          2017,
          2018,
          2019,
          2020,
          2021,
          2022,
          2023,
          2024,
          2025
         ],
         "xaxis": "x",
         "y": [
          0.515,
          0.5375,
          0.6,
          0.725,
          0.8075,
          0.8725,
          1.0325,
          1.205,
          1.33,
          1.57,
          1.58
         ],
         "yaxis": "y"
        },
        {
         "hovertemplate": "name=RTX Corporation<br>year=%{x}<br>eps=%{y}<extra></extra>",
         "legendgroup": "RTX Corporation",
         "line": {
          "color": "#FF97FF",
          "dash": "solid"
         },
         "marker": {
          "symbol": "circle"
         },
         "mode": "lines",
         "name": "RTX Corporation",
         "showlegend": true,
         "type": "scattergl",
         "x": [
          2015,
          2016,
          2017,
          2018,
          2019,
          2020,
          2021,
          2022,
          2023,
          2024,
          2025
         ],
         "xaxis": "x",
         "y": [
          1.635,
          1.5925,
          1.655,
          1.8175,
          2.0675,
          1.175,
          0.9825,
          1.15,
          1.2575,
          1.3725,
          1.505
         ],
         "yaxis": "y"
        },
        {
         "hovertemplate": "name=Starbucks<br>year=%{x}<br>eps=%{y}<extra></extra>",
         "legendgroup": "Starbucks",
         "line": {
          "color": "#FECB52",
          "dash": "solid"
         },
         "marker": {
          "symbol": "circle"
         },
         "mode": "lines",
         "name": "Starbucks",
         "showlegend": true,
         "type": "scattergl",
         "x": [
          2014,
          2015,
          2016,
          2017,
          2018,
          2019,
          2020,
          2021,
          2022,
          2023,
          2024,
          2025
         ],
         "xaxis": "x",
         "y": [
          0.37,
          0.395,
          0.47500000000000003,
          0.5175000000000001,
          0.605,
          0.69,
          0.29000000000000004,
          0.81,
          0.74,
          0.8875,
          0.8275,
          0.69
         ],
         "yaxis": "y"
        },
        {
         "hovertemplate": "name=Sherwin-Williams<br>year=%{x}<br>eps=%{y}<extra></extra>",
         "legendgroup": "Sherwin-Williams",
         "line": {
          "color": "#636efa",
          "dash": "solid"
         },
         "marker": {
          "symbol": "circle"
         },
         "mode": "lines",
         "name": "Sherwin-Williams",
         "showlegend": true,
         "type": "scattergl",
         "x": [
          2015,
          2016,
          2017,
          2018,
          2019,
          2020,
          2021,
          2022,
          2023,
          2024,
          2025
         ],
         "xaxis": "x",
         "y": [
          0.8675,
          1.0175,
          1.165,
          1.4925,
          1.6975,
          1.9775,
          2.125,
          2.0475000000000003,
          2.605,
          2.7625,
          2.09
         ],
         "yaxis": "y"
        },
        {
         "hovertemplate": "name=J.M. Smucker Company (The)<br>year=%{x}<br>eps=%{y}<extra></extra>",
         "legendgroup": "J.M. Smucker Company (The)",
         "line": {
          "color": "#EF553B",
          "dash": "solid"
         },
         "marker": {
          "symbol": "circle"
         },
         "mode": "lines",
         "name": "J.M. Smucker Company (The)",
         "showlegend": true,
         "type": "scattergl",
         "x": [
          2014,
          2015,
          2016,
          2017,
          2018,
          2019,
          2020,
          2021,
          2022,
          2023,
          2024,
          2025
         ],
         "xaxis": "x",
         "y": [
          1.53,
          1.365,
          1.7425,
          1.8325,
          2.12,
          2.045,
          2.42,
          2.1675,
          2.1574999999999998,
          2.4125,
          2.585,
          2.61
         ],
         "yaxis": "y"
        },
        {
         "hovertemplate": "name=Schlumberger<br>year=%{x}<br>eps=%{y}<extra></extra>",
         "legendgroup": "Schlumberger",
         "line": {
          "color": "#00cc96",
          "dash": "solid"
         },
         "marker": {
          "symbol": "circle"
         },
         "mode": "lines",
         "name": "Schlumberger",
         "showlegend": true,
         "type": "scattergl",
         "x": [
          2015,
          2016,
          2017,
          2018,
          2019,
          2020,
          2021,
          2022,
          2023,
          2024,
          2025
         ],
         "xaxis": "x",
         "y": [
          1.0550000000000002,
          0.3825,
          0.3225,
          0.4375,
          0.36,
          0.21250000000000002,
          0.27249999999999996,
          0.47,
          0.71,
          0.8375,
          0.8200000000000001
         ],
         "yaxis": "y"
        },
        {
         "hovertemplate": "name=Synopsys<br>year=%{x}<br>eps=%{y}<extra></extra>",
         "legendgroup": "Synopsys",
         "line": {
          "color": "#ab63fa",
          "dash": "solid"
         },
         "marker": {
          "symbol": "circle"
         },
         "mode": "lines",
         "name": "Synopsys",
         "showlegend": true,
         "type": "scattergl",
         "x": [
          2014,
          2015,
          2016,
          2017,
          2018,
          2019,
          2020,
          2021,
          2022,
          2023,
          2024,
          2025
         ],
         "xaxis": "x",
         "y": [
          0.64,
          0.6950000000000001,
          0.755,
          0.8574999999999999,
          0.9775,
          1.1425,
          1.3875,
          1.7125,
          2.2275,
          2.8025,
          3.3475,
          3.03
         ],
         "yaxis": "y"
        },
        {
         "hovertemplate": "name=Southern Company<br>year=%{x}<br>eps=%{y}<extra></extra>",
         "legendgroup": "Southern Company",
         "line": {
          "color": "#FFA15A",
          "dash": "solid"
         },
         "marker": {
          "symbol": "circle"
         },
         "mode": "lines",
         "name": "Southern Company",
         "showlegend": true,
         "type": "scattergl",
         "x": [
          2015,
          2016,
          2017,
          2018,
          2019,
          2020,
          2021,
          2022,
          2023,
          2024,
          2025
         ],
         "xaxis": "x",
         "y": [
          0.705,
          0.76,
          0.6875,
          0.8325,
          0.7725,
          0.7625,
          0.88,
          0.9275,
          0.815,
          1.05,
          0.5
         ],
         "yaxis": "y"
        },
        {
         "hovertemplate": "name=Simon Property Group<br>year=%{x}<br>eps=%{y}<extra></extra>",
         "legendgroup": "Simon Property Group",
         "line": {
          "color": "#19d3f3",
          "dash": "solid"
         },
         "marker": {
          "symbol": "circle"
         },
         "mode": "lines",
         "name": "Simon Property Group",
         "showlegend": true,
         "type": "scattergl",
         "x": [
          2015,
          2016,
          2017,
          2018,
          2019,
          2020,
          2021,
          2022,
          2023,
          2024,
          2025
         ],
         "xaxis": "x",
         "y": [
          2.48,
          2.6725,
          2.7525000000000004,
          3.005,
          2.78,
          2.4775,
          2.675,
          2.95,
          2.9925,
          3.2475,
          3.68
         ],
         "yaxis": "y"
        },
        {
         "hovertemplate": "name=S&P Global<br>year=%{x}<br>eps=%{y}<extra></extra>",
         "legendgroup": "S&P Global",
         "line": {
          "color": "#FF6692",
          "dash": "solid"
         },
         "marker": {
          "symbol": "circle"
         },
         "mode": "lines",
         "name": "S&P Global",
         "showlegend": true,
         "type": "scattergl",
         "x": [
          2015,
          2016,
          2017,
          2018,
          2019,
          2020,
          2021,
          2022,
          2023,
          2024,
          2025
         ],
         "xaxis": "x",
         "y": [
          1.1099999999999999,
          1.2774999999999999,
          1.5825,
          2.0324999999999998,
          2.305,
          2.8775,
          3.315,
          2.9450000000000003,
          3.005,
          3.7675,
          3.77
         ],
         "yaxis": "y"
        },
        {
         "hovertemplate": "name=Sempra<br>year=%{x}<br>eps=%{y}<extra></extra>",
         "legendgroup": "Sempra",
         "line": {
          "color": "#B6E880",
          "dash": "solid"
         },
         "marker": {
          "symbol": "circle"
         },
         "mode": "lines",
         "name": "Sempra",
         "showlegend": true,
         "type": "scattergl",
         "x": [
          2015,
          2016,
          2017,
          2018,
          2019,
          2020,
          2021,
          2022,
          2023,
          2024,
          2025
         ],
         "xaxis": "x",
         "y": [
          0.625,
          0.5975,
          0.675,
          0.6975,
          0.76,
          0.9525,
          1.025,
          1.13,
          1.165,
          1.0625,
          1.5
         ],
         "yaxis": "y"
        },
        {
         "hovertemplate": "name=Steris<br>year=%{x}<br>eps=%{y}<extra></extra>",
         "legendgroup": "Steris",
         "line": {
          "color": "#FF97FF",
          "dash": "solid"
         },
         "marker": {
          "symbol": "circle"
         },
         "mode": "lines",
         "name": "Steris",
         "showlegend": true,
         "type": "scattergl",
         "x": [
          2015,
          2016,
          2017,
          2018,
          2019,
          2020,
          2021,
          2022,
          2023,
          2024,
          2025
         ],
         "xaxis": "x",
         "y": [
          0.8049999999999999,
          0.89,
          0.97,
          1.115,
          1.335,
          1.47,
          1.7774999999999999,
          2.0125,
          2.0875,
          2.2,
          2.32
         ],
         "yaxis": "y"
        },
        {
         "hovertemplate": "name=State Street Corporation<br>year=%{x}<br>eps=%{y}<extra></extra>",
         "legendgroup": "State Street Corporation",
         "line": {
          "color": "#FECB52",
          "dash": "solid"
         },
         "marker": {
          "symbol": "circle"
         },
         "mode": "lines",
         "name": "State Street Corporation",
         "showlegend": true,
         "type": "scattergl",
         "x": [
          2015,
          2016,
          2017,
          2018,
          2019,
          2020,
          2021,
          2022,
          2023,
          2024,
          2025
         ],
         "xaxis": "x",
         "y": [
          1.2675,
          1.25,
          1.4849999999999999,
          1.8425,
          1.47,
          1.7449999999999999,
          1.7825,
          1.8375,
          1.9224999999999999,
          2.035,
          2.3200000000000003
         ],
         "yaxis": "y"
        },
        {
         "hovertemplate": "name=Constellation Brands<br>year=%{x}<br>eps=%{y}<extra></extra>",
         "legendgroup": "Constellation Brands",
         "line": {
          "color": "#636efa",
          "dash": "solid"
         },
         "marker": {
          "symbol": "circle"
         },
         "mode": "lines",
         "name": "Constellation Brands",
         "showlegend": true,
         "type": "scattergl",
         "x": [
          2015,
          2016,
          2017,
          2018,
          2019,
          2020,
          2021,
          2022,
          2023,
          2024,
          2025
         ],
         "xaxis": "x",
         "y": [
          1.27,
          1.48,
          2.0625,
          2.2425,
          2.285,
          2.315,
          2.4050000000000002,
          2.83,
          2.855,
          3.335,
          2.94
         ],
         "yaxis": "y"
        },
        {
         "hovertemplate": "name=Skyworks Solutions<br>year=%{x}<br>eps=%{y}<extra></extra>",
         "legendgroup": "Skyworks Solutions",
         "line": {
          "color": "#EF553B",
          "dash": "solid"
         },
         "marker": {
          "symbol": "circle"
         },
         "mode": "lines",
         "name": "Skyworks Solutions",
         "showlegend": true,
         "type": "scattergl",
         "x": [
          2015,
          2016,
          2017,
          2018,
          2019,
          2020,
          2021,
          2022,
          2023,
          2024,
          2025
         ],
         "xaxis": "x",
         "y": [
          1.3175,
          1.3900000000000001,
          1.6125,
          1.805,
          1.5425,
          1.53,
          2.625,
          2.8075,
          2.135,
          1.57,
          1.6
         ],
         "yaxis": "y"
        },
        {
         "hovertemplate": "name=Synchrony Financial<br>year=%{x}<br>eps=%{y}<extra></extra>",
         "legendgroup": "Synchrony Financial",
         "line": {
          "color": "#00cc96",
          "dash": "solid"
         },
         "marker": {
          "symbol": "circle"
         },
         "mode": "lines",
         "name": "Synchrony Financial",
         "showlegend": true,
         "type": "scattergl",
         "x": [
          2015,
          2016,
          2017,
          2018,
          2019,
          2020,
          2021,
          2022,
          2023,
          2024,
          2025
         ],
         "xaxis": "x",
         "y": [
          0.66,
          0.665,
          0.655,
          0.84,
          1.07,
          0.56,
          1.7725,
          1.58,
          1.3525,
          1.425,
          1.9
         ],
         "yaxis": "y"
        },
        {
         "hovertemplate": "name=Stryker Corporation<br>year=%{x}<br>eps=%{y}<extra></extra>",
         "legendgroup": "Stryker Corporation",
         "line": {
          "color": "#ab63fa",
          "dash": "solid"
         },
         "marker": {
          "symbol": "circle"
         },
         "mode": "lines",
         "name": "Stryker Corporation",
         "showlegend": true,
         "type": "scattergl",
         "x": [
          2015,
          2016,
          2017,
          2018,
          2019,
          2020,
          2021,
          2022,
          2023,
          2024,
          2025
         ],
         "xaxis": "x",
         "y": [
          1.25,
          1.395,
          1.5775000000000001,
          1.7725,
          1.9875,
          1.7775,
          2.2975000000000003,
          2.2625,
          2.535,
          2.91,
          4.01
         ],
         "yaxis": "y"
        },
        {
         "hovertemplate": "name=TransDigm Group<br>year=%{x}<br>eps=%{y}<extra></extra>",
         "legendgroup": "TransDigm Group",
         "line": {
          "color": "#FFA15A",
          "dash": "solid"
         },
         "marker": {
          "symbol": "circle"
         },
         "mode": "lines",
         "name": "TransDigm Group",
         "showlegend": true,
         "type": "scattergl",
         "x": [
          2015,
          2016,
          2017,
          2018,
          2019,
          2020,
          2021,
          2022,
          2023,
          2024,
          2025
         ],
         "xaxis": "x",
         "y": [
          2.25,
          2.8775,
          3.0925,
          3.715,
          4.6575,
          3.6149999999999998,
          3.0325,
          4.3025,
          6.46,
          8.495000000000001,
          7.83
         ],
         "yaxis": "y"
        },
        {
         "hovertemplate": "name=Teledyne Technologies<br>year=%{x}<br>eps=%{y}<extra></extra>",
         "legendgroup": "Teledyne Technologies",
         "line": {
          "color": "#19d3f3",
          "dash": "solid"
         },
         "marker": {
          "symbol": "circle"
         },
         "mode": "lines",
         "name": "Teledyne Technologies",
         "showlegend": true,
         "type": "scattergl",
         "x": [
          2015,
          2016,
          2017,
          2018,
          2019,
          2020,
          2021,
          2022,
          2023,
          2024,
          2025
         ],
         "xaxis": "x",
         "y": [
          1.3375,
          1.36,
          1.615,
          2.095,
          2.535,
          2.5475,
          3.99,
          4.449999999999999,
          4.7975,
          4.9175,
          5.234999999999999
         ],
         "yaxis": "y"
        },
        {
         "hovertemplate": "name=Bio-Techne<br>year=%{x}<br>eps=%{y}<extra></extra>",
         "legendgroup": "Bio-Techne",
         "line": {
          "color": "#FF6692",
          "dash": "solid"
         },
         "marker": {
          "symbol": "circle"
         },
         "mode": "lines",
         "name": "Bio-Techne",
         "showlegend": true,
         "type": "scattergl",
         "x": [
          2015,
          2016,
          2017,
          2018,
          2019,
          2020,
          2021,
          2022,
          2023,
          2024,
          2025
         ],
         "xaxis": "x",
         "y": [
          0.2125,
          0.2275,
          0.235,
          0.2875,
          0.2875,
          0.3075,
          0.4475,
          0.4925,
          0.49,
          0.4475,
          0.42
         ],
         "yaxis": "y"
        },
        {
         "hovertemplate": "name=TE Connectivity<br>year=%{x}<br>eps=%{y}<extra></extra>",
         "legendgroup": "TE Connectivity",
         "line": {
          "color": "#B6E880",
          "dash": "solid"
         },
         "marker": {
          "symbol": "circle"
         },
         "mode": "lines",
         "name": "TE Connectivity",
         "showlegend": true,
         "type": "scattergl",
         "x": [
          2014,
          2015,
          2016,
          2017,
          2018,
          2019,
          2020,
          2021,
          2022,
          2023,
          2024,
          2025
         ],
         "xaxis": "x",
         "y": [
          1.02,
          0.9225,
          1.0225,
          1.2075,
          1.4,
          1.385,
          1.0625,
          1.63,
          1.8275000000000001,
          1.6825,
          1.8900000000000001,
          2.025
         ],
         "yaxis": "y"
        },
        {
         "hovertemplate": "name=Teradyne<br>year=%{x}<br>eps=%{y}<extra></extra>",
         "legendgroup": "Teradyne",
         "line": {
          "color": "#FF97FF",
          "dash": "solid"
         },
         "marker": {
          "symbol": "circle"
         },
         "mode": "lines",
         "name": "Teradyne",
         "showlegend": true,
         "type": "scattergl",
         "x": [
          2015,
          2016,
          2017,
          2018,
          2019,
          2020,
          2021,
          2022,
          2023,
          2024,
          2025
         ],
         "xaxis": "x",
         "y": [
          0.31,
          0.33,
          0.55,
          0.5525,
          0.65,
          1.0975,
          1.4275,
          1.1775,
          0.765,
          0.765,
          0.95
         ],
         "yaxis": "y"
        },
        {
         "hovertemplate": "name=Thermo Fisher Scientific<br>year=%{x}<br>eps=%{y}<extra></extra>",
         "legendgroup": "Thermo Fisher Scientific",
         "line": {
          "color": "#FECB52",
          "dash": "solid"
         },
         "marker": {
          "symbol": "circle"
         },
         "mode": "lines",
         "name": "Thermo Fisher Scientific",
         "showlegend": true,
         "type": "scattergl",
         "x": [
          2015,
          2016,
          2017,
          2018,
          2019,
          2020,
          2021,
          2022,
          2023,
          2024,
          2025
         ],
         "xaxis": "x",
         "y": [
          1.815,
          1.9949999999999999,
          2.275,
          2.665,
          3.01,
          4.0024999999999995,
          6.415,
          6.095,
          5.317500000000001,
          5.3575,
          5.625
         ],
         "yaxis": "y"
        },
        {
         "hovertemplate": "name=T-Mobile US<br>year=%{x}<br>eps=%{y}<extra></extra>",
         "legendgroup": "T-Mobile US",
         "line": {
          "color": "#636efa",
          "dash": "solid"
         },
         "marker": {
          "symbol": "circle"
         },
         "mode": "lines",
         "name": "T-Mobile US",
         "showlegend": true,
         "type": "scattergl",
         "x": [
          2015,
          2016,
          2017,
          2018,
          2019,
          2020,
          2021,
          2022,
          2023,
          2024,
          2025
         ],
         "xaxis": "x",
         "y": [
          0.15,
          0.35500000000000004,
          0.5525,
          0.7775000000000001,
          0.9775,
          0.895,
          0.775,
          0.875,
          1.61,
          2.1925,
          2.575
         ],
         "yaxis": "y"
        },
        {
         "hovertemplate": "name=Tapestry, Inc.<br>year=%{x}<br>eps=%{y}<extra></extra>",
         "legendgroup": "Tapestry, Inc.",
         "line": {
          "color": "#EF553B",
          "dash": "solid"
         },
         "marker": {
          "symbol": "circle"
         },
         "mode": "lines",
         "name": "Tapestry, Inc.",
         "showlegend": true,
         "type": "scattergl",
         "x": [
          2015,
          2016,
          2017,
          2018,
          2019,
          2020,
          2021,
          2022,
          2023,
          2024,
          2025
         ],
         "xaxis": "x",
         "y": [
          0.44999999999999996,
          0.505,
          0.5325,
          0.6725,
          0.625,
          0.29000000000000004,
          0.8049999999999999,
          0.8525,
          1.005,
          1.095,
          2
         ],
         "yaxis": "y"
        },
        {
         "hovertemplate": "name=Trimble Inc.<br>year=%{x}<br>eps=%{y}<extra></extra>",
         "legendgroup": "Trimble Inc.",
         "line": {
          "color": "#00cc96",
          "dash": "solid"
         },
         "marker": {
          "symbol": "circle"
         },
         "mode": "lines",
         "name": "Trimble Inc.",
         "showlegend": true,
         "type": "scattergl",
         "x": [
          2015,
          2016,
          2017,
          2018,
          2019,
          2020,
          2021,
          2022,
          2023,
          2024,
          2025
         ],
         "xaxis": "x",
         "y": [
          0.2875,
          0.28500000000000003,
          0.35250000000000004,
          0.455,
          0.485,
          0.535,
          0.6625,
          0.6625,
          0.66,
          0.6475,
          0.89
         ],
         "yaxis": "y"
        },
        {
         "hovertemplate": "name=T. Rowe Price<br>year=%{x}<br>eps=%{y}<extra></extra>",
         "legendgroup": "T. Rowe Price",
         "line": {
          "color": "#ab63fa",
          "dash": "solid"
         },
         "marker": {
          "symbol": "circle"
         },
         "mode": "lines",
         "name": "T. Rowe Price",
         "showlegend": true,
         "type": "scattergl",
         "x": [
          2015,
          2016,
          2017,
          2018,
          2019,
          2020,
          2021,
          2022,
          2023,
          2024,
          2025
         ],
         "xaxis": "x",
         "y": [
          1.1524999999999999,
          1.1875,
          1.495,
          1.8725,
          1.9149999999999998,
          2.185,
          3.12,
          2.3600000000000003,
          1.905,
          2.2325,
          2.12
         ],
         "yaxis": "y"
        },
        {
         "hovertemplate": "name=Travelers Companies (The)<br>year=%{x}<br>eps=%{y}<extra></extra>",
         "legendgroup": "Travelers Companies (The)",
         "line": {
          "color": "#FFA15A",
          "dash": "solid"
         },
         "marker": {
          "symbol": "circle"
         },
         "mode": "lines",
         "name": "Travelers Companies (The)",
         "showlegend": true,
         "type": "scattergl",
         "x": [
          2015,
          2016,
          2017,
          2018,
          2019,
          2020,
          2021,
          2022,
          2023,
          2024,
          2025
         ],
         "xaxis": "x",
         "y": [
          2.7375,
          2.4575,
          2.0475000000000003,
          2.2725,
          2.1025,
          2.215,
          3.4225000000000003,
          3.5475000000000003,
          2.155,
          4.8625,
          5.53
         ],
         "yaxis": "y"
        },
        {
         "hovertemplate": "name=Tractor Supply<br>year=%{x}<br>eps=%{y}<extra></extra>",
         "legendgroup": "Tractor Supply",
         "line": {
          "color": "#19d3f3",
          "dash": "solid"
         },
         "marker": {
          "symbol": "circle"
         },
         "mode": "lines",
         "name": "Tractor Supply",
         "showlegend": true,
         "type": "scattergl",
         "x": [
          2015,
          2016,
          2017,
          2018,
          2019,
          2020,
          2021,
          2022,
          2023,
          2024,
          2025
         ],
         "xaxis": "x",
         "y": [
          0.14750000000000002,
          0.155,
          0.1675,
          0.20500000000000002,
          0.22999999999999998,
          0.32,
          0.4175,
          0.46249999999999997,
          0.515,
          0.5175,
          0.39
         ],
         "yaxis": "y"
        },
        {
         "hovertemplate": "name=Tyson Foods<br>year=%{x}<br>eps=%{y}<extra></extra>",
         "legendgroup": "Tyson Foods",
         "line": {
          "color": "#FF6692",
          "dash": "solid"
         },
         "marker": {
          "symbol": "circle"
         },
         "mode": "lines",
         "name": "Tyson Foods",
         "showlegend": true,
         "type": "scattergl",
         "x": [
          2015,
          2016,
          2017,
          2018,
          2019,
          2020,
          2021,
          2022,
          2023,
          2024,
          2025
         ],
         "xaxis": "x",
         "y": [
          0.7875,
          1.0975,
          1.3275000000000001,
          1.54,
          1.365,
          1.4449999999999998,
          2.07,
          2.1825,
          0.3325,
          0.775,
          1.14
         ],
         "yaxis": "y"
        },
        {
         "hovertemplate": "name=Trane Technologies<br>year=%{x}<br>eps=%{y}<extra></extra>",
         "legendgroup": "Trane Technologies",
         "line": {
          "color": "#B6E880",
          "dash": "solid"
         },
         "marker": {
          "symbol": "circle"
         },
         "mode": "lines",
         "name": "Trane Technologies",
         "showlegend": true,
         "type": "scattergl",
         "x": [
          2014,
          2015,
          2016,
          2017,
          2018,
          2019,
          2020,
          2021,
          2022,
          2023,
          2024,
          2025
         ],
         "xaxis": "x",
         "y": [
          1.115,
          0.9025,
          1.0574999999999999,
          1.085,
          1.33,
          1.5725,
          1.205,
          1.44,
          1.7275,
          2.175,
          2.695,
          2.61
         ],
         "yaxis": "y"
        },
        {
         "hovertemplate": "name=Take-Two Interactive<br>year=%{x}<br>eps=%{y}<extra></extra>",
         "legendgroup": "Take-Two Interactive",
         "line": {
          "color": "#FF97FF",
          "dash": "solid"
         },
         "marker": {
          "symbol": "circle"
         },
         "mode": "lines",
         "name": "Take-Two Interactive",
         "showlegend": true,
         "type": "scattergl",
         "x": [
          2015,
          2016,
          2017,
          2018,
          2019,
          2020,
          2021,
          2022,
          2023,
          2024,
          2025
         ],
         "xaxis": "x",
         "y": [
          0.7425,
          0.39749999999999996,
          0.8075,
          0.8425,
          1.7599999999999998,
          2.0025,
          1.32,
          1.0675000000000001,
          0.8425,
          0.4325,
          0.72
         ],
         "yaxis": "y"
        },
        {
         "hovertemplate": "name=Texas Instruments<br>year=%{x}<br>eps=%{y}<extra></extra>",
         "legendgroup": "Texas Instruments",
         "line": {
          "color": "#FECB52",
          "dash": "solid"
         },
         "marker": {
          "symbol": "circle"
         },
         "mode": "lines",
         "name": "Texas Instruments",
         "showlegend": true,
         "type": "scattergl",
         "x": [
          2015,
          2016,
          2017,
          2018,
          2019,
          2020,
          2021,
          2022,
          2023,
          2024,
          2025
         ],
         "xaxis": "x",
         "y": [
          0.6775,
          0.765,
          1.0025,
          1.355,
          1.335,
          1.3225,
          1.9024999999999999,
          2.38,
          1.925,
          1.345,
          1.29
         ],
         "yaxis": "y"
        },
        {
         "hovertemplate": "name=Tyler Technologies<br>year=%{x}<br>eps=%{y}<extra></extra>",
         "legendgroup": "Tyler Technologies",
         "line": {
          "color": "#636efa",
          "dash": "solid"
         },
         "marker": {
          "symbol": "circle"
         },
         "mode": "lines",
         "name": "Tyler Technologies",
         "showlegend": true,
         "type": "scattergl",
         "x": [
          2015,
          2016,
          2017,
          2018,
          2019,
          2020,
          2021,
          2022,
          2023,
          2024,
          2025
         ],
         "xaxis": "x",
         "y": [
          0.6225,
          0.8025,
          0.9400000000000001,
          1.1524999999999999,
          1.2825,
          1.39,
          1.665,
          1.8975,
          1.8925,
          2.2525,
          2.605
         ],
         "yaxis": "y"
        },
        {
         "hovertemplate": "name=UDR, Inc.<br>year=%{x}<br>eps=%{y}<extra></extra>",
         "legendgroup": "UDR, Inc.",
         "line": {
          "color": "#EF553B",
          "dash": "solid"
         },
         "marker": {
          "symbol": "circle"
         },
         "mode": "lines",
         "name": "UDR, Inc.",
         "showlegend": true,
         "type": "scattergl",
         "x": [
          2015,
          2016,
          2017,
          2018,
          2019,
          2020,
          2021,
          2022,
          2023,
          2024,
          2025
         ],
         "xaxis": "x",
         "y": [
          0.3925,
          0.435,
          0.4625,
          0.4825,
          0.5125,
          0.52,
          0.49,
          0.565,
          0.6125,
          0.62,
          0.63
         ],
         "yaxis": "y"
        },
        {
         "hovertemplate": "name=Universal Health Services<br>year=%{x}<br>eps=%{y}<extra></extra>",
         "legendgroup": "Universal Health Services",
         "line": {
          "color": "#00cc96",
          "dash": "solid"
         },
         "marker": {
          "symbol": "circle"
         },
         "mode": "lines",
         "name": "Universal Health Services",
         "showlegend": true,
         "type": "scattergl",
         "x": [
          2015,
          2016,
          2017,
          2018,
          2019,
          2020,
          2021,
          2022,
          2023,
          2024,
          2025
         ],
         "xaxis": "x",
         "y": [
          1.6675,
          1.8075,
          1.8699999999999999,
          2.2875,
          2.3925,
          2.5825,
          3.1149999999999998,
          2.46,
          2.61,
          3.7125,
          4.92
         ],
         "yaxis": "y"
        },
        {
         "hovertemplate": "name=Ulta Beauty<br>year=%{x}<br>eps=%{y}<extra></extra>",
         "legendgroup": "Ulta Beauty",
         "line": {
          "color": "#ab63fa",
          "dash": "solid"
         },
         "marker": {
          "symbol": "circle"
         },
         "mode": "lines",
         "name": "Ulta Beauty",
         "showlegend": true,
         "type": "scattergl",
         "x": [
          2014,
          2015,
          2016,
          2017,
          2018,
          2019,
          2020,
          2021,
          2022,
          2023,
          2024,
          2025
         ],
         "xaxis": "x",
         "y": [
          0.91,
          1.1625,
          1.4925,
          1.9325,
          2.5225,
          2.9699999999999998,
          1.47,
          3.995,
          5.6875,
          6.1625,
          6.2475,
          8.46
         ],
         "yaxis": "y"
        },
        {
         "hovertemplate": "name=Union Pacific Corporation<br>year=%{x}<br>eps=%{y}<extra></extra>",
         "legendgroup": "Union Pacific Corporation",
         "line": {
          "color": "#FFA15A",
          "dash": "solid"
         },
         "marker": {
          "symbol": "circle"
         },
         "mode": "lines",
         "name": "Union Pacific Corporation",
         "showlegend": true,
         "type": "scattergl",
         "x": [
          2015,
          2016,
          2017,
          2018,
          2019,
          2020,
          2021,
          2022,
          2023,
          2024,
          2025
         ],
         "xaxis": "x",
         "y": [
          1.4275,
          1.25,
          1.415,
          1.835,
          2.1225,
          1.9625,
          2.4125,
          2.8375,
          2.605,
          2.7225,
          2.805
         ],
         "yaxis": "y"
        },
        {
         "hovertemplate": "name=United Parcel Service<br>year=%{x}<br>eps=%{y}<extra></extra>",
         "legendgroup": "United Parcel Service",
         "line": {
          "color": "#19d3f3",
          "dash": "solid"
         },
         "marker": {
          "symbol": "circle"
         },
         "mode": "lines",
         "name": "United Parcel Service",
         "showlegend": true,
         "type": "scattergl",
         "x": [
          2015,
          2016,
          2017,
          2018,
          2019,
          2020,
          2021,
          2022,
          2023,
          2024,
          2025
         ],
         "xaxis": "x",
         "y": [
          1.2775,
          1.4275,
          1.495,
          1.745,
          1.8399999999999999,
          1.9175,
          2.8,
          3.23,
          2.4825,
          1.8625,
          2.75
         ],
         "yaxis": "y"
        },
        {
         "hovertemplate": "name=United Rentals<br>year=%{x}<br>eps=%{y}<extra></extra>",
         "legendgroup": "United Rentals",
         "line": {
          "color": "#FF6692",
          "dash": "solid"
         },
         "marker": {
          "symbol": "circle"
         },
         "mode": "lines",
         "name": "United Rentals",
         "showlegend": true,
         "type": "scattergl",
         "x": [
          2015,
          2016,
          2017,
          2018,
          2019,
          2020,
          2021,
          2022,
          2023,
          2024,
          2025
         ],
         "xaxis": "x",
         "y": [
          2.0125,
          2.0575,
          2.48,
          3.7,
          4.715,
          4.5075,
          4.9325,
          7.5625,
          9.825,
          10.7275,
          10.225
         ],
         "yaxis": "y"
        },
        {
         "hovertemplate": "name=U.S. Bancorp<br>year=%{x}<br>eps=%{y}<extra></extra>",
         "legendgroup": "U.S. Bancorp",
         "line": {
          "color": "#B6E880",
          "dash": "solid"
         },
         "marker": {
          "symbol": "circle"
         },
         "mode": "lines",
         "name": "U.S. Bancorp",
         "showlegend": true,
         "type": "scattergl",
         "x": [
          2016,
          2017,
          2018,
          2019,
          2020,
          2021,
          2022,
          2023,
          2024,
          2025
         ],
         "xaxis": "x",
         "y": [
          0.8025,
          0.8425,
          0.9775,
          1.0775000000000001,
          0.8,
          1.245,
          1.0825,
          1.1325,
          0.975,
          1.05
         ],
         "yaxis": "y"
        },
        {
         "hovertemplate": "name=Visa Inc.<br>year=%{x}<br>eps=%{y}<extra></extra>",
         "legendgroup": "Visa Inc.",
         "line": {
          "color": "#FF97FF",
          "dash": "solid"
         },
         "marker": {
          "symbol": "circle"
         },
         "mode": "lines",
         "name": "Visa Inc.",
         "showlegend": true,
         "type": "scattergl",
         "x": [
          2015,
          2016,
          2017,
          2018,
          2019,
          2020,
          2021,
          2022,
          2023,
          2024,
          2025
         ],
         "xaxis": "x",
         "y": [
          0.6275,
          0.71,
          0.87,
          1.15,
          1.3625,
          1.2575,
          1.4775,
          1.8775,
          2.19,
          2.5125,
          2.75
         ],
         "yaxis": "y"
        },
        {
         "hovertemplate": "name=Vici Properties<br>year=%{x}<br>eps=%{y}<extra></extra>",
         "legendgroup": "Vici Properties",
         "line": {
          "color": "#FECB52",
          "dash": "solid"
         },
         "marker": {
          "symbol": "circle"
         },
         "mode": "lines",
         "name": "Vici Properties",
         "showlegend": true,
         "type": "scattergl",
         "x": [
          2018,
          2019,
          2020,
          2021,
          2022,
          2023,
          2024,
          2025
         ],
         "xaxis": "x",
         "y": [
          0.3125,
          0.355,
          0.31,
          0.4625,
          0.40249999999999997,
          0.5975,
          0.6749999999999999,
          0.58
         ],
         "yaxis": "y"
        },
        {
         "hovertemplate": "name=Vulcan Materials Company<br>year=%{x}<br>eps=%{y}<extra></extra>",
         "legendgroup": "Vulcan Materials Company",
         "line": {
          "color": "#636efa",
          "dash": "solid"
         },
         "marker": {
          "symbol": "circle"
         },
         "mode": "lines",
         "name": "Vulcan Materials Company",
         "showlegend": true,
         "type": "scattergl",
         "x": [
          2015,
          2016,
          2017,
          2018,
          2019,
          2020,
          2021,
          2022,
          2023,
          2024,
          2025
         ],
         "xaxis": "x",
         "y": [
          0.44,
          0.7275,
          0.7424999999999999,
          0.9524999999999999,
          1.1524999999999999,
          1.1775,
          1.2175,
          1.35,
          1.6525,
          1.7075,
          2.17
         ],
         "yaxis": "y"
        },
        {
         "hovertemplate": "name=Verisk Analytics<br>year=%{x}<br>eps=%{y}<extra></extra>",
         "legendgroup": "Verisk Analytics",
         "line": {
          "color": "#EF553B",
          "dash": "solid"
         },
         "marker": {
          "symbol": "circle"
         },
         "mode": "lines",
         "name": "Verisk Analytics",
         "showlegend": true,
         "type": "scattergl",
         "x": [
          2015,
          2016,
          2017,
          2018,
          2019,
          2020,
          2021,
          2022,
          2023,
          2024,
          2025
         ],
         "xaxis": "x",
         "y": [
          0.735,
          0.78,
          0.8,
          0.9725,
          1.0725,
          1.2275,
          1.2774999999999999,
          1.45,
          1.4375,
          1.6099999999999999,
          1.61
         ],
         "yaxis": "y"
        },
        {
         "hovertemplate": "name=Verisign<br>year=%{x}<br>eps=%{y}<extra></extra>",
         "legendgroup": "Verisign",
         "line": {
          "color": "#00cc96",
          "dash": "solid"
         },
         "marker": {
          "symbol": "circle"
         },
         "mode": "lines",
         "name": "Verisign",
         "showlegend": true,
         "type": "scattergl",
         "x": [
          2015,
          2016,
          2017,
          2018,
          2019,
          2020,
          2021,
          2022,
          2023,
          2024,
          2025
         ],
         "xaxis": "x",
         "y": [
          0.74,
          0.87,
          0.9825,
          1.1099999999999999,
          1.395,
          1.405,
          1.355,
          1.5075,
          1.755,
          1.98,
          2.05
         ],
         "yaxis": "y"
        },
        {
         "hovertemplate": "name=Ventas<br>year=%{x}<br>eps=%{y}<extra></extra>",
         "legendgroup": "Ventas",
         "line": {
          "color": "#ab63fa",
          "dash": "solid"
         },
         "marker": {
          "symbol": "circle"
         },
         "mode": "lines",
         "name": "Ventas",
         "showlegend": true,
         "type": "scattergl",
         "x": [
          2015,
          2016,
          2017,
          2018,
          2019,
          2020,
          2021,
          2022,
          2023,
          2024,
          2025
         ],
         "xaxis": "x",
         "y": [
          1.15,
          1.0350000000000001,
          1.0425,
          1.03,
          0.97,
          0.9275,
          0.7525,
          0.75,
          0.7424999999999999,
          0.785,
          0.81
         ],
         "yaxis": "y"
        },
        {
         "hovertemplate": "name=Viatris<br>year=%{x}<br>eps=%{y}<extra></extra>",
         "legendgroup": "Viatris",
         "line": {
          "color": "#FFA15A",
          "dash": "solid"
         },
         "marker": {
          "symbol": "circle"
         },
         "mode": "lines",
         "name": "Viatris",
         "showlegend": true,
         "type": "scattergl",
         "x": [
          2015,
          2016,
          2017,
          2018,
          2019,
          2020,
          2021,
          2022,
          2023,
          2024,
          2025
         ],
         "xaxis": "x",
         "y": [
          1.0133333333333334,
          1.13,
          1.0433333333333334,
          1.1775,
          1.08,
          1.1800000000000002,
          0.9633333333333334,
          0.8675,
          0.745,
          0.6799999999999999,
          0.54
         ],
         "yaxis": "y"
        },
        {
         "hovertemplate": "name=Wabtec<br>year=%{x}<br>eps=%{y}<extra></extra>",
         "legendgroup": "Wabtec",
         "line": {
          "color": "#19d3f3",
          "dash": "solid"
         },
         "marker": {
          "symbol": "circle"
         },
         "mode": "lines",
         "name": "Wabtec",
         "showlegend": true,
         "type": "scattergl",
         "x": [
          2015,
          2016,
          2017,
          2018,
          2019,
          2020,
          2021,
          2022,
          2023,
          2024,
          2025
         ],
         "xaxis": "x",
         "y": [
          1,
          1.0225,
          0.8075,
          0.9425,
          1.03,
          0.9575,
          1.0175,
          1.19,
          1.4224999999999999,
          1.8475,
          1.98
         ],
         "yaxis": "y"
        },
        {
         "hovertemplate": "name=Waters Corporation<br>year=%{x}<br>eps=%{y}<extra></extra>",
         "legendgroup": "Waters Corporation",
         "line": {
          "color": "#FF6692",
          "dash": "solid"
         },
         "marker": {
          "symbol": "circle"
         },
         "mode": "lines",
         "name": "Waters Corporation",
         "showlegend": true,
         "type": "scattergl",
         "x": [
          2015,
          2016,
          2017,
          2018,
          2019,
          2020,
          2021,
          2022,
          2023,
          2024,
          2025
         ],
         "xaxis": "x",
         "y": [
          1.4849999999999999,
          1.5925,
          1.8,
          1.9925,
          2.185,
          2.1525,
          2.8,
          2.965,
          2.9924999999999997,
          2.8475,
          4.1
         ],
         "yaxis": "y"
        },
        {
         "hovertemplate": "name=WEC Energy Group<br>year=%{x}<br>eps=%{y}<extra></extra>",
         "legendgroup": "WEC Energy Group",
         "line": {
          "color": "#B6E880",
          "dash": "solid"
         },
         "marker": {
          "symbol": "circle"
         },
         "mode": "lines",
         "name": "WEC Energy Group",
         "showlegend": true,
         "type": "scattergl",
         "x": [
          2015,
          2016,
          2017,
          2018,
          2019,
          2020,
          2021,
          2022,
          2023,
          2024,
          2025
         ],
         "xaxis": "x",
         "y": [
          0.6475,
          0.745,
          0.76,
          0.8525,
          0.865,
          0.95,
          1.04,
          1.0925,
          1.0825,
          1.1400000000000001,
          1.43
         ],
         "yaxis": "y"
        },
        {
         "hovertemplate": "name=Welltower<br>year=%{x}<br>eps=%{y}<extra></extra>",
         "legendgroup": "Welltower",
         "line": {
          "color": "#FF97FF",
          "dash": "solid"
         },
         "marker": {
          "symbol": "circle"
         },
         "mode": "lines",
         "name": "Welltower",
         "showlegend": true,
         "type": "scattergl",
         "x": [
          2015,
          2016,
          2017,
          2018,
          2019,
          2020,
          2021,
          2022,
          2023,
          2024,
          2025
         ],
         "xaxis": "x",
         "y": [
          0.645,
          0.5650000000000001,
          0.4475,
          0.78,
          1.0325,
          0.8575,
          0.8075,
          0.8374999999999999,
          0.875,
          1.0325,
          1.13
         ],
         "yaxis": "y"
        },
        {
         "hovertemplate": "name=Waste Management<br>year=%{x}<br>eps=%{y}<extra></extra>",
         "legendgroup": "Waste Management",
         "line": {
          "color": "#FECB52",
          "dash": "solid"
         },
         "marker": {
          "symbol": "circle"
         },
         "mode": "lines",
         "name": "Waste Management",
         "showlegend": true,
         "type": "scattergl",
         "x": [
          2015,
          2016,
          2017,
          2018,
          2019,
          2020,
          2021,
          2022,
          2023,
          2024,
          2025
         ],
         "xaxis": "x",
         "y": [
          0.645,
          0.7175,
          0.7825,
          0.98,
          1.0925,
          1.0225,
          1.18,
          1.3875,
          1.4375,
          1.8175,
          1.7
         ],
         "yaxis": "y"
        },
        {
         "hovertemplate": "name=W. R. Berkley Corporation<br>year=%{x}<br>eps=%{y}<extra></extra>",
         "legendgroup": "W. R. Berkley Corporation",
         "line": {
          "color": "#636efa",
          "dash": "solid"
         },
         "marker": {
          "symbol": "circle"
         },
         "mode": "lines",
         "name": "W. R. Berkley Corporation",
         "showlegend": true,
         "type": "scattergl",
         "x": [
          2015,
          2016,
          2017,
          2018,
          2019,
          2020,
          2021,
          2022,
          2023,
          2024,
          2025
         ],
         "xaxis": "x",
         "y": [
          0.2425,
          0.255,
          0.1875,
          0.2875,
          0.36,
          0.2375,
          0.5,
          0.7075,
          0.775,
          0.9950000000000001,
          1.0699999999999998
         ],
         "yaxis": "y"
        },
        {
         "hovertemplate": "name=West Pharmaceutical Services<br>year=%{x}<br>eps=%{y}<extra></extra>",
         "legendgroup": "West Pharmaceutical Services",
         "line": {
          "color": "#EF553B",
          "dash": "solid"
         },
         "marker": {
          "symbol": "circle"
         },
         "mode": "lines",
         "name": "West Pharmaceutical Services",
         "showlegend": true,
         "type": "scattergl",
         "x": [
          2015,
          2016,
          2017,
          2018,
          2019,
          2020,
          2021,
          2022,
          2023,
          2024,
          2025
         ],
         "xaxis": "x",
         "y": [
          0.4525,
          0.53,
          0.6175,
          0.6799999999999999,
          0.7875,
          1.0574999999999999,
          1.9775,
          2.21,
          2.005,
          1.69,
          1.635
         ],
         "yaxis": "y"
        },
        {
         "hovertemplate": "name=Willis Towers Watson<br>year=%{x}<br>eps=%{y}<extra></extra>",
         "legendgroup": "Willis Towers Watson",
         "line": {
          "color": "#00cc96",
          "dash": "solid"
         },
         "marker": {
          "symbol": "circle"
         },
         "mode": "lines",
         "name": "Willis Towers Watson",
         "showlegend": true,
         "type": "scattergl",
         "x": [
          2022,
          2023,
          2024,
          2025
         ],
         "xaxis": "x",
         "y": [
          3.2125,
          3.365,
          4.0525,
          5.630000000000001
         ],
         "yaxis": "y"
        },
        {
         "hovertemplate": "name=Xcel Energy<br>year=%{x}<br>eps=%{y}<extra></extra>",
         "legendgroup": "Xcel Energy",
         "line": {
          "color": "#ab63fa",
          "dash": "solid"
         },
         "marker": {
          "symbol": "circle"
         },
         "mode": "lines",
         "name": "Xcel Energy",
         "showlegend": true,
         "type": "scattergl",
         "x": [
          2015,
          2016,
          2017,
          2018,
          2019,
          2020,
          2021,
          2022,
          2023,
          2024,
          2025
         ],
         "xaxis": "x",
         "y": [
          0.52,
          0.5425,
          0.585,
          0.6174999999999999,
          0.625,
          0.7,
          0.73,
          0.7649999999999999,
          0.8,
          0.885,
          0.825
         ],
         "yaxis": "y"
        },
        {
         "hovertemplate": "name=Xylem Inc.<br>year=%{x}<br>eps=%{y}<extra></extra>",
         "legendgroup": "Xylem Inc.",
         "line": {
          "color": "#FFA15A",
          "dash": "solid"
         },
         "marker": {
          "symbol": "circle"
         },
         "mode": "lines",
         "name": "Xylem Inc.",
         "showlegend": true,
         "type": "scattergl",
         "x": [
          2015,
          2016,
          2017,
          2018,
          2019,
          2020,
          2021,
          2022,
          2023,
          2024,
          2025
         ],
         "xaxis": "x",
         "y": [
          0.4675,
          0.4925,
          0.5725,
          0.6925,
          0.7525,
          0.535,
          0.665,
          0.6375,
          0.9025,
          1.0225,
          1.18
         ],
         "yaxis": "y"
        },
        {
         "hovertemplate": "name=Zimmer Biomet<br>year=%{x}<br>eps=%{y}<extra></extra>",
         "legendgroup": "Zimmer Biomet",
         "line": {
          "color": "#19d3f3",
          "dash": "solid"
         },
         "marker": {
          "symbol": "circle"
         },
         "mode": "lines",
         "name": "Zimmer Biomet",
         "showlegend": true,
         "type": "scattergl",
         "x": [
          2015,
          2016,
          2017,
          2018,
          2019,
          2020,
          2021,
          2022,
          2023,
          2024,
          2025
         ],
         "xaxis": "x",
         "y": [
          1.63,
          1.975,
          2.0175,
          1.89,
          1.9375,
          1.4649999999999999,
          1.8824999999999998,
          1.7833333333333332,
          1.81,
          1.9725000000000001,
          2.31
         ],
         "yaxis": "y"
        },
        {
         "hovertemplate": "name=Zebra Technologies<br>year=%{x}<br>eps=%{y}<extra></extra>",
         "legendgroup": "Zebra Technologies",
         "line": {
          "color": "#FF6692",
          "dash": "solid"
         },
         "marker": {
          "symbol": "circle"
         },
         "mode": "lines",
         "name": "Zebra Technologies",
         "showlegend": true,
         "type": "scattergl",
         "x": [
          2015,
          2016,
          2017,
          2018,
          2019,
          2020,
          2021,
          2022,
          2023,
          2024,
          2025
         ],
         "xaxis": "x",
         "y": [
          1.2766666666666666,
          1.3225,
          1.67,
          2.5625,
          3.1175,
          2.9775,
          4.5925,
          4.32,
          3.2125,
          2.805,
          4
         ],
         "yaxis": "y"
        },
        {
         "hovertemplate": "name=Zoetis<br>year=%{x}<br>eps=%{y}<extra></extra>",
         "legendgroup": "Zoetis",
         "line": {
          "color": "#B6E880",
          "dash": "solid"
         },
         "marker": {
          "symbol": "circle"
         },
         "mode": "lines",
         "name": "Zoetis",
         "showlegend": true,
         "type": "scattergl",
         "x": [
          2015,
          2016,
          2017,
          2018,
          2019,
          2020,
          2021,
          2022,
          2023,
          2024,
          2025
         ],
         "xaxis": "x",
         "y": [
          0.435,
          0.48,
          0.545,
          0.76,
          0.8775,
          0.9650000000000001,
          1.1525,
          1.1825,
          1.3075,
          1.44,
          1.4
         ],
         "yaxis": "y"
        }
       ],
       "layout": {
        "legend": {
         "title": {
          "text": "name"
         },
         "tracegroupgap": 0
        },
        "template": {
         "data": {
          "bar": [
           {
            "error_x": {
             "color": "#2a3f5f"
            },
            "error_y": {
             "color": "#2a3f5f"
            },
            "marker": {
             "line": {
              "color": "#E5ECF6",
              "width": 0.5
             },
             "pattern": {
              "fillmode": "overlay",
              "size": 10,
              "solidity": 0.2
             }
            },
            "type": "bar"
           }
          ],
          "barpolar": [
           {
            "marker": {
             "line": {
              "color": "#E5ECF6",
              "width": 0.5
             },
             "pattern": {
              "fillmode": "overlay",
              "size": 10,
              "solidity": 0.2
             }
            },
            "type": "barpolar"
           }
          ],
          "carpet": [
           {
            "aaxis": {
             "endlinecolor": "#2a3f5f",
             "gridcolor": "white",
             "linecolor": "white",
             "minorgridcolor": "white",
             "startlinecolor": "#2a3f5f"
            },
            "baxis": {
             "endlinecolor": "#2a3f5f",
             "gridcolor": "white",
             "linecolor": "white",
             "minorgridcolor": "white",
             "startlinecolor": "#2a3f5f"
            },
            "type": "carpet"
           }
          ],
          "choropleth": [
           {
            "colorbar": {
             "outlinewidth": 0,
             "ticks": ""
            },
            "type": "choropleth"
           }
          ],
          "contour": [
           {
            "colorbar": {
             "outlinewidth": 0,
             "ticks": ""
            },
            "colorscale": [
             [
              0,
              "#0d0887"
             ],
             [
              0.1111111111111111,
              "#46039f"
             ],
             [
              0.2222222222222222,
              "#7201a8"
             ],
             [
              0.3333333333333333,
              "#9c179e"
             ],
             [
              0.4444444444444444,
              "#bd3786"
             ],
             [
              0.5555555555555556,
              "#d8576b"
             ],
             [
              0.6666666666666666,
              "#ed7953"
             ],
             [
              0.7777777777777778,
              "#fb9f3a"
             ],
             [
              0.8888888888888888,
              "#fdca26"
             ],
             [
              1,
              "#f0f921"
             ]
            ],
            "type": "contour"
           }
          ],
          "contourcarpet": [
           {
            "colorbar": {
             "outlinewidth": 0,
             "ticks": ""
            },
            "type": "contourcarpet"
           }
          ],
          "heatmap": [
           {
            "colorbar": {
             "outlinewidth": 0,
             "ticks": ""
            },
            "colorscale": [
             [
              0,
              "#0d0887"
             ],
             [
              0.1111111111111111,
              "#46039f"
             ],
             [
              0.2222222222222222,
              "#7201a8"
             ],
             [
              0.3333333333333333,
              "#9c179e"
             ],
             [
              0.4444444444444444,
              "#bd3786"
             ],
             [
              0.5555555555555556,
              "#d8576b"
             ],
             [
              0.6666666666666666,
              "#ed7953"
             ],
             [
              0.7777777777777778,
              "#fb9f3a"
             ],
             [
              0.8888888888888888,
              "#fdca26"
             ],
             [
              1,
              "#f0f921"
             ]
            ],
            "type": "heatmap"
           }
          ],
          "heatmapgl": [
           {
            "colorbar": {
             "outlinewidth": 0,
             "ticks": ""
            },
            "colorscale": [
             [
              0,
              "#0d0887"
             ],
             [
              0.1111111111111111,
              "#46039f"
             ],
             [
              0.2222222222222222,
              "#7201a8"
             ],
             [
              0.3333333333333333,
              "#9c179e"
             ],
             [
              0.4444444444444444,
              "#bd3786"
             ],
             [
              0.5555555555555556,
              "#d8576b"
             ],
             [
              0.6666666666666666,
              "#ed7953"
             ],
             [
              0.7777777777777778,
              "#fb9f3a"
             ],
             [
              0.8888888888888888,
              "#fdca26"
             ],
             [
              1,
              "#f0f921"
             ]
            ],
            "type": "heatmapgl"
           }
          ],
          "histogram": [
           {
            "marker": {
             "pattern": {
              "fillmode": "overlay",
              "size": 10,
              "solidity": 0.2
             }
            },
            "type": "histogram"
           }
          ],
          "histogram2d": [
           {
            "colorbar": {
             "outlinewidth": 0,
             "ticks": ""
            },
            "colorscale": [
             [
              0,
              "#0d0887"
             ],
             [
              0.1111111111111111,
              "#46039f"
             ],
             [
              0.2222222222222222,
              "#7201a8"
             ],
             [
              0.3333333333333333,
              "#9c179e"
             ],
             [
              0.4444444444444444,
              "#bd3786"
             ],
             [
              0.5555555555555556,
              "#d8576b"
             ],
             [
              0.6666666666666666,
              "#ed7953"
             ],
             [
              0.7777777777777778,
              "#fb9f3a"
             ],
             [
              0.8888888888888888,
              "#fdca26"
             ],
             [
              1,
              "#f0f921"
             ]
            ],
            "type": "histogram2d"
           }
          ],
          "histogram2dcontour": [
           {
            "colorbar": {
             "outlinewidth": 0,
             "ticks": ""
            },
            "colorscale": [
             [
              0,
              "#0d0887"
             ],
             [
              0.1111111111111111,
              "#46039f"
             ],
             [
              0.2222222222222222,
              "#7201a8"
             ],
             [
              0.3333333333333333,
              "#9c179e"
             ],
             [
              0.4444444444444444,
              "#bd3786"
             ],
             [
              0.5555555555555556,
              "#d8576b"
             ],
             [
              0.6666666666666666,
              "#ed7953"
             ],
             [
              0.7777777777777778,
              "#fb9f3a"
             ],
             [
              0.8888888888888888,
              "#fdca26"
             ],
             [
              1,
              "#f0f921"
             ]
            ],
            "type": "histogram2dcontour"
           }
          ],
          "mesh3d": [
           {
            "colorbar": {
             "outlinewidth": 0,
             "ticks": ""
            },
            "type": "mesh3d"
           }
          ],
          "parcoords": [
           {
            "line": {
             "colorbar": {
              "outlinewidth": 0,
              "ticks": ""
             }
            },
            "type": "parcoords"
           }
          ],
          "pie": [
           {
            "automargin": true,
            "type": "pie"
           }
          ],
          "scatter": [
           {
            "fillpattern": {
             "fillmode": "overlay",
             "size": 10,
             "solidity": 0.2
            },
            "type": "scatter"
           }
          ],
          "scatter3d": [
           {
            "line": {
             "colorbar": {
              "outlinewidth": 0,
              "ticks": ""
             }
            },
            "marker": {
             "colorbar": {
              "outlinewidth": 0,
              "ticks": ""
             }
            },
            "type": "scatter3d"
           }
          ],
          "scattercarpet": [
           {
            "marker": {
             "colorbar": {
              "outlinewidth": 0,
              "ticks": ""
             }
            },
            "type": "scattercarpet"
           }
          ],
          "scattergeo": [
           {
            "marker": {
             "colorbar": {
              "outlinewidth": 0,
              "ticks": ""
             }
            },
            "type": "scattergeo"
           }
          ],
          "scattergl": [
           {
            "marker": {
             "colorbar": {
              "outlinewidth": 0,
              "ticks": ""
             }
            },
            "type": "scattergl"
           }
          ],
          "scattermapbox": [
           {
            "marker": {
             "colorbar": {
              "outlinewidth": 0,
              "ticks": ""
             }
            },
            "type": "scattermapbox"
           }
          ],
          "scatterpolar": [
           {
            "marker": {
             "colorbar": {
              "outlinewidth": 0,
              "ticks": ""
             }
            },
            "type": "scatterpolar"
           }
          ],
          "scatterpolargl": [
           {
            "marker": {
             "colorbar": {
              "outlinewidth": 0,
              "ticks": ""
             }
            },
            "type": "scatterpolargl"
           }
          ],
          "scatterternary": [
           {
            "marker": {
             "colorbar": {
              "outlinewidth": 0,
              "ticks": ""
             }
            },
            "type": "scatterternary"
           }
          ],
          "surface": [
           {
            "colorbar": {
             "outlinewidth": 0,
             "ticks": ""
            },
            "colorscale": [
             [
              0,
              "#0d0887"
             ],
             [
              0.1111111111111111,
              "#46039f"
             ],
             [
              0.2222222222222222,
              "#7201a8"
             ],
             [
              0.3333333333333333,
              "#9c179e"
             ],
             [
              0.4444444444444444,
              "#bd3786"
             ],
             [
              0.5555555555555556,
              "#d8576b"
             ],
             [
              0.6666666666666666,
              "#ed7953"
             ],
             [
              0.7777777777777778,
              "#fb9f3a"
             ],
             [
              0.8888888888888888,
              "#fdca26"
             ],
             [
              1,
              "#f0f921"
             ]
            ],
            "type": "surface"
           }
          ],
          "table": [
           {
            "cells": {
             "fill": {
              "color": "#EBF0F8"
             },
             "line": {
              "color": "white"
             }
            },
            "header": {
             "fill": {
              "color": "#C8D4E3"
             },
             "line": {
              "color": "white"
             }
            },
            "type": "table"
           }
          ]
         },
         "layout": {
          "annotationdefaults": {
           "arrowcolor": "#2a3f5f",
           "arrowhead": 0,
           "arrowwidth": 1
          },
          "autotypenumbers": "strict",
          "coloraxis": {
           "colorbar": {
            "outlinewidth": 0,
            "ticks": ""
           }
          },
          "colorscale": {
           "diverging": [
            [
             0,
             "#8e0152"
            ],
            [
             0.1,
             "#c51b7d"
            ],
            [
             0.2,
             "#de77ae"
            ],
            [
             0.3,
             "#f1b6da"
            ],
            [
             0.4,
             "#fde0ef"
            ],
            [
             0.5,
             "#f7f7f7"
            ],
            [
             0.6,
             "#e6f5d0"
            ],
            [
             0.7,
             "#b8e186"
            ],
            [
             0.8,
             "#7fbc41"
            ],
            [
             0.9,
             "#4d9221"
            ],
            [
             1,
             "#276419"
            ]
           ],
           "sequential": [
            [
             0,
             "#0d0887"
            ],
            [
             0.1111111111111111,
             "#46039f"
            ],
            [
             0.2222222222222222,
             "#7201a8"
            ],
            [
             0.3333333333333333,
             "#9c179e"
            ],
            [
             0.4444444444444444,
             "#bd3786"
            ],
            [
             0.5555555555555556,
             "#d8576b"
            ],
            [
             0.6666666666666666,
             "#ed7953"
            ],
            [
             0.7777777777777778,
             "#fb9f3a"
            ],
            [
             0.8888888888888888,
             "#fdca26"
            ],
            [
             1,
             "#f0f921"
            ]
           ],
           "sequentialminus": [
            [
             0,
             "#0d0887"
            ],
            [
             0.1111111111111111,
             "#46039f"
            ],
            [
             0.2222222222222222,
             "#7201a8"
            ],
            [
             0.3333333333333333,
             "#9c179e"
            ],
            [
             0.4444444444444444,
             "#bd3786"
            ],
            [
             0.5555555555555556,
             "#d8576b"
            ],
            [
             0.6666666666666666,
             "#ed7953"
            ],
            [
             0.7777777777777778,
             "#fb9f3a"
            ],
            [
             0.8888888888888888,
             "#fdca26"
            ],
            [
             1,
             "#f0f921"
            ]
           ]
          },
          "colorway": [
           "#636efa",
           "#EF553B",
           "#00cc96",
           "#ab63fa",
           "#FFA15A",
           "#19d3f3",
           "#FF6692",
           "#B6E880",
           "#FF97FF",
           "#FECB52"
          ],
          "font": {
           "color": "#2a3f5f"
          },
          "geo": {
           "bgcolor": "white",
           "lakecolor": "white",
           "landcolor": "#E5ECF6",
           "showlakes": true,
           "showland": true,
           "subunitcolor": "white"
          },
          "hoverlabel": {
           "align": "left"
          },
          "hovermode": "closest",
          "mapbox": {
           "style": "light"
          },
          "paper_bgcolor": "white",
          "plot_bgcolor": "#E5ECF6",
          "polar": {
           "angularaxis": {
            "gridcolor": "white",
            "linecolor": "white",
            "ticks": ""
           },
           "bgcolor": "#E5ECF6",
           "radialaxis": {
            "gridcolor": "white",
            "linecolor": "white",
            "ticks": ""
           }
          },
          "scene": {
           "xaxis": {
            "backgroundcolor": "#E5ECF6",
            "gridcolor": "white",
            "gridwidth": 2,
            "linecolor": "white",
            "showbackground": true,
            "ticks": "",
            "zerolinecolor": "white"
           },
           "yaxis": {
            "backgroundcolor": "#E5ECF6",
            "gridcolor": "white",
            "gridwidth": 2,
            "linecolor": "white",
            "showbackground": true,
            "ticks": "",
            "zerolinecolor": "white"
           },
           "zaxis": {
            "backgroundcolor": "#E5ECF6",
            "gridcolor": "white",
            "gridwidth": 2,
            "linecolor": "white",
            "showbackground": true,
            "ticks": "",
            "zerolinecolor": "white"
           }
          },
          "shapedefaults": {
           "line": {
            "color": "#2a3f5f"
           }
          },
          "ternary": {
           "aaxis": {
            "gridcolor": "white",
            "linecolor": "white",
            "ticks": ""
           },
           "baxis": {
            "gridcolor": "white",
            "linecolor": "white",
            "ticks": ""
           },
           "bgcolor": "#E5ECF6",
           "caxis": {
            "gridcolor": "white",
            "linecolor": "white",
            "ticks": ""
           }
          },
          "title": {
           "x": 0.05
          },
          "xaxis": {
           "automargin": true,
           "gridcolor": "white",
           "linecolor": "white",
           "ticks": "",
           "title": {
            "standoff": 15
           },
           "zerolinecolor": "white",
           "zerolinewidth": 2
          },
          "yaxis": {
           "automargin": true,
           "gridcolor": "white",
           "linecolor": "white",
           "ticks": "",
           "title": {
            "standoff": 15
           },
           "zerolinecolor": "white",
           "zerolinewidth": 2
          }
         }
        },
        "title": {
         "text": "Average earnings per share per year"
        },
        "xaxis": {
         "anchor": "y",
         "domain": [
          0,
          1
         ],
         "title": {
          "text": "year"
         }
        },
        "yaxis": {
         "anchor": "x",
         "domain": [
          0,
          1
         ],
         "title": {
          "text": "eps"
         }
        }
       }
      }
     },
     "metadata": {},
     "output_type": "display_data"
    }
   ],
   "source": [
    "# plot average eps per company - for example, tech companies\n",
    "# px.line(earnings_df[earnings_df['symbol'].isin(['AAPL', 'MSFT', 'GOOGL', 'AMZN', 'META'])], x='year', y='eps', color='symbol', title='Average earnings per share per year')\n",
    "fig = px.line(\n",
    "    earnings_df[earnings_df[\"symbol\"].isin(third_criteria)],\n",
    "    x=\"year\",\n",
    "    y=\"eps\",\n",
    "    color=\"name\",\n",
    "    title=\"Average earnings per share per year\",\n",
    ")\n",
    "fig.show()"
   ]
  },
  {
   "cell_type": "code",
   "execution_count": 24,
   "id": "d2bc7ce946685497",
   "metadata": {
    "ExecuteTime": {
     "end_time": "2025-02-27T20:27:18.329290Z",
     "start_time": "2025-02-27T20:27:18.310135Z"
    }
   },
   "outputs": [],
   "source": [
    "plotly.io.write_json(fig, \"data/positive_eps.json\")"
   ]
  },
  {
   "cell_type": "markdown",
   "id": "c7e37bc6ab58758d",
   "metadata": {},
   "source": [
    "#### 4. Dividend record\n",
    "Uninterrupted dividends for at least the past 20 years."
   ]
  },
  {
   "cell_type": "code",
   "execution_count": 25,
   "id": "39ce4c149140c7ef",
   "metadata": {
    "ExecuteTime": {
     "end_time": "2025-02-27T20:29:53.291099Z",
     "start_time": "2025-02-27T20:28:27.340133Z"
    }
   },
   "outputs": [
    {
     "name": "stderr",
     "output_type": "stream",
     "text": [
      "100%|██████████| 503/503 [01:08<00:00,  7.30it/s]\n"
     ]
    }
   ],
   "source": [
    "dividends_df = pd.DataFrame()\n",
    "for ticker in tqdm(snp_data[\"symbol\"]):\n",
    "    dividends = api.get_dividends(ticker)\n",
    "    dividends_df_company = pd.DataFrame.from_records(dividends)\n",
    "    if dividends_df_company.empty:\n",
    "        dividends_df = pd.concat(\n",
    "            [dividends_df, pd.DataFrame({\"symbol\": ticker, \"num_years\": 0}, index=[0])]\n",
    "        )\n",
    "    else:\n",
    "        dividends_df_company[\"year\"] = pd.to_datetime(\n",
    "            dividends_df_company[\"date\"]\n",
    "        ).dt.year\n",
    "        last_20_years = [\n",
    "            year\n",
    "            for year in dividends_df_company[\"year\"].unique()\n",
    "            if year in range(2005, 2025)\n",
    "        ]\n",
    "        num_years = len(last_20_years)\n",
    "        dividends_df = pd.concat(\n",
    "            [\n",
    "                dividends_df,\n",
    "                pd.DataFrame({\"symbol\": ticker, \"num_years\": num_years}, index=[0]),\n",
    "            ]\n",
    "        )"
   ]
  },
  {
   "cell_type": "code",
   "execution_count": 26,
   "id": "25e00f1b8c0c3560",
   "metadata": {
    "ExecuteTime": {
     "end_time": "2025-02-27T20:29:53.781175Z",
     "start_time": "2025-02-27T20:29:53.763003Z"
    }
   },
   "outputs": [
    {
     "data": {
      "application/vnd.microsoft.datawrangler.viewer.v0+json": {
       "columns": [
        {
         "name": "index",
         "rawType": "int64",
         "type": "integer"
        },
        {
         "name": "symbol",
         "rawType": "object",
         "type": "string"
        },
        {
         "name": "num_years",
         "rawType": "int64",
         "type": "integer"
        },
        {
         "name": "name",
         "rawType": "object",
         "type": "string"
        }
       ],
       "conversionMethod": "pd.DataFrame",
       "ref": "06df58b6-2757-4b4a-b85a-d14f2dbda5a5",
       "rows": [
        [
         "5",
         "LII",
         "20",
         "Lennox International"
        ],
        [
         "7",
         "TPL",
         "20",
         "Texas Pacific Land Corporation"
        ],
        [
         "9",
         "ERIE",
         "20",
         "Erie Indemnity"
        ],
        [
         "23",
         "HUBB",
         "20",
         "Hubbell Incorporated"
        ],
        [
         "32",
         "BG",
         "20",
         "Bunge Global"
        ],
        [
         "35",
         "STLD",
         "20",
         "Steel Dynamics"
        ],
        [
         "47",
         "CPT",
         "20",
         "Camden Property Trust"
        ],
        [
         "49",
         "NDSN",
         "20",
         "Nordson Corporation"
        ],
        [
         "51",
         "FDS",
         "20",
         "FactSet"
        ],
        [
         "53",
         "BRO",
         "20",
         "Brown & Brown"
        ],
        [
         "67",
         "POOL",
         "20",
         "Pool Corporation"
        ],
        [
         "71",
         "WST",
         "20",
         "West Pharmaceutical Services"
        ],
        [
         "79",
         "STE",
         "20",
         "Steris"
        ],
        [
         "87",
         "IEX",
         "20",
         "IDEX Corporation"
        ],
        [
         "89",
         "TROW",
         "20",
         "T. Rowe Price"
        ],
        [
         "94",
         "DD",
         "20",
         "DuPont"
        ],
        [
         "98",
         "WAB",
         "20",
         "Wabtec"
        ],
        [
         "99",
         "ATO",
         "20",
         "Atmos Energy"
        ],
        [
         "102",
         "JKHY",
         "20",
         "Jack Henry & Associates"
        ],
        [
         "105",
         "ROL",
         "20",
         "Rollins, Inc."
        ],
        [
         "110",
         "EVRG",
         "20",
         "Evergy"
        ],
        [
         "118",
         "AOS",
         "20",
         "A. O. Smith"
        ],
        [
         "120",
         "PKG",
         "20",
         "Packaging Corporation of America"
        ],
        [
         "122",
         "BKR",
         "20",
         "Baker Hughes"
        ],
        [
         "125",
         "EG",
         "20",
         "Everest Group"
        ],
        [
         "129",
         "ARE",
         "20",
         "Alexandria Real Estate Equities"
        ],
        [
         "130",
         "RJF",
         "20",
         "Raymond James Financial"
        ],
        [
         "131",
         "SRE",
         "20",
         "Sempra"
        ],
        [
         "133",
         "REG",
         "20",
         "Regency Centers"
        ],
        [
         "137",
         "MAA",
         "20",
         "Mid-America Apartment Communities"
        ],
        [
         "138",
         "D",
         "20",
         "Dominion Energy"
        ],
        [
         "143",
         "ALB",
         "20",
         "Albemarle Corporation"
        ],
        [
         "145",
         "LNT",
         "20",
         "Alliant Energy"
        ],
        [
         "147",
         "AJG",
         "20",
         "Arthur J. Gallagher & Co."
        ],
        [
         "149",
         "DLR",
         "20",
         "Digital Realty"
        ],
        [
         "150",
         "GPN",
         "20",
         "Global Payments"
        ],
        [
         "154",
         "UDR",
         "20",
         "UDR, Inc."
        ],
        [
         "156",
         "FRT",
         "20",
         "Federal Realty Investment Trust"
        ],
        [
         "158",
         "EXR",
         "20",
         "Extra Space Storage"
        ],
        [
         "159",
         "WTW",
         "20",
         "Willis Towers Watson"
        ],
        [
         "160",
         "CHD",
         "20",
         "Church & Dwight"
        ],
        [
         "168",
         "JBHT",
         "20",
         "J.B. Hunt"
        ],
        [
         "175",
         "UHS",
         "20",
         "Universal Health Services"
        ],
        [
         "177",
         "MLM",
         "20",
         "Martin Marietta Materials"
        ],
        [
         "180",
         "ESS",
         "20",
         "Essex Property Trust"
        ],
        [
         "185",
         "AME",
         "20",
         "Ametek"
        ],
        [
         "194",
         "GRMN",
         "20",
         "Garmin"
        ],
        [
         "197",
         "MDLZ",
         "20",
         "Mondelez International"
        ],
        [
         "198",
         "PNR",
         "20",
         "Pentair"
        ],
        [
         "210",
         "ACN",
         "20",
         "Accenture"
        ]
       ],
       "shape": {
        "columns": 3,
        "rows": 215
       }
      },
      "text/html": [
       "<div>\n",
       "<style scoped>\n",
       "    .dataframe tbody tr th:only-of-type {\n",
       "        vertical-align: middle;\n",
       "    }\n",
       "\n",
       "    .dataframe tbody tr th {\n",
       "        vertical-align: top;\n",
       "    }\n",
       "\n",
       "    .dataframe thead th {\n",
       "        text-align: right;\n",
       "    }\n",
       "</style>\n",
       "<table border=\"1\" class=\"dataframe\">\n",
       "  <thead>\n",
       "    <tr style=\"text-align: right;\">\n",
       "      <th></th>\n",
       "      <th>symbol</th>\n",
       "      <th>num_years</th>\n",
       "      <th>name</th>\n",
       "    </tr>\n",
       "  </thead>\n",
       "  <tbody>\n",
       "    <tr>\n",
       "      <th>5</th>\n",
       "      <td>LII</td>\n",
       "      <td>20</td>\n",
       "      <td>Lennox International</td>\n",
       "    </tr>\n",
       "    <tr>\n",
       "      <th>7</th>\n",
       "      <td>TPL</td>\n",
       "      <td>20</td>\n",
       "      <td>Texas Pacific Land Corporation</td>\n",
       "    </tr>\n",
       "    <tr>\n",
       "      <th>9</th>\n",
       "      <td>ERIE</td>\n",
       "      <td>20</td>\n",
       "      <td>Erie Indemnity</td>\n",
       "    </tr>\n",
       "    <tr>\n",
       "      <th>23</th>\n",
       "      <td>HUBB</td>\n",
       "      <td>20</td>\n",
       "      <td>Hubbell Incorporated</td>\n",
       "    </tr>\n",
       "    <tr>\n",
       "      <th>32</th>\n",
       "      <td>BG</td>\n",
       "      <td>20</td>\n",
       "      <td>Bunge Global</td>\n",
       "    </tr>\n",
       "    <tr>\n",
       "      <th>...</th>\n",
       "      <td>...</td>\n",
       "      <td>...</td>\n",
       "      <td>...</td>\n",
       "    </tr>\n",
       "    <tr>\n",
       "      <th>498</th>\n",
       "      <td>SO</td>\n",
       "      <td>20</td>\n",
       "      <td>Southern Company</td>\n",
       "    </tr>\n",
       "    <tr>\n",
       "      <th>499</th>\n",
       "      <td>SPGI</td>\n",
       "      <td>20</td>\n",
       "      <td>S&amp;P Global</td>\n",
       "    </tr>\n",
       "    <tr>\n",
       "      <th>500</th>\n",
       "      <td>UNP</td>\n",
       "      <td>20</td>\n",
       "      <td>Union Pacific Corporation</td>\n",
       "    </tr>\n",
       "    <tr>\n",
       "      <th>501</th>\n",
       "      <td>XEL</td>\n",
       "      <td>20</td>\n",
       "      <td>Xcel Energy</td>\n",
       "    </tr>\n",
       "    <tr>\n",
       "      <th>502</th>\n",
       "      <td>XOM</td>\n",
       "      <td>20</td>\n",
       "      <td>ExxonMobil</td>\n",
       "    </tr>\n",
       "  </tbody>\n",
       "</table>\n",
       "<p>215 rows × 3 columns</p>\n",
       "</div>"
      ],
      "text/plain": [
       "    symbol  num_years                            name\n",
       "5      LII         20            Lennox International\n",
       "7      TPL         20  Texas Pacific Land Corporation\n",
       "9     ERIE         20                  Erie Indemnity\n",
       "23    HUBB         20            Hubbell Incorporated\n",
       "32      BG         20                    Bunge Global\n",
       "..     ...        ...                             ...\n",
       "498     SO         20                Southern Company\n",
       "499   SPGI         20                      S&P Global\n",
       "500    UNP         20       Union Pacific Corporation\n",
       "501    XEL         20                     Xcel Energy\n",
       "502    XOM         20                      ExxonMobil\n",
       "\n",
       "[215 rows x 3 columns]"
      ]
     },
     "execution_count": 26,
     "metadata": {},
     "output_type": "execute_result"
    }
   ],
   "source": [
    "dividends_df = dividends_df.merge(snp_data[[\"symbol\", \"name\"]], on=\"symbol\")\n",
    "dividends_df[dividends_df[\"num_years\"] >= 20]"
   ]
  },
  {
   "cell_type": "code",
   "execution_count": 27,
   "id": "17ddeac30948bae0",
   "metadata": {
    "ExecuteTime": {
     "end_time": "2025-02-27T20:29:53.886498Z",
     "start_time": "2025-02-27T20:29:53.882738Z"
    }
   },
   "outputs": [
    {
     "name": "stdout",
     "output_type": "stream",
     "text": [
      "215\n"
     ]
    }
   ],
   "source": [
    "fourth_criteria = dividends_df[dividends_df[\"num_years\"] >= 20][\"symbol\"].unique()\n",
    "print(len(fourth_criteria))"
   ]
  },
  {
   "cell_type": "markdown",
   "id": "f92cdb5f9415b474",
   "metadata": {},
   "source": [
    "#### 5. Earnings growth\n",
    "A minimum increase of at least one-third in per-share earnings in the past 10 years using 3-year averages at the beginning and end."
   ]
  },
  {
   "cell_type": "code",
   "execution_count": 28,
   "id": "e2bc985e5d3ace52",
   "metadata": {
    "ExecuteTime": {
     "end_time": "2025-02-27T20:30:10.477182Z",
     "start_time": "2025-02-27T20:30:10.455139Z"
    }
   },
   "outputs": [
    {
     "data": {
      "application/vnd.microsoft.datawrangler.viewer.v0+json": {
       "columns": [
        {
         "name": "index",
         "rawType": "int64",
         "type": "integer"
        },
        {
         "name": "symbol",
         "rawType": "object",
         "type": "string"
        },
        {
         "name": "year",
         "rawType": "int32",
         "type": "integer"
        },
        {
         "name": "eps",
         "rawType": "float64",
         "type": "float"
        },
        {
         "name": "name",
         "rawType": "object",
         "type": "string"
        }
       ],
       "conversionMethod": "pd.DataFrame",
       "ref": "75ddc69b-5ba2-4d59-9b2f-b28bc69530a5",
       "rows": [
        [
         "0",
         "A",
         "2014",
         "0.88",
         "Agilent Technologies"
        ],
        [
         "1",
         "A",
         "2015",
         "0.4325",
         "Agilent Technologies"
        ],
        [
         "2",
         "A",
         "2016",
         "0.495",
         "Agilent Technologies"
        ],
        [
         "3",
         "A",
         "2017",
         "0.5925",
         "Agilent Technologies"
        ],
        [
         "4",
         "A",
         "2018",
         "0.6975",
         "Agilent Technologies"
        ],
        [
         "5",
         "A",
         "2019",
         "0.78",
         "Agilent Technologies"
        ],
        [
         "6",
         "A",
         "2020",
         "0.8200000000000001",
         "Agilent Technologies"
        ],
        [
         "7",
         "A",
         "2021",
         "1.085",
         "Agilent Technologies"
        ],
        [
         "8",
         "A",
         "2022",
         "1.3025",
         "Agilent Technologies"
        ],
        [
         "9",
         "A",
         "2023",
         "1.3625",
         "Agilent Technologies"
        ],
        [
         "10",
         "A",
         "2024",
         "1.3225",
         "Agilent Technologies"
        ],
        [
         "11",
         "A",
         "2025",
         "1.31",
         "Agilent Technologies"
        ],
        [
         "12",
         "ABBV",
         "2015",
         "1.01",
         "AbbVie"
        ],
        [
         "13",
         "ABBV",
         "2016",
         "1.1875",
         "AbbVie"
        ],
        [
         "14",
         "ABBV",
         "2017",
         "1.3275",
         "AbbVie"
        ],
        [
         "15",
         "ABBV",
         "2018",
         "1.8725",
         "AbbVie"
        ],
        [
         "16",
         "ABBV",
         "2019",
         "2.1574999999999998",
         "AbbVie"
        ],
        [
         "17",
         "ABBV",
         "2020",
         "2.45",
         "AbbVie"
        ],
        [
         "18",
         "ABBV",
         "2021",
         "3.0775",
         "AbbVie"
        ],
        [
         "19",
         "ABBV",
         "2022",
         "3.395",
         "AbbVie"
        ],
        [
         "20",
         "ABBV",
         "2023",
         "2.98",
         "AbbVie"
        ],
        [
         "21",
         "ABBV",
         "2024",
         "2.6875",
         "AbbVie"
        ],
        [
         "22",
         "ABBV",
         "2025",
         "2.31",
         "AbbVie"
        ],
        [
         "23",
         "ABT",
         "2015",
         "0.56",
         "Abbott Laboratories"
        ],
        [
         "24",
         "ABT",
         "2016",
         "0.5425",
         "Abbott Laboratories"
        ],
        [
         "25",
         "ABT",
         "2017",
         "0.6025",
         "Abbott Laboratories"
        ],
        [
         "26",
         "ABT",
         "2018",
         "0.7025",
         "Abbott Laboratories"
        ],
        [
         "27",
         "ABT",
         "2019",
         "0.775",
         "Abbott Laboratories"
        ],
        [
         "28",
         "ABT",
         "2020",
         "0.7875",
         "Abbott Laboratories"
        ],
        [
         "29",
         "ABT",
         "2021",
         "1.335",
         "Abbott Laboratories"
        ],
        [
         "30",
         "ABT",
         "2022",
         "1.4075",
         "Abbott Laboratories"
        ],
        [
         "31",
         "ABT",
         "2023",
         "1.07",
         "Abbott Laboratories"
        ],
        [
         "32",
         "ABT",
         "2024",
         "1.13",
         "Abbott Laboratories"
        ],
        [
         "33",
         "ABT",
         "2025",
         "1.215",
         "Abbott Laboratories"
        ],
        [
         "34",
         "ACN",
         "2014",
         "1.29",
         "Accenture"
        ],
        [
         "35",
         "ACN",
         "2015",
         "1.22",
         "Accenture"
        ],
        [
         "36",
         "ACN",
         "2016",
         "1.4100000000000001",
         "Accenture"
        ],
        [
         "37",
         "ACN",
         "2017",
         "1.53",
         "Accenture"
        ],
        [
         "38",
         "ACN",
         "2018",
         "1.7275",
         "Accenture"
        ],
        [
         "39",
         "ACN",
         "2019",
         "1.8725",
         "Accenture"
        ],
        [
         "40",
         "ACN",
         "2020",
         "1.9575",
         "Accenture"
        ],
        [
         "41",
         "ACN",
         "2021",
         "2.3525",
         "Accenture"
        ],
        [
         "42",
         "ACN",
         "2022",
         "2.79",
         "Accenture"
        ],
        [
         "43",
         "ACN",
         "2023",
         "2.965",
         "Accenture"
        ],
        [
         "44",
         "ACN",
         "2024",
         "3.07",
         "Accenture"
        ],
        [
         "45",
         "ACN",
         "2025",
         "2.82",
         "Accenture"
        ],
        [
         "46",
         "ADI",
         "2014",
         "0.69",
         "Analog Devices"
        ],
        [
         "47",
         "ADI",
         "2015",
         "0.79",
         "Analog Devices"
        ],
        [
         "48",
         "ADI",
         "2016",
         "0.7675000000000001",
         "Analog Devices"
        ],
        [
         "49",
         "ADI",
         "2017",
         "1.17",
         "Analog Devices"
        ]
       ],
       "shape": {
        "columns": 4,
        "rows": 3688
       }
      },
      "text/html": [
       "<div>\n",
       "<style scoped>\n",
       "    .dataframe tbody tr th:only-of-type {\n",
       "        vertical-align: middle;\n",
       "    }\n",
       "\n",
       "    .dataframe tbody tr th {\n",
       "        vertical-align: top;\n",
       "    }\n",
       "\n",
       "    .dataframe thead th {\n",
       "        text-align: right;\n",
       "    }\n",
       "</style>\n",
       "<table border=\"1\" class=\"dataframe\">\n",
       "  <thead>\n",
       "    <tr style=\"text-align: right;\">\n",
       "      <th></th>\n",
       "      <th>symbol</th>\n",
       "      <th>year</th>\n",
       "      <th>eps</th>\n",
       "      <th>name</th>\n",
       "    </tr>\n",
       "  </thead>\n",
       "  <tbody>\n",
       "    <tr>\n",
       "      <th>0</th>\n",
       "      <td>A</td>\n",
       "      <td>2014</td>\n",
       "      <td>0.8800</td>\n",
       "      <td>Agilent Technologies</td>\n",
       "    </tr>\n",
       "    <tr>\n",
       "      <th>1</th>\n",
       "      <td>A</td>\n",
       "      <td>2015</td>\n",
       "      <td>0.4325</td>\n",
       "      <td>Agilent Technologies</td>\n",
       "    </tr>\n",
       "    <tr>\n",
       "      <th>2</th>\n",
       "      <td>A</td>\n",
       "      <td>2016</td>\n",
       "      <td>0.4950</td>\n",
       "      <td>Agilent Technologies</td>\n",
       "    </tr>\n",
       "    <tr>\n",
       "      <th>3</th>\n",
       "      <td>A</td>\n",
       "      <td>2017</td>\n",
       "      <td>0.5925</td>\n",
       "      <td>Agilent Technologies</td>\n",
       "    </tr>\n",
       "    <tr>\n",
       "      <th>4</th>\n",
       "      <td>A</td>\n",
       "      <td>2018</td>\n",
       "      <td>0.6975</td>\n",
       "      <td>Agilent Technologies</td>\n",
       "    </tr>\n",
       "    <tr>\n",
       "      <th>...</th>\n",
       "      <td>...</td>\n",
       "      <td>...</td>\n",
       "      <td>...</td>\n",
       "      <td>...</td>\n",
       "    </tr>\n",
       "    <tr>\n",
       "      <th>3827</th>\n",
       "      <td>ZTS</td>\n",
       "      <td>2021</td>\n",
       "      <td>1.1525</td>\n",
       "      <td>Zoetis</td>\n",
       "    </tr>\n",
       "    <tr>\n",
       "      <th>3828</th>\n",
       "      <td>ZTS</td>\n",
       "      <td>2022</td>\n",
       "      <td>1.1825</td>\n",
       "      <td>Zoetis</td>\n",
       "    </tr>\n",
       "    <tr>\n",
       "      <th>3829</th>\n",
       "      <td>ZTS</td>\n",
       "      <td>2023</td>\n",
       "      <td>1.3075</td>\n",
       "      <td>Zoetis</td>\n",
       "    </tr>\n",
       "    <tr>\n",
       "      <th>3830</th>\n",
       "      <td>ZTS</td>\n",
       "      <td>2024</td>\n",
       "      <td>1.4400</td>\n",
       "      <td>Zoetis</td>\n",
       "    </tr>\n",
       "    <tr>\n",
       "      <th>3831</th>\n",
       "      <td>ZTS</td>\n",
       "      <td>2025</td>\n",
       "      <td>1.4000</td>\n",
       "      <td>Zoetis</td>\n",
       "    </tr>\n",
       "  </tbody>\n",
       "</table>\n",
       "<p>3688 rows × 4 columns</p>\n",
       "</div>"
      ],
      "text/plain": [
       "     symbol  year     eps                  name\n",
       "0         A  2014  0.8800  Agilent Technologies\n",
       "1         A  2015  0.4325  Agilent Technologies\n",
       "2         A  2016  0.4950  Agilent Technologies\n",
       "3         A  2017  0.5925  Agilent Technologies\n",
       "4         A  2018  0.6975  Agilent Technologies\n",
       "...     ...   ...     ...                   ...\n",
       "3827    ZTS  2021  1.1525                Zoetis\n",
       "3828    ZTS  2022  1.1825                Zoetis\n",
       "3829    ZTS  2023  1.3075                Zoetis\n",
       "3830    ZTS  2024  1.4400                Zoetis\n",
       "3831    ZTS  2025  1.4000                Zoetis\n",
       "\n",
       "[3688 rows x 4 columns]"
      ]
     },
     "execution_count": 28,
     "metadata": {},
     "output_type": "execute_result"
    }
   ],
   "source": [
    "# remove companies which don't have eps for the last 10 years\n",
    "earnings_df_yearly = earnings_df.groupby(\"symbol\").filter(lambda x: len(x) >= 10)\n",
    "earnings_df_yearly"
   ]
  },
  {
   "cell_type": "code",
   "execution_count": 29,
   "id": "7044bda5f6deb5cf",
   "metadata": {
    "ExecuteTime": {
     "end_time": "2025-02-27T20:30:12.318151Z",
     "start_time": "2025-02-27T20:30:11.481866Z"
    }
   },
   "outputs": [
    {
     "name": "stderr",
     "output_type": "stream",
     "text": [
      "/var/folders/nf/dwbr_1dd3wj7vbhhprmj9sfr0000gn/T/ipykernel_47029/1341963141.py:5: FutureWarning:\n",
      "\n",
      "The behavior of DataFrame concatenation with empty or all-NA entries is deprecated. In a future version, this will no longer exclude empty or all-NA columns when determining the result dtypes. To retain the old behavior, exclude the relevant entries before the concat operation.\n",
      "\n"
     ]
    },
    {
     "data": {
      "application/vnd.microsoft.datawrangler.viewer.v0+json": {
       "columns": [
        {
         "name": "index",
         "rawType": "int64",
         "type": "integer"
        },
        {
         "name": "symbol",
         "rawType": "object",
         "type": "string"
        },
        {
         "name": "start_eps",
         "rawType": "float64",
         "type": "float"
        },
        {
         "name": "end_eps",
         "rawType": "float64",
         "type": "float"
        },
        {
         "name": "growth",
         "rawType": "float64",
         "type": "float"
        },
        {
         "name": "gt_33_percent",
         "rawType": "bool",
         "type": "boolean"
        }
       ],
       "conversionMethod": "pd.DataFrame",
       "ref": "e81a44f8-6d68-4c09-8d32-c98e4697e2b1",
       "rows": [
        [
         "0",
         "EOG",
         "-0.0013888888888888794",
         "2.9475000000000002",
         "2123.2000000000144",
         "True"
        ],
        [
         "0",
         "VRTX",
         "0.026666666666666672",
         "2.6008333333333336",
         "96.53124999999999",
         "True"
        ],
        [
         "0",
         "NVDA",
         "0.01",
         "0.5875",
         "57.75",
         "True"
        ],
        [
         "0",
         "CHTR",
         "-0.15194444444444447",
         "8.580833333333333",
         "57.47349177330894",
         "True"
        ],
        [
         "0",
         "OXY",
         "0.024999999999999994",
         "0.93",
         "36.20000000000001",
         "True"
        ],
        [
         "0",
         "AMZN",
         "0.0375",
         "1.1849999999999998",
         "30.599999999999994",
         "True"
        ],
        [
         "0",
         "NFLX",
         "0.135",
         "4.120833333333334",
         "29.524691358024693",
         "True"
        ],
        [
         "0",
         "NOW",
         "0.16944444444444443",
         "3.2275000000000005",
         "18.047540983606563",
         "True"
        ],
        [
         "0",
         "INCY",
         "-0.04833333333333333",
         "0.8125",
         "17.810344827586206",
         "True"
        ],
        [
         "0",
         "FTNT",
         "0.035833333333333335",
         "0.5558333333333333",
         "14.511627906976742",
         "True"
        ],
        [
         "0",
         "TSLA",
         "-0.05333333333333334",
         "0.6675",
         "13.515624999999998",
         "True"
        ],
        [
         "0",
         "DXCM",
         "-0.034444444444444444",
         "0.4041666666666666",
         "12.733870967741934",
         "True"
        ],
        [
         "0",
         "LYV",
         "-0.033333333333333326",
         "0.3866666666666667",
         "12.600000000000003",
         "True"
        ],
        [
         "0",
         "CRM",
         "0.18083333333333332",
         "2.3683333333333327",
         "12.096774193548386",
         "True"
        ],
        [
         "0",
         "SBAC",
         "0.12416666666666669",
         "1.4433333333333334",
         "10.624161073825501",
         "True"
        ],
        [
         "0",
         "PAYC",
         "0.1958333333333333",
         "2.0558333333333336",
         "9.497872340425536",
         "True"
        ],
        [
         "0",
         "AMD",
         "-0.09936694444444445",
         "0.8275",
         "9.327719088339796",
         "True"
        ],
        [
         "0",
         "COP",
         "-0.26416666666666666",
         "2.1",
         "8.949526813880126",
         "True"
        ],
        [
         "0",
         "ENPH",
         "-0.1208333333333333",
         "0.8816666666666667",
         "8.296551724137933",
         "True"
        ],
        [
         "0",
         "MOH",
         "0.7174999999999999",
         "5.404166666666666",
         "6.5319396051103364",
         "True"
        ],
        [
         "0",
         "INTU",
         "0.5208333333333334",
         "3.7933333333333334",
         "6.2832",
         "True"
        ],
        [
         "0",
         "ANET",
         "0.21333333333333335",
         "1.4516666666666669",
         "5.804687500000001",
         "True"
        ],
        [
         "0",
         "CPRT",
         "0.05833333333333334",
         "0.3641666666666667",
         "5.242857142857142",
         "True"
        ],
        [
         "0",
         "MPWR",
         "0.56",
         "3.4458333333333333",
         "5.153273809523809",
         "True"
        ],
        [
         "0",
         "TMUS",
         "0.35250000000000004",
         "2.1258333333333335",
         "5.030732860520095",
         "True"
        ],
        [
         "0",
         "ULTA",
         "1.1883333333333335",
         "6.956666666666667",
         "4.854137447405329",
         "True"
        ],
        [
         "0",
         "META",
         "0.9391666666666666",
         "5.489999999999999",
         "4.845607808340727",
         "True"
        ],
        [
         "0",
         "PWR",
         "0.39166666666666666",
         "2.22",
         "4.668085106382979",
         "True"
        ],
        [
         "0",
         "IT",
         "0.6758333333333333",
         "3.7900000000000005",
         "4.607891491985205",
         "True"
        ],
        [
         "0",
         "AVGO",
         "0.235",
         "1.2900000000000003",
         "4.489361702127661",
         "True"
        ],
        [
         "0",
         "DHI",
         "0.5908333333333333",
         "3.215",
         "4.441466854724965",
         "True"
        ],
        [
         "0",
         "MSCI",
         "0.7225",
         "3.6458333333333335",
         "4.046136101499423",
         "True"
        ],
        [
         "0",
         "CDNS",
         "0.29833333333333334",
         "1.4766666666666666",
         "3.949720670391061",
         "True"
        ],
        [
         "0",
         "NRG",
         "0.2783333333333334",
         "1.3758333333333332",
         "3.943113772455089",
         "True"
        ],
        [
         "0",
         "ON",
         "0.22583333333333333",
         "1.1091666666666669",
         "3.9114391143911447",
         "True"
        ],
        [
         "0",
         "CF",
         "0.4166666666666667",
         "2.0349999999999997",
         "3.883999999999999",
         "True"
        ],
        [
         "0",
         "GOOGL",
         "0.38833333333333336",
         "1.8891666666666669",
         "3.8648068669527897",
         "True"
        ],
        [
         "0",
         "GOOG",
         "0.3925",
         "1.8891666666666669",
         "3.813163481953291",
         "True"
        ],
        [
         "0",
         "CMG",
         "0.05333333333333334",
         "0.2525",
         "3.7343749999999996",
         "True"
        ],
        [
         "0",
         "URI",
         "2.1833333333333336",
         "10.259166666666665",
         "3.69885496183206",
         "True"
        ],
        [
         "0",
         "NVR",
         "26.31583333333333",
         "119.48416666666667",
         "3.5403907660153906",
         "True"
        ],
        [
         "0",
         "CAT",
         "1.1658333333333333",
         "5.199166666666667",
         "3.459614010007148",
         "True"
        ],
        [
         "0",
         "SNPS",
         "0.6966666666666667",
         "3.06",
         "3.3923444976076556",
         "True"
        ],
        [
         "0",
         "ODFL",
         "0.31",
         "1.3491666666666664",
         "3.3521505376344076",
         "True"
        ],
        [
         "0",
         "LRCX",
         "0.19916666666666663",
         "0.8466666666666667",
         "3.2510460251046034",
         "True"
        ],
        [
         "0",
         "FCX",
         "0.085",
         "0.3591666666666667",
         "3.225490196078431",
         "True"
        ],
        [
         "0",
         "CTAS",
         "0.2416666666666667",
         "1.01",
         "3.1793103448275857",
         "True"
        ],
        [
         "0",
         "WRB",
         "0.22833333333333336",
         "0.9466666666666667",
         "3.1459854014598534",
         "True"
        ],
        [
         "0",
         "CVX",
         "0.6733333333333333",
         "2.7875",
         "3.139851485148515",
         "True"
        ],
        [
         "0",
         "IDXX",
         "0.6291666666666667",
         "2.6025",
         "3.1364238410596026",
         "True"
        ]
       ],
       "shape": {
        "columns": 5,
        "rows": 264
       }
      },
      "text/html": [
       "<div>\n",
       "<style scoped>\n",
       "    .dataframe tbody tr th:only-of-type {\n",
       "        vertical-align: middle;\n",
       "    }\n",
       "\n",
       "    .dataframe tbody tr th {\n",
       "        vertical-align: top;\n",
       "    }\n",
       "\n",
       "    .dataframe thead th {\n",
       "        text-align: right;\n",
       "    }\n",
       "</style>\n",
       "<table border=\"1\" class=\"dataframe\">\n",
       "  <thead>\n",
       "    <tr style=\"text-align: right;\">\n",
       "      <th></th>\n",
       "      <th>symbol</th>\n",
       "      <th>start_eps</th>\n",
       "      <th>end_eps</th>\n",
       "      <th>growth</th>\n",
       "      <th>gt_33_percent</th>\n",
       "    </tr>\n",
       "  </thead>\n",
       "  <tbody>\n",
       "    <tr>\n",
       "      <th>0</th>\n",
       "      <td>EOG</td>\n",
       "      <td>-0.001389</td>\n",
       "      <td>2.947500</td>\n",
       "      <td>2123.200000</td>\n",
       "      <td>True</td>\n",
       "    </tr>\n",
       "    <tr>\n",
       "      <th>0</th>\n",
       "      <td>VRTX</td>\n",
       "      <td>0.026667</td>\n",
       "      <td>2.600833</td>\n",
       "      <td>96.531250</td>\n",
       "      <td>True</td>\n",
       "    </tr>\n",
       "    <tr>\n",
       "      <th>0</th>\n",
       "      <td>NVDA</td>\n",
       "      <td>0.010000</td>\n",
       "      <td>0.587500</td>\n",
       "      <td>57.750000</td>\n",
       "      <td>True</td>\n",
       "    </tr>\n",
       "    <tr>\n",
       "      <th>0</th>\n",
       "      <td>CHTR</td>\n",
       "      <td>-0.151944</td>\n",
       "      <td>8.580833</td>\n",
       "      <td>57.473492</td>\n",
       "      <td>True</td>\n",
       "    </tr>\n",
       "    <tr>\n",
       "      <th>0</th>\n",
       "      <td>OXY</td>\n",
       "      <td>0.025000</td>\n",
       "      <td>0.930000</td>\n",
       "      <td>36.200000</td>\n",
       "      <td>True</td>\n",
       "    </tr>\n",
       "    <tr>\n",
       "      <th>...</th>\n",
       "      <td>...</td>\n",
       "      <td>...</td>\n",
       "      <td>...</td>\n",
       "      <td>...</td>\n",
       "      <td>...</td>\n",
       "    </tr>\n",
       "    <tr>\n",
       "      <th>0</th>\n",
       "      <td>WYNN</td>\n",
       "      <td>0.988333</td>\n",
       "      <td>1.346667</td>\n",
       "      <td>0.362563</td>\n",
       "      <td>True</td>\n",
       "    </tr>\n",
       "    <tr>\n",
       "      <th>0</th>\n",
       "      <td>SLB</td>\n",
       "      <td>0.586667</td>\n",
       "      <td>0.789167</td>\n",
       "      <td>0.345170</td>\n",
       "      <td>True</td>\n",
       "    </tr>\n",
       "    <tr>\n",
       "      <th>0</th>\n",
       "      <td>FTV</td>\n",
       "      <td>0.729167</td>\n",
       "      <td>0.976667</td>\n",
       "      <td>0.339429</td>\n",
       "      <td>True</td>\n",
       "    </tr>\n",
       "    <tr>\n",
       "      <th>0</th>\n",
       "      <td>HUM</td>\n",
       "      <td>2.325000</td>\n",
       "      <td>3.110000</td>\n",
       "      <td>0.337634</td>\n",
       "      <td>True</td>\n",
       "    </tr>\n",
       "    <tr>\n",
       "      <th>0</th>\n",
       "      <td>FRT</td>\n",
       "      <td>1.254167</td>\n",
       "      <td>1.674167</td>\n",
       "      <td>0.334884</td>\n",
       "      <td>True</td>\n",
       "    </tr>\n",
       "  </tbody>\n",
       "</table>\n",
       "<p>264 rows × 5 columns</p>\n",
       "</div>"
      ],
      "text/plain": [
       "   symbol  start_eps   end_eps       growth  gt_33_percent\n",
       "0     EOG  -0.001389  2.947500  2123.200000           True\n",
       "0    VRTX   0.026667  2.600833    96.531250           True\n",
       "0    NVDA   0.010000  0.587500    57.750000           True\n",
       "0    CHTR  -0.151944  8.580833    57.473492           True\n",
       "0     OXY   0.025000  0.930000    36.200000           True\n",
       "..    ...        ...       ...          ...            ...\n",
       "0    WYNN   0.988333  1.346667     0.362563           True\n",
       "0     SLB   0.586667  0.789167     0.345170           True\n",
       "0     FTV   0.729167  0.976667     0.339429           True\n",
       "0     HUM   2.325000  3.110000     0.337634           True\n",
       "0     FRT   1.254167  1.674167     0.334884           True\n",
       "\n",
       "[264 rows x 5 columns]"
      ]
     },
     "execution_count": 29,
     "metadata": {},
     "output_type": "execute_result"
    }
   ],
   "source": [
    "# average first three years and last three years\n",
    "earnings_growth_df = pd.DataFrame(columns=[\"symbol\", \"start_eps\", \"end_eps\", \"growth\"])\n",
    "for symbol in earnings_df_yearly[\"symbol\"].unique():\n",
    "    # generate dataframe (symbol, start_eps, end_eps, growth)\n",
    "    earnings_growth_df = pd.concat(\n",
    "        [\n",
    "            earnings_growth_df,\n",
    "            pd.DataFrame(\n",
    "                {\n",
    "                    \"symbol\": symbol,\n",
    "                    \"start_eps\": earnings_df_yearly[\n",
    "                        earnings_df_yearly[\"symbol\"] == symbol\n",
    "                    ]\n",
    "                    .head(3)[\"eps\"]\n",
    "                    .mean(),\n",
    "                    \"end_eps\": earnings_df_yearly[\n",
    "                        earnings_df_yearly[\"symbol\"] == symbol\n",
    "                    ]\n",
    "                    .tail(3)[\"eps\"]\n",
    "                    .mean(),\n",
    "                },\n",
    "                index=[0],\n",
    "            ),\n",
    "        ]\n",
    "    )\n",
    "earnings_growth_df[\"growth\"] = earnings_growth_df.apply(\n",
    "    lambda x: (x[\"end_eps\"] - x[\"start_eps\"]) / abs(x[\"start_eps\"]), axis=1\n",
    ")\n",
    "earnings_growth_df[\"gt_33_percent\"] = earnings_growth_df.apply(\n",
    "    lambda x: x[\"growth\"] > 0.33, axis=1\n",
    ")\n",
    "earnings_growth_df[earnings_growth_df[\"gt_33_percent\"]].sort_values(\n",
    "    \"growth\", ascending=False\n",
    ")"
   ]
  },
  {
   "cell_type": "code",
   "execution_count": 30,
   "id": "fa6b658bae8ea62",
   "metadata": {
    "ExecuteTime": {
     "end_time": "2025-02-27T20:30:12.938287Z",
     "start_time": "2025-02-27T20:30:12.934845Z"
    }
   },
   "outputs": [
    {
     "name": "stdout",
     "output_type": "stream",
     "text": [
      "264\n"
     ]
    }
   ],
   "source": [
    "fifth_criteria = earnings_growth_df[earnings_growth_df[\"gt_33_percent\"]][\n",
    "    \"symbol\"\n",
    "].unique()\n",
    "print(len(fifth_criteria))"
   ]
  },
  {
   "cell_type": "code",
   "execution_count": 31,
   "id": "2416944d4da23762",
   "metadata": {
    "ExecuteTime": {
     "end_time": "2025-02-27T20:30:30.387765Z",
     "start_time": "2025-02-27T20:30:30.281182Z"
    }
   },
   "outputs": [],
   "source": [
    "earnings_growth_fifth_criterion = earnings_growth_df[\n",
    "    (earnings_growth_df[\"symbol\"].isin(fifth_criteria))\n",
    "    & (earnings_growth_df[\"growth\"] <= 100)\n",
    "].sort_values(\"growth\", ascending=False)\n",
    "earnings_growth_fifth_criterion[\"name\"] = earnings_growth_fifth_criterion.apply(\n",
    "    lambda x: snp_data[snp_data[\"symbol\"] == x[\"symbol\"]][\"name\"].values[0], axis=1\n",
    ")\n",
    "earnings_growth_fifth_criterion[\"growth\"] = (\n",
    "    earnings_growth_fifth_criterion[\"growth\"] * 100\n",
    ")"
   ]
  },
  {
   "cell_type": "code",
   "execution_count": 32,
   "id": "68fe03cb2f2ccb61",
   "metadata": {
    "ExecuteTime": {
     "end_time": "2025-02-27T20:30:31.548856Z",
     "start_time": "2025-02-27T20:30:31.504481Z"
    }
   },
   "outputs": [
    {
     "data": {
      "application/vnd.plotly.v1+json": {
       "config": {
        "plotlyServerURL": "https://plot.ly"
       },
       "data": [
        {
         "alignmentgroup": "True",
         "hovertemplate": "<b>%{hovertext}</b><br><br>symbol=%{x}<br>growth=%{y}<extra></extra>",
         "hovertext": [
          "Vertex Pharmaceuticals",
          "Nvidia",
          "Charter Communications",
          "Occidental Petroleum",
          "Amazon",
          "Netflix",
          "ServiceNow",
          "Incyte",
          "Fortinet",
          "Tesla, Inc.",
          "Dexcom",
          "Live Nation Entertainment",
          "Salesforce",
          "SBA Communications",
          "Paycom",
          "Advanced Micro Devices",
          "ConocoPhillips",
          "Enphase Energy",
          "Molina Healthcare",
          "Intuit",
          "Arista Networks",
          "Copart",
          "Monolithic Power Systems",
          "T-Mobile US",
          "Ulta Beauty",
          "Meta Platforms",
          "Quanta Services",
          "Gartner",
          "Broadcom",
          "D. R. Horton",
          "MSCI",
          "Cadence Design Systems",
          "NRG Energy",
          "ON Semiconductor",
          "CF Industries",
          "Alphabet Inc. (Class A)",
          "Alphabet Inc. (Class C)",
          "Chipotle Mexican Grill",
          "United Rentals",
          "NVR, Inc.",
          "Caterpillar Inc.",
          "Synopsys",
          "Old Dominion",
          "Lam Research",
          "Freeport-McMoRan",
          "Cintas",
          "W. R. Berkley Corporation",
          "Chevron Corporation",
          "Idexx Laboratories",
          "Diamondback Energy",
          "Domino's",
          "Assurant",
          "Fiserv",
          "Deere & Company",
          "O'Reilly Auto Parts",
          "EPAM Systems",
          "Brown & Brown",
          "Regeneron Pharmaceuticals",
          "Align Technology",
          "Mastercard",
          "HCA Healthcare",
          "Raymond James Financial",
          "Devon Energy",
          "Teledyne Technologies",
          "Centene Corporation",
          "ONEOK",
          "Marathon Petroleum",
          "Visa Inc.",
          "Lennar",
          "West Pharmaceutical Services",
          "Ameriprise Financial",
          "Arthur J. Gallagher & Co.",
          "PayPal",
          "Ansys",
          "Best Buy",
          "Motorola Solutions",
          "Martin Marietta Materials",
          "Cboe Global Markets",
          "Berkshire Hathaway",
          "Tractor Supply",
          "PTC Inc.",
          "ResMed",
          "CDW",
          "Pool Corporation",
          "Elevance Health",
          "IQVIA",
          "Mettler Toledo",
          "Global Payments",
          "Keysight Technologies",
          "Vulcan Materials Company",
          "Hilton Worldwide",
          "Tyler Technologies",
          "Zoetis",
          "Intuitive Surgical",
          "TransDigm Group",
          "Tapestry, Inc.",
          "Ametek",
          "Amphenol",
          "MGM Resorts",
          "FactSet",
          "Discover Financial",
          "Republic Services",
          "Edwards Lifesciences",
          "Leidos",
          "Thermo Fisher Scientific",
          "Rollins, Inc.",
          "S&P Global",
          "Hartford (The)",
          "NetApp",
          "CSX Corporation",
          "Ross Stores",
          "Garmin",
          "Regions Financial Corporation",
          "Electronic Arts",
          "Paychex",
          "Halliburton",
          "Generac",
          "Analog Devices",
          "Monster Beverage",
          "ExxonMobil",
          "Steris",
          "Booking Holdings",
          "Broadridge Financial Solutions",
          "Kroger",
          "Charles River Laboratories",
          "Roper Technologies",
          "Sherwin-Williams",
          "A. O. Smith",
          "Akamai Technologies",
          "Trane Technologies",
          "McKesson Corporation",
          "Expeditors International",
          "Qualcomm",
          "Trimble Inc.",
          "Valero Energy",
          "NXP Semiconductors",
          "Synchrony Financial",
          "Nasdaq, Inc.",
          "Zebra Technologies",
          "Cencora",
          "Lockheed Martin",
          "Eaton Corporation",
          "Chubb Limited",
          "Archer Daniels Midland",
          "Equinix",
          "Waste Management",
          "Comcast",
          "CME Group",
          "Moody's Corporation",
          "AbbVie",
          "Expedia Group",
          "Accenture",
          "Prologis",
          "Extra Space Storage",
          "Stryker Corporation",
          "Dollar Tree",
          "MarketAxess",
          "Verisign",
          "DaVita",
          "L3Harris",
          "Agilent Technologies",
          "Intercontinental Exchange",
          "Northrop Grumman",
          "Fastenal",
          "Hershey Company (The)",
          "Atmos Energy",
          "Allegion",
          "Iron Mountain",
          "Hologic",
          "IDEX Corporation",
          "LKQ Corporation",
          "CBRE Group",
          "Universal Health Services",
          "BlackRock",
          "Nordson Corporation",
          "eBay",
          "Teradyne",
          "Bristol Myers Squibb",
          "Ralph Lauren Corporation",
          "Albemarle Corporation",
          "Norfolk Southern Railway",
          "Waters Corporation",
          "Goldman Sachs",
          "Xylem Inc.",
          "Jacobs Solutions",
          "Verisk Analytics",
          "Bio-Techne",
          "Abbott Laboratories",
          "Aflac",
          "Danaher Corporation",
          "Union Pacific Corporation",
          "News Corp (Class A)",
          "Sempra",
          "Public Storage",
          "Starbucks",
          "M&T Bank",
          "Dollar General",
          "Constellation Brands",
          "Jack Henry & Associates",
          "TE Connectivity",
          "American Tower",
          "Texas Instruments",
          "Wabtec",
          "Capital One",
          "LabCorp",
          "Microchip Technology",
          "AES Corporation",
          "Welltower",
          "Church & Dwight",
          "F5, Inc.",
          "Packaging Corporation of America",
          "Cooper Companies (The)",
          "Emerson Electric",
          "American Water Works",
          "Travelers Companies (The)",
          "Quest Diagnostics",
          "WEC Energy Group",
          "United Parcel Service",
          "Procter & Gamble",
          "Altria",
          "Alexandria Real Estate Equities",
          "CMS Energy",
          "J.B. Hunt",
          "Kinder Morgan",
          "Mondelez International",
          "J.M. Smucker Company (The)",
          "T. Rowe Price",
          "Mosaic Company (The)",
          "Crown Castle",
          "Mid-America Apartment Communities",
          "MetLife",
          "Howmet Aerospace",
          "State Street Corporation",
          "PepsiCo",
          "Phillips 66",
          "Alliant Energy",
          "Rockwell Automation",
          "Xcel Energy",
          "Principal Financial Group",
          "General Motors",
          "Merck & Co.",
          "Camden Property Trust",
          "Honeywell",
          "McCormick & Company",
          "AvalonBay Communities",
          "Gen Digital",
          "Henry Schein",
          "Fidelity National Information Services",
          "UDR, Inc.",
          "Realty Income",
          "Essex Property Trust",
          "American Electric Power",
          "General Dynamics",
          "General Mills",
          "Cognizant",
          "Philip Morris International",
          "Huntington Ingalls Industries",
          "NiSource",
          "Wynn Resorts",
          "Schlumberger",
          "Fortive",
          "Humana",
          "Federal Realty Investment Trust"
         ],
         "legendgroup": "",
         "marker": {
          "color": "#636efa",
          "pattern": {
           "shape": ""
          }
         },
         "name": "",
         "offsetgroup": "",
         "orientation": "v",
         "showlegend": false,
         "textposition": "auto",
         "type": "bar",
         "x": [
          "VRTX",
          "NVDA",
          "CHTR",
          "OXY",
          "AMZN",
          "NFLX",
          "NOW",
          "INCY",
          "FTNT",
          "TSLA",
          "DXCM",
          "LYV",
          "CRM",
          "SBAC",
          "PAYC",
          "AMD",
          "COP",
          "ENPH",
          "MOH",
          "INTU",
          "ANET",
          "CPRT",
          "MPWR",
          "TMUS",
          "ULTA",
          "META",
          "PWR",
          "IT",
          "AVGO",
          "DHI",
          "MSCI",
          "CDNS",
          "NRG",
          "ON",
          "CF",
          "GOOGL",
          "GOOG",
          "CMG",
          "URI",
          "NVR",
          "CAT",
          "SNPS",
          "ODFL",
          "LRCX",
          "FCX",
          "CTAS",
          "WRB",
          "CVX",
          "IDXX",
          "FANG",
          "DPZ",
          "AIZ",
          "FI",
          "DE",
          "ORLY",
          "EPAM",
          "BRO",
          "REGN",
          "ALGN",
          "MA",
          "HCA",
          "RJF",
          "DVN",
          "TDY",
          "CNC",
          "OKE",
          "MPC",
          "V",
          "LEN",
          "WST",
          "AMP",
          "AJG",
          "PYPL",
          "ANSS",
          "BBY",
          "MSI",
          "MLM",
          "CBOE",
          "BRK-B",
          "TSCO",
          "PTC",
          "RMD",
          "CDW",
          "POOL",
          "ELV",
          "IQV",
          "MTD",
          "GPN",
          "KEYS",
          "VMC",
          "HLT",
          "TYL",
          "ZTS",
          "ISRG",
          "TDG",
          "TPR",
          "AME",
          "APH",
          "MGM",
          "FDS",
          "DFS",
          "RSG",
          "EW",
          "LDOS",
          "TMO",
          "ROL",
          "SPGI",
          "HIG",
          "NTAP",
          "CSX",
          "ROST",
          "GRMN",
          "RF",
          "EA",
          "PAYX",
          "HAL",
          "GNRC",
          "ADI",
          "MNST",
          "XOM",
          "STE",
          "BKNG",
          "BR",
          "KR",
          "CRL",
          "ROP",
          "SHW",
          "AOS",
          "AKAM",
          "TT",
          "MCK",
          "EXPD",
          "QCOM",
          "TRMB",
          "VLO",
          "NXPI",
          "SYF",
          "NDAQ",
          "ZBRA",
          "COR",
          "LMT",
          "ETN",
          "CB",
          "ADM",
          "EQIX",
          "WM",
          "CMCSA",
          "CME",
          "MCO",
          "ABBV",
          "EXPE",
          "ACN",
          "PLD",
          "EXR",
          "SYK",
          "DLTR",
          "MKTX",
          "VRSN",
          "DVA",
          "LHX",
          "A",
          "ICE",
          "NOC",
          "FAST",
          "HSY",
          "ATO",
          "ALLE",
          "IRM",
          "HOLX",
          "IEX",
          "LKQ",
          "CBRE",
          "UHS",
          "BLK",
          "NDSN",
          "EBAY",
          "TER",
          "BMY",
          "RL",
          "ALB",
          "NSC",
          "WAT",
          "GS",
          "XYL",
          "J",
          "VRSK",
          "TECH",
          "ABT",
          "AFL",
          "DHR",
          "UNP",
          "NWSA",
          "SRE",
          "PSA",
          "SBUX",
          "MTB",
          "DG",
          "STZ",
          "JKHY",
          "TEL",
          "AMT",
          "TXN",
          "WAB",
          "COF",
          "LH",
          "MCHP",
          "AES",
          "WELL",
          "CHD",
          "FFIV",
          "PKG",
          "COO",
          "EMR",
          "AWK",
          "TRV",
          "DGX",
          "WEC",
          "UPS",
          "PG",
          "MO",
          "ARE",
          "CMS",
          "JBHT",
          "KMI",
          "MDLZ",
          "SJM",
          "TROW",
          "MOS",
          "CCI",
          "MAA",
          "MET",
          "HWM",
          "STT",
          "PEP",
          "PSX",
          "LNT",
          "ROK",
          "XEL",
          "PFG",
          "GM",
          "MRK",
          "CPT",
          "HON",
          "MKC",
          "AVB",
          "GEN",
          "HSIC",
          "FIS",
          "UDR",
          "O",
          "ESS",
          "AEP",
          "GD",
          "GIS",
          "CTSH",
          "PM",
          "HII",
          "NI",
          "WYNN",
          "SLB",
          "FTV",
          "HUM",
          "FRT"
         ],
         "xaxis": "x",
         "y": [
          9653.124999999998,
          5775,
          5747.349177330894,
          3620.000000000001,
          3059.9999999999995,
          2952.4691358024693,
          1804.7540983606564,
          1781.0344827586207,
          1451.1627906976742,
          1351.5624999999998,
          1273.3870967741934,
          1260.0000000000002,
          1209.6774193548385,
          1062.41610738255,
          949.7872340425536,
          932.7719088339796,
          894.9526813880127,
          829.6551724137933,
          653.1939605110337,
          628.3199999999999,
          580.4687500000001,
          524.2857142857142,
          515.327380952381,
          503.07328605200945,
          485.41374474053293,
          484.5607808340727,
          466.80851063829795,
          460.7891491985205,
          448.93617021276606,
          444.1466854724965,
          404.6136101499423,
          394.9720670391061,
          394.31137724550894,
          391.14391143911445,
          388.3999999999999,
          386.48068669527896,
          381.3163481953291,
          373.43749999999994,
          369.885496183206,
          354.0390766015391,
          345.96140100071483,
          339.23444976076553,
          335.2150537634408,
          325.1046025104603,
          322.5490196078431,
          317.93103448275855,
          314.59854014598534,
          313.98514851485146,
          313.6423841059603,
          305.97738287560594,
          299.68025579536373,
          290.2745098039216,
          286.13251155624033,
          284.4292477643346,
          282.05044218801186,
          276.1142857142857,
          274.2307692307693,
          268.50666666666666,
          268.2128240109141,
          260.73943661971833,
          254.5995670995671,
          252.9769137302551,
          252.92792792792795,
          246.66666666666669,
          242.81098546042003,
          240.4123711340207,
          240.08130081300808,
          237.599093997735,
          233.9918545985046,
          233.12499999999997,
          232.44680851063836,
          231.48148148148135,
          231.11111111111114,
          231.07241063244732,
          221.41863699582754,
          219.79969183359015,
          210.20057306590257,
          206.883604505632,
          205.77959183673462,
          202.6595744680851,
          200.65217391304353,
          199.87745098039213,
          198.87983706720976,
          197.81746031746033,
          195.43828264758497,
          194.9794480328831,
          194.41264025646896,
          192.34828496042215,
          192.2459893048128,
          189.5287958115184,
          185.45197740112997,
          185.41226215644815,
          184.07534246575347,
          177.6243093922652,
          177.18978102189791,
          175.63025210084032,
          175.23680649526386,
          173.17073170731715,
          172.59259259259264,
          172.24719101123597,
          171.22871046228713,
          171.10438729198188,
          169.96466431095402,
          168.89190105049138,
          167.8718159408382,
          167.64705882352942,
          165.55415617128466,
          165.34926470588235,
          164.89637305699486,
          164.64646464646466,
          164.01137980085352,
          160.6280193236715,
          159.60000000000002,
          158.91946992864428,
          158.74363327674033,
          156.59824046920824,
          156.21500559910413,
          155.6173526140156,
          152.7472527472527,
          151.17187499999994,
          147.9362101313321,
          145.94486215538845,
          145.35962877030164,
          145.0628366247756,
          144.86196319018404,
          144.75011462631818,
          144.50819672131144,
          144.097995545657,
          143.97435897435898,
          143.25203252032512,
          142.55202628696603,
          142.08059981255857,
          141.28646222887065,
          137.56756756756755,
          137.5,
          136.7741935483871,
          136.23737373737376,
          135.14986376021795,
          134.6476673823931,
          133.55596033191665,
          132.82317573107406,
          131.45896656534956,
          131.2869822485207,
          131.20759837177746,
          131.1792452830189,
          131.002331002331,
          129.15887850467294,
          129.05718701700155,
          128.31445702864755,
          126.31205673758872,
          126.13908872901682,
          125.89285714285714,
          125.4261363636364,
          125.04950495049498,
          123.91947898164597,
          123.29545454545456,
          123.23125659978882,
          123.14368370298942,
          122.40143369175624,
          121.53110047846896,
          121.02351313969572,
          120.52896725440804,
          120.38011695906434,
          119.92619926199262,
          118.42105263157889,
          117.02970297029702,
          116.91691691691692,
          116.66666666666674,
          115.42553191489367,
          113.48017621145374,
          112.80487804878052,
          111.83431952662721,
          110.33676333021518,
          109.994952044422,
          109.9533437013997,
          108.84557721139431,
          108.40336134453781,
          106.15989515072081,
          105.7368421052632,
          104.45344129554653,
          103.85500575373996,
          103.79292670425421,
          103.1996988518728,
          102.6101141924959,
          102.24948875255626,
          101.18790496760255,
          101.11111111111109,
          100.29325513196481,
          99.79402677651902,
          98.87640449438202,
          98.71716554673182,
          96.47355163727957,
          96.44268774703555,
          94.95729971533142,
          93.9516129032258,
          92.13762608815806,
          90.08849557522123,
          89.71428571428568,
          88.86227544910177,
          88.78583473861723,
          86.92556634304209,
          86.50306748466262,
          85.51236749116607,
          84.84710178000911,
          84.78073946689598,
          84.01486988847581,
          83.48623853211008,
          83.25791855203619,
          81.95777351247602,
          80.69705093833777,
          80.53156146179403,
          78.2828282828283,
          76.63230240549827,
          76.16766467065865,
          73.24818778046253,
          72.08387942332894,
          69.68641114982582,
          68.92857142857139,
          68.86792452830186,
          68.86160714285712,
          68.38592233009709,
          67.9595278246206,
          66.69699727024566,
          65.210608424337,
          65.03496503496504,
          64.04312668463609,
          63.16818774445893,
          62.406015037593995,
          60.50110537951364,
          58.04907241172952,
          58.00542740841248,
          57.9646017699115,
          56.839475327920056,
          55.5632823365786,
          55.217109526895655,
          53.1135531135531,
          52.910330361824876,
          52.35204855842183,
          51.272727272727295,
          51.1008111239861,
          50.40000000000001,
          50.18504811250926,
          49.92215879605607,
          49.731663685152085,
          47.84775713638422,
          47.14285714285713,
          44.685242518059844,
          44.58598726114651,
          44.37984496124029,
          43.437862950058104,
          43.03163169433137,
          42.90942360475757,
          42.29290457881859,
          42.17391304347829,
          41.09311740890689,
          39.92094861660079,
          38.70146403564608,
          37.823834196891184,
          36.25632377740304,
          34.51704545454541,
          33.942857142857136,
          33.7634408602151,
          33.48837209302325
         ],
         "yaxis": "y"
        }
       ],
       "layout": {
        "barmode": "relative",
        "legend": {
         "tracegroupgap": 0
        },
        "template": {
         "data": {
          "bar": [
           {
            "error_x": {
             "color": "#2a3f5f"
            },
            "error_y": {
             "color": "#2a3f5f"
            },
            "marker": {
             "line": {
              "color": "#E5ECF6",
              "width": 0.5
             },
             "pattern": {
              "fillmode": "overlay",
              "size": 10,
              "solidity": 0.2
             }
            },
            "type": "bar"
           }
          ],
          "barpolar": [
           {
            "marker": {
             "line": {
              "color": "#E5ECF6",
              "width": 0.5
             },
             "pattern": {
              "fillmode": "overlay",
              "size": 10,
              "solidity": 0.2
             }
            },
            "type": "barpolar"
           }
          ],
          "carpet": [
           {
            "aaxis": {
             "endlinecolor": "#2a3f5f",
             "gridcolor": "white",
             "linecolor": "white",
             "minorgridcolor": "white",
             "startlinecolor": "#2a3f5f"
            },
            "baxis": {
             "endlinecolor": "#2a3f5f",
             "gridcolor": "white",
             "linecolor": "white",
             "minorgridcolor": "white",
             "startlinecolor": "#2a3f5f"
            },
            "type": "carpet"
           }
          ],
          "choropleth": [
           {
            "colorbar": {
             "outlinewidth": 0,
             "ticks": ""
            },
            "type": "choropleth"
           }
          ],
          "contour": [
           {
            "colorbar": {
             "outlinewidth": 0,
             "ticks": ""
            },
            "colorscale": [
             [
              0,
              "#0d0887"
             ],
             [
              0.1111111111111111,
              "#46039f"
             ],
             [
              0.2222222222222222,
              "#7201a8"
             ],
             [
              0.3333333333333333,
              "#9c179e"
             ],
             [
              0.4444444444444444,
              "#bd3786"
             ],
             [
              0.5555555555555556,
              "#d8576b"
             ],
             [
              0.6666666666666666,
              "#ed7953"
             ],
             [
              0.7777777777777778,
              "#fb9f3a"
             ],
             [
              0.8888888888888888,
              "#fdca26"
             ],
             [
              1,
              "#f0f921"
             ]
            ],
            "type": "contour"
           }
          ],
          "contourcarpet": [
           {
            "colorbar": {
             "outlinewidth": 0,
             "ticks": ""
            },
            "type": "contourcarpet"
           }
          ],
          "heatmap": [
           {
            "colorbar": {
             "outlinewidth": 0,
             "ticks": ""
            },
            "colorscale": [
             [
              0,
              "#0d0887"
             ],
             [
              0.1111111111111111,
              "#46039f"
             ],
             [
              0.2222222222222222,
              "#7201a8"
             ],
             [
              0.3333333333333333,
              "#9c179e"
             ],
             [
              0.4444444444444444,
              "#bd3786"
             ],
             [
              0.5555555555555556,
              "#d8576b"
             ],
             [
              0.6666666666666666,
              "#ed7953"
             ],
             [
              0.7777777777777778,
              "#fb9f3a"
             ],
             [
              0.8888888888888888,
              "#fdca26"
             ],
             [
              1,
              "#f0f921"
             ]
            ],
            "type": "heatmap"
           }
          ],
          "heatmapgl": [
           {
            "colorbar": {
             "outlinewidth": 0,
             "ticks": ""
            },
            "colorscale": [
             [
              0,
              "#0d0887"
             ],
             [
              0.1111111111111111,
              "#46039f"
             ],
             [
              0.2222222222222222,
              "#7201a8"
             ],
             [
              0.3333333333333333,
              "#9c179e"
             ],
             [
              0.4444444444444444,
              "#bd3786"
             ],
             [
              0.5555555555555556,
              "#d8576b"
             ],
             [
              0.6666666666666666,
              "#ed7953"
             ],
             [
              0.7777777777777778,
              "#fb9f3a"
             ],
             [
              0.8888888888888888,
              "#fdca26"
             ],
             [
              1,
              "#f0f921"
             ]
            ],
            "type": "heatmapgl"
           }
          ],
          "histogram": [
           {
            "marker": {
             "pattern": {
              "fillmode": "overlay",
              "size": 10,
              "solidity": 0.2
             }
            },
            "type": "histogram"
           }
          ],
          "histogram2d": [
           {
            "colorbar": {
             "outlinewidth": 0,
             "ticks": ""
            },
            "colorscale": [
             [
              0,
              "#0d0887"
             ],
             [
              0.1111111111111111,
              "#46039f"
             ],
             [
              0.2222222222222222,
              "#7201a8"
             ],
             [
              0.3333333333333333,
              "#9c179e"
             ],
             [
              0.4444444444444444,
              "#bd3786"
             ],
             [
              0.5555555555555556,
              "#d8576b"
             ],
             [
              0.6666666666666666,
              "#ed7953"
             ],
             [
              0.7777777777777778,
              "#fb9f3a"
             ],
             [
              0.8888888888888888,
              "#fdca26"
             ],
             [
              1,
              "#f0f921"
             ]
            ],
            "type": "histogram2d"
           }
          ],
          "histogram2dcontour": [
           {
            "colorbar": {
             "outlinewidth": 0,
             "ticks": ""
            },
            "colorscale": [
             [
              0,
              "#0d0887"
             ],
             [
              0.1111111111111111,
              "#46039f"
             ],
             [
              0.2222222222222222,
              "#7201a8"
             ],
             [
              0.3333333333333333,
              "#9c179e"
             ],
             [
              0.4444444444444444,
              "#bd3786"
             ],
             [
              0.5555555555555556,
              "#d8576b"
             ],
             [
              0.6666666666666666,
              "#ed7953"
             ],
             [
              0.7777777777777778,
              "#fb9f3a"
             ],
             [
              0.8888888888888888,
              "#fdca26"
             ],
             [
              1,
              "#f0f921"
             ]
            ],
            "type": "histogram2dcontour"
           }
          ],
          "mesh3d": [
           {
            "colorbar": {
             "outlinewidth": 0,
             "ticks": ""
            },
            "type": "mesh3d"
           }
          ],
          "parcoords": [
           {
            "line": {
             "colorbar": {
              "outlinewidth": 0,
              "ticks": ""
             }
            },
            "type": "parcoords"
           }
          ],
          "pie": [
           {
            "automargin": true,
            "type": "pie"
           }
          ],
          "scatter": [
           {
            "fillpattern": {
             "fillmode": "overlay",
             "size": 10,
             "solidity": 0.2
            },
            "type": "scatter"
           }
          ],
          "scatter3d": [
           {
            "line": {
             "colorbar": {
              "outlinewidth": 0,
              "ticks": ""
             }
            },
            "marker": {
             "colorbar": {
              "outlinewidth": 0,
              "ticks": ""
             }
            },
            "type": "scatter3d"
           }
          ],
          "scattercarpet": [
           {
            "marker": {
             "colorbar": {
              "outlinewidth": 0,
              "ticks": ""
             }
            },
            "type": "scattercarpet"
           }
          ],
          "scattergeo": [
           {
            "marker": {
             "colorbar": {
              "outlinewidth": 0,
              "ticks": ""
             }
            },
            "type": "scattergeo"
           }
          ],
          "scattergl": [
           {
            "marker": {
             "colorbar": {
              "outlinewidth": 0,
              "ticks": ""
             }
            },
            "type": "scattergl"
           }
          ],
          "scattermapbox": [
           {
            "marker": {
             "colorbar": {
              "outlinewidth": 0,
              "ticks": ""
             }
            },
            "type": "scattermapbox"
           }
          ],
          "scatterpolar": [
           {
            "marker": {
             "colorbar": {
              "outlinewidth": 0,
              "ticks": ""
             }
            },
            "type": "scatterpolar"
           }
          ],
          "scatterpolargl": [
           {
            "marker": {
             "colorbar": {
              "outlinewidth": 0,
              "ticks": ""
             }
            },
            "type": "scatterpolargl"
           }
          ],
          "scatterternary": [
           {
            "marker": {
             "colorbar": {
              "outlinewidth": 0,
              "ticks": ""
             }
            },
            "type": "scatterternary"
           }
          ],
          "surface": [
           {
            "colorbar": {
             "outlinewidth": 0,
             "ticks": ""
            },
            "colorscale": [
             [
              0,
              "#0d0887"
             ],
             [
              0.1111111111111111,
              "#46039f"
             ],
             [
              0.2222222222222222,
              "#7201a8"
             ],
             [
              0.3333333333333333,
              "#9c179e"
             ],
             [
              0.4444444444444444,
              "#bd3786"
             ],
             [
              0.5555555555555556,
              "#d8576b"
             ],
             [
              0.6666666666666666,
              "#ed7953"
             ],
             [
              0.7777777777777778,
              "#fb9f3a"
             ],
             [
              0.8888888888888888,
              "#fdca26"
             ],
             [
              1,
              "#f0f921"
             ]
            ],
            "type": "surface"
           }
          ],
          "table": [
           {
            "cells": {
             "fill": {
              "color": "#EBF0F8"
             },
             "line": {
              "color": "white"
             }
            },
            "header": {
             "fill": {
              "color": "#C8D4E3"
             },
             "line": {
              "color": "white"
             }
            },
            "type": "table"
           }
          ]
         },
         "layout": {
          "annotationdefaults": {
           "arrowcolor": "#2a3f5f",
           "arrowhead": 0,
           "arrowwidth": 1
          },
          "autotypenumbers": "strict",
          "coloraxis": {
           "colorbar": {
            "outlinewidth": 0,
            "ticks": ""
           }
          },
          "colorscale": {
           "diverging": [
            [
             0,
             "#8e0152"
            ],
            [
             0.1,
             "#c51b7d"
            ],
            [
             0.2,
             "#de77ae"
            ],
            [
             0.3,
             "#f1b6da"
            ],
            [
             0.4,
             "#fde0ef"
            ],
            [
             0.5,
             "#f7f7f7"
            ],
            [
             0.6,
             "#e6f5d0"
            ],
            [
             0.7,
             "#b8e186"
            ],
            [
             0.8,
             "#7fbc41"
            ],
            [
             0.9,
             "#4d9221"
            ],
            [
             1,
             "#276419"
            ]
           ],
           "sequential": [
            [
             0,
             "#0d0887"
            ],
            [
             0.1111111111111111,
             "#46039f"
            ],
            [
             0.2222222222222222,
             "#7201a8"
            ],
            [
             0.3333333333333333,
             "#9c179e"
            ],
            [
             0.4444444444444444,
             "#bd3786"
            ],
            [
             0.5555555555555556,
             "#d8576b"
            ],
            [
             0.6666666666666666,
             "#ed7953"
            ],
            [
             0.7777777777777778,
             "#fb9f3a"
            ],
            [
             0.8888888888888888,
             "#fdca26"
            ],
            [
             1,
             "#f0f921"
            ]
           ],
           "sequentialminus": [
            [
             0,
             "#0d0887"
            ],
            [
             0.1111111111111111,
             "#46039f"
            ],
            [
             0.2222222222222222,
             "#7201a8"
            ],
            [
             0.3333333333333333,
             "#9c179e"
            ],
            [
             0.4444444444444444,
             "#bd3786"
            ],
            [
             0.5555555555555556,
             "#d8576b"
            ],
            [
             0.6666666666666666,
             "#ed7953"
            ],
            [
             0.7777777777777778,
             "#fb9f3a"
            ],
            [
             0.8888888888888888,
             "#fdca26"
            ],
            [
             1,
             "#f0f921"
            ]
           ]
          },
          "colorway": [
           "#636efa",
           "#EF553B",
           "#00cc96",
           "#ab63fa",
           "#FFA15A",
           "#19d3f3",
           "#FF6692",
           "#B6E880",
           "#FF97FF",
           "#FECB52"
          ],
          "font": {
           "color": "#2a3f5f"
          },
          "geo": {
           "bgcolor": "white",
           "lakecolor": "white",
           "landcolor": "#E5ECF6",
           "showlakes": true,
           "showland": true,
           "subunitcolor": "white"
          },
          "hoverlabel": {
           "align": "left"
          },
          "hovermode": "closest",
          "mapbox": {
           "style": "light"
          },
          "paper_bgcolor": "white",
          "plot_bgcolor": "#E5ECF6",
          "polar": {
           "angularaxis": {
            "gridcolor": "white",
            "linecolor": "white",
            "ticks": ""
           },
           "bgcolor": "#E5ECF6",
           "radialaxis": {
            "gridcolor": "white",
            "linecolor": "white",
            "ticks": ""
           }
          },
          "scene": {
           "xaxis": {
            "backgroundcolor": "#E5ECF6",
            "gridcolor": "white",
            "gridwidth": 2,
            "linecolor": "white",
            "showbackground": true,
            "ticks": "",
            "zerolinecolor": "white"
           },
           "yaxis": {
            "backgroundcolor": "#E5ECF6",
            "gridcolor": "white",
            "gridwidth": 2,
            "linecolor": "white",
            "showbackground": true,
            "ticks": "",
            "zerolinecolor": "white"
           },
           "zaxis": {
            "backgroundcolor": "#E5ECF6",
            "gridcolor": "white",
            "gridwidth": 2,
            "linecolor": "white",
            "showbackground": true,
            "ticks": "",
            "zerolinecolor": "white"
           }
          },
          "shapedefaults": {
           "line": {
            "color": "#2a3f5f"
           }
          },
          "ternary": {
           "aaxis": {
            "gridcolor": "white",
            "linecolor": "white",
            "ticks": ""
           },
           "baxis": {
            "gridcolor": "white",
            "linecolor": "white",
            "ticks": ""
           },
           "bgcolor": "#E5ECF6",
           "caxis": {
            "gridcolor": "white",
            "linecolor": "white",
            "ticks": ""
           }
          },
          "title": {
           "x": 0.05
          },
          "xaxis": {
           "automargin": true,
           "gridcolor": "white",
           "linecolor": "white",
           "ticks": "",
           "title": {
            "standoff": 15
           },
           "zerolinecolor": "white",
           "zerolinewidth": 2
          },
          "yaxis": {
           "automargin": true,
           "gridcolor": "white",
           "linecolor": "white",
           "ticks": "",
           "title": {
            "standoff": 15
           },
           "zerolinecolor": "white",
           "zerolinewidth": 2
          }
         }
        },
        "title": {
         "text": "Earnings growth of S&P 500 companies (in %)"
        },
        "xaxis": {
         "anchor": "y",
         "domain": [
          0,
          1
         ],
         "title": {
          "text": "symbol"
         }
        },
        "yaxis": {
         "anchor": "x",
         "domain": [
          0,
          1
         ],
         "title": {
          "text": "growth"
         }
        }
       }
      }
     },
     "metadata": {},
     "output_type": "display_data"
    }
   ],
   "source": [
    "fig = px.bar(\n",
    "    earnings_growth_fifth_criterion,\n",
    "    x=\"symbol\",\n",
    "    y=\"growth\",\n",
    "    title=\"Earnings growth of S&P 500 companies (in %)\",\n",
    "    hover_name=\"name\",\n",
    ")\n",
    "fig.show()"
   ]
  },
  {
   "cell_type": "code",
   "execution_count": 33,
   "id": "afbc3e998f31bd22",
   "metadata": {
    "ExecuteTime": {
     "end_time": "2025-02-27T20:30:34.812033Z",
     "start_time": "2025-02-27T20:30:34.807159Z"
    }
   },
   "outputs": [],
   "source": [
    "plotly.io.write_json(fig, \"data/eps_growth.json\")"
   ]
  },
  {
   "cell_type": "markdown",
   "id": "fbc5a2f30e8770ea",
   "metadata": {},
   "source": [
    "#### 6. Moderate price/earnings ratio\n",
    "- Current price is not more than 15 times average earnings of the past 3 years.\n",
    "- Since the API offers only the trailing twelve months (TTM) P/E ratio, we will use that instead."
   ]
  },
  {
   "cell_type": "code",
   "execution_count": 34,
   "id": "8e27e886952d5e83",
   "metadata": {
    "ExecuteTime": {
     "end_time": "2025-02-27T20:38:39.643349Z",
     "start_time": "2025-02-27T20:37:11.651134Z"
    }
   },
   "outputs": [
    {
     "name": "stderr",
     "output_type": "stream",
     "text": [
      "100%|██████████| 503/503 [01:09<00:00,  7.19it/s]\n"
     ]
    },
    {
     "data": {
      "application/vnd.microsoft.datawrangler.viewer.v0+json": {
       "columns": [
        {
         "name": "index",
         "rawType": "int64",
         "type": "integer"
        },
        {
         "name": "dividendYielTTM",
         "rawType": "float64",
         "type": "float"
        },
        {
         "name": "dividendYielPercentageTTM",
         "rawType": "float64",
         "type": "float"
        },
        {
         "name": "peRatioTTM",
         "rawType": "float64",
         "type": "float"
        },
        {
         "name": "pegRatioTTM",
         "rawType": "float64",
         "type": "float"
        },
        {
         "name": "payoutRatioTTM",
         "rawType": "float64",
         "type": "float"
        },
        {
         "name": "currentRatioTTM",
         "rawType": "float64",
         "type": "float"
        },
        {
         "name": "quickRatioTTM",
         "rawType": "float64",
         "type": "float"
        },
        {
         "name": "cashRatioTTM",
         "rawType": "float64",
         "type": "float"
        },
        {
         "name": "daysOfSalesOutstandingTTM",
         "rawType": "float64",
         "type": "float"
        },
        {
         "name": "daysOfInventoryOutstandingTTM",
         "rawType": "float64",
         "type": "float"
        },
        {
         "name": "operatingCycleTTM",
         "rawType": "float64",
         "type": "float"
        },
        {
         "name": "daysOfPayablesOutstandingTTM",
         "rawType": "float64",
         "type": "float"
        },
        {
         "name": "cashConversionCycleTTM",
         "rawType": "float64",
         "type": "float"
        },
        {
         "name": "grossProfitMarginTTM",
         "rawType": "float64",
         "type": "float"
        },
        {
         "name": "operatingProfitMarginTTM",
         "rawType": "float64",
         "type": "float"
        },
        {
         "name": "pretaxProfitMarginTTM",
         "rawType": "float64",
         "type": "float"
        },
        {
         "name": "netProfitMarginTTM",
         "rawType": "float64",
         "type": "float"
        },
        {
         "name": "effectiveTaxRateTTM",
         "rawType": "float64",
         "type": "float"
        },
        {
         "name": "returnOnAssetsTTM",
         "rawType": "float64",
         "type": "float"
        },
        {
         "name": "returnOnEquityTTM",
         "rawType": "float64",
         "type": "float"
        },
        {
         "name": "returnOnCapitalEmployedTTM",
         "rawType": "float64",
         "type": "float"
        },
        {
         "name": "netIncomePerEBTTTM",
         "rawType": "float64",
         "type": "float"
        },
        {
         "name": "ebtPerEbitTTM",
         "rawType": "float64",
         "type": "float"
        },
        {
         "name": "ebitPerRevenueTTM",
         "rawType": "float64",
         "type": "float"
        },
        {
         "name": "debtRatioTTM",
         "rawType": "float64",
         "type": "float"
        },
        {
         "name": "debtEquityRatioTTM",
         "rawType": "float64",
         "type": "float"
        },
        {
         "name": "longTermDebtToCapitalizationTTM",
         "rawType": "float64",
         "type": "float"
        },
        {
         "name": "totalDebtToCapitalizationTTM",
         "rawType": "float64",
         "type": "float"
        },
        {
         "name": "interestCoverageTTM",
         "rawType": "float64",
         "type": "float"
        },
        {
         "name": "cashFlowToDebtRatioTTM",
         "rawType": "float64",
         "type": "float"
        },
        {
         "name": "companyEquityMultiplierTTM",
         "rawType": "float64",
         "type": "float"
        },
        {
         "name": "receivablesTurnoverTTM",
         "rawType": "float64",
         "type": "float"
        },
        {
         "name": "payablesTurnoverTTM",
         "rawType": "float64",
         "type": "float"
        },
        {
         "name": "inventoryTurnoverTTM",
         "rawType": "float64",
         "type": "float"
        },
        {
         "name": "fixedAssetTurnoverTTM",
         "rawType": "float64",
         "type": "float"
        },
        {
         "name": "assetTurnoverTTM",
         "rawType": "float64",
         "type": "float"
        },
        {
         "name": "operatingCashFlowPerShareTTM",
         "rawType": "float64",
         "type": "float"
        },
        {
         "name": "freeCashFlowPerShareTTM",
         "rawType": "float64",
         "type": "float"
        },
        {
         "name": "cashPerShareTTM",
         "rawType": "float64",
         "type": "float"
        },
        {
         "name": "operatingCashFlowSalesRatioTTM",
         "rawType": "float64",
         "type": "float"
        },
        {
         "name": "freeCashFlowOperatingCashFlowRatioTTM",
         "rawType": "float64",
         "type": "float"
        },
        {
         "name": "cashFlowCoverageRatiosTTM",
         "rawType": "float64",
         "type": "float"
        },
        {
         "name": "shortTermCoverageRatiosTTM",
         "rawType": "float64",
         "type": "float"
        },
        {
         "name": "capitalExpenditureCoverageRatioTTM",
         "rawType": "float64",
         "type": "float"
        },
        {
         "name": "dividendPaidAndCapexCoverageRatioTTM",
         "rawType": "float64",
         "type": "float"
        },
        {
         "name": "priceBookValueRatioTTM",
         "rawType": "float64",
         "type": "float"
        },
        {
         "name": "priceToBookRatioTTM",
         "rawType": "float64",
         "type": "float"
        },
        {
         "name": "priceToSalesRatioTTM",
         "rawType": "float64",
         "type": "float"
        },
        {
         "name": "priceEarningsRatioTTM",
         "rawType": "float64",
         "type": "float"
        },
        {
         "name": "priceToFreeCashFlowsRatioTTM",
         "rawType": "float64",
         "type": "float"
        },
        {
         "name": "priceToOperatingCashFlowsRatioTTM",
         "rawType": "float64",
         "type": "float"
        },
        {
         "name": "priceCashFlowRatioTTM",
         "rawType": "float64",
         "type": "float"
        },
        {
         "name": "priceEarningsToGrowthRatioTTM",
         "rawType": "float64",
         "type": "float"
        },
        {
         "name": "priceSalesRatioTTM",
         "rawType": "float64",
         "type": "float"
        },
        {
         "name": "enterpriseValueMultipleTTM",
         "rawType": "float64",
         "type": "float"
        },
        {
         "name": "priceFairValueTTM",
         "rawType": "float64",
         "type": "float"
        },
        {
         "name": "dividendPerShareTTM",
         "rawType": "float64",
         "type": "float"
        },
        {
         "name": "symbol",
         "rawType": "object",
         "type": "unknown"
        }
       ],
       "conversionMethod": "pd.DataFrame",
       "ref": "300d0427-9e40-4647-9336-4ad398c5e5fc",
       "rows": [
        [
         "0",
         "0.0",
         "0.0",
         "636.6376793495934",
         "3.8372682042989195",
         "0.0",
         "1.6642631816133393",
         "1.6642631816133393",
         "0.905588102748986",
         "29.446465211714234",
         "0.0",
         "29.446465211714234",
         "20.62038014783527",
         "8.826085063878963",
         "0.4700615556799105",
         "-0.003357582540570789",
         "0.014549524342473419",
         "0.011471740346950195",
         "0.25",
         "0.009575710393149086",
         "0.016659330240747637",
         "-0.00428214583085524",
         "0.7884615384615384",
         "-4.333333333333333",
         "-0.003357582540570789",
         "0.0417282989490074",
         "0.06869152889914136",
         "0.056583242655059846",
         "0.06427629212135748",
         "0.0",
         "3.9776119402985075",
         "1.646161732666923",
         "12.395375722543353",
         "17.700934579439252",
         "0.0",
         "9.187660668380463",
         "0.8347216815881666",
         "5.112023325404742",
         "4.320762679352413",
         "12.806433668380265",
         "0.19884349934713672",
         "0.8452157598499062",
         "3.9776119402985075",
         "31.352941176470587",
         "6.460606060606061",
         "6.460606060606061",
         "10.0354267025503",
         "10.0354267025503",
         "7.420608779612013",
         "636.6376793495934",
         "44.15303403718091",
         "36.72909688555347",
         "36.72909688555347",
         "3.8372682042989195",
         "7.420608779612013",
         "145.46991842256216",
         "10.0354267025503",
         "0.0",
         "DASH"
        ],
        [
         "1",
         "0.023171889838556507",
         "2.3171889838556505",
         "-34.14713823529412",
         "0.11044288934187538",
         "-0.5434173669467787",
         "0.6394492475184118",
         "0.6394492475184118",
         "0.10150496317643291",
         "105.73960302457466",
         "0.0",
         "105.73960302457468",
         "85.29473684210527",
         "20.44486618246941",
         "0.21431947069943288",
         "-0.18218336483931946",
         "-0.19872400756143668",
         "-0.16871455576559546",
         "0.15101070154577884",
         "-0.025596902559690257",
         "-0.058518594406310825",
         "-0.031125105970691534",
         "0.8489892984542212",
         "1.0907911802853436",
         "-0.18218336483931946",
         "0.20617337061733707",
         "0.3274124679760888",
         "0.23149282464123205",
         "0.24665465774575399",
         "-6.168",
         "0.2714310554686142",
         "1.5880444064901793",
         "3.4518760195758564",
         "4.2792792792792795",
         "0.0",
         "0.17428547895560498",
         "0.15171721517172151",
         "6.741844786407474",
         "0.017275707332242086",
         "1.3690998060801851",
         "0.3688563327032136",
         "0.0025624599615631004",
         "0.2714310554686142",
         "4.012853470437018",
         "1.0025690430314709",
         "0.8025706940874036",
         "1.388047634500427",
         "1.388047634500427",
         "5.790007088846881",
         "-34.14713823529412",
         "6125.827499999999",
         "15.618870403587442",
         "15.618870403587442",
         "0.11044288934187538",
         "5.790007088846881",
         "29.61158259149357",
         "1.388047634500427",
         "2.44",
         "EXE"
        ],
        [
         "2",
         "0.0024188415022278805",
         "0.24188415022278806",
         "1358.9905510156334",
         "0.5033298337094938",
         "7.152610868871637",
         "1.2965897619796707",
         "1.2965897619796707",
         "0.7836435018198572",
         "28.81756712183005",
         "0.0",
         "28.81756712183005",
         "12.326627791210354",
         "16.490939330619696",
         "0.6866019503334295",
         "0.24330172400574682",
         "0.012248867024373998",
         "0.0033530159135426113",
         "0.7490247452692868",
         "0.0007403974319240663",
         "0.002327189965141031",
         "0.056720024533473704",
         "0.2737409024745269",
         "0.050344349487982575",
         "0.24330172400574682",
         "0.23900907847094663",
         "0.741966007035404",
         "0.42234355779017085",
         "0.42593598499555807",
         "2.738899704955543",
         "0.1922020162087369",
         "3.104342361311584",
         "12.665885307281998",
         "29.61069370978067",
         "0.0",
         "3.483566867903903",
         "0.22081536473884592",
         "7.1724442415332925",
         "6.922765336301466",
         "6.461186996800314",
         "0.20803818080611453",
         "0.965189146569308",
         "0.1922020162087369",
         "13.170715188730359",
         "28.726672903638782",
         "6.662593501969965",
         "3.123567907391379",
         "3.123567907391379",
         "4.568667640632862",
         "1358.9905510156334",
         "22.752760126513717",
         "21.903272400541642",
         "21.903272400541642",
         "0.5033298337094938",
         "4.568667640632862",
         "22.467052966828646",
         "3.123567907391379",
         "0.38",
         "TKO"
        ],
        [
         "3",
         "0.01567563992327535",
         "1.567563992327535",
         "16.44700012108607",
         "2.7137550199792035",
         "0.24329978229179156",
         "1.4407146749903503",
         "0.7438281064491463",
         "0.6344108235781449",
         "5.569894525620755",
         "119.33585867260807",
         "124.90575319822882",
         "57.82764099367908",
         "67.07811220454974",
         "0.47152456298942064",
         "0.18991379271665676",
         "0.19711702239539414",
         "0.14926744213640308",
         "0.24274707251479533",
         "0.2171194507627593",
         "0.5411244056213138",
         "0.4320609337353041",
         "0.7572529268273428",
         "1.037928944368376",
         "0.18991379271665676",
         "0.25413332221720697",
         "0.6288755843879631",
         "0.0",
         "0.3860795694990161",
         "0.0",
         "1.009579793886359",
         "2.4745892388345085",
         "65.53086388279883",
         "6.311860448187688",
         "3.058594491714005",
         "3.486641506977089",
         "1.4545667002476796",
         "10.862752973189304",
         "9.093315640157906",
         "9.686852229386263",
         "0.17638783221148666",
         "0.8371096776849661",
         "1.009579793886359",
         "0.0",
         "6.139100136753217",
         "2.711631198604535",
         "8.836668178454666",
         "8.836668178454666",
         "2.4214974542701646",
         "16.44700012108607",
         "16.39959153562756",
         "13.918202906128556",
         "13.918202906128556",
         "2.7137550199792035",
         "2.4214974542701646",
         "11.100443774235243",
         "8.836668178454666",
         "2.37",
         "WSM"
        ],
        [
         "4",
         "0.013868065967016492",
         "1.3868065967016492",
         "17.082311557788948",
         "-0.8162997736775484",
         "0.2597771466025781",
         "0.8000445079094264",
         "0.8000445079094264",
         "0.05995957198227102",
         "122.69165964616681",
         "0.0",
         "122.6916596461668",
         "621.3935969868173",
         "-498.70193734065055",
         "0.91866431799035",
         "0.3142375737152485",
         "0.28471318066937273",
         "0.17526997013096424",
         "0.14283792871553463",
         "0.012111830005689411",
         "0.28090094513317787",
         "0.07578500184706317",
         "0.6156018829858776",
         "0.9060443577869851",
         "0.3142375737152485",
         "0.028018364889718043",
         "0.6136903726888078",
         "0.38030243166552924",
         "0.38030243166552924",
         "24.206489675516224",
         "0.3072346052134492",
         "21.90314727873413",
         "2.974937343358396",
         "0.5873893805309734",
         "0.0",
         "0.0",
         "0.06910385159898914",
         "5.55024739805494",
         "5.55024739805494",
         "351.44173349257807",
         "0.12456919659952516",
         "1.0",
         "0.3072346052134492",
         "0.0",
         "0.0",
         "2.7359125315391086",
         "4.531718541702892",
         "4.531718541702892",
         "2.9142234816573485",
         "17.082311557788948",
         "23.394415001537045",
         "24.034964648017215",
         "24.034964648017215",
         "-0.8162997736775484",
         "2.9142234816573485",
         "7.929394198335957",
         "4.531718541702892",
         "1.85",
         "APO"
        ],
        [
         "5",
         "0.006542640951243102",
         "0.6542640951243103",
         "23.314864864864862",
         "-52.83148378378302",
         "0.20189313737700834",
         "1.432875019310984",
         "0.7359029816159431",
         "0.16777382975436428",
         "44.322594469702615",
         "91.32084627329192",
         "135.64344074299453",
         "58.35708740017746",
         "77.28635334281707",
         "0.3280166952373854",
         "0.19065364835656257",
         "0.18409480509801",
         "0.1496049787582917",
         "0.1873481781376518",
         "0.2323609422932222",
         "1.0585016973731913",
         "0.47352832284339136",
         "0.8126518218623482",
         "0.965598123534011",
         "0.19065364835656257",
         "0.43115124153498874",
         "1.747565982404692",
         "0.5629549882087563",
         "0.6360414976732272",
         "30.91238670694864",
         "0.626057188884414",
         "4.05325513196481",
         "8.235077489642473",
         "6.254595907041277",
         "3.9968968192397205",
         "4.735133227457208",
         "1.5531631649013138",
         "26.27323943661972",
         "21.777464788732395",
         "6.27887323943662",
         "0.17379071327420437",
         "0.8288838854937279",
         "0.626057188884414",
         "2.381159050293592",
         "5.843984962406015",
         "2.8992850481815355",
         "21.958363636363632",
         "21.958363636363632",
         "3.4865264008347623",
         "23.314864864864862",
         "24.203194784633297",
         "20.07023158571888",
         "20.07023158571888",
         "-52.83148378378302",
         "3.4865264008347623",
         "18.727476232780432",
         "21.958363636363632",
         "3.4499999999999997",
         "LII"
        ],
        [
         "6",
         "0.0",
         "0.0",
         "121.05691370722431",
         "-1.7853717489194953",
         "0.0",
         "1.9006849315068493",
         "1.9006849315068493",
         "0.2781182408074982",
         "84.3505570040294",
         "0.0",
         "84.3505570040294",
         "23.604790419161677",
         "60.745766584867724",
         "0.8020858023228253",
         "0.048471201706565534",
         "0.07561033420241764",
         "0.062337046693529276",
         "0.1755485893416928",
         "0.029259609501029092",
         "0.061581689398817537",
         "0.0329069112559337",
         "0.8244514106583072",
         "1.5599022004889975",
         "0.048471201706565534",
         "0.02102686766423764",
         "0.04184193048483507",
         "0.02995812305379577",
         "0.040161495962600935",
         "3.587719298245614",
         "6.5132275132275135",
         "1.9899269426610582",
         "4.327179487179487",
         "15.462962962962964",
         "0.0",
         "5.357460317460317",
         "0.4693775379651777",
         "9.261314264003882",
         "8.245654291915724",
         "30.157577763817677",
         "0.2917753022043138",
         "0.8903330625507717",
         "6.5132275132275135",
         "24.86868686868687",
         "9.118518518518519",
         "9.118518518518519",
         "7.0484764899269425",
         "7.0484764899269425",
         "7.55095740258355",
         "121.05691370722431",
         "29.067052264142337",
         "25.8634998415922",
         "25.8634998415922",
         "-1.7853717489194953",
         "7.55095740258355",
         "107.10612767636987",
         "7.0484764899269425",
         "0.0",
         "WDAY"
        ],
        [
         "7",
         "0.011643676524579845",
         "1.1643676524579845",
         "67.5787913078465",
         "57.32444427896101",
         "0.7650652039827297",
         "8.333923841059603",
         "8.333923841059603",
         "6.1230960264900665",
         "65.50445366614576",
         "0.0",
         "65.50445366614576",
         "150.5710875453335",
         "-85.06663387918775",
         "0.9074144650996071",
         "0.7638430598039452",
         "0.8200653704965692",
         "0.6431640793796745",
         "0.21571608493817604",
         "0.3637441707664941",
         "0.40231600231041903",
         "0.45396507300314914",
         "0.7842839150618239",
         "1.0736045316783458",
         "0.7638430598039452",
         "0.000362974952324482",
         "0.0004000123624129664",
         "0.0",
         "0.0003998524165032244",
         "0.0",
         "1083.1611479028697",
         "1.1020384735952105",
         "5.572140206836663",
         "2.424104162029824",
         "0.0",
         "1.2691416940277842",
         "0.565554237912854",
         "21.346375827197512",
         "2.8451422390576395",
         "16.089438370340254",
         "0.6951771194761293",
         "0.1332845566896012",
         "1083.1611479028697",
         "0.0",
         "1.153781218182203",
         "0.6351066941761522",
         "27.08963906355605",
         "27.08963906355605",
         "43.4616095310014",
         "67.5787913078465",
         "469.0622734904203",
         "62.52255702813693",
         "62.52255702813693",
         "57.32444427896101",
         "43.4616095310014",
         "53.70693181640971",
         "27.08963906355605",
         "15.54",
         "TPL"
        ],
        [
         "8",
         "0.019601644008852354",
         "1.9601644008852355",
         "15.043018360949395",
         "1.604588625167935",
         "0.28549037169726826",
         "0.7786661508371483",
         "0.6343198572871666",
         "0.07808369333935135",
         "59.588874820806346",
         "32.99157492395898",
         "92.58044974476533",
         "102.33479583322118",
         "-9.754346088455847",
         "0.22251404773614322",
         "0.06371446210511997",
         "0.05127292893990604",
         "0.04673161237665721",
         "0.09081632653061225",
         "0.056002808918315654",
         "-1.8837920489296636",
         "0.1832987145910473",
         "0.9114285714285715",
         "0.8047298406963377",
         "0.06371446210511997",
         "0.30806560830637275",
         "-16.576923076923077",
         "1.0828812706224484",
         "1.0641975308641975",
         "32.56149732620321",
         "0.18402735376724874",
         "-53.80971659919028",
         "6.1253044481476735",
         "3.5667242703533026",
         "11.063430613460394",
         "15.083175505050505",
         "1.1983923958568454",
         "6.385593220338983",
         "2.639830508474576",
         "5.13135593220339",
         "0.04730712484435004",
         "0.41340411413404116",
         "0.18402735376724874",
         "0.8687548039969254",
         "1.7047511312217194",
         "1.1512605042016806",
         "-45.33206477732793",
         "-45.33206477732793",
         "0.6928973029183715",
         "15.043018360949395",
         "35.42970387800963",
         "14.860013271400133",
         "14.860013271400133",
         "1.604588625167935",
         "0.6928973029183715",
         "16.76647105579069",
         "-45.33206477732793",
         "1.8599999999999999",
         "DELL"
        ],
        [
         "9",
         "0.014591681636037033",
         "1.4591681636037033",
         "28.42667505689167",
         "0.00825875927035763",
         "0.39353348128151566",
         "1.381880385231401",
         "1.381880385231401",
         "0.32054891658285023",
         "79.23674971118817",
         "0.0",
         "79.23674971118817",
         "0.0",
         "79.23674971118817",
         "0.5114473822686573",
         "0.21462149290763782",
         "0.23361959704756055",
         "0.18520716500616827",
         "0.20722761554775063",
         "0.20691773003960612",
         "0.31370166447101194",
         "0.3301218913168613",
         "0.7927723844522494",
         "1.0885191127996605",
         "0.21462149290763782",
         "0.0",
         "0.0",
         "0.0",
         "0.0",
         "0.0",
         "0.0",
         "1.435763931717449",
         "4.606448413525249",
         "0.0",
         "0.0",
         "6.463166162529625",
         "1.117223137845206",
         "13.30945483893436",
         "10.572159896672554",
         "6.494476919112696",
         "0.19364912506072512",
         "0.7943345557434589",
         "0.0",
         "0.0",
         "4.862265565255578",
         "1.7180855760046874",
         "8.445139146553569",
         "8.445139146553569",
         "5.040004196101952",
         "28.42667505689167",
         "32.765130567799574",
         "27.187439634377395",
         "27.187439634377395",
         "0.00825875927035763",
         "5.040004196101952",
         "31.36119053473469",
         "8.445139146553569",
         "5.28",
         "ERIE"
        ],
        [
         "10",
         "0.0",
         "0.0",
         "562.4195779657716",
         "5.624195779657716",
         "0.0",
         "5.958013810995384",
         "5.958013810995384",
         "2.1069137304747505",
         "73.24795228209179",
         "0.0",
         "73.24795228209179",
         "0.06642343504302196",
         "73.18152884704877",
         "0.8024817248745161",
         "0.10832393709036481",
         "0.17071080266075078",
         "0.16129431894600152",
         "0.04345088547405519",
         "0.0728904676382662",
         "0.10669717597837246",
         "0.058074982609479825",
         "0.9448395557399938",
         "1.5759287120292007",
         "0.10832393709036481",
         "0.037726443189940076",
         "0.047812482823750446",
         "0.03755428728396897",
         "0.04563076276291399",
         "0.0",
         "4.823467199511745",
         "1.2673466879194129",
         "4.983074456393205",
         "5495.0485436893205",
         "0.0",
         "11.920837181439234",
         "0.4519097021803269",
         "0.5006176018479029",
         "0.49513619563335753",
         "2.269090014547376",
         "0.4026739421680003",
         "0.9890507121717012",
         "4.823467199511745",
         "26.22837724183393",
         "91.33014088966281",
         "91.33014088966281",
         "51.954910481634535",
         "51.954910481634535",
         "88.5136845954311",
         "562.4195779657716",
         "222.24824142001052",
         "225.2817311730575",
         "225.2817311730575",
         "5.624195779657716",
         "88.5136845954311",
         "751.6098613784538",
         "51.954910481634535",
         "0.0",
         "PLTR"
        ],
        [
         "11",
         "0.027896033009318227",
         "2.7896033009318226",
         "108.58310354650926",
         "-2.0185320531081854",
         "3.7417816129644685",
         "1.3711986908495841",
         "0.8870857766262102",
         "0.11659620891858721",
         "62.93392632389873",
         "68.15494788112868",
         "131.08887420502742",
         "63.16331789546856",
         "67.92555630955887",
         "0.20377662456062415",
         "0.031060703712028986",
         "0.014843764996438425",
         "0.007275218077780184",
         "0.48307641459684636",
         "0.003969789981260997",
         "0.0196703720342955",
         "0.020360512789216495",
         "0.4901194595525988",
         "0.4778953218207297",
         "0.031060703712028986",
         "0.024063621197925",
         "0.06065668202764977",
         "0.0",
         "0.05718785640580025",
         "1.573248904400557",
         "1.4083570750237417",
         "2.520679723502304",
         "5.799733487490891",
         "5.778670471428572",
         "5.3554439016901405",
         "1.0530320956119075",
         "0.5456592419388011",
         "2.9192913385826773",
         "0.03346456692913386",
         "1.6830708661417322",
         "0.06210867251945113",
         "0.011463250168577209",
         "1.4083570750237417",
         "1.4083570750237417",
         "1.0115961800818554",
         "0.7008506616257089",
         "1.0865443300691244",
         "1.0865443300691244",
         "0.8116994559720618",
         "108.58310354650926",
         "1140.0797651033529",
         "12.719089393122047",
         "12.719089393122047",
         "-2.0185320531081854",
         "0.8116994559720618",
         "25.145193269412765",
         "1.0865443300691244",
         "1.0358",
         "SW"
        ],
        [
         "12",
         "0.0",
         "0.0",
         "-5444.2889855222875",
         "48.105866991870684",
         "0.0",
         "1.766326692766646",
         "1.766326692766646",
         "1.249128154750726",
         "104.18943733647914",
         "0.0",
         "104.18943733647914",
         "48.18423651083581",
         "56.005200825643335",
         "0.749222232564351",
         "-0.030460660902503628",
         "0.013793420922171657",
         "-0.004874262195899256",
         "1.3043239080206843",
         "-0.0022146557785266076",
         "-0.00657383384891644",
         "-0.02298050883422434",
         "-0.3533758756005428",
         "-0.4528273685958648",
         "-0.030460660902503628",
         "0.09066183168156397",
         "0.24055570767929443",
         "0.19116387772457052",
         "0.1939096375843545",
         "-4.57717304549428",
         "1.7514580409962721",
         "2.653329446554865",
         "3.503234198503585",
         "7.575091491133573",
         "0.0",
         "4.755364125460216",
         "0.45435712924713195",
         "5.595554259657478",
         "4.462263043011667",
         "17.507967748336593",
         "0.34948366359572886",
         "0.7974657801432555",
         "1.7514580409962721",
         "100.04539859532257",
         "4.937437242493219",
         "4.937437242493219",
         "31.991792953425133",
         "31.991792953425133",
         "26.637909988405575",
         "-5444.2889855222875",
         "95.57872022361782",
         "75.93170940424555",
         "75.93170940424555",
         "48.105866991870684",
         "26.637909988405575",
         "421.81514842827244",
         "31.991792953425133",
         "0.0",
         "CRWD"
        ],
        [
         "13",
         "0.0",
         "0.0",
         "27.736876507631553",
         "-0.5551571500695393",
         "0.0",
         "0.7233175214942188",
         "0.7233175214942188",
         "0.4035724873999407",
         "7.276676295518207",
         "0.0",
         "7.276676295518207",
         "16.969973220899092",
         "-9.693296925380888",
         "0.6159182422969187",
         "0.20163690476190477",
         "0.16749824929971988",
         "0.20502888655462184",
         "-0.22406584792265483",
         "0.11376496587901012",
         "2.312476860422066",
         "0.16640780205887665",
         "1.2240658479226547",
         "0.8306924245713045",
         "0.20163690476190477",
         "0.47012895548485806",
         "5.594133795694264",
         "0.8452093397745571",
         "0.8483500591612253",
         "5.0709961474958725",
         "0.3325929178397087",
         "11.899147522034388",
         "50.1602634467618",
         "21.50857843137255",
         "0.0",
         "22.20408163265306",
         "0.5548728659202953",
         "9.08789362993493",
         "8.900165144607394",
         "7.685575959461939",
         "0.28179709383753504",
         "0.9793430146773316",
         "0.3325929178397087",
         "80.9874213836478",
         "48.409774436090224",
         "48.409774436090224",
         "37.547579251553245",
         "37.547579251553245",
         "5.716600796568628",
         "27.736876507631553",
         "20.714121798429943",
         "20.180693950454298",
         "20.180693950454298",
         "-0.5551571500695393",
         "5.716600796568628",
         "27.222903559992464",
         "37.547579251553245",
         "0.0",
         "GDDY"
        ],
        [
         "14",
         "0.006160344979318842",
         "0.6160344979318843",
         "32.809067087881495",
         "12.321627417448786",
         "0.1989659471205967",
         "4.121545687497793",
         "4.121545687497793",
         "0.28033247407500417",
         "1774.4272580845504",
         "0.0",
         "1774.4272580845504",
         "94.90678550423488",
         "1679.5204725803155",
         "0.17753349678155855",
         "0.042799661446280196",
         "0.2708112294993486",
         "0.14215360719783396",
         "0.162854178181032",
         "0.008542765986362583",
         "0.13547331386617367",
         "0.0030166831030612276",
         "0.5249176980608771",
         "6.32741522591846",
         "0.042799661446280196",
         "0.14111780927072942",
         "2.1485442318242916",
         "0.6784733922764233",
         "0.6823929008548207",
         "0.2801636703193126",
         "0.13086076080890358",
         "15.225181307218193",
         "0.20570017640171304",
         "3.8458788595649276",
         "0.0",
         "12.230476993558174",
         "0.06009531629031185",
         "7.486725016187159",
         "7.3273775647164605",
         "126.72239603301584",
         "0.3072915665447706",
         "0.9787160005040694",
         "0.13086076080890358",
         "0.0",
         "46.983650802622655",
         "8.824101252116495",
         "4.267316593291405",
         "4.267316593291405",
         "4.6640766116421375",
         "32.809067087881495",
         "15.508091174372828",
         "15.177530863537646",
         "15.177530863537646",
         "12.321627417448786",
         "4.6640766116421375",
         "14.931783417101709",
         "4.267316593291405",
         "0.7",
         "KKR"
        ],
        [
         "15",
         "0.006964624131396083",
         "0.6964624131396083",
         "16.421223245490786",
         "0.4672430531706655",
         "0.17976682963520121",
         "0.9628795066413662",
         "0.8478415559772297",
         "0.14089184060721063",
         "42.17080817464004",
         "36.503763274564385",
         "78.67457144920442",
         "56.82544592226003",
         "21.84912552694439",
         "0.43689038550859266",
         "0.2369368323269856",
         "0.20128889921040408",
         "0.1543776126335346",
         "0.1889241419094318",
         "0.07039978819168652",
         "0.47780772686433065",
         "0.13910286999795488",
         "0.7669454860109605",
         "0.849546679735359",
         "0.2369368323269856",
         "0.4597299444003177",
         "3.117414721723519",
         "0.734610253478178",
         "0.75712915322229",
         "4.7508731082654245",
         "0.26278507256392536",
         "6.78096947935368",
         "8.655276381909548",
         "6.42317880794702",
         "9.998969072164948",
         "0.9477796731414736",
         "0.4560232989144824",
         "13.234194953189785",
         "6.827371229412394",
         "3.445589218581956",
         "0.264921040408732",
         "0.5158886697348236",
         "0.26278507256392536",
         "2.7993865030674847",
         "10.611627906976745",
         "5.025330396475771",
         "7.839144095109516",
         "7.839144095109516",
         "2.5010150069670227",
         "16.421223245490786",
         "18.299695191163977",
         "9.56915025416612",
         "9.56915025416612",
         "0.4672430531706655",
         "2.5010150069670227",
         "8.517102555699296",
         "7.839144095109516",
         "0.882",
         "VST"
        ],
        [
         "16",
         "0.0013425702164223188",
         "0.13425702164223188",
         "52.90056818181819",
         "2.1349157873376634",
         "0.035640495867768594",
         "1.038528628699085",
         "0.7782538176699207",
         "0.2480949903601922",
         "165.30615673208837",
         "106.0365145511682",
         "271.34267128325655",
         "64.89359885230223",
         "206.44907243095435",
         "0.1803342945936109",
         "0.026066018982557327",
         "0.08189377607301845",
         "0.05420388050508161",
         "0.3405128205128205",
         "0.03754921546189802",
         "0.21087027556911012",
         "0.04930621756169897",
         "0.6618803418803418",
         "3.141783029001074",
         "0.026066018982557327",
         "0.0",
         "0.0",
         "0.0",
         "0.0",
         "15.516666666666667",
         "0.0",
         "5.990356686418032",
         "2.2080242334322455",
         "5.624591738712776",
         "3.4422104644326867",
         "6.83578947368421",
         "0.6927403557089936",
         "15.229090909090909",
         "12.141818181818183",
         "29.48",
         "0.11725508861326539",
         "0.7972779369627507",
         "0.0",
         "0.0",
         "4.915492957746479",
         "4.547231270358306",
         "11.899093760892297",
         "11.899093760892297",
         "2.845881781644595",
         "52.90056818181819",
         "30.442156212938006",
         "24.45451289398281",
         "24.45451289398281",
         "2.1349157873376634",
         "2.845881781644595",
         "54.28865908009286",
         "11.899093760892297",
         "0.5",
         "GEV"
        ],
        [
         "17",
         "0.0",
         "0.0",
         "23.967652719665267",
         "-2.8761183263598324",
         "0.0",
         "1.201997780244173",
         "0.8449870514243433",
         "0.28190899001109876",
         "54.35417423967042",
         "96.2626400655917",
         "150.61681430526212",
         "61.6479912544411",
         "88.96882305082102",
         "0.5566460680964498",
         "0.12565127832303405",
         "0.07330667636011147",
         "0.057918332727493034",
         "0.20991735537190082",
         "0.03306356782181642",
         "0.14857409278110187",
         "0.08822528500935851",
         "0.7900826446280992",
         "0.583413693346191",
         "0.12565127832303405",
         "0.5540568582693505",
         "2.7069956066238596",
         "0.7252298263534218",
         "0.7302397666150059",
         "2.8256130790190737",
         "0.14794007490636704",
         "4.885772220344711",
         "6.715215622457283",
         "5.9207119741100325",
         "3.7917098445595854",
         "5.088162762022195",
         "0.5708653247561735",
         "6.833910034602076",
         "4.642445213379469",
         "4.3944636678200695",
         "0.14358415121773901",
         "0.679324894514768",
         "0.14794007490636704",
         "5.925",
         "3.1184210526315788",
         "3.1184210526315788",
         "3.8717600540723214",
         "3.8717600540723214",
         "1.384987711741185",
         "23.967652719665267",
         "14.199134888198756",
         "9.667964556962025",
         "9.667964556962025",
         "-2.8761183263598324",
         "1.384987711741185",
         "11.866774831639137",
         "3.8717600540723214",
         "0.0",
         "SOLV"
        ],
        [
         "18",
         "0.0",
         "0.0",
         "17.593701928944785",
         "2.0929174586307218",
         "0.0",
         "3.1698800056540826",
         "2.611569375785424",
         "2.1695827790589823",
         "24.48409493885559",
         "100.43406282730008",
         "124.91815776615567",
         "102.12378652937261",
         "22.794371236783064",
         "0.5743461579863474",
         "0.2334534351966756",
         "0.24701772487148604",
         "0.1913695088340012",
         "0.22528025495513126",
         "0.23767434433815557",
         "0.41709328843978993",
         "0.39209973388786723",
         "0.7747197450448687",
         "1.0581027632486242",
         "0.2334534351966756",
         "0.05322810556981177",
         "0.08020581401403844",
         "0.07425049279821418",
         "0.07425049279821418",
         "411.68660422636106",
         "5.16001706039855",
         "1.5068320233348118",
         "14.907637015438743",
         "3.5740938757203202",
         "3.63422517943569",
         "8.369139712019146",
         "1.2419655868183281",
         "7.171920695560532",
         "6.6119417731524175",
         "14.760393887498353",
         "0.22114778037976354",
         "0.9219206477346096",
         "5.16001706039855",
         "0.0",
         "12.807483297261692",
         "12.807483297261692",
         "6.300925950209793",
         "6.300925950209793",
         "3.3658779589689636",
         "17.593701928944785",
         "16.509055921101787",
         "15.224652451551696",
         "15.224652451551696",
         "2.0929174586307218",
         "3.3658779589689636",
         "11.708350576271197",
         "6.300925950209793",
         "0.0",
         "DECK"
        ],
        [
         "19",
         "0.0",
         "0.0",
         "14.958010093962038",
         "-38.591666042421174",
         "0.0",
         "6.383124295740936",
         "3.7346351845987287",
         "1.0531679690089188",
         "53.63727002561447",
         "71.99835427528049",
         "125.63562430089496",
         "10.997985889211893",
         "114.63763841168307",
         "0.12435229552072675",
         "0.07418983775741572",
         "0.07471505709953177",
         "0.06938687858470606",
         "0.07282081413872064",
         "0.14849653815838001",
         "0.2548004171342524",
         "0.184530910677426",
         "0.9286866834923545",
         "1.007079397367513",
         "0.07418983775741572",
         "0.19074420446308046",
         "0.2974566657267749",
         "0.21421460911997753",
         "0.22926134921057537",
         "46.45901885884441",
         "-1.073602654845319",
         "1.559453229858678",
         "6.8049697500580155",
         "33.18789491792625",
         "5.06956032084357",
         "43.60255878632522",
         "2.140124201971393",
         "-3.362331584268203",
         "-3.6640394121925985",
         "2.413476971580083",
         "-0.0956876634165828",
         "1.0897317294153965",
         "-1.073602654845319",
         "-12.853930626887243",
         "-11.144329954576984",
         "-11.144329954576984",
         "3.463877345247677",
         "3.463877345247677",
         "1.0395957780338045",
         "14.958010093962038",
         "-9.969857731731775",
         "-10.846639924104196",
         "-10.846639924104196",
         "-38.591666042421174",
         "1.0395957780338045",
         "13.45742203249068",
         "3.463877345247677",
         "0.0",
         "SMCI"
        ],
        [
         "20",
         "0.0",
         "0.0",
         "12.926313675135965",
         "-1.111662976061692",
         "0.0",
         "1.7674457990767893",
         "1.0852923237583807",
         "0.08643789709645547",
         "36.91251344624787",
         "40.16485341749024",
         "77.07736686373812",
         "28.757819707983153",
         "48.31954715575497",
         "0.32822021249858085",
         "0.09726559322693241",
         "0.08460041976804834",
         "0.06572085729654596",
         "0.22316156968564774",
         "0.10184685260990982",
         "0.23946333840114242",
         "0.18115346572319865",
         "0.7768384303143523",
         "0.8697877323450369",
         "0.09726559322693241",
         "0.05973512829811645",
         "0.14713986132802045",
         "0.1089273185317243",
         "0.12826671471225803",
         "7.679435212108374",
         "2.9622671952064437",
         "2.4632049100773425",
         "9.888245636036523",
         "12.692200024422444",
         "9.087547169811321",
         "6.416385240873353",
         "1.549688436813232",
         "16.310658978870173",
         "12.996002229693243",
         "1.3380249795321129",
         "0.11418515280583759",
         "0.7967797160451372",
         "2.9622671952064437",
         "17.506866475333975",
         "4.920768638538609",
         "4.920768638538609",
         "3.2428200127081066",
         "3.2428200127081066",
         "0.8416039042989336",
         "12.926313675135965",
         "9.250385558027054",
         "7.439920125680037",
         "7.439920125680037",
         "-1.111662976061692",
         "0.8416039042989336",
         "7.067682902084682",
         "3.2428200127081066",
         "0.0",
         "BLDR"
        ],
        [
         "21",
         "0.0021780560849441874",
         "0.21780560849441874",
         "33.39090909090908",
         "-0.5538776389487289",
         "0.08057851239669421",
         "1.024279334145351",
         "0.6641494112870483",
         "0.12927324401136825",
         "63.39732614476704",
         "64.72769802870967",
         "128.1250241734767",
         "96.909112719421",
         "31.215911454055686",
         "0.08895850788678009",
         "0.0393428290408364",
         "0.028304979782157298",
         "0.017631415977560017",
         "0.3770913770913771",
         "0.02782248792825937",
         "0.27800114876507753",
         "0.2125565833497343",
         "0.6229086229086229",
         "0.7194444444444444",
         "0.0393428290408364",
         "0.18929638997470682",
         "2.4248895434462443",
         "0.19022063208109719",
         "0.7080197806923242",
         "7.012987012987013",
         "0.5150318858184026",
         "12.810014727540501",
         "5.7573406040268456",
         "3.7664156626506022",
         "5.639007891770011",
         "8.36665650716245",
         "1.5780064382616694",
         "15.418181818181818",
         "13.327272727272728",
         "14.472727272727273",
         "0.06178281301227642",
         "0.8643867924528302",
         "0.5150318858184026",
         "0.570275722932078",
         "7.373913043478261",
         "6.304832713754647",
         "11.900736377025037",
         "11.900736377025037",
         "0.574519230629121",
         "33.39090909090908",
         "10.757931377899045",
         "9.529009433962264",
         "9.529009433962264",
         "-0.5538776389487289",
         "0.574519230629121",
         "11.1929067264574",
         "11.900736377025037",
         "0.32",
         "JBL"
        ],
        [
         "22",
         "0.0",
         "0.0",
         "16.61258596286526",
         "0.1358626216342856",
         "0.0",
         "1.06700941094458",
         "1.06700941094458",
         "0.5135064482398048",
         "27.662581290645324",
         "0.0",
         "27.66258129064532",
         "11.38551588744274",
         "16.27706540320258",
         "0.37455091181954614",
         "0.0669653008322343",
         "0.0937968984492246",
         "0.224112056028014",
         "-1.395878787878788",
         "0.19233471235656857",
         "0.6598600743145985",
         "0.07405451619392477",
         "2.3893333333333335",
         "1.400679117147708",
         "0.0669653008322343",
         "0.19467644992584499",
         "0.462751646720475",
         "0.27911720448085603",
         "0.31635694805606646",
         "7.253694581280788",
         "0.7210304731355253",
         "2.377029409036089",
         "13.194719471947195",
         "32.05827505827506",
         "0.0",
         "14.140836012861737",
         "0.8582077901803138",
         "3.415643390305043",
         "3.3007280975963234",
         "3.313074368713789",
         "0.16355905225339942",
         "0.966356179619074",
         "0.7210304731355253",
         "0.0",
         "29.723140495867767",
         "29.723140495867767",
         "7.59502955979219",
         "7.59502955979219",
         "3.697200077311383",
         "16.61258596286526",
         "23.391665228024745",
         "22.762914952036702",
         "22.762914952036702",
         "0.1358626216342856",
         "3.697200077311383",
         "33.64522910779168",
         "7.59502955979219",
         "0.0",
         "UBER"
        ],
        [
         "23",
         "0.014117385504668742",
         "1.4117385504668742",
         "25.038386602417074",
         "7.77859210448425",
         "0.3436616096682952",
         "1.6396954952126825",
         "0.9790456757180976",
         "0.25827970491288654",
         "49.025495247401615",
         "82.64484372478347",
         "131.67033897218508",
         "53.182123836677604",
         "78.48821513550747",
         "0.3394687749844541",
         "0.19566491960557875",
         "0.17860886559474104",
         "0.1381895709336413",
         "0.2206306575151696",
         "0.11645281549909418",
         "0.24928088969368706",
         "0.20375955151806693",
         "0.7736993932159555",
         "0.9128302914737129",
         "0.19566491960557875",
         "0.25745983740324296",
         "0.5238370853261035",
         "0.3053074871968511",
         "0.3437618695400116",
         "14.922764227642276",
         "0.5764131193300768",
         "2.034636122703872",
         "7.4451058201058204",
         "6.863208417943511",
         "4.416488477072939",
         "7.74635287641068",
         "0.8427033582368882",
         "18.31455841654013",
         "14.981279221277983",
         "6.37461930357783",
         "0.17610375766189926",
         "0.817998385794996",
         "0.5764131193300768",
         "7.904306220095694",
         "5.494456762749445",
         "2.2139825776189412",
         "5.932572912346544",
         "5.932572912346544",
         "3.425042596784223",
         "25.038386602417074",
         "23.776334800197336",
         "19.647757364164647",
         "19.647757364164647",
         "7.77859210448425",
         "3.425042596784223",
         "15.847532783315442",
         "5.932572912346544",
         "5.08",
         "HUBB"
        ],
        [
         "24",
         "0.0",
         "0.0",
         "17.964613835654482",
         "2.9314022811826734",
         "0.0",
         "2.1636426890189875",
         "1.3797453835825682",
         "1.0786603827943662",
         "10.425403891113499",
         "121.91826748801049",
         "132.34367137912398",
         "22.94555528146545",
         "109.39811609765853",
         "0.5922493744407651",
         "0.23941526574202082",
         "0.24329867249407497",
         "0.1713821690448338",
         "0.29558937873363256",
         "0.23866188487828693",
         "0.42785675154052183",
         "0.43981742857232087",
         "0.7044106212663674",
         "1.016220380684658",
         "0.23941526574202082",
         "0.20725114858143026",
         "0.3610194378392595",
         "0.2295724947285964",
         "0.2652566361670854",
         "0.0",
         "1.4422680418913423",
         "1.7419417953064456",
         "35.01063400633544",
         "15.907220179362284",
         "2.9938089469315523",
         "3.312025845255661",
         "1.3925712704444337",
         "18.677325509726092",
         "13.01316535588373",
         "16.307421743382395",
         "0.2146473323041301",
         "0.6967360155021773",
         "1.4422680418913423",
         "8.25978542925053",
         "3.29745716971934",
         "3.29745716971934",
         "7.468520748884781",
         "7.468520748884781",
         "2.922904005864683",
         "17.964613835654482",
         "19.544330434024783",
         "14.343595385779022",
         "14.343595385779022",
         "2.9314022811826734",
         "2.922904005864683",
         "10.758576133067383",
         "7.468520748884781",
         "0.0",
         "LULU"
        ],
        [
         "25",
         "0.0043332250027082655",
         "0.4333225002708265",
         "27.64319349122449",
         "8.217567519664017",
         "0.10684273709483794",
         "1.917269076305221",
         "1.6859437751004016",
         "0.8843373493975903",
         "57.07298286154439",
         "50.36895064686152",
         "107.44193350840591",
         "69.08241494968854",
         "38.35951855871737",
         "0.5981128442133642",
         "0.2326208357404198",
         "0.20912767186597342",
         "0.16040824186404776",
         "0.23296500920810312",
         "0.1300343428036216",
         "0.46620959843290893",
         "0.2340631660530905",
         "0.7670349907918969",
         "0.8990066225165563",
         "0.2326208357404198",
         "0.4057133936934124",
         "1.2709046454767725",
         "0.5596468561584841",
         "0.5596468561584841",
         "10.690265486725664",
         "0.3366679492112351",
         "3.132518337408313",
         "6.395320197044335",
         "5.283544303797468",
         "7.246527777777778",
         "19.37686567164179",
         "0.8106462691226974",
         "3.5077092574368316",
         "3.287224675540802",
         "4.413700448500516",
         "0.16849605237820142",
         "0.9371428571428572",
         "0.3366679492112351",
         "0.0",
         "15.909090909090908",
         "6.076388888888889",
         "11.260039206938876",
         "11.260039206938876",
         "4.400423565954169",
         "27.64319349122449",
         "27.86756046097561",
         "26.316320203645713",
         "26.316320203645713",
         "8.217567519664017",
         "4.400423565954169",
         "19.40191201434263",
         "11.260039206938876",
         "0.39999999999999997",
         "VLTO"
        ],
        [
         "26",
         "0.0",
         "0.0",
         "28.915691087613297",
         "0.6573801645699584",
         "0.0",
         "1.6907784666863497",
         "1.6907784666863497",
         "0.6755240625922645",
         "199.82615744910828",
         "0.0",
         "199.82615744910825",
         "20.723710515793684",
         "179.10244693331458",
         "0.7747252747252747",
         "0.2299585660241398",
         "0.30003602954422626",
         "0.23851558277787785",
         "0.20504353047132992",
         "0.12634190562526837",
         "0.32294652112933714",
         "0.23643267271716983",
         "0.79495646952867",
         "1.3047395221308264",
         "0.2299585660241398",
         "0.10945178682189036",
         "0.2727056585829767",
         "0.19169789564716055",
         "0.21427237063328974",
         "0.0",
         "1.9694856146469049",
         "2.4915596766524013",
         "1.826587693320171",
         "17.612676056338028",
         "0.0",
         "38.15120274914089",
         "0.5297008445059401",
         "7.2288",
         "7.2288",
         "16.9776",
         "0.4069537020356693",
         "1.0",
         "1.9694856146469049",
         "0.0",
         "0.0",
         "0.0",
         "9.102324060865431",
         "9.102324060865431",
         "6.957971947216717",
         "28.915691087613297",
         "17.09769910535635",
         "16.94748782647189",
         "16.94748782647189",
         "0.6573801645699584",
         "6.957971947216717",
         "27.920631793315405",
         "9.102324060865431",
         "0.0",
         "ABNB"
        ],
        [
         "27",
         "0.023483365949119372",
         "2.3483365949119372",
         "40.18555463689488",
         "-4.571106839946788",
         "1.276604242024486",
         "0.0",
         "0.0",
         "0.0",
         "0.0",
         "0.0",
         "0.0",
         "0.0",
         "0.0",
         "1.0",
         "0.5096255597489157",
         "0.48755808638914516",
         "0.2056112896623099",
         "0.1627582064399619",
         "0.0",
         "0.24491569697014332",
         "0.0",
         "0.42171649984326376",
         "0.9566986526919042",
         "0.5096255597489157",
         "0.0",
         "0.0",
         "0.0",
         "0.0",
         "0.0",
         "0.0",
         "0.0",
         "0.0",
         "0.0",
         "0.0",
         "0.0",
         "0.0",
         "4.49961187535205",
         "4.442880187020124",
         "0.0",
         "0.27983222787847634",
         "0.987391870698295",
         "0.0",
         "0.0",
         "79.31390740613475",
         "1.0519517965691987",
         "5.243956271479658",
         "5.243956271479658",
         "14.016707294223952",
         "40.18555463689488",
         "50.729283314958565",
         "29.526991145120718",
         "29.526991145120718",
         "-4.571106839946788",
         "14.016707294223952",
         "28.773296941743304",
         "5.243956271479658",
         "3.12",
         "BX"
        ],
        [
         "28",
         "0.03541938287700999",
         "3.541938287700999",
         "42.78072815533981",
         "-11.764700242718439",
         "1.5067961165048545",
         "0.9627112737410699",
         "0.6854852761805192",
         "0.18644363129465064",
         "62.79747654480751",
         "89.27209838585703",
         "152.06957493066452",
         "126.47348193697157",
         "25.596092993692963",
         "0.5791006146878033",
         "0.16751860239404723",
         "0.09155613070203818",
         "0.06664509867356842",
         "0.27208480565371024",
         "0.04023280340611695",
         "0.10021648707158667",
         "0.13034941093545463",
         "0.7279151943462897",
         "0.5465430668211665",
         "0.16751860239404723",
         "0.340572633881489",
         "0.901841125362019",
         "0.41794099939795304",
         "0.4741937238266166",
         "6.006960556844548",
         "0.20289023970638834",
         "2.648014067025238",
         "5.812335464460324",
         "2.885980479148181",
         "4.088623507228158",
         "8.358572201189832",
         "0.6036873559626577",
         "0.9237597911227154",
         "0.6971279373368147",
         "0.5587467362924282",
         "0.1144613393723714",
         "0.7546636517806671",
         "0.20289023970638834",
         "1.139819587628866",
         "4.076036866359447",
         "0.8907351460221551",
         "4.557731692180389",
         "4.557731692180389",
         "2.8566214501455836",
         "42.78072815533981",
         "33.07047528988764",
         "24.909072922555115",
         "24.909072922555115",
         "-11.764700242718439",
         "2.8566214501455836",
         "16.36073421099179",
         "4.557731692180389",
         "0.815",
         "KVUE"
        ],
        [
         "29",
         "0.0",
         "0.0",
         "94.06258589079313",
         "-1.6995857794001676",
         "0.0",
         "0.8394639972458356",
         "0.8394639972458356",
         "0.2947882736156352",
         "95.83991599089902",
         "0.0",
         "95.83991599089902",
         "24.321387128447736",
         "71.51852886245128",
         "0.7385683449040312",
         "0.11034362055889388",
         "0.14743597223032495",
         "0.1463741905373082",
         "0.00720164609053498",
         "0.05987580960017564",
         "0.22887532725796594",
         "0.07057726034553528",
         "0.992798353909465",
         "1.336153114095379",
         "0.11034362055889388",
         "0.042803209286119984",
         "0.14066789013850328",
         "0.12332063640488992",
         "0.12332063640488992",
         "591.0625",
         "3.4657671721677072",
         "3.2863865229871534",
         "3.8084340561677923",
         "15.007367716008037",
         "0.0",
         "11.722746546300096",
         "0.40905988535536497",
         "4.714242378279994",
         "4.585621113301987",
         "4.903534051266495",
         "0.3626509538533341",
         "0.9727164505646536",
         "3.4657671721677072",
         "0.0",
         "36.652122641509436",
         "36.652122641509436",
         "18.509170391981552",
         "18.509170391981552",
         "13.826808004200455",
         "94.06258589079313",
         "39.19646015942844",
         "37.96580354557447",
         "37.96580354557447",
         "-1.6995857794001676",
         "13.826808004200455",
         "77.2757092923564",
         "18.509170391981552",
         "0.0",
         "PANW"
        ],
        [
         "30",
         "0.0",
         "0.0",
         "122.54571957131922",
         "4.804762866360636",
         "0.0",
         "2.30304053986323",
         "2.0370825171965126",
         "0.4559446503860319",
         "160.32492440940499",
         "114.75646332344643",
         "275.08138773285145",
         "31.122515485076615",
         "243.95887224777482",
         "0.5951179654687001",
         "0.02801002181116121",
         "0.18253245525737266",
         "0.18050775001511332",
         "0.01109230267792369",
         "0.08408014324447301",
         "0.18409964038757304",
         "0.01679032683904122",
         "0.9889076973220763",
         "6.516683795820486",
         "0.02801002181116121",
         "0.1612823348205466",
         "0.3100411786060279",
         "0.23666521607811797",
         "0.23666521607811797",
         "8.224852071005918",
         "0.5657861189016617",
         "1.9223505100605114",
         "2.2766266776333395",
         "11.727843791258426",
         "3.180648735847065",
         "8.427220973298184",
         "0.4657979684386585",
         "5.3471974855945525",
         "4.315440020953378",
         "8.553090623363017",
         "0.1959031864638379",
         "0.8070470620505887",
         "0.5657861189016617",
         "0.0",
         "5.18261090309069",
         "5.18261090309069",
         "19.80724923904428",
         "19.80724923904428",
         "22.19672653812827",
         "122.54571957131922",
         "140.39400739241398",
         "112.91522365250101",
         "112.91522365250101",
         "4.804762866360636",
         "22.19672653812827",
         "174.87125897836773",
         "19.80724923904428",
         "0.0",
         "AXON"
        ],
        [
         "31",
         "0.0",
         "0.0",
         "87.44384846602996",
         "13.263380811124863",
         "0.0",
         "1.7983701557406737",
         "1.7983701557406737",
         "0.5561209706628033",
         "72.14415622086982",
         "0.0",
         "72.14415622086982",
         "24.002807395644282",
         "48.141348825225535",
         "0.8013782537800596",
         "0.4290768177939491",
         "0.3726207943405419",
         "0.3065581111107982",
         "0.17729199291376194",
         "0.3189215098018994",
         "-0.5938923713701396",
         "0.5539188882619495",
         "0.822708007086238",
         "0.8684244379743712",
         "0.4290768177939491",
         "1.4308974292866317",
         "-2.145544051648093",
         "1.883107531945963",
         "1.8729476605996087",
         "6.865271619624383",
         "0.28863492385894896",
         "-1.4994394480935964",
         "5.059314837400691",
         "15.206554549374731",
         "0.0",
         "24.891485692654957",
         "1.0403297066461659",
         "28.912995323652474",
         "27.88620887685618",
         "7.558208220526704",
         "0.3969962290931518",
         "0.9644870261519974",
         "0.28863492385894896",
         "46.9894",
         "28.158723183252768",
         "28.158723183252768",
         "-41.81595374656025",
         "-41.81595374656025",
         "26.850715915254572",
         "87.44384846602996",
         "70.12503612921257",
         "67.5236162198283",
         "67.5236162198283",
         "13.263380811124863",
         "26.850715915254572",
         "63.73085411683315",
         "-41.81595374656025",
         "0.0",
         "FICO"
        ],
        [
         "32",
         "0.03361759980224942",
         "3.361759980224942",
         "9.820211081794193",
         "3.142467546174142",
         "0.3324538258575198",
         "2.1463349024882312",
         "1.2733019502353733",
         "0.4453261600537996",
         "18.81081946222791",
         "47.655938851453286",
         "66.4667583136812",
         "20.38831338630192",
         "46.07844492737928",
         "0.06388867967161256",
         "0.03449574452059953",
         "0.028696241620848082",
         "0.021409203886420126",
         "0.2204724409448819",
         "0.0456644845174505",
         "0.11201694539543361",
         "0.1049015116811727",
         "0.7460629921259843",
         "0.8318777292576419",
         "0.03449574452059953",
         "0.2859150969918471",
         "0.7181478866135378",
         "0.3213527760662696",
         "0.417977923907938",
         "3.889596602972399",
         "0.2698412698412698",
         "2.511752244527388",
         "19.403726708074533",
         "17.902412675549154",
         "7.659066399630257",
         "8.585192369867443",
         "2.132937065745612",
         "13.920289855072463",
         "3.949275362318841",
         "27.5",
         "0.03617157490396927",
         "0.28370640291514837",
         "0.2698412698412698",
         "1.2441709844559585",
         "1.396075581395349",
         "1.0952109464082098",
         "1.1263573085846867",
         "1.1263573085846867",
         "0.2041001506176094",
         "9.820211081794193",
         "19.88871706238532",
         "5.812378969286829",
         "5.812378969286829",
         "3.142467546174142",
         "0.2041001506176094",
         "5.946955257409663",
         "1.1263573085846867",
         "2.72",
         "BG"
        ],
        [
         "33",
         "0.0",
         "0.0",
         "43.73047200573751",
         "44.38642908582321",
         "0.0",
         "3.5792959878879635",
         "2.764761544284633",
         "1.804314912944739",
         "70.20338893858865",
         "350.50423917893795",
         "420.7076281175266",
         "16.12449799196787",
         "404.58313012555874",
         "0.7641425038151871",
         "0.16255328106088512",
         "0.15797505657001526",
         "0.2201231384518234",
         "-0.3934043970686209",
         "0.13547300579719532",
         "0.40624468885813486",
         "0.12069706560387607",
         "1.393404397068621",
         "0.9718355454839754",
         "0.16255328106088512",
         "0.027139942351912427",
         "0.06916474083856058",
         "0.0",
         "0.06469044310637641",
         "7.234192037470726",
         "5.134844868735083",
         "2.5484483327830967",
         "5.199179206566347",
         "22.636363636363637",
         "1.04135687732342",
         "2.627990596044807",
         "0.6154419146937851",
         "6.132774642266689",
         "4.318453907987002",
         "13.588164870873953",
         "0.22643793085302322",
         "0.7041598884499186",
         "5.134844868735083",
         "5.134844868735083",
         "3.380204241948154",
         "3.380204241948154",
         "15.097768603499503",
         "15.097768603499503",
         "9.634608499184338",
         "43.73047200573751",
         "60.42457600990099",
         "42.51093757843365",
         "42.51093757843365",
         "44.38642908582321",
         "9.634608499184338",
         "39.348029176444044",
         "15.097768603499503",
         "0.0",
         "PODD"
        ],
        [
         "34",
         "0.001900029231218942",
         "0.19000292312189418",
         "15.688881083793277",
         "0.836740324468975",
         "0.027596588058203714",
         "0.8784674971213231",
         "0.6754946090233435",
         "0.30084790118287447",
         "66.13085252402013",
         "61.67625272331155",
         "127.80710524733168",
         "96.12461873638344",
         "31.682486510948237",
         "0.41665395760256213",
         "0.13629200345686543",
         "0.13125921407147578",
         "0.1013166590412282",
         "0.2056545313710302",
         "0.06023149687207229",
         "0.24934317527836858",
         "0.11391060503059143",
         "0.7718822618125484",
         "0.9630734800447595",
         "0.13629200345686543",
         "0.04539272870138113",
         "0.17783566185176414",
         "0.0",
         "0.15098512263771613",
         "5.256862745098039",
         "1.2989347536617843",
         "3.9177125266398294",
         "5.519360269360269",
         "3.797154202514891",
         "5.917998968540485",
         "7.714117647058823",
         "0.5944875940644927",
         "4.269146608315099",
         "3.3916849015317285",
         "6.321663019693654",
         "0.09918153627166895",
         "0.7944643772424398",
         "1.2989347536617843",
         "1.2989347536617843",
         "4.865336658354114",
         "4.2785087719298245",
         "3.7021004025574236",
         "3.7021004025574236",
         "1.592477743429414",
         "15.688881083793277",
         "20.210083671612903",
         "16.026622245002564",
         "16.026622245002564",
         "0.836740324468975",
         "1.592477743429414",
         "8.157306560729847",
         "3.7021004025574236",
         "0.13",
         "GEHC"
        ],
        [
         "35",
         "0.01476362494110256",
         "1.476362494110256",
         "16.350746579345845",
         "-0.7207526406949311",
         "0.2427886833856871",
         "2.742916480252447",
         "1.3755608972237738",
         "0.5236880630481571",
         "36.483946055381686",
         "75.84060833146998",
         "112.32455438685167",
         "30.778318586889146",
         "81.54623579996253",
         "0.13363980375452889",
         "0.08522546609228779",
         "0.08699990508598547",
         "0.06797586047337813",
         "0.2120635297919418",
         "0.07345967101448875",
         "0.13013095561369084",
         "0.10737772404359787",
         "0.7813325819860939",
         "1.020820525543107",
         "0.08522546609228779",
         "0.26340026771408775",
         "0.475491999170511",
         "0.29972856349095633",
         "0.3222599644307269",
         "25.96824778761062",
         "0.3912912507128679",
         "1.805206969974084",
         "10.004400276382917",
         "11.858997396806515",
         "4.812725109017139",
         "2.0685211877175687",
         "1.0806729109851914",
         "10.92684111751474",
         "-1.046924704848864",
         "8.029661524537142",
         "0.09537226217504584",
         "-0.0958122016774581",
         "0.3912912507128679",
         "3.919085230351333",
         "0.9125651260947909",
         "0.7881102507339233",
         "2.1682710344022635",
         "2.1682710344022635",
         "1.1087562407126288",
         "16.350746579345845",
         "-121.33697774500519",
         "11.653871290933797",
         "11.653871290933797",
         "-0.7207526406949311",
         "1.1087562407126288",
         "11.744002838070536",
         "2.1682710344022635",
         "1.8800000000000001",
         "STLD"
        ],
        [
         "36",
         "0.0",
         "0.0",
         "11.754435514579999",
         "3.4264179525000666",
         "0.0",
         "2.4496630952873772",
         "1.927682698241395",
         "0.7804675172640199",
         "109.42730872747926",
         "168.19906813512824",
         "277.6263768626075",
         "74.7926091348429",
         "202.8337677277646",
         "0.4405603136161115",
         "0.3413438781786035",
         "0.3343417439933395",
         "0.30716957394035455",
         "0.08127064759680816",
         "0.10656594603212491",
         "0.17384211905788316",
         "0.14290858719971763",
         "0.9187293524031919",
         "0.9794865687276212",
         "0.3413438781786035",
         "0.05928576359611859",
         "0.09010279687679605",
         "0.044708069076370045",
         "0.08265532125497291",
         "36.93828145099048",
         "1.6944847120625708",
         "1.519804948294451",
         "3.3355476274117817",
         "4.880161345112922",
         "2.170047694359194",
         "0.7769736425276471",
         "0.3469287164907083",
         "11.37700125165798",
         "-2.877664443572643",
         "16.747548058061984",
         "0.289566171035799",
         "-0.2529369892750322",
         "1.6944847120625708",
         "5.151757012824417",
         "0.7981247329752909",
         "0.7981247329752909",
         "1.9037419356779635",
         "1.9037419356779635",
         "3.6167430245520453",
         "11.754435514579999",
         "-49.38072754538638",
         "12.469015064872796",
         "12.469015064872796",
         "3.4264179525000666",
         "3.6167430245520453",
         "8.291208029738398",
         "1.9037419356779635",
         "0.0",
         "FSLR"
        ],
        [
         "37",
         "0.055138950154389056",
         "5.513895015438906",
         "7.833557513914657",
         "-0.31416472129295536",
         "0.4420222634508349",
         "0.0",
         "0.0",
         "0.0",
         "345.4214559386973",
         "0.0",
         "345.4214559386973",
         "2074.2800528401585",
         "-1728.8585969014612",
         "0.9553787208959623",
         "0.26307102858827",
         "0.24804008252284115",
         "0.25417035072207483",
         "0.08602661596958175",
         "0.06081290722928948",
         "0.2075221984262579",
         "0.06294248723662313",
         "1.0247148288973384",
         "0.9428635447008739",
         "0.26307102858827",
         "0.0384734719205709",
         "0.13102785782901058",
         "0.11584847970103618",
         "0.11584847970103618",
         "31.652482269503547",
         "2.4461143695014664",
         "3.4056676272814603",
         "1.05668016194332",
         "0.17596466759646676",
         "0.0",
         "0.0",
         "0.23926042930076438",
         "17.914093959731545",
         "17.77718120805369",
         "24.8",
         "0.39333922782198644",
         "0.9923572606024277",
         "2.4461143695014664",
         "0.0",
         "130.84313725490196",
         "3.409810935104752",
         "1.6223967339097023",
         "1.6223967339097023",
         "2.00824797406425",
         "7.833557513914657",
         "5.144960265780731",
         "5.0619361606473845",
         "5.0619361606473845",
         "-0.31416472129295536",
         "2.00824797406425",
         "7.966843167259786",
         "1.6223967339097023",
         "5.0",
         "ACGL"
        ],
        [
         "38",
         "0.01688998986600608",
         "1.688998986600608",
         "29.80864568249372",
         "7.231836648187621",
         "0.469095343342733",
         "0.7237912122549328",
         "0.6184202231608145",
         "0.049580785475635124",
         "35.85699803316903",
         "9.389221050039628",
         "45.24621908320866",
         "56.52350392822241",
         "-11.277284845013746",
         "0.21110045407085448",
         "0.1691596046912561",
         "0.11764563047859554",
         "0.07965058397882621",
         "0.19834881320949432",
         "0.057715062395256464",
         "0.5076951352815423",
         "0.14245328834700816",
         "0.6770381836945304",
         "0.6954711835211369",
         "0.1691596046912561",
         "0.6274715075591293",
         "5.502623051998149",
         "0.839369473755956",
         "0.8462159051811075",
         "3.6321689259645464",
         "0.2558499824745882",
         "8.769518592809751",
         "10.179323981956374",
         "6.457490683229814",
         "38.874364343404125",
         "0.9120009743836747",
         "0.7246031292199823",
         "16.57447774750227",
         "3.105812897366031",
         "0.7143505903723887",
         "0.221553796469417",
         "0.18738526454229115",
         "0.2558499824745882",
         "11.05969696969697",
         "1.2305954548519793",
         "1.0190992097841567",
         "15.087148588180838",
         "15.087148588180838",
         "2.34608016050312",
         "29.80864568249372",
         "56.51037827167715",
         "10.716476422719676",
         "10.716476422719676",
         "7.231836648187621",
         "2.34608016050312",
         "12.786027072224915",
         "15.087148588180838",
         "3.0",
         "TRGP"
        ],
        [
         "39",
         "0.034362074451161316",
         "3.4362074451161315",
         "38.81537651103357",
         "6.598614006875719",
         "1.2465719762127094",
         "7.412265828543071",
         "7.412265828543071",
         "4.740705512592531",
         "93.47407192769339",
         "0.0",
         "93.47407192769339",
         "16.318722604884158",
         "77.15534932280923",
         "0.24358345685341418",
         "0.24227953058654392",
         "0.16802817372309956",
         "0.11338028953849925",
         "0.4221993765337932",
         "0.038573096916300335",
         "0.050616568362343684",
         "0.08638595239600555",
         "0.6747695164820587",
         "0.6935302099864302",
         "0.24227953058654392",
         "0.1398580455056343",
         "0.18357449455676517",
         "0.14444621853211986",
         "0.1551017662183669",
         "16.475558923834786",
         "0.4337164854826904",
         "1.3125772914463452",
         "3.90482614561121",
         "22.366946778711483",
         "0.0",
         "15.84478191771146",
         "0.34020989956285574",
         "1.2733548712320533",
         "1.1425053910741951",
         "4.959983260180859",
         "0.17829798615832115",
         "0.8972403662843391",
         "0.4337164854826904",
         "62.86247544204322",
         "9.731447688564478",
         "1.1167457769091163",
         "1.9652291530202177",
         "1.9652291530202177",
         "4.6866354690233925",
         "38.81537651103357",
         "29.295838517538055",
         "24.682828573616277",
         "24.682828573616277",
         "6.598614006875719",
         "4.6866354690233925",
         "18.404131373766646",
         "1.9652291530202177",
         "1.08",
         "EQT"
        ],
        [
         "40",
         "0.004084014002333722",
         "0.40840140023337224",
         "15.604437992534217",
         "-2.990850615235733",
         "0.27581916217337205",
         "0.9478734148804848",
         "0.9036022893053529",
         "0.0",
         "167.6641131168249",
         "18.802885870984593",
         "186.46699898780952",
         "60.07867589448942",
         "126.3883230933201",
         "0.37590155250397295",
         "0.1794140418075873",
         "0.09009412819363515",
         "0.09824375534819282",
         "-0.09045680687471733",
         "0.01780084611238676",
         "0.0807975871313673",
         "0.03743379158483604",
         "1.0904568068747174",
         "0.5021576198046787",
         "0.1794140418075873",
         "0.019240566142214807",
         "0.07214040527073413",
         "0.011628225122438371",
         "0.0672863413374645",
         "1.434201954397394",
         "3.054489639293937",
         "3.7493909866017052",
         "2.1769715248824624",
         "6.075366917889727",
         "19.41191381495564",
         "0.2721214406103078",
         "0.1811906115487696",
         "3.6264236902050113",
         "3.3148063781321184",
         "0.0",
         "0.32435516075139564",
         "0.9140703517587939",
         "3.054489639293937",
         "3.6497019715726733",
         "11.637426900584796",
         "5.900667160859896",
         "1.0414765806665929",
         "1.0414765806665929",
         "1.534910362250927",
         "15.604437992534217",
         "5.177052666300165",
         "4.72641959798995",
         "4.72641959798995",
         "-2.990850615235733",
         "1.534910362250927",
         "4.185205777823963",
         "1.0414765806665929",
         "0.07",
         "PCG"
        ],
        [
         "41",
         "0.0",
         "0.0",
         "242.9665320836337",
         "-11.608400977329168",
         "0.0",
         "8.962882491399602",
         "8.962882491399602",
         "8.475466232120224",
         "25.06523645932315",
         "0.0",
         "25.06523645932315",
         "29.14542983350323",
         "-4.080193374180077",
         "0.7848841458957678",
         "-0.0014984284774504787",
         "0.07678532271032819",
         "0.050690738981068635",
         "0.3398381722989053",
         "0.014983579638752053",
         "0.018628138965648074",
         "-0.0004710207364007123",
         "0.6601618277010948",
         "-51.24390243902439",
         "-0.0014984284774504787",
         "0.01712254774868205",
         "0.020983649963593035",
         "0.016471354166666667",
         "0.020552385892116182",
         "0.0",
         "2.455520504731861",
         "1.2254981134573377",
         "14.562001064395956",
         "12.523404255319148",
         "0.0",
         "2.44762501118168",
         "0.2955881082015383",
         "0.9565003686409437",
         "-0.6112066846891128",
         "11.504055050380929",
         "0.14224106424968935",
         "-0.6390030832476875",
         "2.455520504731861",
         "12.1625",
         "0.6101269791503371",
         "0.6101269791503371",
         "4.461436155424638",
         "4.461436155424638",
         "12.766030136685915",
         "242.9665320836337",
         "-140.45199702452754",
         "86.58647995889002",
         "86.58647995889002",
         "-11.608400977329168",
         "12.766030136685915",
         "200.4476707976269",
         "4.461436155424638",
         "0.0",
         "CSGP"
        ],
        [
         "42",
         "0.033747779751332155",
         "3.3747779751332154",
         "45.58539003443361",
         "2.552781841928283",
         "1.5184361898761227",
         "0.21339009354183455",
         "0.21339009354183455",
         "0.21339009354183455",
         "0.0",
         "0.0",
         "0.0",
         "0.0",
         "0.0",
         "0.4660249867485408",
         "0.28905311139753215",
         "0.135723116442666",
         "0.17051913788692663",
         "-0.11591763979728252",
         "0.02427240197570701",
         "0.04557514337020081",
         "0.04302637072181879",
         "1.2563750550110575",
         "0.46954386959013633",
         "0.28905311139753215",
         "0.4386034699518757",
         "0.8406785282497352",
         "0.43891385540776023",
         "0.45672208120400026",
         "2.101923129456115",
         "0.13255607998827645",
         "1.9167165465927023",
         "0.0",
         "0.0",
         "0.0",
         "37.212668101881626",
         "0.14234415137497552",
         "1.774977817899296",
         "1.3932383725492832",
         "0.2848593989717926",
         "0.4084435931120211",
         "0.7849328360611258",
         "0.13255607998827645",
         "1.907482456140351",
         "4.6497102657857035",
         "1.1778677664641921",
         "2.12078343683008",
         "2.12078343683008",
         "7.777390414846744",
         "45.58539003443361",
         "24.258800065617567",
         "19.03122374789955",
         "19.03122374789955",
         "2.552781841928283",
         "7.777390414846744",
         "14.889189383594475",
         "2.12078343683008",
         "1.1400000000000001",
         "INVH"
        ],
        [
         "43",
         "0.026308139534883722",
         "2.630813953488372",
         "31.04005319148936",
         "6.518411170212761",
         "0.8025265957446809",
         "0.4738850725111765",
         "0.3060734925308036",
         "0.07120270417620761",
         "31.259505090862223",
         "79.84861407249467",
         "111.10811916335689",
         "163.64036958066808",
         "-52.53225041731122",
         "0.5466554968423766",
         "0.17296043304549555",
         "0.12759376208274262",
         "0.09691970614769944",
         "0.2404040404040404",
         "0.028007970353265424",
         "0.061152505158726125",
         "0.06027667984189723",
         "0.7595959595959596",
         "0.7377049180327869",
         "0.17296043304549555",
         "0.3284604927466061",
         "0.7214791180921994",
         "0.3278990487711002",
         "0.41910419389331116",
         "3.8070921985815604",
         "0.1328381902710058",
         "2.1965476336564813",
         "11.676448457486833",
         "2.2305009511731133",
         "4.571150097465887",
         "5.258556421552016",
         "0.28898117283375857",
         "1.7264755729128287",
         "1.318989020705917",
         "0.4811730896765161",
         "0.1509859517979121",
         "0.7639778062313274",
         "0.1328381902710058",
         "0.5858964741185296",
         "4.236889692585895",
         "1.33125",
         "1.9096101771178466",
         "1.9096101771178466",
         "3.0076169609485754",
         "31.04005319148936",
         "26.073854748603353",
         "19.92498506188647",
         "19.92498506188647",
         "6.518411170212761",
         "3.0076169609485754",
         "18.744758539458186",
         "1.9096101771178466",
         "0.905",
         "KDP"
        ],
        [
         "44",
         "0.0",
         "0.0",
         "10.764201424211597",
         "-1.0507910914111334",
         "0.0",
         "5.058435720707222",
         "3.3787833383278394",
         "2.016257117171112",
         "59.7879926012736",
         "210.32435488845482",
         "270.11234748972845",
         "53.89444330214866",
         "216.2179041875798",
         "0.45063044491196363",
         "0.2601555991697612",
         "0.2594354941191421",
         "0.22207474972819563",
         "0.14302819201044956",
         "0.11162685062953343",
         "0.1858887421366923",
         "0.144453155625245",
         "0.855992162838794",
         "0.9972320217096337",
         "0.2601555991697612",
         "0.2389600987948729",
         "0.38275885589559366",
         "0.2755573491019",
         "0.27680810306413556",
         "29.574638844301766",
         "0.566218182898215",
         "1.601768905461325",
         "6.104904749590553",
         "6.772497824194952",
         "1.735414808206958",
         "1.608918875939935",
         "0.5026544024755497",
         "4.462546816479401",
         "2.838014981273408",
         "7.002106741573034",
         "0.26917809186281294",
         "0.6359630717582879",
         "0.566218182898215",
         "0.0",
         "2.746974063400576",
         "2.746974063400576",
         "1.9246437178845894",
         "1.9246437178845894",
         "2.36163419651808",
         "10.764201424211597",
         "13.795613551633124",
         "8.880579101972303",
         "8.880579101972303",
         "-1.0507910914111334",
         "2.36163419651808",
         "6.8011419799890565",
         "1.9246437178845894",
         "0.0",
         "ON"
        ],
        [
         "45",
         "0.05315021725636251",
         "5.31502172563625",
         "12.689171035631492",
         "-2.4471972711575",
         "0.6543916888469133",
         "27.916755158771014",
         "27.916755158771014",
         "0.7715947698960156",
         "1749.6813445893372",
         "0.0",
         "1749.6813445893374",
         "0.0",
         "1749.6813445893374",
         "0.9927551273574673",
         "0.9205033247125056",
         "0.7094831270353229",
         "0.6959385119784475",
         "0.003553347448100402",
         "0.05904502066832507",
         "0.10324661264990405",
         "0.07928581130536957",
         "0.980909179456496",
         "0.7707556376908371",
         "0.9205033247125056",
         "0.3890345465421938",
         "0.6650883611792996",
         "0.0",
         "0.3994312714481113",
         "4.289091958934605",
         "0.1349284153589062",
         "1.7095868916802368",
         "0.2086094140105655",
         "0.0",
         "0.0",
         "0.0",
         "0.08484229519137983",
         "2.2573588010836674",
         "2.2563313062294306",
         "0.4972686466377499",
         "0.6186986663479861",
         "0.9995448243080616",
         "0.1349284153589062",
         "0.0",
         "0.0",
         "1.35853407119603",
         "1.2808778318434861",
         "1.2808778318434861",
         "8.845170366348377",
         "12.689171035631492",
         "14.302921256554534",
         "14.273317996471128",
         "14.273317996471128",
         "-2.4471972711575",
         "8.845170366348377",
         "14.42131765971082",
         "1.2808778318434861",
         "1.7125",
         "VICI"
        ],
        [
         "46",
         "0.0",
         "0.0",
         "-1.8664653798477067",
         "2.8494704799008086",
         "0.0",
         "0.8904490828589501",
         "0.8904490828589501",
         "0.3359898798228969",
         "55.00851962055899",
         "0.0",
         "55.008519620558985",
         "16.764257727470614",
         "38.24426189308837",
         "0.4158337783881387",
         "-0.25513084611276415",
         "-0.2896162355992981",
         "-0.28722565550214896",
         "-0.020899192132068846",
         "-0.10801453710788064",
         "-0.3060020456131082",
         "-0.11303661971830986",
         "0.9917456972251493",
         "1.1351674641148326",
         "-0.25513084611276415",
         "0.026281560826319817",
         "0.08073567000616975",
         "0.0",
         "0.07470436319151828",
         "-4.973723351512147",
         "1.9559679767103348",
         "3.071951112025149",
         "6.635335808302396",
         "21.77251184834123",
         "0.0",
         "6.459832429768359",
         "0.37606159143075746",
         "2.1903015484922577",
         "1.8039934800325998",
         "2.164629176854116",
         "0.13669540449123876",
         "0.8236279069767442",
         "1.9559679767103348",
         "1.9559679767103348",
         "5.669831223628692",
         "5.669831223628692",
         "0.6193219143872843",
         "0.6193219143872843",
         "0.5404309554690878",
         "-1.8664653798477067",
         "4.800154867856336",
         "3.9218344186046505",
         "3.9218344186046505",
         "2.8494704799008086",
         "0.5404309554690878",
         "-14.53054867807154",
         "0.6193219143872843",
         "0.0",
         "WBD"
        ],
        [
         "47",
         "0.03631578947368421",
         "3.6315789473684212",
         "75.69701089452701",
         "-1.4455393044316305",
         "2.761692172965161",
         "0.10116462086593969",
         "0.10116462086593969",
         "0.0516749865564005",
         "2.1165554550860435",
         "0.0",
         "2.116555455086043",
         "75.82020917561562",
         "-73.70365372052957",
         "0.3319075548630182",
         "0.19350557046832695",
         "0.11207108941772256",
         "0.10531648541307373",
         "0.016838737152262237",
         "0.018446717540970867",
         "0.03402719593831645",
         "0.035528006473029186",
         "0.9397292911156383",
         "0.5791620837916208",
         "0.19350557046832695",
         "0.3937566989420868",
         "0.7455493863575403",
         "0.42711446160414146",
         "0.42711446160414146",
         "2.3112121095405",
         "0.22230864149006582",
         "1.8934265457847987",
         "172.45000556111668",
         "4.814019955478927",
         "0.0",
         "0.0",
         "0.1751550810741443",
         "7.146465857527576",
         "6.342955694101155",
         "0.19409193197329103",
         "0.49976007708491077",
         "0.887565381344394",
         "0.22230864149006582",
         "0.0",
         "8.894057826291565",
         "1.4400562733233226",
         "2.6439077018770116",
         "2.6439077018770116",
         "7.849356787303176",
         "75.69701089452701",
         "17.695879631379825",
         "15.951940759630238",
         "15.951940759630238",
         "-1.4455393044316305",
         "7.849356787303176",
         "18.566408188953936",
         "2.6439077018770116",
         "4.14",
         "CPT"
        ],
        [
         "48",
         "0.0",
         "0.0",
         "14.602249999999998",
         "11.049035833333347",
         "0.0",
         "1.6256284488044144",
         "1.6256284488044144",
         "0.59546290619252",
         "30.450830445692436",
         "0.0",
         "30.450830445692436",
         "15.01433665404551",
         "15.436493791646928",
         "0.3499103835583702",
         "0.04096068825427172",
         "0.037758394073365995",
         "0.02810371609511292",
         "0.25569620253164554",
         "0.07176858293665324",
         "0.2553884575709865",
         "0.20823715222937675",
         "0.7443037974683544",
         "0.9218203033838973",
         "0.04096068825427172",
         "0.22983034297571098",
         "0.8737819025522042",
         "0.466319960376424",
         "0.466319960376424",
         "12.791044776119403",
         "0.1646309081253319",
         "3.801856148491879",
         "11.986536808937267",
         "24.31009830205541",
         "0.0",
         "145.801393728223",
         "2.5537043817893323",
         "11.355311355311356",
         "9.615384615384615",
         "170.21978021978023",
         "0.01481658501613096",
         "0.8467741935483871",
         "0.1646309081253319",
         "0.0",
         "6.526315789473684",
         "6.526315789473684",
         "3.9842798143851508",
         "3.9842798143851508",
         "0.41112834386426095",
         "14.602249999999998",
         "32.76888676",
         "27.697170967741933",
         "27.697170967741933",
         "11.049035833333347",
         "0.41112834386426095",
         "8.467506857067788",
         "3.9842798143851508",
         "0.0",
         "MOH"
        ],
        [
         "49",
         "0.016045053660609928",
         "1.6045053660609927",
         "23.770283179032813",
         "-7.460211951573382",
         "0.36958069165539253",
         "2.5327568291166305",
         "1.557201792313874",
         "0.26943377672925445",
         "72.57224150758117",
         "143.81161403362395",
         "216.38385554120512",
         "26.965324767427308",
         "189.4185307737778",
         "0.5514657122285143",
         "0.2453131338533644",
         "0.21093030775241492",
         "0.16928852743186382",
         "0.19741961581656278",
         "0.07704368506585851",
         "0.15801962320463903",
         "0.12167387259930888",
         "0.8025803841834372",
         "0.8598410710390183",
         "0.2453131338533644",
         "0.3909024672631953",
         "0.7978812567983644",
         "0.4302551463216283",
         "0.4437897407191493",
         "6.970502227751726",
         "0.2365634451815402",
         "2.041126172429988",
         "5.029471219541575",
         "13.535902242901994",
         "2.538042580585049",
         "4.26682123456317",
         "0.4551028131358015",
         "9.50408724115598",
         "8.133872464072537",
         "2.2829736211031175",
         "0.2031919639181662",
         "0.8558288931576786",
         "0.2365634451815402",
         "4.41936691654661",
         "6.9362025575186195",
         "2.211969983378418",
         "3.7380168469076978",
         "3.7380168469076978",
         "4.008730120487338",
         "23.770283179032813",
         "23.052251385899975",
         "19.804111139146784",
         "19.804111139146784",
         "-7.460211951573382",
         "4.008730120487338",
         "16.14956000451501",
         "3.7380168469076978",
         "3.0200000000000005",
         "NDSN"
        ]
       ],
       "shape": {
        "columns": 58,
        "rows": 503
       }
      },
      "text/html": [
       "<div>\n",
       "<style scoped>\n",
       "    .dataframe tbody tr th:only-of-type {\n",
       "        vertical-align: middle;\n",
       "    }\n",
       "\n",
       "    .dataframe tbody tr th {\n",
       "        vertical-align: top;\n",
       "    }\n",
       "\n",
       "    .dataframe thead th {\n",
       "        text-align: right;\n",
       "    }\n",
       "</style>\n",
       "<table border=\"1\" class=\"dataframe\">\n",
       "  <thead>\n",
       "    <tr style=\"text-align: right;\">\n",
       "      <th></th>\n",
       "      <th>dividendYielTTM</th>\n",
       "      <th>dividendYielPercentageTTM</th>\n",
       "      <th>peRatioTTM</th>\n",
       "      <th>pegRatioTTM</th>\n",
       "      <th>payoutRatioTTM</th>\n",
       "      <th>currentRatioTTM</th>\n",
       "      <th>quickRatioTTM</th>\n",
       "      <th>cashRatioTTM</th>\n",
       "      <th>daysOfSalesOutstandingTTM</th>\n",
       "      <th>daysOfInventoryOutstandingTTM</th>\n",
       "      <th>...</th>\n",
       "      <th>priceEarningsRatioTTM</th>\n",
       "      <th>priceToFreeCashFlowsRatioTTM</th>\n",
       "      <th>priceToOperatingCashFlowsRatioTTM</th>\n",
       "      <th>priceCashFlowRatioTTM</th>\n",
       "      <th>priceEarningsToGrowthRatioTTM</th>\n",
       "      <th>priceSalesRatioTTM</th>\n",
       "      <th>enterpriseValueMultipleTTM</th>\n",
       "      <th>priceFairValueTTM</th>\n",
       "      <th>dividendPerShareTTM</th>\n",
       "      <th>symbol</th>\n",
       "    </tr>\n",
       "  </thead>\n",
       "  <tbody>\n",
       "    <tr>\n",
       "      <th>0</th>\n",
       "      <td>0.000000</td>\n",
       "      <td>0.000000</td>\n",
       "      <td>636.637679</td>\n",
       "      <td>3.837268</td>\n",
       "      <td>0.000000</td>\n",
       "      <td>1.664263</td>\n",
       "      <td>1.664263</td>\n",
       "      <td>0.905588</td>\n",
       "      <td>29.446465</td>\n",
       "      <td>0.000000</td>\n",
       "      <td>...</td>\n",
       "      <td>636.637679</td>\n",
       "      <td>44.153034</td>\n",
       "      <td>36.729097</td>\n",
       "      <td>36.729097</td>\n",
       "      <td>3.837268</td>\n",
       "      <td>7.420609</td>\n",
       "      <td>145.469918</td>\n",
       "      <td>10.035427</td>\n",
       "      <td>0.0000</td>\n",
       "      <td>DASH</td>\n",
       "    </tr>\n",
       "    <tr>\n",
       "      <th>1</th>\n",
       "      <td>0.023172</td>\n",
       "      <td>2.317189</td>\n",
       "      <td>-34.147138</td>\n",
       "      <td>0.110443</td>\n",
       "      <td>-0.543417</td>\n",
       "      <td>0.639449</td>\n",
       "      <td>0.639449</td>\n",
       "      <td>0.101505</td>\n",
       "      <td>105.739603</td>\n",
       "      <td>0.000000</td>\n",
       "      <td>...</td>\n",
       "      <td>-34.147138</td>\n",
       "      <td>6125.827500</td>\n",
       "      <td>15.618870</td>\n",
       "      <td>15.618870</td>\n",
       "      <td>0.110443</td>\n",
       "      <td>5.790007</td>\n",
       "      <td>29.611583</td>\n",
       "      <td>1.388048</td>\n",
       "      <td>2.4400</td>\n",
       "      <td>EXE</td>\n",
       "    </tr>\n",
       "    <tr>\n",
       "      <th>2</th>\n",
       "      <td>0.002419</td>\n",
       "      <td>0.241884</td>\n",
       "      <td>1358.990551</td>\n",
       "      <td>0.503330</td>\n",
       "      <td>7.152611</td>\n",
       "      <td>1.296590</td>\n",
       "      <td>1.296590</td>\n",
       "      <td>0.783644</td>\n",
       "      <td>28.817567</td>\n",
       "      <td>0.000000</td>\n",
       "      <td>...</td>\n",
       "      <td>1358.990551</td>\n",
       "      <td>22.752760</td>\n",
       "      <td>21.903272</td>\n",
       "      <td>21.903272</td>\n",
       "      <td>0.503330</td>\n",
       "      <td>4.568668</td>\n",
       "      <td>22.467053</td>\n",
       "      <td>3.123568</td>\n",
       "      <td>0.3800</td>\n",
       "      <td>TKO</td>\n",
       "    </tr>\n",
       "    <tr>\n",
       "      <th>3</th>\n",
       "      <td>0.015676</td>\n",
       "      <td>1.567564</td>\n",
       "      <td>16.447000</td>\n",
       "      <td>2.713755</td>\n",
       "      <td>0.243300</td>\n",
       "      <td>1.440715</td>\n",
       "      <td>0.743828</td>\n",
       "      <td>0.634411</td>\n",
       "      <td>5.569895</td>\n",
       "      <td>119.335859</td>\n",
       "      <td>...</td>\n",
       "      <td>16.447000</td>\n",
       "      <td>16.399592</td>\n",
       "      <td>13.918203</td>\n",
       "      <td>13.918203</td>\n",
       "      <td>2.713755</td>\n",
       "      <td>2.421497</td>\n",
       "      <td>11.100444</td>\n",
       "      <td>8.836668</td>\n",
       "      <td>2.3700</td>\n",
       "      <td>WSM</td>\n",
       "    </tr>\n",
       "    <tr>\n",
       "      <th>4</th>\n",
       "      <td>0.013868</td>\n",
       "      <td>1.386807</td>\n",
       "      <td>17.082312</td>\n",
       "      <td>-0.816300</td>\n",
       "      <td>0.259777</td>\n",
       "      <td>0.800045</td>\n",
       "      <td>0.800045</td>\n",
       "      <td>0.059960</td>\n",
       "      <td>122.691660</td>\n",
       "      <td>0.000000</td>\n",
       "      <td>...</td>\n",
       "      <td>17.082312</td>\n",
       "      <td>23.394415</td>\n",
       "      <td>24.034965</td>\n",
       "      <td>24.034965</td>\n",
       "      <td>-0.816300</td>\n",
       "      <td>2.914223</td>\n",
       "      <td>7.929394</td>\n",
       "      <td>4.531719</td>\n",
       "      <td>1.8500</td>\n",
       "      <td>APO</td>\n",
       "    </tr>\n",
       "    <tr>\n",
       "      <th>...</th>\n",
       "      <td>...</td>\n",
       "      <td>...</td>\n",
       "      <td>...</td>\n",
       "      <td>...</td>\n",
       "      <td>...</td>\n",
       "      <td>...</td>\n",
       "      <td>...</td>\n",
       "      <td>...</td>\n",
       "      <td>...</td>\n",
       "      <td>...</td>\n",
       "      <td>...</td>\n",
       "      <td>...</td>\n",
       "      <td>...</td>\n",
       "      <td>...</td>\n",
       "      <td>...</td>\n",
       "      <td>...</td>\n",
       "      <td>...</td>\n",
       "      <td>...</td>\n",
       "      <td>...</td>\n",
       "      <td>...</td>\n",
       "      <td>...</td>\n",
       "    </tr>\n",
       "    <tr>\n",
       "      <th>498</th>\n",
       "      <td>0.031848</td>\n",
       "      <td>3.184784</td>\n",
       "      <td>22.520173</td>\n",
       "      <td>-3.346964</td>\n",
       "      <td>0.671211</td>\n",
       "      <td>0.668668</td>\n",
       "      <td>0.458013</td>\n",
       "      <td>0.066904</td>\n",
       "      <td>58.579741</td>\n",
       "      <td>78.139734</td>\n",
       "      <td>...</td>\n",
       "      <td>22.520173</td>\n",
       "      <td>180.562943</td>\n",
       "      <td>10.125795</td>\n",
       "      <td>10.125795</td>\n",
       "      <td>-3.346964</td>\n",
       "      <td>3.722878</td>\n",
       "      <td>12.530218</td>\n",
       "      <td>2.984560</td>\n",
       "      <td>2.8800</td>\n",
       "      <td>SO</td>\n",
       "    </tr>\n",
       "    <tr>\n",
       "      <th>499</th>\n",
       "      <td>0.007687</td>\n",
       "      <td>0.768750</td>\n",
       "      <td>38.793667</td>\n",
       "      <td>4.447557</td>\n",
       "      <td>0.294316</td>\n",
       "      <td>0.854036</td>\n",
       "      <td>0.854036</td>\n",
       "      <td>0.260638</td>\n",
       "      <td>73.657704</td>\n",
       "      <td>0.000000</td>\n",
       "      <td>...</td>\n",
       "      <td>38.793667</td>\n",
       "      <td>27.069844</td>\n",
       "      <td>26.273862</td>\n",
       "      <td>26.273862</td>\n",
       "      <td>4.447557</td>\n",
       "      <td>10.603483</td>\n",
       "      <td>23.514640</td>\n",
       "      <td>4.507735</td>\n",
       "      <td>3.6900</td>\n",
       "      <td>SPGI</td>\n",
       "    </tr>\n",
       "    <tr>\n",
       "      <th>500</th>\n",
       "      <td>0.024943</td>\n",
       "      <td>2.494257</td>\n",
       "      <td>25.097235</td>\n",
       "      <td>139.415140</td>\n",
       "      <td>0.473567</td>\n",
       "      <td>0.729508</td>\n",
       "      <td>0.729508</td>\n",
       "      <td>0.226776</td>\n",
       "      <td>0.039354</td>\n",
       "      <td>0.000000</td>\n",
       "      <td>...</td>\n",
       "      <td>25.097235</td>\n",
       "      <td>27.963829</td>\n",
       "      <td>17.739215</td>\n",
       "      <td>17.739215</td>\n",
       "      <td>139.415140</td>\n",
       "      <td>7.013901</td>\n",
       "      <td>13.569541</td>\n",
       "      <td>7992.224578</td>\n",
       "      <td>5.3200</td>\n",
       "      <td>UNP</td>\n",
       "    </tr>\n",
       "    <tr>\n",
       "      <th>501</th>\n",
       "      <td>0.032065</td>\n",
       "      <td>3.206522</td>\n",
       "      <td>20.546349</td>\n",
       "      <td>-17.721226</td>\n",
       "      <td>0.621958</td>\n",
       "      <td>0.796321</td>\n",
       "      <td>0.703605</td>\n",
       "      <td>0.166592</td>\n",
       "      <td>34.258679</td>\n",
       "      <td>25.201613</td>\n",
       "      <td>...</td>\n",
       "      <td>20.546349</td>\n",
       "      <td>-125.377789</td>\n",
       "      <td>8.589522</td>\n",
       "      <td>8.589522</td>\n",
       "      <td>-17.721226</td>\n",
       "      <td>2.898538</td>\n",
       "      <td>12.567781</td>\n",
       "      <td>2.003383</td>\n",
       "      <td>2.2125</td>\n",
       "      <td>XEL</td>\n",
       "    </tr>\n",
       "    <tr>\n",
       "      <th>502</th>\n",
       "      <td>0.035737</td>\n",
       "      <td>3.573731</td>\n",
       "      <td>14.383591</td>\n",
       "      <td>-5.513710</td>\n",
       "      <td>0.495962</td>\n",
       "      <td>1.308405</td>\n",
       "      <td>0.973815</td>\n",
       "      <td>0.329796</td>\n",
       "      <td>46.996923</td>\n",
       "      <td>32.708939</td>\n",
       "      <td>...</td>\n",
       "      <td>14.383591</td>\n",
       "      <td>15.288343</td>\n",
       "      <td>8.804466</td>\n",
       "      <td>8.804466</td>\n",
       "      <td>-5.513710</td>\n",
       "      <td>1.384233</td>\n",
       "      <td>7.027387</td>\n",
       "      <td>1.837050</td>\n",
       "      <td>3.8800</td>\n",
       "      <td>XOM</td>\n",
       "    </tr>\n",
       "  </tbody>\n",
       "</table>\n",
       "<p>503 rows × 58 columns</p>\n",
       "</div>"
      ],
      "text/plain": [
       "     dividendYielTTM  dividendYielPercentageTTM   peRatioTTM  pegRatioTTM  \\\n",
       "0           0.000000                   0.000000   636.637679     3.837268   \n",
       "1           0.023172                   2.317189   -34.147138     0.110443   \n",
       "2           0.002419                   0.241884  1358.990551     0.503330   \n",
       "3           0.015676                   1.567564    16.447000     2.713755   \n",
       "4           0.013868                   1.386807    17.082312    -0.816300   \n",
       "..               ...                        ...          ...          ...   \n",
       "498         0.031848                   3.184784    22.520173    -3.346964   \n",
       "499         0.007687                   0.768750    38.793667     4.447557   \n",
       "500         0.024943                   2.494257    25.097235   139.415140   \n",
       "501         0.032065                   3.206522    20.546349   -17.721226   \n",
       "502         0.035737                   3.573731    14.383591    -5.513710   \n",
       "\n",
       "     payoutRatioTTM  currentRatioTTM  quickRatioTTM  cashRatioTTM  \\\n",
       "0          0.000000         1.664263       1.664263      0.905588   \n",
       "1         -0.543417         0.639449       0.639449      0.101505   \n",
       "2          7.152611         1.296590       1.296590      0.783644   \n",
       "3          0.243300         1.440715       0.743828      0.634411   \n",
       "4          0.259777         0.800045       0.800045      0.059960   \n",
       "..              ...              ...            ...           ...   \n",
       "498        0.671211         0.668668       0.458013      0.066904   \n",
       "499        0.294316         0.854036       0.854036      0.260638   \n",
       "500        0.473567         0.729508       0.729508      0.226776   \n",
       "501        0.621958         0.796321       0.703605      0.166592   \n",
       "502        0.495962         1.308405       0.973815      0.329796   \n",
       "\n",
       "     daysOfSalesOutstandingTTM  daysOfInventoryOutstandingTTM  ...  \\\n",
       "0                    29.446465                       0.000000  ...   \n",
       "1                   105.739603                       0.000000  ...   \n",
       "2                    28.817567                       0.000000  ...   \n",
       "3                     5.569895                     119.335859  ...   \n",
       "4                   122.691660                       0.000000  ...   \n",
       "..                         ...                            ...  ...   \n",
       "498                  58.579741                      78.139734  ...   \n",
       "499                  73.657704                       0.000000  ...   \n",
       "500                   0.039354                       0.000000  ...   \n",
       "501                  34.258679                      25.201613  ...   \n",
       "502                  46.996923                      32.708939  ...   \n",
       "\n",
       "     priceEarningsRatioTTM  priceToFreeCashFlowsRatioTTM  \\\n",
       "0               636.637679                     44.153034   \n",
       "1               -34.147138                   6125.827500   \n",
       "2              1358.990551                     22.752760   \n",
       "3                16.447000                     16.399592   \n",
       "4                17.082312                     23.394415   \n",
       "..                     ...                           ...   \n",
       "498              22.520173                    180.562943   \n",
       "499              38.793667                     27.069844   \n",
       "500              25.097235                     27.963829   \n",
       "501              20.546349                   -125.377789   \n",
       "502              14.383591                     15.288343   \n",
       "\n",
       "     priceToOperatingCashFlowsRatioTTM  priceCashFlowRatioTTM  \\\n",
       "0                            36.729097              36.729097   \n",
       "1                            15.618870              15.618870   \n",
       "2                            21.903272              21.903272   \n",
       "3                            13.918203              13.918203   \n",
       "4                            24.034965              24.034965   \n",
       "..                                 ...                    ...   \n",
       "498                          10.125795              10.125795   \n",
       "499                          26.273862              26.273862   \n",
       "500                          17.739215              17.739215   \n",
       "501                           8.589522               8.589522   \n",
       "502                           8.804466               8.804466   \n",
       "\n",
       "     priceEarningsToGrowthRatioTTM  priceSalesRatioTTM  \\\n",
       "0                         3.837268            7.420609   \n",
       "1                         0.110443            5.790007   \n",
       "2                         0.503330            4.568668   \n",
       "3                         2.713755            2.421497   \n",
       "4                        -0.816300            2.914223   \n",
       "..                             ...                 ...   \n",
       "498                      -3.346964            3.722878   \n",
       "499                       4.447557           10.603483   \n",
       "500                     139.415140            7.013901   \n",
       "501                     -17.721226            2.898538   \n",
       "502                      -5.513710            1.384233   \n",
       "\n",
       "     enterpriseValueMultipleTTM  priceFairValueTTM  dividendPerShareTTM  \\\n",
       "0                    145.469918          10.035427               0.0000   \n",
       "1                     29.611583           1.388048               2.4400   \n",
       "2                     22.467053           3.123568               0.3800   \n",
       "3                     11.100444           8.836668               2.3700   \n",
       "4                      7.929394           4.531719               1.8500   \n",
       "..                          ...                ...                  ...   \n",
       "498                   12.530218           2.984560               2.8800   \n",
       "499                   23.514640           4.507735               3.6900   \n",
       "500                   13.569541        7992.224578               5.3200   \n",
       "501                   12.567781           2.003383               2.2125   \n",
       "502                    7.027387           1.837050               3.8800   \n",
       "\n",
       "     symbol  \n",
       "0      DASH  \n",
       "1       EXE  \n",
       "2       TKO  \n",
       "3       WSM  \n",
       "4       APO  \n",
       "..      ...  \n",
       "498      SO  \n",
       "499    SPGI  \n",
       "500     UNP  \n",
       "501     XEL  \n",
       "502     XOM  \n",
       "\n",
       "[503 rows x 58 columns]"
      ]
     },
     "execution_count": 34,
     "metadata": {},
     "output_type": "execute_result"
    }
   ],
   "source": [
    "ratios_ttm = [api.get_ratios_ttm(ticker) for ticker in tqdm(snp_data[\"symbol\"])]\n",
    "ratios_ttm_df = pd.DataFrame.from_records(ratios_ttm)\n",
    "ratios_ttm_df"
   ]
  },
  {
   "cell_type": "code",
   "execution_count": 35,
   "id": "69a4b885d87c3341",
   "metadata": {
    "ExecuteTime": {
     "end_time": "2025-02-27T20:39:03.116510Z",
     "start_time": "2025-02-27T20:39:03.108434Z"
    }
   },
   "outputs": [
    {
     "data": {
      "application/vnd.microsoft.datawrangler.viewer.v0+json": {
       "columns": [
        {
         "name": "index",
         "rawType": "int64",
         "type": "integer"
        },
        {
         "name": "symbol",
         "rawType": "object",
         "type": "string"
        },
        {
         "name": "peRatioTTM",
         "rawType": "float64",
         "type": "float"
        }
       ],
       "conversionMethod": "pd.DataFrame",
       "ref": "749a3673-bb95-449a-a44e-68a5886c92d2",
       "rows": [
        [
         "1",
         "EXE",
         "-34.14713823529412"
        ],
        [
         "12",
         "CRWD",
         "-5444.2889855222875"
        ],
        [
         "19",
         "SMCI",
         "14.958010093962038"
        ],
        [
         "20",
         "BLDR",
         "12.926313675135965"
        ],
        [
         "32",
         "BG",
         "9.820211081794193"
        ],
        [
         "36",
         "FSLR",
         "11.754435514579999"
        ],
        [
         "37",
         "ACGL",
         "7.833557513914657"
        ],
        [
         "44",
         "ON",
         "10.764201424211597"
        ],
        [
         "45",
         "VICI",
         "12.689171035631492"
        ],
        [
         "46",
         "WBD",
         "-1.8664653798477067"
        ],
        [
         "48",
         "MOH",
         "14.602249999999998"
        ],
        [
         "55",
         "MTCH",
         "14.634647674395401"
        ],
        [
         "57",
         "MRNA",
         "-2.942909295141814"
        ],
        [
         "60",
         "CZR",
         "-21.99496402877698"
        ],
        [
         "64",
         "TRMB",
         "10.086738234512099"
        ],
        [
         "74",
         "CARR",
         "11.962274781830388"
        ],
        [
         "85",
         "NVR",
         "13.075539618818404"
        ],
        [
         "89",
         "TROW",
         "9.434729231505866"
        ],
        [
         "96",
         "FOX",
         "10.434645308924486"
        ],
        [
         "97",
         "FOXA",
         "10.434645308924486"
        ],
        [
         "100",
         "FANG",
         "11.95732257639305"
        ],
        [
         "112",
         "TTWO",
         "-10.813702437289713"
        ],
        [
         "247",
         "IVZ",
         "8.197449019101702"
        ],
        [
         "248",
         "DVA",
         "12.478456333262846"
        ],
        [
         "261",
         "DFS",
         "11.407761985119688"
        ],
        [
         "262",
         "AIZ",
         "13.111524394988162"
        ],
        [
         "263",
         "HST",
         "14.025371592539456"
        ],
        [
         "276",
         "EL",
         "-30.543428571428574"
        ],
        [
         "278",
         "LEN",
         "7.575686071167846"
        ],
        [
         "279",
         "AMP",
         "13.59048750367539"
        ],
        [
         "282",
         "STZ",
         "-409.6667635135135"
        ],
        [
         "283",
         "DHI",
         "9.068564639004729"
        ],
        [
         "288",
         "VTRS",
         "-15.301116367076634"
        ],
        [
         "289",
         "MTB",
         "10.7801617812983"
        ],
        [
         "290",
         "BIIB",
         "10.60772407033021"
        ],
        [
         "294",
         "STT",
         "8.791683249651324"
        ],
        [
         "297",
         "CMCSA",
         "8.07915987366813"
        ],
        [
         "298",
         "TRV",
         "13.768064621868417"
        ],
        [
         "302",
         "GS",
         "11.745134256148368"
        ],
        [
         "303",
         "PFG",
         "10.848325907065563"
        ],
        [
         "304",
         "PRU",
         "13.467183718371837"
        ],
        [
         "305",
         "UPS",
         "14.47821687997233"
        ],
        [
         "317",
         "MET",
         "12.000500677812923"
        ],
        [
         "319",
         "EOG",
         "9.994942995470872"
        ],
        [
         "321",
         "DVN",
         "6.799187132480111"
        ],
        [
         "325",
         "USB",
         "9.886521670106365"
        ],
        [
         "332",
         "AFL",
         "11.063681436707697"
        ],
        [
         "334",
         "CCL",
         "11.865204678362575"
        ],
        [
         "336",
         "AES",
         "5.425626423690206"
        ],
        [
         "339",
         "RF",
         "9.81324881141046"
        ]
       ],
       "shape": {
        "columns": 2,
        "rows": 103
       }
      },
      "text/html": [
       "<div>\n",
       "<style scoped>\n",
       "    .dataframe tbody tr th:only-of-type {\n",
       "        vertical-align: middle;\n",
       "    }\n",
       "\n",
       "    .dataframe tbody tr th {\n",
       "        vertical-align: top;\n",
       "    }\n",
       "\n",
       "    .dataframe thead th {\n",
       "        text-align: right;\n",
       "    }\n",
       "</style>\n",
       "<table border=\"1\" class=\"dataframe\">\n",
       "  <thead>\n",
       "    <tr style=\"text-align: right;\">\n",
       "      <th></th>\n",
       "      <th>symbol</th>\n",
       "      <th>peRatioTTM</th>\n",
       "    </tr>\n",
       "  </thead>\n",
       "  <tbody>\n",
       "    <tr>\n",
       "      <th>1</th>\n",
       "      <td>EXE</td>\n",
       "      <td>-34.147138</td>\n",
       "    </tr>\n",
       "    <tr>\n",
       "      <th>12</th>\n",
       "      <td>CRWD</td>\n",
       "      <td>-5444.288986</td>\n",
       "    </tr>\n",
       "    <tr>\n",
       "      <th>19</th>\n",
       "      <td>SMCI</td>\n",
       "      <td>14.958010</td>\n",
       "    </tr>\n",
       "    <tr>\n",
       "      <th>20</th>\n",
       "      <td>BLDR</td>\n",
       "      <td>12.926314</td>\n",
       "    </tr>\n",
       "    <tr>\n",
       "      <th>32</th>\n",
       "      <td>BG</td>\n",
       "      <td>9.820211</td>\n",
       "    </tr>\n",
       "    <tr>\n",
       "      <th>...</th>\n",
       "      <td>...</td>\n",
       "      <td>...</td>\n",
       "    </tr>\n",
       "    <tr>\n",
       "      <th>485</th>\n",
       "      <td>MO</td>\n",
       "      <td>8.781233</td>\n",
       "    </tr>\n",
       "    <tr>\n",
       "      <th>486</th>\n",
       "      <td>MRK</td>\n",
       "      <td>12.282663</td>\n",
       "    </tr>\n",
       "    <tr>\n",
       "      <th>490</th>\n",
       "      <td>OXY</td>\n",
       "      <td>12.249313</td>\n",
       "    </tr>\n",
       "    <tr>\n",
       "      <th>497</th>\n",
       "      <td>SLB</td>\n",
       "      <td>11.254014</td>\n",
       "    </tr>\n",
       "    <tr>\n",
       "      <th>502</th>\n",
       "      <td>XOM</td>\n",
       "      <td>14.383591</td>\n",
       "    </tr>\n",
       "  </tbody>\n",
       "</table>\n",
       "<p>103 rows × 2 columns</p>\n",
       "</div>"
      ],
      "text/plain": [
       "    symbol   peRatioTTM\n",
       "1      EXE   -34.147138\n",
       "12    CRWD -5444.288986\n",
       "19    SMCI    14.958010\n",
       "20    BLDR    12.926314\n",
       "32      BG     9.820211\n",
       "..     ...          ...\n",
       "485     MO     8.781233\n",
       "486    MRK    12.282663\n",
       "490    OXY    12.249313\n",
       "497    SLB    11.254014\n",
       "502    XOM    14.383591\n",
       "\n",
       "[103 rows x 2 columns]"
      ]
     },
     "execution_count": 35,
     "metadata": {},
     "output_type": "execute_result"
    }
   ],
   "source": [
    "ratios_ttm_df[ratios_ttm_df[\"peRatioTTM\"] <= 15][[\"symbol\", \"peRatioTTM\"]]"
   ]
  },
  {
   "cell_type": "code",
   "execution_count": null,
   "id": "b422bd4f7d3a742e",
   "metadata": {
    "ExecuteTime": {
     "end_time": "2025-02-27T20:39:09.600652Z",
     "start_time": "2025-02-27T20:39:09.293542Z"
    }
   },
   "outputs": [
    {
     "ename": "IndexError",
     "evalue": "index 0 is out of bounds for axis 0 with size 0",
     "output_type": "error",
     "traceback": [
      "\u001b[0;31m---------------------------------------------------------------------------\u001b[0m",
      "\u001b[0;31mIndexError\u001b[0m                                Traceback (most recent call last)",
      "Cell \u001b[0;32mIn[37], line 4\u001b[0m\n\u001b[1;32m      1\u001b[0m \u001b[38;5;66;03m# ratios_ttm_df[\"name\"] = ratios_ttm_df.apply(\u001b[39;00m\n\u001b[1;32m      2\u001b[0m \u001b[38;5;66;03m#     lambda x: snp_data[snp_data[\"symbol\"] == x[\"symbol\"]][\"name\"].values[0], axis=1\u001b[39;00m\n\u001b[1;32m      3\u001b[0m \u001b[38;5;66;03m# )\u001b[39;00m\n\u001b[0;32m----> 4\u001b[0m ratios_ttm_df[\u001b[38;5;124m\"\u001b[39m\u001b[38;5;124msector\u001b[39m\u001b[38;5;124m\"\u001b[39m] \u001b[38;5;241m=\u001b[39m ratios_ttm_df\u001b[38;5;241m.\u001b[39mapply(\n\u001b[1;32m      5\u001b[0m     \u001b[38;5;28;01mlambda\u001b[39;00m x: snp_data[snp_data[\u001b[38;5;124m\"\u001b[39m\u001b[38;5;124msymbol\u001b[39m\u001b[38;5;124m\"\u001b[39m] \u001b[38;5;241m==\u001b[39m x[\u001b[38;5;124m\"\u001b[39m\u001b[38;5;124msymbol\u001b[39m\u001b[38;5;124m\"\u001b[39m]][\u001b[38;5;124m\"\u001b[39m\u001b[38;5;124msector\u001b[39m\u001b[38;5;124m\"\u001b[39m]\u001b[38;5;241m.\u001b[39mvalues[\u001b[38;5;241m0\u001b[39m], axis\u001b[38;5;241m=\u001b[39m\u001b[38;5;241m1\u001b[39m\n\u001b[1;32m      6\u001b[0m )\n",
      "File \u001b[0;32m~/miniconda3/envs/investing/lib/python3.12/site-packages/pandas/core/frame.py:10374\u001b[0m, in \u001b[0;36mDataFrame.apply\u001b[0;34m(self, func, axis, raw, result_type, args, by_row, engine, engine_kwargs, **kwargs)\u001b[0m\n\u001b[1;32m  10360\u001b[0m \u001b[38;5;28;01mfrom\u001b[39;00m \u001b[38;5;21;01mpandas\u001b[39;00m\u001b[38;5;21;01m.\u001b[39;00m\u001b[38;5;21;01mcore\u001b[39;00m\u001b[38;5;21;01m.\u001b[39;00m\u001b[38;5;21;01mapply\u001b[39;00m \u001b[38;5;28;01mimport\u001b[39;00m frame_apply\n\u001b[1;32m  10362\u001b[0m op \u001b[38;5;241m=\u001b[39m frame_apply(\n\u001b[1;32m  10363\u001b[0m     \u001b[38;5;28mself\u001b[39m,\n\u001b[1;32m  10364\u001b[0m     func\u001b[38;5;241m=\u001b[39mfunc,\n\u001b[0;32m   (...)\u001b[0m\n\u001b[1;32m  10372\u001b[0m     kwargs\u001b[38;5;241m=\u001b[39mkwargs,\n\u001b[1;32m  10373\u001b[0m )\n\u001b[0;32m> 10374\u001b[0m \u001b[38;5;28;01mreturn\u001b[39;00m op\u001b[38;5;241m.\u001b[39mapply()\u001b[38;5;241m.\u001b[39m__finalize__(\u001b[38;5;28mself\u001b[39m, method\u001b[38;5;241m=\u001b[39m\u001b[38;5;124m\"\u001b[39m\u001b[38;5;124mapply\u001b[39m\u001b[38;5;124m\"\u001b[39m)\n",
      "File \u001b[0;32m~/miniconda3/envs/investing/lib/python3.12/site-packages/pandas/core/apply.py:916\u001b[0m, in \u001b[0;36mFrameApply.apply\u001b[0;34m(self)\u001b[0m\n\u001b[1;32m    913\u001b[0m \u001b[38;5;28;01melif\u001b[39;00m \u001b[38;5;28mself\u001b[39m\u001b[38;5;241m.\u001b[39mraw:\n\u001b[1;32m    914\u001b[0m     \u001b[38;5;28;01mreturn\u001b[39;00m \u001b[38;5;28mself\u001b[39m\u001b[38;5;241m.\u001b[39mapply_raw(engine\u001b[38;5;241m=\u001b[39m\u001b[38;5;28mself\u001b[39m\u001b[38;5;241m.\u001b[39mengine, engine_kwargs\u001b[38;5;241m=\u001b[39m\u001b[38;5;28mself\u001b[39m\u001b[38;5;241m.\u001b[39mengine_kwargs)\n\u001b[0;32m--> 916\u001b[0m \u001b[38;5;28;01mreturn\u001b[39;00m \u001b[38;5;28mself\u001b[39m\u001b[38;5;241m.\u001b[39mapply_standard()\n",
      "File \u001b[0;32m~/miniconda3/envs/investing/lib/python3.12/site-packages/pandas/core/apply.py:1063\u001b[0m, in \u001b[0;36mFrameApply.apply_standard\u001b[0;34m(self)\u001b[0m\n\u001b[1;32m   1061\u001b[0m \u001b[38;5;28;01mdef\u001b[39;00m \u001b[38;5;21mapply_standard\u001b[39m(\u001b[38;5;28mself\u001b[39m):\n\u001b[1;32m   1062\u001b[0m     \u001b[38;5;28;01mif\u001b[39;00m \u001b[38;5;28mself\u001b[39m\u001b[38;5;241m.\u001b[39mengine \u001b[38;5;241m==\u001b[39m \u001b[38;5;124m\"\u001b[39m\u001b[38;5;124mpython\u001b[39m\u001b[38;5;124m\"\u001b[39m:\n\u001b[0;32m-> 1063\u001b[0m         results, res_index \u001b[38;5;241m=\u001b[39m \u001b[38;5;28mself\u001b[39m\u001b[38;5;241m.\u001b[39mapply_series_generator()\n\u001b[1;32m   1064\u001b[0m     \u001b[38;5;28;01melse\u001b[39;00m:\n\u001b[1;32m   1065\u001b[0m         results, res_index \u001b[38;5;241m=\u001b[39m \u001b[38;5;28mself\u001b[39m\u001b[38;5;241m.\u001b[39mapply_series_numba()\n",
      "File \u001b[0;32m~/miniconda3/envs/investing/lib/python3.12/site-packages/pandas/core/apply.py:1081\u001b[0m, in \u001b[0;36mFrameApply.apply_series_generator\u001b[0;34m(self)\u001b[0m\n\u001b[1;32m   1078\u001b[0m \u001b[38;5;28;01mwith\u001b[39;00m option_context(\u001b[38;5;124m\"\u001b[39m\u001b[38;5;124mmode.chained_assignment\u001b[39m\u001b[38;5;124m\"\u001b[39m, \u001b[38;5;28;01mNone\u001b[39;00m):\n\u001b[1;32m   1079\u001b[0m     \u001b[38;5;28;01mfor\u001b[39;00m i, v \u001b[38;5;129;01min\u001b[39;00m \u001b[38;5;28menumerate\u001b[39m(series_gen):\n\u001b[1;32m   1080\u001b[0m         \u001b[38;5;66;03m# ignore SettingWithCopy here in case the user mutates\u001b[39;00m\n\u001b[0;32m-> 1081\u001b[0m         results[i] \u001b[38;5;241m=\u001b[39m \u001b[38;5;28mself\u001b[39m\u001b[38;5;241m.\u001b[39mfunc(v, \u001b[38;5;241m*\u001b[39m\u001b[38;5;28mself\u001b[39m\u001b[38;5;241m.\u001b[39margs, \u001b[38;5;241m*\u001b[39m\u001b[38;5;241m*\u001b[39m\u001b[38;5;28mself\u001b[39m\u001b[38;5;241m.\u001b[39mkwargs)\n\u001b[1;32m   1082\u001b[0m         \u001b[38;5;28;01mif\u001b[39;00m \u001b[38;5;28misinstance\u001b[39m(results[i], ABCSeries):\n\u001b[1;32m   1083\u001b[0m             \u001b[38;5;66;03m# If we have a view on v, we need to make a copy because\u001b[39;00m\n\u001b[1;32m   1084\u001b[0m             \u001b[38;5;66;03m#  series_generator will swap out the underlying data\u001b[39;00m\n\u001b[1;32m   1085\u001b[0m             results[i] \u001b[38;5;241m=\u001b[39m results[i]\u001b[38;5;241m.\u001b[39mcopy(deep\u001b[38;5;241m=\u001b[39m\u001b[38;5;28;01mFalse\u001b[39;00m)\n",
      "Cell \u001b[0;32mIn[37], line 5\u001b[0m, in \u001b[0;36m<lambda>\u001b[0;34m(x)\u001b[0m\n\u001b[1;32m      1\u001b[0m \u001b[38;5;66;03m# ratios_ttm_df[\"name\"] = ratios_ttm_df.apply(\u001b[39;00m\n\u001b[1;32m      2\u001b[0m \u001b[38;5;66;03m#     lambda x: snp_data[snp_data[\"symbol\"] == x[\"symbol\"]][\"name\"].values[0], axis=1\u001b[39;00m\n\u001b[1;32m      3\u001b[0m \u001b[38;5;66;03m# )\u001b[39;00m\n\u001b[1;32m      4\u001b[0m ratios_ttm_df[\u001b[38;5;124m\"\u001b[39m\u001b[38;5;124msector\u001b[39m\u001b[38;5;124m\"\u001b[39m] \u001b[38;5;241m=\u001b[39m ratios_ttm_df\u001b[38;5;241m.\u001b[39mapply(\n\u001b[0;32m----> 5\u001b[0m     \u001b[38;5;28;01mlambda\u001b[39;00m x: snp_data[snp_data[\u001b[38;5;124m\"\u001b[39m\u001b[38;5;124msymbol\u001b[39m\u001b[38;5;124m\"\u001b[39m] \u001b[38;5;241m==\u001b[39m x[\u001b[38;5;124m\"\u001b[39m\u001b[38;5;124msymbol\u001b[39m\u001b[38;5;124m\"\u001b[39m]][\u001b[38;5;124m\"\u001b[39m\u001b[38;5;124msector\u001b[39m\u001b[38;5;124m\"\u001b[39m]\u001b[38;5;241m.\u001b[39mvalues[\u001b[38;5;241m0\u001b[39m], axis\u001b[38;5;241m=\u001b[39m\u001b[38;5;241m1\u001b[39m\n\u001b[1;32m      6\u001b[0m )\n",
      "\u001b[0;31mIndexError\u001b[0m: index 0 is out of bounds for axis 0 with size 0"
     ]
    }
   ],
   "source": [
    "ratios_ttm_df[\"name\"] = ratios_ttm_df.apply(\n",
    "    lambda x: snp_data[snp_data[\"symbol\"] == x[\"symbol\"]][\"name\"].values[0], axis=1\n",
    ")\n",
    "ratios_ttm_df[\"sector\"] = ratios_ttm_df.apply(\n",
    "    lambda x: snp_data[snp_data[\"symbol\"] == x[\"symbol\"]][\"sector\"].values[0], axis=1\n",
    ")"
   ]
  },
  {
   "cell_type": "code",
   "execution_count": 41,
   "id": "f5d7bd5e15c7996c",
   "metadata": {
    "ExecuteTime": {
     "end_time": "2025-02-27T20:39:13.706089Z",
     "start_time": "2025-02-27T20:39:13.701929Z"
    }
   },
   "outputs": [
    {
     "name": "stdout",
     "output_type": "stream",
     "text": [
      "87\n"
     ]
    }
   ],
   "source": [
    "sixth_criteria = ratios_ttm_df[\n",
    "    (ratios_ttm_df[\"peRatioTTM\"] <= 15) & (ratios_ttm_df[\"peRatioTTM\"] > 0)\n",
    "][\"symbol\"].unique()\n",
    "print(len(sixth_criteria))"
   ]
  },
  {
   "cell_type": "code",
   "execution_count": 42,
   "id": "6d0c68c80e27f77d",
   "metadata": {
    "ExecuteTime": {
     "end_time": "2025-02-27T20:39:33.917176Z",
     "start_time": "2025-02-27T20:39:33.907920Z"
    }
   },
   "outputs": [
    {
     "ename": "KeyError",
     "evalue": "\"['name', 'sector'] not in index\"",
     "output_type": "error",
     "traceback": [
      "\u001b[0;31m---------------------------------------------------------------------------\u001b[0m",
      "\u001b[0;31mKeyError\u001b[0m                                  Traceback (most recent call last)",
      "Cell \u001b[0;32mIn[42], line 1\u001b[0m\n\u001b[0;32m----> 1\u001b[0m ratios_ttm_df_sixth_criteria \u001b[38;5;241m=\u001b[39m ratios_ttm_df[\n\u001b[1;32m      2\u001b[0m     ratios_ttm_df[\u001b[38;5;124m\"\u001b[39m\u001b[38;5;124msymbol\u001b[39m\u001b[38;5;124m\"\u001b[39m]\u001b[38;5;241m.\u001b[39misin(sixth_criteria)\n\u001b[1;32m      3\u001b[0m ][[\u001b[38;5;124m\"\u001b[39m\u001b[38;5;124msymbol\u001b[39m\u001b[38;5;124m\"\u001b[39m, \u001b[38;5;124m\"\u001b[39m\u001b[38;5;124mname\u001b[39m\u001b[38;5;124m\"\u001b[39m, \u001b[38;5;124m\"\u001b[39m\u001b[38;5;124msector\u001b[39m\u001b[38;5;124m\"\u001b[39m, \u001b[38;5;124m\"\u001b[39m\u001b[38;5;124mpeRatioTTM\u001b[39m\u001b[38;5;124m\"\u001b[39m]]\u001b[38;5;241m.\u001b[39msort_values(\u001b[38;5;124m\"\u001b[39m\u001b[38;5;124mpeRatioTTM\u001b[39m\u001b[38;5;124m\"\u001b[39m, ascending\u001b[38;5;241m=\u001b[39m\u001b[38;5;28;01mFalse\u001b[39;00m)\n\u001b[1;32m      4\u001b[0m ratios_ttm_df_sixth_criteria\n",
      "File \u001b[0;32m~/miniconda3/envs/investing/lib/python3.12/site-packages/pandas/core/frame.py:4108\u001b[0m, in \u001b[0;36mDataFrame.__getitem__\u001b[0;34m(self, key)\u001b[0m\n\u001b[1;32m   4106\u001b[0m     \u001b[38;5;28;01mif\u001b[39;00m is_iterator(key):\n\u001b[1;32m   4107\u001b[0m         key \u001b[38;5;241m=\u001b[39m \u001b[38;5;28mlist\u001b[39m(key)\n\u001b[0;32m-> 4108\u001b[0m     indexer \u001b[38;5;241m=\u001b[39m \u001b[38;5;28mself\u001b[39m\u001b[38;5;241m.\u001b[39mcolumns\u001b[38;5;241m.\u001b[39m_get_indexer_strict(key, \u001b[38;5;124m\"\u001b[39m\u001b[38;5;124mcolumns\u001b[39m\u001b[38;5;124m\"\u001b[39m)[\u001b[38;5;241m1\u001b[39m]\n\u001b[1;32m   4110\u001b[0m \u001b[38;5;66;03m# take() does not accept boolean indexers\u001b[39;00m\n\u001b[1;32m   4111\u001b[0m \u001b[38;5;28;01mif\u001b[39;00m \u001b[38;5;28mgetattr\u001b[39m(indexer, \u001b[38;5;124m\"\u001b[39m\u001b[38;5;124mdtype\u001b[39m\u001b[38;5;124m\"\u001b[39m, \u001b[38;5;28;01mNone\u001b[39;00m) \u001b[38;5;241m==\u001b[39m \u001b[38;5;28mbool\u001b[39m:\n",
      "File \u001b[0;32m~/miniconda3/envs/investing/lib/python3.12/site-packages/pandas/core/indexes/base.py:6200\u001b[0m, in \u001b[0;36mIndex._get_indexer_strict\u001b[0;34m(self, key, axis_name)\u001b[0m\n\u001b[1;32m   6197\u001b[0m \u001b[38;5;28;01melse\u001b[39;00m:\n\u001b[1;32m   6198\u001b[0m     keyarr, indexer, new_indexer \u001b[38;5;241m=\u001b[39m \u001b[38;5;28mself\u001b[39m\u001b[38;5;241m.\u001b[39m_reindex_non_unique(keyarr)\n\u001b[0;32m-> 6200\u001b[0m \u001b[38;5;28mself\u001b[39m\u001b[38;5;241m.\u001b[39m_raise_if_missing(keyarr, indexer, axis_name)\n\u001b[1;32m   6202\u001b[0m keyarr \u001b[38;5;241m=\u001b[39m \u001b[38;5;28mself\u001b[39m\u001b[38;5;241m.\u001b[39mtake(indexer)\n\u001b[1;32m   6203\u001b[0m \u001b[38;5;28;01mif\u001b[39;00m \u001b[38;5;28misinstance\u001b[39m(key, Index):\n\u001b[1;32m   6204\u001b[0m     \u001b[38;5;66;03m# GH 42790 - Preserve name from an Index\u001b[39;00m\n",
      "File \u001b[0;32m~/miniconda3/envs/investing/lib/python3.12/site-packages/pandas/core/indexes/base.py:6252\u001b[0m, in \u001b[0;36mIndex._raise_if_missing\u001b[0;34m(self, key, indexer, axis_name)\u001b[0m\n\u001b[1;32m   6249\u001b[0m     \u001b[38;5;28;01mraise\u001b[39;00m \u001b[38;5;167;01mKeyError\u001b[39;00m(\u001b[38;5;124mf\u001b[39m\u001b[38;5;124m\"\u001b[39m\u001b[38;5;124mNone of [\u001b[39m\u001b[38;5;132;01m{\u001b[39;00mkey\u001b[38;5;132;01m}\u001b[39;00m\u001b[38;5;124m] are in the [\u001b[39m\u001b[38;5;132;01m{\u001b[39;00maxis_name\u001b[38;5;132;01m}\u001b[39;00m\u001b[38;5;124m]\u001b[39m\u001b[38;5;124m\"\u001b[39m)\n\u001b[1;32m   6251\u001b[0m not_found \u001b[38;5;241m=\u001b[39m \u001b[38;5;28mlist\u001b[39m(ensure_index(key)[missing_mask\u001b[38;5;241m.\u001b[39mnonzero()[\u001b[38;5;241m0\u001b[39m]]\u001b[38;5;241m.\u001b[39munique())\n\u001b[0;32m-> 6252\u001b[0m \u001b[38;5;28;01mraise\u001b[39;00m \u001b[38;5;167;01mKeyError\u001b[39;00m(\u001b[38;5;124mf\u001b[39m\u001b[38;5;124m\"\u001b[39m\u001b[38;5;132;01m{\u001b[39;00mnot_found\u001b[38;5;132;01m}\u001b[39;00m\u001b[38;5;124m not in index\u001b[39m\u001b[38;5;124m\"\u001b[39m)\n",
      "\u001b[0;31mKeyError\u001b[0m: \"['name', 'sector'] not in index\""
     ]
    }
   ],
   "source": [
    "ratios_ttm_df_sixth_criteria = ratios_ttm_df[\n",
    "    ratios_ttm_df[\"symbol\"].isin(sixth_criteria)\n",
    "][[\"symbol\", \"name\", \"sector\", \"peRatioTTM\"]].sort_values(\"peRatioTTM\", ascending=False)\n",
    "ratios_ttm_df_sixth_criteria"
   ]
  },
  {
   "cell_type": "code",
   "execution_count": null,
   "id": "e972c2927fc263b9",
   "metadata": {
    "ExecuteTime": {
     "end_time": "2025-02-27T20:39:39.144526Z",
     "start_time": "2025-02-27T20:39:39.074562Z"
    }
   },
   "outputs": [
    {
     "data": {
      "application/vnd.plotly.v1+json": {
       "config": {
        "plotlyServerURL": "https://plot.ly"
       },
       "data": [
        {
         "alignmentgroup": "True",
         "hovertemplate": "<b>%{hovertext}</b><br><br>sector=Healthcare<br>symbol=%{x}<br>peRatioTTM=%{y}<extra></extra>",
         "hovertext": [
          "Elevance Health",
          "Molina Healthcare",
          "HCA Healthcare",
          "Merck & Co.",
          "DaVita",
          "Biogen",
          "Universal Health Services",
          "Edwards Lifesciences",
          "Centene Corporation"
         ],
         "legendgroup": "Healthcare",
         "marker": {
          "color": "#636efa",
          "pattern": {
           "shape": ""
          }
         },
         "name": "Healthcare",
         "offsetgroup": "Healthcare",
         "orientation": "v",
         "showlegend": true,
         "textposition": "auto",
         "type": "bar",
         "x": [
          "ELV",
          "MOH",
          "HCA",
          "MRK",
          "DVA",
          "BIIB",
          "UHS",
          "EW",
          "CNC"
         ],
         "xaxis": "x",
         "y": [
          14.99387902695652,
          14.301558100084817,
          14.273221292236112,
          13.410875128587952,
          13.105240360893776,
          12.494692152177908,
          10.802160394432343,
          10.289347183149392,
          8.838805143721634
         ],
         "yaxis": "y"
        },
        {
         "alignmentgroup": "True",
         "hovertemplate": "<b>%{hovertext}</b><br><br>sector=Industrials<br>symbol=%{x}<br>peRatioTTM=%{y}<extra></extra>",
         "hovertext": [
          "Builders FirstSource",
          "Paccar",
          "Cummins",
          "Carrier Global",
          "Huntington Ingalls Industries",
          "Delta Air Lines",
          "Dover Corporation",
          "United Airlines Holdings"
         ],
         "legendgroup": "Industrials",
         "marker": {
          "color": "#EF553B",
          "pattern": {
           "shape": ""
          }
         },
         "name": "Industrials",
         "offsetgroup": "Industrials",
         "orientation": "v",
         "showlegend": true,
         "textposition": "auto",
         "type": "bar",
         "x": [
          "BLDR",
          "PCAR",
          "CMI",
          "CARR",
          "HII",
          "DAL",
          "DOV",
          "UAL"
         ],
         "xaxis": "x",
         "y": [
          14.909733210620365,
          13.323104479615568,
          12.823698559014192,
          12.80676437681808,
          12.428112727272728,
          10.79774917133995,
          10.027909569297098,
          9.773688472530964
         ],
         "yaxis": "y"
        },
        {
         "alignmentgroup": "True",
         "hovertemplate": "<b>%{hovertext}</b><br><br>sector=Basic Materials<br>symbol=%{x}<br>peRatioTTM=%{y}<extra></extra>",
         "hovertext": [
          "Martin Marietta Materials",
          "Steel Dynamics",
          "Eastman Chemical Company",
          "LyondellBasell",
          "CF Industries",
          "FMC Corporation"
         ],
         "legendgroup": "Basic Materials",
         "marker": {
          "color": "#00cc96",
          "pattern": {
           "shape": ""
          }
         },
         "name": "Basic Materials",
         "offsetgroup": "Basic Materials",
         "orientation": "v",
         "showlegend": true,
         "textposition": "auto",
         "type": "bar",
         "x": [
          "MLM",
          "STLD",
          "EMN",
          "LYB",
          "CF",
          "FMC"
         ],
         "xaxis": "x",
         "y": [
          14.85700375751503,
          13.253065926588052,
          12.527519337016576,
          11.497845505237432,
          11.351141215106733,
          3.256842701105997
         ],
         "yaxis": "y"
        },
        {
         "alignmentgroup": "True",
         "hovertemplate": "<b>%{hovertext}</b><br><br>sector=Financial Services<br>symbol=%{x}<br>peRatioTTM=%{y}<extra></extra>",
         "hovertext": [
          "Assurant",
          "Apollo Global Management",
          "Prudential Financial",
          "Goldman Sachs",
          "American International Group",
          "W. R. Berkley Corporation",
          "Raymond James Financial",
          "MetLife",
          "Loews Corporation",
          "Citigroup",
          "Citizens Financial Group",
          "Principal Financial Group",
          "Northern Trust",
          "Wells Fargo",
          "PNC Financial Services",
          "Globe Life",
          "Fifth Third Bancorp",
          "Bank of America",
          "JPMorgan Chase",
          "Truist Financial",
          "M&T Bank",
          "Huntington Bancshares",
          "Discover Financial",
          "Travelers Companies (The)",
          "U.S. Bancorp",
          "Regions Financial Corporation",
          "Chubb Limited",
          "T. Rowe Price",
          "Hartford (The)",
          "Allstate",
          "Everest Group",
          "State Street Corporation",
          "Cincinnati Financial",
          "Berkshire Hathaway",
          "Synchrony Financial",
          "Arch Capital Group"
         ],
         "legendgroup": "Financial Services",
         "marker": {
          "color": "#ab63fa",
          "pattern": {
           "shape": ""
          }
         },
         "name": "Financial Services",
         "offsetgroup": "Financial Services",
         "orientation": "v",
         "showlegend": true,
         "textposition": "auto",
         "type": "bar",
         "x": [
          "AIZ",
          "APO",
          "PRU",
          "GS",
          "AIG",
          "WRB",
          "RJF",
          "MET",
          "L",
          "C",
          "CFG",
          "PFG",
          "NTRS",
          "WFC",
          "PNC",
          "GL",
          "FITB",
          "BAC",
          "JPM",
          "TFC",
          "MTB",
          "HBAN",
          "DFS",
          "TRV",
          "USB",
          "RF",
          "CB",
          "TROW",
          "HIG",
          "ALL",
          "EG",
          "STT",
          "CINF",
          "BRK-B",
          "SYF",
          "ACGL"
         ],
         "xaxis": "x",
         "y": [
          14.852173918276232,
          14.805704121771848,
          14.734721855518885,
          14.688063954216869,
          14.68458233412195,
          14.313227575975,
          14.234593548387096,
          13.517192724807952,
          13.354236067892504,
          13.349796182599748,
          13.159816664612324,
          12.923182686187143,
          12.91164639956182,
          12.862674170976575,
          12.76474783494651,
          12.739107870540211,
          12.671862549794726,
          12.56933834586466,
          12.567465544457937,
          12.501820775217931,
          12.1796056877898,
          12.116372729381444,
          11.712515876893011,
          11.550136827365474,
          11.412503042811029,
          11.351703645007923,
          11.340767206355906,
          11.097861623174529,
          11.038572484731596,
          10.996082279837154,
          10.902340482782227,
          10.789528461109043,
          9.812249563699826,
          8.12422058317883,
          6.7027650757359245,
          6.019818595692524
         ],
         "yaxis": "y"
        },
        {
         "alignmentgroup": "True",
         "hovertemplate": "<b>%{hovertext}</b><br><br>sector=Energy<br>symbol=%{x}<br>peRatioTTM=%{y}<extra></extra>",
         "hovertext": [
          "Occidental Petroleum",
          "Baker Hughes",
          "ExxonMobil",
          "Diamondback Energy",
          "Schlumberger",
          "ConocoPhillips",
          "Marathon Petroleum",
          "First Solar",
          "Valero Energy",
          "EOG Resources",
          "Halliburton",
          "Devon Energy",
          "APA Corporation"
         ],
         "legendgroup": "Energy",
         "marker": {
          "color": "#FFA15A",
          "pattern": {
           "shape": ""
          }
         },
         "name": "Energy",
         "offsetgroup": "Energy",
         "orientation": "v",
         "showlegend": true,
         "textposition": "auto",
         "type": "bar",
         "x": [
          "OXY",
          "BKR",
          "XOM",
          "FANG",
          "SLB",
          "COP",
          "MPC",
          "FSLR",
          "VLO",
          "EOG",
          "HAL",
          "DVN",
          "APA"
         ],
         "xaxis": "x",
         "y": [
          14.835113628926702,
          14.674502406767374,
          14.651204869358669,
          13.678001929298985,
          12.996281102891729,
          12.397312714981071,
          12.351386369525784,
          11.82486601075505,
          11.279479815768084,
          10.35658823529412,
          9.168082766893242,
          7.808763403666552,
          3.4228744939271256
         ],
         "yaxis": "y"
        },
        {
         "alignmentgroup": "True",
         "hovertemplate": "<b>%{hovertext}</b><br><br>sector=Communication Services<br>symbol=%{x}<br>peRatioTTM=%{y}<extra></extra>",
         "hovertext": [
          "Interpublic Group of Companies (The)",
          "Fox Corporation (Class A)",
          "Fox Corporation (Class B)",
          "Omnicom Group",
          "Verizon",
          "Charter Communications",
          "Comcast"
         ],
         "legendgroup": "Communication Services",
         "marker": {
          "color": "#19d3f3",
          "pattern": {
           "shape": ""
          }
         },
         "name": "Communication Services",
         "offsetgroup": "Communication Services",
         "orientation": "v",
         "showlegend": true,
         "textposition": "auto",
         "type": "bar",
         "x": [
          "IPG",
          "FOXA",
          "FOX",
          "OMC",
          "VZ",
          "CHTR",
          "CMCSA"
         ],
         "xaxis": "x",
         "y": [
          14.684223350253808,
          11.799384439359269,
          11.799384439359269,
          10.76288801837093,
          10.401693133782702,
          10.023268492327366,
          8.357589699252763
         ],
         "yaxis": "y"
        },
        {
         "alignmentgroup": "True",
         "hovertemplate": "<b>%{hovertext}</b><br><br>sector=Utilities<br>symbol=%{x}<br>peRatioTTM=%{y}<extra></extra>",
         "hovertext": [
          "Sempra",
          "PG&E Corporation",
          "Edison International",
          "AES Corporation"
         ],
         "legendgroup": "Utilities",
         "marker": {
          "color": "#FF6692",
          "pattern": {
           "shape": ""
          }
         },
         "name": "Utilities",
         "offsetgroup": "Utilities",
         "orientation": "v",
         "showlegend": true,
         "textposition": "auto",
         "type": "bar",
         "x": [
          "SRE",
          "PCG",
          "EIX",
          "AES"
         ],
         "xaxis": "x",
         "y": [
          14.491285467716535,
          13.607111863057323,
          13.214384105960264,
          7.783774869109948
         ],
         "yaxis": "y"
        },
        {
         "alignmentgroup": "True",
         "hovertemplate": "<b>%{hovertext}</b><br><br>sector=Consumer Cyclical<br>symbol=%{x}<br>peRatioTTM=%{y}<extra></extra>",
         "hovertext": [
          "Ulta Beauty",
          "Mohawk Industries",
          "MGM Resorts",
          "NVR, Inc.",
          "Norwegian Cruise Line Holdings",
          "General Motors",
          "D. R. Horton",
          "Aptiv",
          "Lennar",
          "PulteGroup",
          "Ford Motor Company"
         ],
         "legendgroup": "Consumer Cyclical",
         "marker": {
          "color": "#B6E880",
          "pattern": {
           "shape": ""
          }
         },
         "name": "Consumer Cyclical",
         "offsetgroup": "Consumer Cyclical",
         "orientation": "v",
         "showlegend": true,
         "textposition": "auto",
         "type": "bar",
         "x": [
          "ULTA",
          "MHK",
          "MGM",
          "NVR",
          "NCLH",
          "GM",
          "DHI",
          "APTV",
          "LEN",
          "PHM",
          "F"
         ],
         "xaxis": "x",
         "y": [
          14.277277130501398,
          14.119080370942816,
          13.83240041631059,
          13.28755380729734,
          11.463022730910062,
          8.867556591211716,
          8.753863343360551,
          8.637705819809737,
          8.174444654374167,
          6.8989475567694205,
          6.294605375063786
         ],
         "yaxis": "y"
        },
        {
         "alignmentgroup": "True",
         "hovertemplate": "<b>%{hovertext}</b><br><br>sector=Technology<br>symbol=%{x}<br>peRatioTTM=%{y}<extra></extra>",
         "hovertext": [
          "Leidos",
          "Western Digital",
          "Jabil",
          "ON Semiconductor",
          "Trimble Inc.",
          "HP Inc.",
          "Hewlett Packard Enterprise"
         ],
         "legendgroup": "Technology",
         "marker": {
          "color": "#FF97FF",
          "pattern": {
           "shape": ""
          }
         },
         "name": "Technology",
         "offsetgroup": "Technology",
         "orientation": "v",
         "showlegend": true,
         "textposition": "auto",
         "type": "bar",
         "x": [
          "LDOS",
          "WDC",
          "JBL",
          "ON",
          "TRMB",
          "HPQ",
          "HPE"
         ],
         "xaxis": "x",
         "y": [
          13.820757575757575,
          13.776233974358975,
          13.512242272024732,
          12.999613428280773,
          11.796181965881395,
          11.540830630630632,
          10.26123727486296
         ],
         "yaxis": "y"
        },
        {
         "alignmentgroup": "True",
         "hovertemplate": "<b>%{hovertext}</b><br><br>sector=Consumer Defensive<br>symbol=%{x}<br>peRatioTTM=%{y}<extra></extra>",
         "hovertext": [
          "Kraft Heinz",
          "Target Corporation",
          "General Mills",
          "Archer Daniels Midland",
          "Dollar General",
          "Molson Coors Beverage Company",
          "Bunge Global",
          "Altria"
         ],
         "legendgroup": "Consumer Defensive",
         "marker": {
          "color": "#FECB52",
          "pattern": {
           "shape": ""
          }
         },
         "name": "Consumer Defensive",
         "offsetgroup": "Consumer Defensive",
         "orientation": "v",
         "showlegend": true,
         "textposition": "auto",
         "type": "bar",
         "x": [
          "KHC",
          "TGT",
          "GIS",
          "ADM",
          "DG",
          "TAP",
          "BG",
          "MO"
         ],
         "xaxis": "x",
         "y": [
          13.499133746355684,
          13.012472311212814,
          12.81220843577136,
          12.57038459942222,
          12.174398416288067,
          11.254551853171774,
          8.87168865435356,
          8.308710550015537
         ],
         "yaxis": "y"
        },
        {
         "alignmentgroup": "True",
         "hovertemplate": "<b>%{hovertext}</b><br><br>sector=Real Estate<br>symbol=%{x}<br>peRatioTTM=%{y}<extra></extra>",
         "hovertext": [
          "Vici Properties"
         ],
         "legendgroup": "Real Estate",
         "marker": {
          "color": "#636efa",
          "pattern": {
           "shape": ""
          }
         },
         "name": "Real Estate",
         "offsetgroup": "Real Estate",
         "orientation": "v",
         "showlegend": true,
         "textposition": "auto",
         "type": "bar",
         "x": [
          "VICI"
         ],
         "xaxis": "x",
         "y": [
          12.716739067055894
         ],
         "yaxis": "y"
        }
       ],
       "layout": {
        "barmode": "relative",
        "legend": {
         "title": {
          "text": "sector"
         },
         "tracegroupgap": 0
        },
        "margin": {
         "t": 60
        },
        "template": {
         "data": {
          "bar": [
           {
            "error_x": {
             "color": "#f2f5fa"
            },
            "error_y": {
             "color": "#f2f5fa"
            },
            "marker": {
             "line": {
              "color": "rgb(17,17,17)",
              "width": 0.5
             },
             "pattern": {
              "fillmode": "overlay",
              "size": 10,
              "solidity": 0.2
             }
            },
            "type": "bar"
           }
          ],
          "barpolar": [
           {
            "marker": {
             "line": {
              "color": "rgb(17,17,17)",
              "width": 0.5
             },
             "pattern": {
              "fillmode": "overlay",
              "size": 10,
              "solidity": 0.2
             }
            },
            "type": "barpolar"
           }
          ],
          "carpet": [
           {
            "aaxis": {
             "endlinecolor": "#A2B1C6",
             "gridcolor": "#506784",
             "linecolor": "#506784",
             "minorgridcolor": "#506784",
             "startlinecolor": "#A2B1C6"
            },
            "baxis": {
             "endlinecolor": "#A2B1C6",
             "gridcolor": "#506784",
             "linecolor": "#506784",
             "minorgridcolor": "#506784",
             "startlinecolor": "#A2B1C6"
            },
            "type": "carpet"
           }
          ],
          "choropleth": [
           {
            "colorbar": {
             "outlinewidth": 0,
             "ticks": ""
            },
            "type": "choropleth"
           }
          ],
          "contour": [
           {
            "colorbar": {
             "outlinewidth": 0,
             "ticks": ""
            },
            "colorscale": [
             [
              0,
              "#0d0887"
             ],
             [
              0.1111111111111111,
              "#46039f"
             ],
             [
              0.2222222222222222,
              "#7201a8"
             ],
             [
              0.3333333333333333,
              "#9c179e"
             ],
             [
              0.4444444444444444,
              "#bd3786"
             ],
             [
              0.5555555555555556,
              "#d8576b"
             ],
             [
              0.6666666666666666,
              "#ed7953"
             ],
             [
              0.7777777777777778,
              "#fb9f3a"
             ],
             [
              0.8888888888888888,
              "#fdca26"
             ],
             [
              1,
              "#f0f921"
             ]
            ],
            "type": "contour"
           }
          ],
          "contourcarpet": [
           {
            "colorbar": {
             "outlinewidth": 0,
             "ticks": ""
            },
            "type": "contourcarpet"
           }
          ],
          "heatmap": [
           {
            "colorbar": {
             "outlinewidth": 0,
             "ticks": ""
            },
            "colorscale": [
             [
              0,
              "#0d0887"
             ],
             [
              0.1111111111111111,
              "#46039f"
             ],
             [
              0.2222222222222222,
              "#7201a8"
             ],
             [
              0.3333333333333333,
              "#9c179e"
             ],
             [
              0.4444444444444444,
              "#bd3786"
             ],
             [
              0.5555555555555556,
              "#d8576b"
             ],
             [
              0.6666666666666666,
              "#ed7953"
             ],
             [
              0.7777777777777778,
              "#fb9f3a"
             ],
             [
              0.8888888888888888,
              "#fdca26"
             ],
             [
              1,
              "#f0f921"
             ]
            ],
            "type": "heatmap"
           }
          ],
          "heatmapgl": [
           {
            "colorbar": {
             "outlinewidth": 0,
             "ticks": ""
            },
            "colorscale": [
             [
              0,
              "#0d0887"
             ],
             [
              0.1111111111111111,
              "#46039f"
             ],
             [
              0.2222222222222222,
              "#7201a8"
             ],
             [
              0.3333333333333333,
              "#9c179e"
             ],
             [
              0.4444444444444444,
              "#bd3786"
             ],
             [
              0.5555555555555556,
              "#d8576b"
             ],
             [
              0.6666666666666666,
              "#ed7953"
             ],
             [
              0.7777777777777778,
              "#fb9f3a"
             ],
             [
              0.8888888888888888,
              "#fdca26"
             ],
             [
              1,
              "#f0f921"
             ]
            ],
            "type": "heatmapgl"
           }
          ],
          "histogram": [
           {
            "marker": {
             "pattern": {
              "fillmode": "overlay",
              "size": 10,
              "solidity": 0.2
             }
            },
            "type": "histogram"
           }
          ],
          "histogram2d": [
           {
            "colorbar": {
             "outlinewidth": 0,
             "ticks": ""
            },
            "colorscale": [
             [
              0,
              "#0d0887"
             ],
             [
              0.1111111111111111,
              "#46039f"
             ],
             [
              0.2222222222222222,
              "#7201a8"
             ],
             [
              0.3333333333333333,
              "#9c179e"
             ],
             [
              0.4444444444444444,
              "#bd3786"
             ],
             [
              0.5555555555555556,
              "#d8576b"
             ],
             [
              0.6666666666666666,
              "#ed7953"
             ],
             [
              0.7777777777777778,
              "#fb9f3a"
             ],
             [
              0.8888888888888888,
              "#fdca26"
             ],
             [
              1,
              "#f0f921"
             ]
            ],
            "type": "histogram2d"
           }
          ],
          "histogram2dcontour": [
           {
            "colorbar": {
             "outlinewidth": 0,
             "ticks": ""
            },
            "colorscale": [
             [
              0,
              "#0d0887"
             ],
             [
              0.1111111111111111,
              "#46039f"
             ],
             [
              0.2222222222222222,
              "#7201a8"
             ],
             [
              0.3333333333333333,
              "#9c179e"
             ],
             [
              0.4444444444444444,
              "#bd3786"
             ],
             [
              0.5555555555555556,
              "#d8576b"
             ],
             [
              0.6666666666666666,
              "#ed7953"
             ],
             [
              0.7777777777777778,
              "#fb9f3a"
             ],
             [
              0.8888888888888888,
              "#fdca26"
             ],
             [
              1,
              "#f0f921"
             ]
            ],
            "type": "histogram2dcontour"
           }
          ],
          "mesh3d": [
           {
            "colorbar": {
             "outlinewidth": 0,
             "ticks": ""
            },
            "type": "mesh3d"
           }
          ],
          "parcoords": [
           {
            "line": {
             "colorbar": {
              "outlinewidth": 0,
              "ticks": ""
             }
            },
            "type": "parcoords"
           }
          ],
          "pie": [
           {
            "automargin": true,
            "type": "pie"
           }
          ],
          "scatter": [
           {
            "marker": {
             "line": {
              "color": "#283442"
             }
            },
            "type": "scatter"
           }
          ],
          "scatter3d": [
           {
            "line": {
             "colorbar": {
              "outlinewidth": 0,
              "ticks": ""
             }
            },
            "marker": {
             "colorbar": {
              "outlinewidth": 0,
              "ticks": ""
             }
            },
            "type": "scatter3d"
           }
          ],
          "scattercarpet": [
           {
            "marker": {
             "colorbar": {
              "outlinewidth": 0,
              "ticks": ""
             }
            },
            "type": "scattercarpet"
           }
          ],
          "scattergeo": [
           {
            "marker": {
             "colorbar": {
              "outlinewidth": 0,
              "ticks": ""
             }
            },
            "type": "scattergeo"
           }
          ],
          "scattergl": [
           {
            "marker": {
             "line": {
              "color": "#283442"
             }
            },
            "type": "scattergl"
           }
          ],
          "scattermapbox": [
           {
            "marker": {
             "colorbar": {
              "outlinewidth": 0,
              "ticks": ""
             }
            },
            "type": "scattermapbox"
           }
          ],
          "scatterpolar": [
           {
            "marker": {
             "colorbar": {
              "outlinewidth": 0,
              "ticks": ""
             }
            },
            "type": "scatterpolar"
           }
          ],
          "scatterpolargl": [
           {
            "marker": {
             "colorbar": {
              "outlinewidth": 0,
              "ticks": ""
             }
            },
            "type": "scatterpolargl"
           }
          ],
          "scatterternary": [
           {
            "marker": {
             "colorbar": {
              "outlinewidth": 0,
              "ticks": ""
             }
            },
            "type": "scatterternary"
           }
          ],
          "surface": [
           {
            "colorbar": {
             "outlinewidth": 0,
             "ticks": ""
            },
            "colorscale": [
             [
              0,
              "#0d0887"
             ],
             [
              0.1111111111111111,
              "#46039f"
             ],
             [
              0.2222222222222222,
              "#7201a8"
             ],
             [
              0.3333333333333333,
              "#9c179e"
             ],
             [
              0.4444444444444444,
              "#bd3786"
             ],
             [
              0.5555555555555556,
              "#d8576b"
             ],
             [
              0.6666666666666666,
              "#ed7953"
             ],
             [
              0.7777777777777778,
              "#fb9f3a"
             ],
             [
              0.8888888888888888,
              "#fdca26"
             ],
             [
              1,
              "#f0f921"
             ]
            ],
            "type": "surface"
           }
          ],
          "table": [
           {
            "cells": {
             "fill": {
              "color": "#506784"
             },
             "line": {
              "color": "rgb(17,17,17)"
             }
            },
            "header": {
             "fill": {
              "color": "#2a3f5f"
             },
             "line": {
              "color": "rgb(17,17,17)"
             }
            },
            "type": "table"
           }
          ]
         },
         "layout": {
          "annotationdefaults": {
           "arrowcolor": "#f2f5fa",
           "arrowhead": 0,
           "arrowwidth": 1
          },
          "autotypenumbers": "strict",
          "coloraxis": {
           "colorbar": {
            "outlinewidth": 0,
            "ticks": ""
           }
          },
          "colorscale": {
           "diverging": [
            [
             0,
             "#8e0152"
            ],
            [
             0.1,
             "#c51b7d"
            ],
            [
             0.2,
             "#de77ae"
            ],
            [
             0.3,
             "#f1b6da"
            ],
            [
             0.4,
             "#fde0ef"
            ],
            [
             0.5,
             "#f7f7f7"
            ],
            [
             0.6,
             "#e6f5d0"
            ],
            [
             0.7,
             "#b8e186"
            ],
            [
             0.8,
             "#7fbc41"
            ],
            [
             0.9,
             "#4d9221"
            ],
            [
             1,
             "#276419"
            ]
           ],
           "sequential": [
            [
             0,
             "#0d0887"
            ],
            [
             0.1111111111111111,
             "#46039f"
            ],
            [
             0.2222222222222222,
             "#7201a8"
            ],
            [
             0.3333333333333333,
             "#9c179e"
            ],
            [
             0.4444444444444444,
             "#bd3786"
            ],
            [
             0.5555555555555556,
             "#d8576b"
            ],
            [
             0.6666666666666666,
             "#ed7953"
            ],
            [
             0.7777777777777778,
             "#fb9f3a"
            ],
            [
             0.8888888888888888,
             "#fdca26"
            ],
            [
             1,
             "#f0f921"
            ]
           ],
           "sequentialminus": [
            [
             0,
             "#0d0887"
            ],
            [
             0.1111111111111111,
             "#46039f"
            ],
            [
             0.2222222222222222,
             "#7201a8"
            ],
            [
             0.3333333333333333,
             "#9c179e"
            ],
            [
             0.4444444444444444,
             "#bd3786"
            ],
            [
             0.5555555555555556,
             "#d8576b"
            ],
            [
             0.6666666666666666,
             "#ed7953"
            ],
            [
             0.7777777777777778,
             "#fb9f3a"
            ],
            [
             0.8888888888888888,
             "#fdca26"
            ],
            [
             1,
             "#f0f921"
            ]
           ]
          },
          "colorway": [
           "#636efa",
           "#EF553B",
           "#00cc96",
           "#ab63fa",
           "#FFA15A",
           "#19d3f3",
           "#FF6692",
           "#B6E880",
           "#FF97FF",
           "#FECB52"
          ],
          "font": {
           "color": "#f2f5fa"
          },
          "geo": {
           "bgcolor": "rgb(17,17,17)",
           "lakecolor": "rgb(17,17,17)",
           "landcolor": "rgb(17,17,17)",
           "showlakes": true,
           "showland": true,
           "subunitcolor": "#506784"
          },
          "hoverlabel": {
           "align": "left"
          },
          "hovermode": "closest",
          "mapbox": {
           "style": "dark"
          },
          "paper_bgcolor": "rgb(17,17,17)",
          "plot_bgcolor": "rgb(17,17,17)",
          "polar": {
           "angularaxis": {
            "gridcolor": "#506784",
            "linecolor": "#506784",
            "ticks": ""
           },
           "bgcolor": "rgb(17,17,17)",
           "radialaxis": {
            "gridcolor": "#506784",
            "linecolor": "#506784",
            "ticks": ""
           }
          },
          "scene": {
           "xaxis": {
            "backgroundcolor": "rgb(17,17,17)",
            "gridcolor": "#506784",
            "gridwidth": 2,
            "linecolor": "#506784",
            "showbackground": true,
            "ticks": "",
            "zerolinecolor": "#C8D4E3"
           },
           "yaxis": {
            "backgroundcolor": "rgb(17,17,17)",
            "gridcolor": "#506784",
            "gridwidth": 2,
            "linecolor": "#506784",
            "showbackground": true,
            "ticks": "",
            "zerolinecolor": "#C8D4E3"
           },
           "zaxis": {
            "backgroundcolor": "rgb(17,17,17)",
            "gridcolor": "#506784",
            "gridwidth": 2,
            "linecolor": "#506784",
            "showbackground": true,
            "ticks": "",
            "zerolinecolor": "#C8D4E3"
           }
          },
          "shapedefaults": {
           "line": {
            "color": "#f2f5fa"
           }
          },
          "sliderdefaults": {
           "bgcolor": "#C8D4E3",
           "bordercolor": "rgb(17,17,17)",
           "borderwidth": 1,
           "tickwidth": 0
          },
          "ternary": {
           "aaxis": {
            "gridcolor": "#506784",
            "linecolor": "#506784",
            "ticks": ""
           },
           "baxis": {
            "gridcolor": "#506784",
            "linecolor": "#506784",
            "ticks": ""
           },
           "bgcolor": "rgb(17,17,17)",
           "caxis": {
            "gridcolor": "#506784",
            "linecolor": "#506784",
            "ticks": ""
           }
          },
          "title": {
           "x": 0.05
          },
          "updatemenudefaults": {
           "bgcolor": "#506784",
           "borderwidth": 0
          },
          "xaxis": {
           "automargin": true,
           "gridcolor": "#283442",
           "linecolor": "#506784",
           "ticks": "",
           "title": {
            "standoff": 15
           },
           "zerolinecolor": "#283442",
           "zerolinewidth": 2
          },
          "yaxis": {
           "automargin": true,
           "gridcolor": "#283442",
           "linecolor": "#506784",
           "ticks": "",
           "title": {
            "standoff": 15
           },
           "zerolinecolor": "#283442",
           "zerolinewidth": 2
          }
         }
        },
        "xaxis": {
         "anchor": "y",
         "domain": [
          0,
          1
         ],
         "title": {
          "text": "symbol"
         }
        },
        "yaxis": {
         "anchor": "x",
         "domain": [
          0,
          1
         ],
         "title": {
          "text": "peRatioTTM"
         }
        }
       }
      },
      "text/html": [
       "<div>                            <div id=\"a4b4c235-02d1-4170-b903-6251fcb90f1b\" class=\"plotly-graph-div\" style=\"height:525px; width:100%;\"></div>            <script type=\"text/javascript\">                require([\"plotly\"], function(Plotly) {                    window.PLOTLYENV=window.PLOTLYENV || {};                                    if (document.getElementById(\"a4b4c235-02d1-4170-b903-6251fcb90f1b\")) {                    Plotly.newPlot(                        \"a4b4c235-02d1-4170-b903-6251fcb90f1b\",                        [{\"alignmentgroup\":\"True\",\"hovertemplate\":\"\\u003cb\\u003e%{hovertext}\\u003c\\u002fb\\u003e\\u003cbr\\u003e\\u003cbr\\u003esector=Healthcare\\u003cbr\\u003esymbol=%{x}\\u003cbr\\u003epeRatioTTM=%{y}\\u003cextra\\u003e\\u003c\\u002fextra\\u003e\",\"hovertext\":[\"Elevance Health\",\"Molina Healthcare\",\"HCA Healthcare\",\"Merck & Co.\",\"DaVita\",\"Biogen\",\"Universal Health Services\",\"Edwards Lifesciences\",\"Centene Corporation\"],\"legendgroup\":\"Healthcare\",\"marker\":{\"color\":\"#636efa\",\"pattern\":{\"shape\":\"\"}},\"name\":\"Healthcare\",\"offsetgroup\":\"Healthcare\",\"orientation\":\"v\",\"showlegend\":true,\"textposition\":\"auto\",\"x\":[\"ELV\",\"MOH\",\"HCA\",\"MRK\",\"DVA\",\"BIIB\",\"UHS\",\"EW\",\"CNC\"],\"xaxis\":\"x\",\"y\":[14.99387902695652,14.301558100084817,14.273221292236112,13.410875128587952,13.105240360893776,12.494692152177908,10.802160394432345,10.289347183149392,8.838805143721634],\"yaxis\":\"y\",\"type\":\"bar\"},{\"alignmentgroup\":\"True\",\"hovertemplate\":\"\\u003cb\\u003e%{hovertext}\\u003c\\u002fb\\u003e\\u003cbr\\u003e\\u003cbr\\u003esector=Industrials\\u003cbr\\u003esymbol=%{x}\\u003cbr\\u003epeRatioTTM=%{y}\\u003cextra\\u003e\\u003c\\u002fextra\\u003e\",\"hovertext\":[\"Builders FirstSource\",\"Paccar\",\"Cummins\",\"Carrier Global\",\"Huntington Ingalls Industries\",\"Delta Air Lines\",\"Dover Corporation\",\"United Airlines Holdings\"],\"legendgroup\":\"Industrials\",\"marker\":{\"color\":\"#EF553B\",\"pattern\":{\"shape\":\"\"}},\"name\":\"Industrials\",\"offsetgroup\":\"Industrials\",\"orientation\":\"v\",\"showlegend\":true,\"textposition\":\"auto\",\"x\":[\"BLDR\",\"PCAR\",\"CMI\",\"CARR\",\"HII\",\"DAL\",\"DOV\",\"UAL\"],\"xaxis\":\"x\",\"y\":[14.909733210620363,13.323104479615568,12.823698559014192,12.80676437681808,12.428112727272728,10.79774917133995,10.027909569297098,9.773688472530964],\"yaxis\":\"y\",\"type\":\"bar\"},{\"alignmentgroup\":\"True\",\"hovertemplate\":\"\\u003cb\\u003e%{hovertext}\\u003c\\u002fb\\u003e\\u003cbr\\u003e\\u003cbr\\u003esector=Basic Materials\\u003cbr\\u003esymbol=%{x}\\u003cbr\\u003epeRatioTTM=%{y}\\u003cextra\\u003e\\u003c\\u002fextra\\u003e\",\"hovertext\":[\"Martin Marietta Materials\",\"Steel Dynamics\",\"Eastman Chemical Company\",\"LyondellBasell\",\"CF Industries\",\"FMC Corporation\"],\"legendgroup\":\"Basic Materials\",\"marker\":{\"color\":\"#00cc96\",\"pattern\":{\"shape\":\"\"}},\"name\":\"Basic Materials\",\"offsetgroup\":\"Basic Materials\",\"orientation\":\"v\",\"showlegend\":true,\"textposition\":\"auto\",\"x\":[\"MLM\",\"STLD\",\"EMN\",\"LYB\",\"CF\",\"FMC\"],\"xaxis\":\"x\",\"y\":[14.85700375751503,13.253065926588052,12.527519337016576,11.497845505237432,11.351141215106733,3.256842701105997],\"yaxis\":\"y\",\"type\":\"bar\"},{\"alignmentgroup\":\"True\",\"hovertemplate\":\"\\u003cb\\u003e%{hovertext}\\u003c\\u002fb\\u003e\\u003cbr\\u003e\\u003cbr\\u003esector=Financial Services\\u003cbr\\u003esymbol=%{x}\\u003cbr\\u003epeRatioTTM=%{y}\\u003cextra\\u003e\\u003c\\u002fextra\\u003e\",\"hovertext\":[\"Assurant\",\"Apollo Global Management\",\"Prudential Financial\",\"Goldman Sachs\",\"American International Group\",\"W. R. Berkley Corporation\",\"Raymond James Financial\",\"MetLife\",\"Loews Corporation\",\"Citigroup\",\"Citizens Financial Group\",\"Principal Financial Group\",\"Northern Trust\",\"Wells Fargo\",\"PNC Financial Services\",\"Globe Life\",\"Fifth Third Bancorp\",\"Bank of America\",\"JPMorgan Chase\",\"Truist Financial\",\"M&T Bank\",\"Huntington Bancshares\",\"Discover Financial\",\"Travelers Companies (The)\",\"U.S. Bancorp\",\"Regions Financial Corporation\",\"Chubb Limited\",\"T. Rowe Price\",\"Hartford (The)\",\"Allstate\",\"Everest Group\",\"State Street Corporation\",\"Cincinnati Financial\",\"Berkshire Hathaway\",\"Synchrony Financial\",\"Arch Capital Group\"],\"legendgroup\":\"Financial Services\",\"marker\":{\"color\":\"#ab63fa\",\"pattern\":{\"shape\":\"\"}},\"name\":\"Financial Services\",\"offsetgroup\":\"Financial Services\",\"orientation\":\"v\",\"showlegend\":true,\"textposition\":\"auto\",\"x\":[\"AIZ\",\"APO\",\"PRU\",\"GS\",\"AIG\",\"WRB\",\"RJF\",\"MET\",\"L\",\"C\",\"CFG\",\"PFG\",\"NTRS\",\"WFC\",\"PNC\",\"GL\",\"FITB\",\"BAC\",\"JPM\",\"TFC\",\"MTB\",\"HBAN\",\"DFS\",\"TRV\",\"USB\",\"RF\",\"CB\",\"TROW\",\"HIG\",\"ALL\",\"EG\",\"STT\",\"CINF\",\"BRK-B\",\"SYF\",\"ACGL\"],\"xaxis\":\"x\",\"y\":[14.852173918276232,14.805704121771848,14.734721855518883,14.688063954216867,14.68458233412195,14.313227575974999,14.234593548387096,13.517192724807952,13.354236067892504,13.349796182599748,13.159816664612324,12.923182686187143,12.91164639956182,12.862674170976575,12.76474783494651,12.739107870540213,12.671862549794726,12.569338345864661,12.567465544457935,12.501820775217931,12.1796056877898,12.116372729381444,11.712515876893011,11.550136827365474,11.412503042811029,11.351703645007923,11.340767206355906,11.097861623174527,11.038572484731597,10.996082279837154,10.902340482782227,10.789528461109045,9.812249563699826,8.12422058317883,6.7027650757359245,6.019818595692524],\"yaxis\":\"y\",\"type\":\"bar\"},{\"alignmentgroup\":\"True\",\"hovertemplate\":\"\\u003cb\\u003e%{hovertext}\\u003c\\u002fb\\u003e\\u003cbr\\u003e\\u003cbr\\u003esector=Energy\\u003cbr\\u003esymbol=%{x}\\u003cbr\\u003epeRatioTTM=%{y}\\u003cextra\\u003e\\u003c\\u002fextra\\u003e\",\"hovertext\":[\"Occidental Petroleum\",\"Baker Hughes\",\"ExxonMobil\",\"Diamondback Energy\",\"Schlumberger\",\"ConocoPhillips\",\"Marathon Petroleum\",\"First Solar\",\"Valero Energy\",\"EOG Resources\",\"Halliburton\",\"Devon Energy\",\"APA Corporation\"],\"legendgroup\":\"Energy\",\"marker\":{\"color\":\"#FFA15A\",\"pattern\":{\"shape\":\"\"}},\"name\":\"Energy\",\"offsetgroup\":\"Energy\",\"orientation\":\"v\",\"showlegend\":true,\"textposition\":\"auto\",\"x\":[\"OXY\",\"BKR\",\"XOM\",\"FANG\",\"SLB\",\"COP\",\"MPC\",\"FSLR\",\"VLO\",\"EOG\",\"HAL\",\"DVN\",\"APA\"],\"xaxis\":\"x\",\"y\":[14.835113628926702,14.674502406767374,14.651204869358669,13.678001929298983,12.996281102891727,12.397312714981071,12.351386369525784,11.82486601075505,11.279479815768084,10.356588235294119,9.168082766893242,7.8087634036665525,3.4228744939271256],\"yaxis\":\"y\",\"type\":\"bar\"},{\"alignmentgroup\":\"True\",\"hovertemplate\":\"\\u003cb\\u003e%{hovertext}\\u003c\\u002fb\\u003e\\u003cbr\\u003e\\u003cbr\\u003esector=Communication Services\\u003cbr\\u003esymbol=%{x}\\u003cbr\\u003epeRatioTTM=%{y}\\u003cextra\\u003e\\u003c\\u002fextra\\u003e\",\"hovertext\":[\"Interpublic Group of Companies (The)\",\"Fox Corporation (Class A)\",\"Fox Corporation (Class B)\",\"Omnicom Group\",\"Verizon\",\"Charter Communications\",\"Comcast\"],\"legendgroup\":\"Communication Services\",\"marker\":{\"color\":\"#19d3f3\",\"pattern\":{\"shape\":\"\"}},\"name\":\"Communication Services\",\"offsetgroup\":\"Communication Services\",\"orientation\":\"v\",\"showlegend\":true,\"textposition\":\"auto\",\"x\":[\"IPG\",\"FOXA\",\"FOX\",\"OMC\",\"VZ\",\"CHTR\",\"CMCSA\"],\"xaxis\":\"x\",\"y\":[14.684223350253808,11.799384439359269,11.799384439359269,10.76288801837093,10.401693133782702,10.023268492327366,8.357589699252763],\"yaxis\":\"y\",\"type\":\"bar\"},{\"alignmentgroup\":\"True\",\"hovertemplate\":\"\\u003cb\\u003e%{hovertext}\\u003c\\u002fb\\u003e\\u003cbr\\u003e\\u003cbr\\u003esector=Utilities\\u003cbr\\u003esymbol=%{x}\\u003cbr\\u003epeRatioTTM=%{y}\\u003cextra\\u003e\\u003c\\u002fextra\\u003e\",\"hovertext\":[\"Sempra\",\"PG&E Corporation\",\"Edison International\",\"AES Corporation\"],\"legendgroup\":\"Utilities\",\"marker\":{\"color\":\"#FF6692\",\"pattern\":{\"shape\":\"\"}},\"name\":\"Utilities\",\"offsetgroup\":\"Utilities\",\"orientation\":\"v\",\"showlegend\":true,\"textposition\":\"auto\",\"x\":[\"SRE\",\"PCG\",\"EIX\",\"AES\"],\"xaxis\":\"x\",\"y\":[14.491285467716535,13.607111863057325,13.214384105960264,7.783774869109948],\"yaxis\":\"y\",\"type\":\"bar\"},{\"alignmentgroup\":\"True\",\"hovertemplate\":\"\\u003cb\\u003e%{hovertext}\\u003c\\u002fb\\u003e\\u003cbr\\u003e\\u003cbr\\u003esector=Consumer Cyclical\\u003cbr\\u003esymbol=%{x}\\u003cbr\\u003epeRatioTTM=%{y}\\u003cextra\\u003e\\u003c\\u002fextra\\u003e\",\"hovertext\":[\"Ulta Beauty\",\"Mohawk Industries\",\"MGM Resorts\",\"NVR, Inc.\",\"Norwegian Cruise Line Holdings\",\"General Motors\",\"D. R. Horton\",\"Aptiv\",\"Lennar\",\"PulteGroup\",\"Ford Motor Company\"],\"legendgroup\":\"Consumer Cyclical\",\"marker\":{\"color\":\"#B6E880\",\"pattern\":{\"shape\":\"\"}},\"name\":\"Consumer Cyclical\",\"offsetgroup\":\"Consumer Cyclical\",\"orientation\":\"v\",\"showlegend\":true,\"textposition\":\"auto\",\"x\":[\"ULTA\",\"MHK\",\"MGM\",\"NVR\",\"NCLH\",\"GM\",\"DHI\",\"APTV\",\"LEN\",\"PHM\",\"F\"],\"xaxis\":\"x\",\"y\":[14.277277130501398,14.119080370942815,13.83240041631059,13.287553807297341,11.463022730910062,8.867556591211716,8.753863343360551,8.637705819809737,8.174444654374167,6.8989475567694205,6.294605375063786],\"yaxis\":\"y\",\"type\":\"bar\"},{\"alignmentgroup\":\"True\",\"hovertemplate\":\"\\u003cb\\u003e%{hovertext}\\u003c\\u002fb\\u003e\\u003cbr\\u003e\\u003cbr\\u003esector=Technology\\u003cbr\\u003esymbol=%{x}\\u003cbr\\u003epeRatioTTM=%{y}\\u003cextra\\u003e\\u003c\\u002fextra\\u003e\",\"hovertext\":[\"Leidos\",\"Western Digital\",\"Jabil\",\"ON Semiconductor\",\"Trimble Inc.\",\"HP Inc.\",\"Hewlett Packard Enterprise\"],\"legendgroup\":\"Technology\",\"marker\":{\"color\":\"#FF97FF\",\"pattern\":{\"shape\":\"\"}},\"name\":\"Technology\",\"offsetgroup\":\"Technology\",\"orientation\":\"v\",\"showlegend\":true,\"textposition\":\"auto\",\"x\":[\"LDOS\",\"WDC\",\"JBL\",\"ON\",\"TRMB\",\"HPQ\",\"HPE\"],\"xaxis\":\"x\",\"y\":[13.820757575757577,13.776233974358975,13.512242272024732,12.999613428280773,11.796181965881397,11.540830630630632,10.26123727486296],\"yaxis\":\"y\",\"type\":\"bar\"},{\"alignmentgroup\":\"True\",\"hovertemplate\":\"\\u003cb\\u003e%{hovertext}\\u003c\\u002fb\\u003e\\u003cbr\\u003e\\u003cbr\\u003esector=Consumer Defensive\\u003cbr\\u003esymbol=%{x}\\u003cbr\\u003epeRatioTTM=%{y}\\u003cextra\\u003e\\u003c\\u002fextra\\u003e\",\"hovertext\":[\"Kraft Heinz\",\"Target Corporation\",\"General Mills\",\"Archer Daniels Midland\",\"Dollar General\",\"Molson Coors Beverage Company\",\"Bunge Global\",\"Altria\"],\"legendgroup\":\"Consumer Defensive\",\"marker\":{\"color\":\"#FECB52\",\"pattern\":{\"shape\":\"\"}},\"name\":\"Consumer Defensive\",\"offsetgroup\":\"Consumer Defensive\",\"orientation\":\"v\",\"showlegend\":true,\"textposition\":\"auto\",\"x\":[\"KHC\",\"TGT\",\"GIS\",\"ADM\",\"DG\",\"TAP\",\"BG\",\"MO\"],\"xaxis\":\"x\",\"y\":[13.499133746355685,13.012472311212814,12.812208435771359,12.570384599422221,12.174398416288069,11.254551853171774,8.87168865435356,8.308710550015537],\"yaxis\":\"y\",\"type\":\"bar\"},{\"alignmentgroup\":\"True\",\"hovertemplate\":\"\\u003cb\\u003e%{hovertext}\\u003c\\u002fb\\u003e\\u003cbr\\u003e\\u003cbr\\u003esector=Real Estate\\u003cbr\\u003esymbol=%{x}\\u003cbr\\u003epeRatioTTM=%{y}\\u003cextra\\u003e\\u003c\\u002fextra\\u003e\",\"hovertext\":[\"Vici Properties\"],\"legendgroup\":\"Real Estate\",\"marker\":{\"color\":\"#636efa\",\"pattern\":{\"shape\":\"\"}},\"name\":\"Real Estate\",\"offsetgroup\":\"Real Estate\",\"orientation\":\"v\",\"showlegend\":true,\"textposition\":\"auto\",\"x\":[\"VICI\"],\"xaxis\":\"x\",\"y\":[12.716739067055894],\"yaxis\":\"y\",\"type\":\"bar\"}],                        {\"template\":{\"data\":{\"histogram2dcontour\":[{\"type\":\"histogram2dcontour\",\"colorbar\":{\"outlinewidth\":0,\"ticks\":\"\"},\"colorscale\":[[0.0,\"#0d0887\"],[0.1111111111111111,\"#46039f\"],[0.2222222222222222,\"#7201a8\"],[0.3333333333333333,\"#9c179e\"],[0.4444444444444444,\"#bd3786\"],[0.5555555555555556,\"#d8576b\"],[0.6666666666666666,\"#ed7953\"],[0.7777777777777778,\"#fb9f3a\"],[0.8888888888888888,\"#fdca26\"],[1.0,\"#f0f921\"]]}],\"choropleth\":[{\"type\":\"choropleth\",\"colorbar\":{\"outlinewidth\":0,\"ticks\":\"\"}}],\"histogram2d\":[{\"type\":\"histogram2d\",\"colorbar\":{\"outlinewidth\":0,\"ticks\":\"\"},\"colorscale\":[[0.0,\"#0d0887\"],[0.1111111111111111,\"#46039f\"],[0.2222222222222222,\"#7201a8\"],[0.3333333333333333,\"#9c179e\"],[0.4444444444444444,\"#bd3786\"],[0.5555555555555556,\"#d8576b\"],[0.6666666666666666,\"#ed7953\"],[0.7777777777777778,\"#fb9f3a\"],[0.8888888888888888,\"#fdca26\"],[1.0,\"#f0f921\"]]}],\"heatmap\":[{\"type\":\"heatmap\",\"colorbar\":{\"outlinewidth\":0,\"ticks\":\"\"},\"colorscale\":[[0.0,\"#0d0887\"],[0.1111111111111111,\"#46039f\"],[0.2222222222222222,\"#7201a8\"],[0.3333333333333333,\"#9c179e\"],[0.4444444444444444,\"#bd3786\"],[0.5555555555555556,\"#d8576b\"],[0.6666666666666666,\"#ed7953\"],[0.7777777777777778,\"#fb9f3a\"],[0.8888888888888888,\"#fdca26\"],[1.0,\"#f0f921\"]]}],\"heatmapgl\":[{\"type\":\"heatmapgl\",\"colorbar\":{\"outlinewidth\":0,\"ticks\":\"\"},\"colorscale\":[[0.0,\"#0d0887\"],[0.1111111111111111,\"#46039f\"],[0.2222222222222222,\"#7201a8\"],[0.3333333333333333,\"#9c179e\"],[0.4444444444444444,\"#bd3786\"],[0.5555555555555556,\"#d8576b\"],[0.6666666666666666,\"#ed7953\"],[0.7777777777777778,\"#fb9f3a\"],[0.8888888888888888,\"#fdca26\"],[1.0,\"#f0f921\"]]}],\"contourcarpet\":[{\"type\":\"contourcarpet\",\"colorbar\":{\"outlinewidth\":0,\"ticks\":\"\"}}],\"contour\":[{\"type\":\"contour\",\"colorbar\":{\"outlinewidth\":0,\"ticks\":\"\"},\"colorscale\":[[0.0,\"#0d0887\"],[0.1111111111111111,\"#46039f\"],[0.2222222222222222,\"#7201a8\"],[0.3333333333333333,\"#9c179e\"],[0.4444444444444444,\"#bd3786\"],[0.5555555555555556,\"#d8576b\"],[0.6666666666666666,\"#ed7953\"],[0.7777777777777778,\"#fb9f3a\"],[0.8888888888888888,\"#fdca26\"],[1.0,\"#f0f921\"]]}],\"surface\":[{\"type\":\"surface\",\"colorbar\":{\"outlinewidth\":0,\"ticks\":\"\"},\"colorscale\":[[0.0,\"#0d0887\"],[0.1111111111111111,\"#46039f\"],[0.2222222222222222,\"#7201a8\"],[0.3333333333333333,\"#9c179e\"],[0.4444444444444444,\"#bd3786\"],[0.5555555555555556,\"#d8576b\"],[0.6666666666666666,\"#ed7953\"],[0.7777777777777778,\"#fb9f3a\"],[0.8888888888888888,\"#fdca26\"],[1.0,\"#f0f921\"]]}],\"mesh3d\":[{\"type\":\"mesh3d\",\"colorbar\":{\"outlinewidth\":0,\"ticks\":\"\"}}],\"scatter\":[{\"marker\":{\"line\":{\"color\":\"#283442\"}},\"type\":\"scatter\"}],\"parcoords\":[{\"type\":\"parcoords\",\"line\":{\"colorbar\":{\"outlinewidth\":0,\"ticks\":\"\"}}}],\"scatterpolargl\":[{\"type\":\"scatterpolargl\",\"marker\":{\"colorbar\":{\"outlinewidth\":0,\"ticks\":\"\"}}}],\"bar\":[{\"error_x\":{\"color\":\"#f2f5fa\"},\"error_y\":{\"color\":\"#f2f5fa\"},\"marker\":{\"line\":{\"color\":\"rgb(17,17,17)\",\"width\":0.5},\"pattern\":{\"fillmode\":\"overlay\",\"size\":10,\"solidity\":0.2}},\"type\":\"bar\"}],\"scattergeo\":[{\"type\":\"scattergeo\",\"marker\":{\"colorbar\":{\"outlinewidth\":0,\"ticks\":\"\"}}}],\"scatterpolar\":[{\"type\":\"scatterpolar\",\"marker\":{\"colorbar\":{\"outlinewidth\":0,\"ticks\":\"\"}}}],\"histogram\":[{\"marker\":{\"pattern\":{\"fillmode\":\"overlay\",\"size\":10,\"solidity\":0.2}},\"type\":\"histogram\"}],\"scattergl\":[{\"marker\":{\"line\":{\"color\":\"#283442\"}},\"type\":\"scattergl\"}],\"scatter3d\":[{\"type\":\"scatter3d\",\"line\":{\"colorbar\":{\"outlinewidth\":0,\"ticks\":\"\"}},\"marker\":{\"colorbar\":{\"outlinewidth\":0,\"ticks\":\"\"}}}],\"scattermapbox\":[{\"type\":\"scattermapbox\",\"marker\":{\"colorbar\":{\"outlinewidth\":0,\"ticks\":\"\"}}}],\"scatterternary\":[{\"type\":\"scatterternary\",\"marker\":{\"colorbar\":{\"outlinewidth\":0,\"ticks\":\"\"}}}],\"scattercarpet\":[{\"type\":\"scattercarpet\",\"marker\":{\"colorbar\":{\"outlinewidth\":0,\"ticks\":\"\"}}}],\"carpet\":[{\"aaxis\":{\"endlinecolor\":\"#A2B1C6\",\"gridcolor\":\"#506784\",\"linecolor\":\"#506784\",\"minorgridcolor\":\"#506784\",\"startlinecolor\":\"#A2B1C6\"},\"baxis\":{\"endlinecolor\":\"#A2B1C6\",\"gridcolor\":\"#506784\",\"linecolor\":\"#506784\",\"minorgridcolor\":\"#506784\",\"startlinecolor\":\"#A2B1C6\"},\"type\":\"carpet\"}],\"table\":[{\"cells\":{\"fill\":{\"color\":\"#506784\"},\"line\":{\"color\":\"rgb(17,17,17)\"}},\"header\":{\"fill\":{\"color\":\"#2a3f5f\"},\"line\":{\"color\":\"rgb(17,17,17)\"}},\"type\":\"table\"}],\"barpolar\":[{\"marker\":{\"line\":{\"color\":\"rgb(17,17,17)\",\"width\":0.5},\"pattern\":{\"fillmode\":\"overlay\",\"size\":10,\"solidity\":0.2}},\"type\":\"barpolar\"}],\"pie\":[{\"automargin\":true,\"type\":\"pie\"}]},\"layout\":{\"autotypenumbers\":\"strict\",\"colorway\":[\"#636efa\",\"#EF553B\",\"#00cc96\",\"#ab63fa\",\"#FFA15A\",\"#19d3f3\",\"#FF6692\",\"#B6E880\",\"#FF97FF\",\"#FECB52\"],\"font\":{\"color\":\"#f2f5fa\"},\"hovermode\":\"closest\",\"hoverlabel\":{\"align\":\"left\"},\"paper_bgcolor\":\"rgb(17,17,17)\",\"plot_bgcolor\":\"rgb(17,17,17)\",\"polar\":{\"bgcolor\":\"rgb(17,17,17)\",\"angularaxis\":{\"gridcolor\":\"#506784\",\"linecolor\":\"#506784\",\"ticks\":\"\"},\"radialaxis\":{\"gridcolor\":\"#506784\",\"linecolor\":\"#506784\",\"ticks\":\"\"}},\"ternary\":{\"bgcolor\":\"rgb(17,17,17)\",\"aaxis\":{\"gridcolor\":\"#506784\",\"linecolor\":\"#506784\",\"ticks\":\"\"},\"baxis\":{\"gridcolor\":\"#506784\",\"linecolor\":\"#506784\",\"ticks\":\"\"},\"caxis\":{\"gridcolor\":\"#506784\",\"linecolor\":\"#506784\",\"ticks\":\"\"}},\"coloraxis\":{\"colorbar\":{\"outlinewidth\":0,\"ticks\":\"\"}},\"colorscale\":{\"sequential\":[[0.0,\"#0d0887\"],[0.1111111111111111,\"#46039f\"],[0.2222222222222222,\"#7201a8\"],[0.3333333333333333,\"#9c179e\"],[0.4444444444444444,\"#bd3786\"],[0.5555555555555556,\"#d8576b\"],[0.6666666666666666,\"#ed7953\"],[0.7777777777777778,\"#fb9f3a\"],[0.8888888888888888,\"#fdca26\"],[1.0,\"#f0f921\"]],\"sequentialminus\":[[0.0,\"#0d0887\"],[0.1111111111111111,\"#46039f\"],[0.2222222222222222,\"#7201a8\"],[0.3333333333333333,\"#9c179e\"],[0.4444444444444444,\"#bd3786\"],[0.5555555555555556,\"#d8576b\"],[0.6666666666666666,\"#ed7953\"],[0.7777777777777778,\"#fb9f3a\"],[0.8888888888888888,\"#fdca26\"],[1.0,\"#f0f921\"]],\"diverging\":[[0,\"#8e0152\"],[0.1,\"#c51b7d\"],[0.2,\"#de77ae\"],[0.3,\"#f1b6da\"],[0.4,\"#fde0ef\"],[0.5,\"#f7f7f7\"],[0.6,\"#e6f5d0\"],[0.7,\"#b8e186\"],[0.8,\"#7fbc41\"],[0.9,\"#4d9221\"],[1,\"#276419\"]]},\"xaxis\":{\"gridcolor\":\"#283442\",\"linecolor\":\"#506784\",\"ticks\":\"\",\"title\":{\"standoff\":15},\"zerolinecolor\":\"#283442\",\"automargin\":true,\"zerolinewidth\":2},\"yaxis\":{\"gridcolor\":\"#283442\",\"linecolor\":\"#506784\",\"ticks\":\"\",\"title\":{\"standoff\":15},\"zerolinecolor\":\"#283442\",\"automargin\":true,\"zerolinewidth\":2},\"scene\":{\"xaxis\":{\"backgroundcolor\":\"rgb(17,17,17)\",\"gridcolor\":\"#506784\",\"linecolor\":\"#506784\",\"showbackground\":true,\"ticks\":\"\",\"zerolinecolor\":\"#C8D4E3\",\"gridwidth\":2},\"yaxis\":{\"backgroundcolor\":\"rgb(17,17,17)\",\"gridcolor\":\"#506784\",\"linecolor\":\"#506784\",\"showbackground\":true,\"ticks\":\"\",\"zerolinecolor\":\"#C8D4E3\",\"gridwidth\":2},\"zaxis\":{\"backgroundcolor\":\"rgb(17,17,17)\",\"gridcolor\":\"#506784\",\"linecolor\":\"#506784\",\"showbackground\":true,\"ticks\":\"\",\"zerolinecolor\":\"#C8D4E3\",\"gridwidth\":2}},\"shapedefaults\":{\"line\":{\"color\":\"#f2f5fa\"}},\"annotationdefaults\":{\"arrowcolor\":\"#f2f5fa\",\"arrowhead\":0,\"arrowwidth\":1},\"geo\":{\"bgcolor\":\"rgb(17,17,17)\",\"landcolor\":\"rgb(17,17,17)\",\"subunitcolor\":\"#506784\",\"showland\":true,\"showlakes\":true,\"lakecolor\":\"rgb(17,17,17)\"},\"title\":{\"x\":0.05},\"updatemenudefaults\":{\"bgcolor\":\"#506784\",\"borderwidth\":0},\"sliderdefaults\":{\"bgcolor\":\"#C8D4E3\",\"borderwidth\":1,\"bordercolor\":\"rgb(17,17,17)\",\"tickwidth\":0},\"mapbox\":{\"style\":\"dark\"}}},\"xaxis\":{\"anchor\":\"y\",\"domain\":[0.0,1.0],\"title\":{\"text\":\"symbol\"}},\"yaxis\":{\"anchor\":\"x\",\"domain\":[0.0,1.0],\"title\":{\"text\":\"peRatioTTM\"}},\"legend\":{\"title\":{\"text\":\"sector\"},\"tracegroupgap\":0},\"margin\":{\"t\":60},\"barmode\":\"relative\"},                        {\"responsive\": true}                    ).then(function(){\n",
       "                            \n",
       "var gd = document.getElementById('a4b4c235-02d1-4170-b903-6251fcb90f1b');\n",
       "var x = new MutationObserver(function (mutations, observer) {{\n",
       "        var display = window.getComputedStyle(gd).display;\n",
       "        if (!display || display === 'none') {{\n",
       "            console.log([gd, 'removed!']);\n",
       "            Plotly.purge(gd);\n",
       "            observer.disconnect();\n",
       "        }}\n",
       "}});\n",
       "\n",
       "// Listen for the removal of the full notebook cells\n",
       "var notebookContainer = gd.closest('#notebook-container');\n",
       "if (notebookContainer) {{\n",
       "    x.observe(notebookContainer, {childList: true});\n",
       "}}\n",
       "\n",
       "// Listen for the clearing of the current output cell\n",
       "var outputEl = gd.closest('.output');\n",
       "if (outputEl) {{\n",
       "    x.observe(outputEl, {childList: true});\n",
       "}}\n",
       "\n",
       "                        })                };                });            </script>        </div>"
      ]
     },
     "metadata": {},
     "output_type": "display_data"
    }
   ],
   "source": [
    "fig = px.bar(\n",
    "    ratios_ttm_df_sixth_criteria,\n",
    "    x=\"symbol\",\n",
    "    y=\"peRatioTTM\",\n",
    "    color=\"sector\",\n",
    "    hover_name=\"name\",\n",
    ")\n",
    "fig.show()"
   ]
  },
  {
   "cell_type": "code",
   "execution_count": null,
   "id": "5a544df4ba7b8fc3",
   "metadata": {
    "ExecuteTime": {
     "end_time": "2025-02-27T20:39:42.080461Z",
     "start_time": "2025-02-27T20:39:42.075665Z"
    }
   },
   "outputs": [],
   "source": [
    "plotly.io.write_json(fig, \"data/pe_ratio.json\")"
   ]
  },
  {
   "cell_type": "markdown",
   "id": "f6c61c6f11f896c7",
   "metadata": {},
   "source": [
    "#### 7. Moderate price to assets ratio\n",
    "- Price should not be more than 1.5 times the book value last reported.\n",
    "- This ratio is calculated by dividing the company's current stock price per share by its book value per share (BVPS)."
   ]
  },
  {
   "cell_type": "code",
   "execution_count": null,
   "id": "f70512be67458ec1",
   "metadata": {
    "ExecuteTime": {
     "end_time": "2025-02-27T21:21:48.337362Z",
     "start_time": "2025-02-27T21:21:48.334551Z"
    }
   },
   "outputs": [],
   "source": [
    "# TODO: P/E * P/B < 22.5 (same usage as P/B <= 1.5)"
   ]
  },
  {
   "cell_type": "code",
   "execution_count": 43,
   "id": "c33afbb0643e7852",
   "metadata": {
    "ExecuteTime": {
     "end_time": "2025-02-27T20:40:11.044996Z",
     "start_time": "2025-02-27T20:40:11.036334Z"
    }
   },
   "outputs": [
    {
     "data": {
      "application/vnd.microsoft.datawrangler.viewer.v0+json": {
       "columns": [
        {
         "name": "index",
         "rawType": "int64",
         "type": "integer"
        },
        {
         "name": "symbol",
         "rawType": "object",
         "type": "string"
        },
        {
         "name": "priceToBookRatio",
         "rawType": "float64",
         "type": "float"
        }
       ],
       "conversionMethod": "pd.DataFrame",
       "ref": "cecd4be6-acc7-47bb-a267-8d43775bb1ae",
       "rows": [
        [
         "1",
         "EXE",
         "0.8897383973811557"
        ],
        [
         "8",
         "DELL",
         "-49.493117408906876"
        ],
        [
         "31",
         "FICO",
         "-49.81753992763944"
        ],
        [
         "32",
         "BG",
         "1.0952692027680824"
        ],
        [
         "40",
         "PCG",
         "1.4330617930942982"
        ],
        [
         "45",
         "VICI",
         "1.1521333077763527"
        ],
        [
         "46",
         "WBD",
         "0.7608337985133825"
        ],
        [
         "55",
         "MTCH",
         "-140.22919691009912"
        ],
        [
         "57",
         "MRNA",
         "1.464702320887992"
        ],
        [
         "72",
         "DPZ",
         "-3.687494041785422"
        ],
        [
         "75",
         "OTIS",
         "-7.673563737623762"
        ],
        [
         "94",
         "DD",
         "1.3689079229122054"
        ],
        [
         "100",
         "FANG",
         "0.9271008413716345"
        ],
        [
         "110",
         "EVRG",
         "1.4452746793368543"
        ],
        [
         "111",
         "MSCI",
         "-50.24142321730814"
        ],
        [
         "116",
         "SBAC",
         "-4.293172872156179"
        ],
        [
         "125",
         "EG",
         "1.1267603804251944"
        ],
        [
         "126",
         "HLT",
         "-16.44638583310974"
        ],
        [
         "129",
         "ARE",
         "0.7500741470972414"
        ],
        [
         "142",
         "MTD",
         "-204.6555279968477"
        ],
        [
         "143",
         "ALB",
         "1.0154856213165124"
        ],
        [
         "146",
         "TDG",
         "-13.114167567567568"
        ],
        [
         "150",
         "GPN",
         "1.2789484785163256"
        ],
        [
         "152",
         "CNC",
         "1.196896561908368"
        ],
        [
         "157",
         "CFG",
         "0.8131306565053187"
        ],
        [
         "162",
         "HPE",
         "1.0280629432624113"
        ],
        [
         "167",
         "KHC",
         "0.7547585646030294"
        ],
        [
         "169",
         "O",
         "1.1972537094943974"
        ],
        [
         "173",
         "HCA",
         "-31.023057733812948"
        ],
        [
         "189",
         "STT",
         "1.1544348278449026"
        ],
        [
         "216",
         "DVN",
         "1.4269701986754966"
        ],
        [
         "217",
         "SBUX",
         "-14.884799323325591"
        ],
        [
         "220",
         "USB",
         "1.2737683089214382"
        ],
        [
         "222",
         "PNW",
         "1.428824556642417"
        ],
        [
         "228",
         "MCK",
         "-36.25594493328767"
        ],
        [
         "234",
         "RF",
         "1.2050069914424744"
        ],
        [
         "235",
         "COF",
         "1.1227142669123453"
        ],
        [
         "237",
         "MAR",
         "-48.33826097560976"
        ],
        [
         "238",
         "BEN",
         "0.8207821331777008"
        ],
        [
         "242",
         "TFC",
         "0.9067754528180405"
        ],
        [
         "244",
         "YUM",
         "-4.946799163179916"
        ],
        [
         "246",
         "HBAN",
         "1.1962826580547112"
        ],
        [
         "251",
         "CAH",
         "-7.45446623093682"
        ],
        [
         "253",
         "AZO",
         "-11.594255305799587"
        ],
        [
         "255",
         "FITB",
         "1.468147948373632"
        ],
        [
         "258",
         "L",
         "0.9761286970172685"
        ],
        [
         "259",
         "BK",
         "1.3808276305726317"
        ],
        [
         "263",
         "PARA",
         "0.425578431372549"
        ],
        [
         "268",
         "KEY",
         "0.895437694762324"
        ],
        [
         "283",
         "C",
         "0.6416147134680102"
        ]
       ],
       "shape": {
        "columns": 2,
        "rows": 87
       }
      },
      "text/html": [
       "<div>\n",
       "<style scoped>\n",
       "    .dataframe tbody tr th:only-of-type {\n",
       "        vertical-align: middle;\n",
       "    }\n",
       "\n",
       "    .dataframe tbody tr th {\n",
       "        vertical-align: top;\n",
       "    }\n",
       "\n",
       "    .dataframe thead th {\n",
       "        text-align: right;\n",
       "    }\n",
       "</style>\n",
       "<table border=\"1\" class=\"dataframe\">\n",
       "  <thead>\n",
       "    <tr style=\"text-align: right;\">\n",
       "      <th></th>\n",
       "      <th>symbol</th>\n",
       "      <th>priceToBookRatio</th>\n",
       "    </tr>\n",
       "  </thead>\n",
       "  <tbody>\n",
       "    <tr>\n",
       "      <th>1</th>\n",
       "      <td>EXE</td>\n",
       "      <td>0.889738</td>\n",
       "    </tr>\n",
       "    <tr>\n",
       "      <th>8</th>\n",
       "      <td>DELL</td>\n",
       "      <td>-49.493117</td>\n",
       "    </tr>\n",
       "    <tr>\n",
       "      <th>31</th>\n",
       "      <td>FICO</td>\n",
       "      <td>-49.817540</td>\n",
       "    </tr>\n",
       "    <tr>\n",
       "      <th>32</th>\n",
       "      <td>BG</td>\n",
       "      <td>1.095269</td>\n",
       "    </tr>\n",
       "    <tr>\n",
       "      <th>40</th>\n",
       "      <td>PCG</td>\n",
       "      <td>1.433062</td>\n",
       "    </tr>\n",
       "    <tr>\n",
       "      <th>...</th>\n",
       "      <td>...</td>\n",
       "      <td>...</td>\n",
       "    </tr>\n",
       "    <tr>\n",
       "      <th>460</th>\n",
       "      <td>CTRA</td>\n",
       "      <td>1.444191</td>\n",
       "    </tr>\n",
       "    <tr>\n",
       "      <th>463</th>\n",
       "      <td>PM</td>\n",
       "      <td>-15.916928</td>\n",
       "    </tr>\n",
       "    <tr>\n",
       "      <th>482</th>\n",
       "      <td>KIM</td>\n",
       "      <td>1.477081</td>\n",
       "    </tr>\n",
       "    <tr>\n",
       "      <th>483</th>\n",
       "      <td>BXP</td>\n",
       "      <td>1.473305</td>\n",
       "    </tr>\n",
       "    <tr>\n",
       "      <th>485</th>\n",
       "      <td>VRSN</td>\n",
       "      <td>-18.616153</td>\n",
       "    </tr>\n",
       "  </tbody>\n",
       "</table>\n",
       "<p>87 rows × 2 columns</p>\n",
       "</div>"
      ],
      "text/plain": [
       "    symbol  priceToBookRatio\n",
       "1      EXE          0.889738\n",
       "8     DELL        -49.493117\n",
       "31    FICO        -49.817540\n",
       "32      BG          1.095269\n",
       "40     PCG          1.433062\n",
       "..     ...               ...\n",
       "460   CTRA          1.444191\n",
       "463     PM        -15.916928\n",
       "482    KIM          1.477081\n",
       "483    BXP          1.473305\n",
       "485   VRSN        -18.616153\n",
       "\n",
       "[87 rows x 2 columns]"
      ]
     },
     "execution_count": 43,
     "metadata": {},
     "output_type": "execute_result"
    }
   ],
   "source": [
    "ratios_df[ratios_df[\"priceToBookRatio\"] <= 1.5][[\"symbol\", \"priceToBookRatio\"]]"
   ]
  },
  {
   "cell_type": "code",
   "execution_count": 44,
   "id": "6abf21ed0ad64034",
   "metadata": {
    "ExecuteTime": {
     "end_time": "2025-02-27T20:40:12.939555Z",
     "start_time": "2025-02-27T20:40:12.895446Z"
    }
   },
   "outputs": [
    {
     "name": "stdout",
     "output_type": "stream",
     "text": [
      "87\n"
     ]
    },
    {
     "name": "stderr",
     "output_type": "stream",
     "text": [
      "/var/folders/nf/dwbr_1dd3wj7vbhhprmj9sfr0000gn/T/ipykernel_47029/3522169841.py:3: SettingWithCopyWarning:\n",
      "\n",
      "\n",
      "A value is trying to be set on a copy of a slice from a DataFrame.\n",
      "Try using .loc[row_indexer,col_indexer] = value instead\n",
      "\n",
      "See the caveats in the documentation: https://pandas.pydata.org/pandas-docs/stable/user_guide/indexing.html#returning-a-view-versus-a-copy\n",
      "\n"
     ]
    }
   ],
   "source": [
    "seventh_criteria = ratios_df[ratios_df[\"priceToBookRatio\"] <= 1.5][\"symbol\"].unique()\n",
    "seventh_criteria_df = ratios_df[ratios_df[\"symbol\"].isin(seventh_criteria)]\n",
    "seventh_criteria_df[\"sector\"] = seventh_criteria_df.apply(\n",
    "    lambda x: snp_data[snp_data[\"symbol\"] == x[\"symbol\"]][\"sector\"].values[0], axis=1\n",
    ")\n",
    "seventh_criteria_df = seventh_criteria_df[seventh_criteria_df[\"priceToBookRatio\"] > 0]\n",
    "print(len(seventh_criteria))"
   ]
  },
  {
   "cell_type": "code",
   "execution_count": 45,
   "id": "3cd5f92c329c3204",
   "metadata": {
    "ExecuteTime": {
     "end_time": "2025-02-27T20:40:14.240992Z",
     "start_time": "2025-02-27T20:40:14.168924Z"
    }
   },
   "outputs": [
    {
     "data": {
      "application/vnd.plotly.v1+json": {
       "config": {
        "plotlyServerURL": "https://plot.ly"
       },
       "data": [
        {
         "alignmentgroup": "True",
         "hovertemplate": "<b>%{hovertext}</b><br><br>sector=Energy<br>symbol=%{x}<br>priceToBookRatio=%{y}<extra></extra>",
         "hovertext": [
          "Expand Energy",
          "Diamondback Energy",
          "Devon Energy",
          "Occidental Petroleum",
          "Coterra"
         ],
         "legendgroup": "Energy",
         "marker": {
          "color": "#636efa",
          "pattern": {
           "shape": ""
          }
         },
         "name": "Energy",
         "offsetgroup": "Energy",
         "orientation": "v",
         "showlegend": true,
         "textposition": "auto",
         "type": "bar",
         "x": [
          "EXE",
          "FANG",
          "DVN",
          "OXY",
          "CTRA"
         ],
         "xaxis": "x",
         "y": [
          0.8897383973811557,
          0.9271008413716345,
          1.4269701986754966,
          1.3416017740566173,
          1.4441914342325863
         ],
         "yaxis": "y"
        },
        {
         "alignmentgroup": "True",
         "hovertemplate": "<b>%{hovertext}</b><br><br>sector=Consumer Defensive<br>symbol=%{x}<br>priceToBookRatio=%{y}<extra></extra>",
         "hovertext": [
          "Bunge Global",
          "Kraft Heinz",
          "Molson Coors Beverage Company",
          "Archer Daniels Midland"
         ],
         "legendgroup": "Consumer Defensive",
         "marker": {
          "color": "#EF553B",
          "pattern": {
           "shape": ""
          }
         },
         "name": "Consumer Defensive",
         "offsetgroup": "Consumer Defensive",
         "orientation": "v",
         "showlegend": true,
         "textposition": "auto",
         "type": "bar",
         "x": [
          "BG",
          "KHC",
          "TAP",
          "ADM"
         ],
         "xaxis": "x",
         "y": [
          1.0952692027680824,
          0.7547585646030294,
          0.9141498884849225,
          1.08934319740166
         ],
         "yaxis": "y"
        },
        {
         "alignmentgroup": "True",
         "hovertemplate": "<b>%{hovertext}</b><br><br>sector=Utilities<br>symbol=%{x}<br>priceToBookRatio=%{y}<extra></extra>",
         "hovertext": [
          "PG&E Corporation",
          "Evergy",
          "Pinnacle West",
          "Consolidated Edison",
          "Exelon",
          "Eversource Energy"
         ],
         "legendgroup": "Utilities",
         "marker": {
          "color": "#00cc96",
          "pattern": {
           "shape": ""
          }
         },
         "name": "Utilities",
         "offsetgroup": "Utilities",
         "orientation": "v",
         "showlegend": true,
         "textposition": "auto",
         "type": "bar",
         "x": [
          "PCG",
          "EVRG",
          "PNW",
          "ED",
          "EXC",
          "ES"
         ],
         "xaxis": "x",
         "y": [
          1.4330617930942982,
          1.4452746793368543,
          1.428824556642417,
          1.4058367105323073,
          1.4023594963040005,
          1.3650986359982624
         ],
         "yaxis": "y"
        },
        {
         "alignmentgroup": "True",
         "hovertemplate": "<b>%{hovertext}</b><br><br>sector=Real Estate<br>symbol=%{x}<br>priceToBookRatio=%{y}<extra></extra>",
         "hovertext": [
          "Vici Properties",
          "Alexandria Real Estate Equities",
          "Realty Income",
          "Kimco Realty",
          "BXP, Inc."
         ],
         "legendgroup": "Real Estate",
         "marker": {
          "color": "#ab63fa",
          "pattern": {
           "shape": ""
          }
         },
         "name": "Real Estate",
         "offsetgroup": "Real Estate",
         "orientation": "v",
         "showlegend": true,
         "textposition": "auto",
         "type": "bar",
         "x": [
          "VICI",
          "ARE",
          "O",
          "KIM",
          "BXP"
         ],
         "xaxis": "x",
         "y": [
          1.1521333077763527,
          0.7500741470972414,
          1.1972537094943974,
          1.4770809488097072,
          1.4733048939209246
         ],
         "yaxis": "y"
        },
        {
         "alignmentgroup": "True",
         "hovertemplate": "<b>%{hovertext}</b><br><br>sector=Communication Services<br>symbol=%{x}<br>priceToBookRatio=%{y}<extra></extra>",
         "hovertext": [
          "Warner Bros. Discovery",
          "Paramount Global",
          "AT&T"
         ],
         "legendgroup": "Communication Services",
         "marker": {
          "color": "#FFA15A",
          "pattern": {
           "shape": ""
          }
         },
         "name": "Communication Services",
         "offsetgroup": "Communication Services",
         "orientation": "v",
         "showlegend": true,
         "textposition": "auto",
         "type": "bar",
         "x": [
          "WBD",
          "PARA",
          "T"
         ],
         "xaxis": "x",
         "y": [
          0.7608337985133825,
          0.425578431372549,
          1.3862846631992896
         ],
         "yaxis": "y"
        },
        {
         "alignmentgroup": "True",
         "hovertemplate": "<b>%{hovertext}</b><br><br>sector=Healthcare<br>symbol=%{x}<br>priceToBookRatio=%{y}<extra></extra>",
         "hovertext": [
          "Moderna",
          "Centene Corporation",
          "Walgreens Boots Alliance",
          "CVS Health"
         ],
         "legendgroup": "Healthcare",
         "marker": {
          "color": "#19d3f3",
          "pattern": {
           "shape": ""
          }
         },
         "name": "Healthcare",
         "offsetgroup": "Healthcare",
         "orientation": "v",
         "showlegend": true,
         "textposition": "auto",
         "type": "bar",
         "x": [
          "MRNA",
          "CNC",
          "WBA",
          "CVS"
         ],
         "xaxis": "x",
         "y": [
          1.464702320887992,
          1.196896561908368,
          0.7643537577788415,
          0.7479686341979884
         ],
         "yaxis": "y"
        },
        {
         "alignmentgroup": "True",
         "hovertemplate": "<b>%{hovertext}</b><br><br>sector=Basic Materials<br>symbol=%{x}<br>priceToBookRatio=%{y}<extra></extra>",
         "hovertext": [
          "DuPont",
          "Albemarle Corporation",
          "Nucor",
          "Newmont",
          "Mosaic Company (The)"
         ],
         "legendgroup": "Basic Materials",
         "marker": {
          "color": "#FF6692",
          "pattern": {
           "shape": ""
          }
         },
         "name": "Basic Materials",
         "offsetgroup": "Basic Materials",
         "orientation": "v",
         "showlegend": true,
         "textposition": "auto",
         "type": "bar",
         "x": [
          "DD",
          "ALB",
          "NUE",
          "NEM",
          "MOS"
         ],
         "xaxis": "x",
         "y": [
          1.3689079229122054,
          1.0154856213165124,
          1.3704539765447914,
          1.4166568135773356,
          0.6845854525186372
         ],
         "yaxis": "y"
        },
        {
         "alignmentgroup": "True",
         "hovertemplate": "<b>%{hovertext}</b><br><br>sector=Financial Services<br>symbol=%{x}<br>priceToBookRatio=%{y}<extra></extra>",
         "hovertext": [
          "Everest Group",
          "Citizens Financial Group",
          "State Street Corporation",
          "U.S. Bancorp",
          "Regions Financial Corporation",
          "Capital One",
          "Franklin Resources",
          "Truist Financial",
          "Huntington Bancshares",
          "Fifth Third Bancorp",
          "Loews Corporation",
          "BNY Mellon",
          "KeyCorp",
          "Citigroup",
          "PNC Financial Services",
          "American International Group",
          "Bank of America",
          "Wells Fargo",
          "Invesco"
         ],
         "legendgroup": "Financial Services",
         "marker": {
          "color": "#B6E880",
          "pattern": {
           "shape": ""
          }
         },
         "name": "Financial Services",
         "offsetgroup": "Financial Services",
         "orientation": "v",
         "showlegend": true,
         "textposition": "auto",
         "type": "bar",
         "x": [
          "EG",
          "CFG",
          "STT",
          "USB",
          "RF",
          "COF",
          "BEN",
          "TFC",
          "HBAN",
          "FITB",
          "L",
          "BK",
          "KEY",
          "C",
          "PNC",
          "AIG",
          "BAC",
          "WFC",
          "IVZ"
         ],
         "xaxis": "x",
         "y": [
          1.1267603804251944,
          0.8131306565053187,
          1.1544348278449026,
          1.2737683089214382,
          1.2050069914424744,
          1.1227142669123453,
          0.8207821331777008,
          0.9067754528180405,
          1.1962826580547112,
          1.468147948373632,
          0.9761286970172685,
          1.3808276305726317,
          0.895437694762324,
          0.6416147134680102,
          1.4138199356913181,
          1.2305295809976247,
          1.1507099428540495,
          1.4401810463796338,
          0.5486548671350765
         ],
         "yaxis": "y"
        },
        {
         "alignmentgroup": "True",
         "hovertemplate": "<b>%{hovertext}</b><br><br>sector=Industrials<br>symbol=%{x}<br>priceToBookRatio=%{y}<extra></extra>",
         "hovertext": [
          "Global Payments",
          "Stanley Black & Decker"
         ],
         "legendgroup": "Industrials",
         "marker": {
          "color": "#FF97FF",
          "pattern": {
           "shape": ""
          }
         },
         "name": "Industrials",
         "offsetgroup": "Industrials",
         "orientation": "v",
         "showlegend": true,
         "textposition": "auto",
         "type": "bar",
         "x": [
          "GPN",
          "SWK"
         ],
         "xaxis": "x",
         "y": [
          1.2789484785163256,
          1.3914994896730466
         ],
         "yaxis": "y"
        },
        {
         "alignmentgroup": "True",
         "hovertemplate": "<b>%{hovertext}</b><br><br>sector=Technology<br>symbol=%{x}<br>priceToBookRatio=%{y}<extra></extra>",
         "hovertext": [
          "Hewlett Packard Enterprise",
          "Intel"
         ],
         "legendgroup": "Technology",
         "marker": {
          "color": "#FECB52",
          "pattern": {
           "shape": ""
          }
         },
         "name": "Technology",
         "offsetgroup": "Technology",
         "orientation": "v",
         "showlegend": true,
         "textposition": "auto",
         "type": "bar",
         "x": [
          "HPE",
          "INTC"
         ],
         "xaxis": "x",
         "y": [
          1.0280629432624113,
          0.8752291729626273
         ],
         "yaxis": "y"
        },
        {
         "alignmentgroup": "True",
         "hovertemplate": "<b>%{hovertext}</b><br><br>sector=Consumer Cyclical<br>symbol=%{x}<br>priceToBookRatio=%{y}<extra></extra>",
         "hovertext": [
          "Ford Motor Company",
          "General Motors"
         ],
         "legendgroup": "Consumer Cyclical",
         "marker": {
          "color": "#636efa",
          "pattern": {
           "shape": ""
          }
         },
         "name": "Consumer Cyclical",
         "offsetgroup": "Consumer Cyclical",
         "orientation": "v",
         "showlegend": true,
         "textposition": "auto",
         "type": "bar",
         "x": [
          "F",
          "GM"
         ],
         "xaxis": "x",
         "y": [
          0.8783807293409167,
          0.9417181950786403
         ],
         "yaxis": "y"
        }
       ],
       "layout": {
        "barmode": "relative",
        "legend": {
         "title": {
          "text": "sector"
         },
         "tracegroupgap": 0
        },
        "margin": {
         "t": 60
        },
        "template": {
         "data": {
          "bar": [
           {
            "error_x": {
             "color": "#2a3f5f"
            },
            "error_y": {
             "color": "#2a3f5f"
            },
            "marker": {
             "line": {
              "color": "#E5ECF6",
              "width": 0.5
             },
             "pattern": {
              "fillmode": "overlay",
              "size": 10,
              "solidity": 0.2
             }
            },
            "type": "bar"
           }
          ],
          "barpolar": [
           {
            "marker": {
             "line": {
              "color": "#E5ECF6",
              "width": 0.5
             },
             "pattern": {
              "fillmode": "overlay",
              "size": 10,
              "solidity": 0.2
             }
            },
            "type": "barpolar"
           }
          ],
          "carpet": [
           {
            "aaxis": {
             "endlinecolor": "#2a3f5f",
             "gridcolor": "white",
             "linecolor": "white",
             "minorgridcolor": "white",
             "startlinecolor": "#2a3f5f"
            },
            "baxis": {
             "endlinecolor": "#2a3f5f",
             "gridcolor": "white",
             "linecolor": "white",
             "minorgridcolor": "white",
             "startlinecolor": "#2a3f5f"
            },
            "type": "carpet"
           }
          ],
          "choropleth": [
           {
            "colorbar": {
             "outlinewidth": 0,
             "ticks": ""
            },
            "type": "choropleth"
           }
          ],
          "contour": [
           {
            "colorbar": {
             "outlinewidth": 0,
             "ticks": ""
            },
            "colorscale": [
             [
              0,
              "#0d0887"
             ],
             [
              0.1111111111111111,
              "#46039f"
             ],
             [
              0.2222222222222222,
              "#7201a8"
             ],
             [
              0.3333333333333333,
              "#9c179e"
             ],
             [
              0.4444444444444444,
              "#bd3786"
             ],
             [
              0.5555555555555556,
              "#d8576b"
             ],
             [
              0.6666666666666666,
              "#ed7953"
             ],
             [
              0.7777777777777778,
              "#fb9f3a"
             ],
             [
              0.8888888888888888,
              "#fdca26"
             ],
             [
              1,
              "#f0f921"
             ]
            ],
            "type": "contour"
           }
          ],
          "contourcarpet": [
           {
            "colorbar": {
             "outlinewidth": 0,
             "ticks": ""
            },
            "type": "contourcarpet"
           }
          ],
          "heatmap": [
           {
            "colorbar": {
             "outlinewidth": 0,
             "ticks": ""
            },
            "colorscale": [
             [
              0,
              "#0d0887"
             ],
             [
              0.1111111111111111,
              "#46039f"
             ],
             [
              0.2222222222222222,
              "#7201a8"
             ],
             [
              0.3333333333333333,
              "#9c179e"
             ],
             [
              0.4444444444444444,
              "#bd3786"
             ],
             [
              0.5555555555555556,
              "#d8576b"
             ],
             [
              0.6666666666666666,
              "#ed7953"
             ],
             [
              0.7777777777777778,
              "#fb9f3a"
             ],
             [
              0.8888888888888888,
              "#fdca26"
             ],
             [
              1,
              "#f0f921"
             ]
            ],
            "type": "heatmap"
           }
          ],
          "heatmapgl": [
           {
            "colorbar": {
             "outlinewidth": 0,
             "ticks": ""
            },
            "colorscale": [
             [
              0,
              "#0d0887"
             ],
             [
              0.1111111111111111,
              "#46039f"
             ],
             [
              0.2222222222222222,
              "#7201a8"
             ],
             [
              0.3333333333333333,
              "#9c179e"
             ],
             [
              0.4444444444444444,
              "#bd3786"
             ],
             [
              0.5555555555555556,
              "#d8576b"
             ],
             [
              0.6666666666666666,
              "#ed7953"
             ],
             [
              0.7777777777777778,
              "#fb9f3a"
             ],
             [
              0.8888888888888888,
              "#fdca26"
             ],
             [
              1,
              "#f0f921"
             ]
            ],
            "type": "heatmapgl"
           }
          ],
          "histogram": [
           {
            "marker": {
             "pattern": {
              "fillmode": "overlay",
              "size": 10,
              "solidity": 0.2
             }
            },
            "type": "histogram"
           }
          ],
          "histogram2d": [
           {
            "colorbar": {
             "outlinewidth": 0,
             "ticks": ""
            },
            "colorscale": [
             [
              0,
              "#0d0887"
             ],
             [
              0.1111111111111111,
              "#46039f"
             ],
             [
              0.2222222222222222,
              "#7201a8"
             ],
             [
              0.3333333333333333,
              "#9c179e"
             ],
             [
              0.4444444444444444,
              "#bd3786"
             ],
             [
              0.5555555555555556,
              "#d8576b"
             ],
             [
              0.6666666666666666,
              "#ed7953"
             ],
             [
              0.7777777777777778,
              "#fb9f3a"
             ],
             [
              0.8888888888888888,
              "#fdca26"
             ],
             [
              1,
              "#f0f921"
             ]
            ],
            "type": "histogram2d"
           }
          ],
          "histogram2dcontour": [
           {
            "colorbar": {
             "outlinewidth": 0,
             "ticks": ""
            },
            "colorscale": [
             [
              0,
              "#0d0887"
             ],
             [
              0.1111111111111111,
              "#46039f"
             ],
             [
              0.2222222222222222,
              "#7201a8"
             ],
             [
              0.3333333333333333,
              "#9c179e"
             ],
             [
              0.4444444444444444,
              "#bd3786"
             ],
             [
              0.5555555555555556,
              "#d8576b"
             ],
             [
              0.6666666666666666,
              "#ed7953"
             ],
             [
              0.7777777777777778,
              "#fb9f3a"
             ],
             [
              0.8888888888888888,
              "#fdca26"
             ],
             [
              1,
              "#f0f921"
             ]
            ],
            "type": "histogram2dcontour"
           }
          ],
          "mesh3d": [
           {
            "colorbar": {
             "outlinewidth": 0,
             "ticks": ""
            },
            "type": "mesh3d"
           }
          ],
          "parcoords": [
           {
            "line": {
             "colorbar": {
              "outlinewidth": 0,
              "ticks": ""
             }
            },
            "type": "parcoords"
           }
          ],
          "pie": [
           {
            "automargin": true,
            "type": "pie"
           }
          ],
          "scatter": [
           {
            "fillpattern": {
             "fillmode": "overlay",
             "size": 10,
             "solidity": 0.2
            },
            "type": "scatter"
           }
          ],
          "scatter3d": [
           {
            "line": {
             "colorbar": {
              "outlinewidth": 0,
              "ticks": ""
             }
            },
            "marker": {
             "colorbar": {
              "outlinewidth": 0,
              "ticks": ""
             }
            },
            "type": "scatter3d"
           }
          ],
          "scattercarpet": [
           {
            "marker": {
             "colorbar": {
              "outlinewidth": 0,
              "ticks": ""
             }
            },
            "type": "scattercarpet"
           }
          ],
          "scattergeo": [
           {
            "marker": {
             "colorbar": {
              "outlinewidth": 0,
              "ticks": ""
             }
            },
            "type": "scattergeo"
           }
          ],
          "scattergl": [
           {
            "marker": {
             "colorbar": {
              "outlinewidth": 0,
              "ticks": ""
             }
            },
            "type": "scattergl"
           }
          ],
          "scattermapbox": [
           {
            "marker": {
             "colorbar": {
              "outlinewidth": 0,
              "ticks": ""
             }
            },
            "type": "scattermapbox"
           }
          ],
          "scatterpolar": [
           {
            "marker": {
             "colorbar": {
              "outlinewidth": 0,
              "ticks": ""
             }
            },
            "type": "scatterpolar"
           }
          ],
          "scatterpolargl": [
           {
            "marker": {
             "colorbar": {
              "outlinewidth": 0,
              "ticks": ""
             }
            },
            "type": "scatterpolargl"
           }
          ],
          "scatterternary": [
           {
            "marker": {
             "colorbar": {
              "outlinewidth": 0,
              "ticks": ""
             }
            },
            "type": "scatterternary"
           }
          ],
          "surface": [
           {
            "colorbar": {
             "outlinewidth": 0,
             "ticks": ""
            },
            "colorscale": [
             [
              0,
              "#0d0887"
             ],
             [
              0.1111111111111111,
              "#46039f"
             ],
             [
              0.2222222222222222,
              "#7201a8"
             ],
             [
              0.3333333333333333,
              "#9c179e"
             ],
             [
              0.4444444444444444,
              "#bd3786"
             ],
             [
              0.5555555555555556,
              "#d8576b"
             ],
             [
              0.6666666666666666,
              "#ed7953"
             ],
             [
              0.7777777777777778,
              "#fb9f3a"
             ],
             [
              0.8888888888888888,
              "#fdca26"
             ],
             [
              1,
              "#f0f921"
             ]
            ],
            "type": "surface"
           }
          ],
          "table": [
           {
            "cells": {
             "fill": {
              "color": "#EBF0F8"
             },
             "line": {
              "color": "white"
             }
            },
            "header": {
             "fill": {
              "color": "#C8D4E3"
             },
             "line": {
              "color": "white"
             }
            },
            "type": "table"
           }
          ]
         },
         "layout": {
          "annotationdefaults": {
           "arrowcolor": "#2a3f5f",
           "arrowhead": 0,
           "arrowwidth": 1
          },
          "autotypenumbers": "strict",
          "coloraxis": {
           "colorbar": {
            "outlinewidth": 0,
            "ticks": ""
           }
          },
          "colorscale": {
           "diverging": [
            [
             0,
             "#8e0152"
            ],
            [
             0.1,
             "#c51b7d"
            ],
            [
             0.2,
             "#de77ae"
            ],
            [
             0.3,
             "#f1b6da"
            ],
            [
             0.4,
             "#fde0ef"
            ],
            [
             0.5,
             "#f7f7f7"
            ],
            [
             0.6,
             "#e6f5d0"
            ],
            [
             0.7,
             "#b8e186"
            ],
            [
             0.8,
             "#7fbc41"
            ],
            [
             0.9,
             "#4d9221"
            ],
            [
             1,
             "#276419"
            ]
           ],
           "sequential": [
            [
             0,
             "#0d0887"
            ],
            [
             0.1111111111111111,
             "#46039f"
            ],
            [
             0.2222222222222222,
             "#7201a8"
            ],
            [
             0.3333333333333333,
             "#9c179e"
            ],
            [
             0.4444444444444444,
             "#bd3786"
            ],
            [
             0.5555555555555556,
             "#d8576b"
            ],
            [
             0.6666666666666666,
             "#ed7953"
            ],
            [
             0.7777777777777778,
             "#fb9f3a"
            ],
            [
             0.8888888888888888,
             "#fdca26"
            ],
            [
             1,
             "#f0f921"
            ]
           ],
           "sequentialminus": [
            [
             0,
             "#0d0887"
            ],
            [
             0.1111111111111111,
             "#46039f"
            ],
            [
             0.2222222222222222,
             "#7201a8"
            ],
            [
             0.3333333333333333,
             "#9c179e"
            ],
            [
             0.4444444444444444,
             "#bd3786"
            ],
            [
             0.5555555555555556,
             "#d8576b"
            ],
            [
             0.6666666666666666,
             "#ed7953"
            ],
            [
             0.7777777777777778,
             "#fb9f3a"
            ],
            [
             0.8888888888888888,
             "#fdca26"
            ],
            [
             1,
             "#f0f921"
            ]
           ]
          },
          "colorway": [
           "#636efa",
           "#EF553B",
           "#00cc96",
           "#ab63fa",
           "#FFA15A",
           "#19d3f3",
           "#FF6692",
           "#B6E880",
           "#FF97FF",
           "#FECB52"
          ],
          "font": {
           "color": "#2a3f5f"
          },
          "geo": {
           "bgcolor": "white",
           "lakecolor": "white",
           "landcolor": "#E5ECF6",
           "showlakes": true,
           "showland": true,
           "subunitcolor": "white"
          },
          "hoverlabel": {
           "align": "left"
          },
          "hovermode": "closest",
          "mapbox": {
           "style": "light"
          },
          "paper_bgcolor": "white",
          "plot_bgcolor": "#E5ECF6",
          "polar": {
           "angularaxis": {
            "gridcolor": "white",
            "linecolor": "white",
            "ticks": ""
           },
           "bgcolor": "#E5ECF6",
           "radialaxis": {
            "gridcolor": "white",
            "linecolor": "white",
            "ticks": ""
           }
          },
          "scene": {
           "xaxis": {
            "backgroundcolor": "#E5ECF6",
            "gridcolor": "white",
            "gridwidth": 2,
            "linecolor": "white",
            "showbackground": true,
            "ticks": "",
            "zerolinecolor": "white"
           },
           "yaxis": {
            "backgroundcolor": "#E5ECF6",
            "gridcolor": "white",
            "gridwidth": 2,
            "linecolor": "white",
            "showbackground": true,
            "ticks": "",
            "zerolinecolor": "white"
           },
           "zaxis": {
            "backgroundcolor": "#E5ECF6",
            "gridcolor": "white",
            "gridwidth": 2,
            "linecolor": "white",
            "showbackground": true,
            "ticks": "",
            "zerolinecolor": "white"
           }
          },
          "shapedefaults": {
           "line": {
            "color": "#2a3f5f"
           }
          },
          "ternary": {
           "aaxis": {
            "gridcolor": "white",
            "linecolor": "white",
            "ticks": ""
           },
           "baxis": {
            "gridcolor": "white",
            "linecolor": "white",
            "ticks": ""
           },
           "bgcolor": "#E5ECF6",
           "caxis": {
            "gridcolor": "white",
            "linecolor": "white",
            "ticks": ""
           }
          },
          "title": {
           "x": 0.05
          },
          "xaxis": {
           "automargin": true,
           "gridcolor": "white",
           "linecolor": "white",
           "ticks": "",
           "title": {
            "standoff": 15
           },
           "zerolinecolor": "white",
           "zerolinewidth": 2
          },
          "yaxis": {
           "automargin": true,
           "gridcolor": "white",
           "linecolor": "white",
           "ticks": "",
           "title": {
            "standoff": 15
           },
           "zerolinecolor": "white",
           "zerolinewidth": 2
          }
         }
        },
        "xaxis": {
         "anchor": "y",
         "domain": [
          0,
          1
         ],
         "title": {
          "text": "symbol"
         }
        },
        "yaxis": {
         "anchor": "x",
         "domain": [
          0,
          1
         ],
         "title": {
          "text": "priceToBookRatio"
         }
        }
       }
      }
     },
     "metadata": {},
     "output_type": "display_data"
    }
   ],
   "source": [
    "fig = px.bar(\n",
    "    seventh_criteria_df,\n",
    "    x=\"symbol\",\n",
    "    y=\"priceToBookRatio\",\n",
    "    color=\"sector\",\n",
    "    hover_name=\"name\",\n",
    ")\n",
    "fig.show()"
   ]
  },
  {
   "cell_type": "code",
   "execution_count": 46,
   "id": "2d686b442b7ebe2b",
   "metadata": {
    "ExecuteTime": {
     "end_time": "2025-02-27T20:40:17.278164Z",
     "start_time": "2025-02-27T20:40:17.273496Z"
    }
   },
   "outputs": [],
   "source": [
    "plotly.io.write_json(fig, \"data/pb_ratio.json\")"
   ]
  },
  {
   "cell_type": "markdown",
   "id": "8c6295a5b079cd29",
   "metadata": {},
   "source": [
    "### Combine all criteria"
   ]
  },
  {
   "cell_type": "code",
   "execution_count": 47,
   "id": "aa25285960eba7b4",
   "metadata": {
    "ExecuteTime": {
     "end_time": "2025-02-27T20:49:07.829556Z",
     "start_time": "2025-02-27T20:49:07.700014Z"
    }
   },
   "outputs": [],
   "source": [
    "# Store all dataframes\n",
    "date = datetime.datetime.now().strftime(\"%Y-%m-%d\")\n",
    "snp_data.to_csv(f\"data/snp_data_{date}.csv\", index=False)\n",
    "ratios_df.to_csv(f\"data/ratios_{date}.csv\", index=False)\n",
    "earnings_df.to_csv(f\"data/earnings_{date}.csv\", index=False)\n",
    "earnings_growth_df.to_csv(f\"data/earnings_growth_{date}.csv\", index=False)\n",
    "dividends_df.to_csv(f\"data/dividends_{date}.csv\", index=False)\n",
    "ratios_ttm_df.to_csv(f\"data/ratios_ttm_{date}.csv\", index=False)"
   ]
  },
  {
   "cell_type": "code",
   "execution_count": 48,
   "id": "6da1bcc51878860",
   "metadata": {
    "ExecuteTime": {
     "end_time": "2025-02-27T20:49:25.890589Z",
     "start_time": "2025-02-27T20:49:25.845706Z"
    }
   },
   "outputs": [
    {
     "name": "stderr",
     "output_type": "stream",
     "text": [
      "/var/folders/nf/dwbr_1dd3wj7vbhhprmj9sfr0000gn/T/ipykernel_47029/387331339.py:15: FutureWarning:\n",
      "\n",
      "Downcasting object dtype arrays on .fillna, .ffill, .bfill is deprecated and will change in a future version. Call result.infer_objects(copy=False) instead. To opt-in to the future behavior, set `pd.set_option('future.no_silent_downcasting', True)`\n",
      "\n",
      "/var/folders/nf/dwbr_1dd3wj7vbhhprmj9sfr0000gn/T/ipykernel_47029/387331339.py:20: FutureWarning:\n",
      "\n",
      "Downcasting object dtype arrays on .fillna, .ffill, .bfill is deprecated and will change in a future version. Call result.infer_objects(copy=False) instead. To opt-in to the future behavior, set `pd.set_option('future.no_silent_downcasting', True)`\n",
      "\n",
      "/var/folders/nf/dwbr_1dd3wj7vbhhprmj9sfr0000gn/T/ipykernel_47029/387331339.py:25: FutureWarning:\n",
      "\n",
      "Downcasting object dtype arrays on .fillna, .ffill, .bfill is deprecated and will change in a future version. Call result.infer_objects(copy=False) instead. To opt-in to the future behavior, set `pd.set_option('future.no_silent_downcasting', True)`\n",
      "\n",
      "/var/folders/nf/dwbr_1dd3wj7vbhhprmj9sfr0000gn/T/ipykernel_47029/387331339.py:30: FutureWarning:\n",
      "\n",
      "Downcasting object dtype arrays on .fillna, .ffill, .bfill is deprecated and will change in a future version. Call result.infer_objects(copy=False) instead. To opt-in to the future behavior, set `pd.set_option('future.no_silent_downcasting', True)`\n",
      "\n",
      "/var/folders/nf/dwbr_1dd3wj7vbhhprmj9sfr0000gn/T/ipykernel_47029/387331339.py:35: FutureWarning:\n",
      "\n",
      "Downcasting object dtype arrays on .fillna, .ffill, .bfill is deprecated and will change in a future version. Call result.infer_objects(copy=False) instead. To opt-in to the future behavior, set `pd.set_option('future.no_silent_downcasting', True)`\n",
      "\n",
      "/var/folders/nf/dwbr_1dd3wj7vbhhprmj9sfr0000gn/T/ipykernel_47029/387331339.py:40: FutureWarning:\n",
      "\n",
      "Downcasting object dtype arrays on .fillna, .ffill, .bfill is deprecated and will change in a future version. Call result.infer_objects(copy=False) instead. To opt-in to the future behavior, set `pd.set_option('future.no_silent_downcasting', True)`\n",
      "\n"
     ]
    },
    {
     "data": {
      "application/vnd.microsoft.datawrangler.viewer.v0+json": {
       "columns": [
        {
         "name": "index",
         "rawType": "int64",
         "type": "integer"
        },
        {
         "name": "symbol",
         "rawType": "object",
         "type": "string"
        },
        {
         "name": "name",
         "rawType": "object",
         "type": "string"
        },
        {
         "name": "large_market_cap",
         "rawType": "bool",
         "type": "boolean"
        },
        {
         "name": "double_current_ratio",
         "rawType": "bool",
         "type": "boolean"
        },
        {
         "name": "earnings_stability",
         "rawType": "bool",
         "type": "boolean"
        },
        {
         "name": "dividend_record",
         "rawType": "bool",
         "type": "boolean"
        },
        {
         "name": "earnings_growth",
         "rawType": "bool",
         "type": "boolean"
        },
        {
         "name": "moderate_pe_ratio",
         "rawType": "bool",
         "type": "boolean"
        },
        {
         "name": "moderate_pb_ratio",
         "rawType": "bool",
         "type": "boolean"
        },
        {
         "name": "num_criteria",
         "rawType": "int64",
         "type": "integer"
        }
       ],
       "conversionMethod": "pd.DataFrame",
       "ref": "c2ec4901-cbcc-41a1-9fe7-ea8b203a6a51",
       "rows": [
        [
         "340",
         "COF",
         "Capital One",
         "True",
         "True",
         "True",
         "True",
         "True",
         "True",
         "True",
         "7"
        ],
        [
         "485",
         "MO",
         "Altria",
         "True",
         "False",
         "True",
         "True",
         "True",
         "True",
         "True",
         "6"
        ],
        [
         "89",
         "TROW",
         "T. Rowe Price",
         "True",
         "True",
         "True",
         "True",
         "True",
         "True",
         "False",
         "6"
        ],
        [
         "317",
         "MET",
         "MetLife",
         "True",
         "True",
         "True",
         "True",
         "True",
         "True",
         "False",
         "6"
        ],
        [
         "294",
         "STT",
         "State Street Corporation",
         "True",
         "True",
         "True",
         "False",
         "True",
         "True",
         "True",
         "6"
        ],
        [
         "339",
         "RF",
         "Regions Financial Corporation",
         "True",
         "False",
         "True",
         "True",
         "True",
         "True",
         "True",
         "6"
        ],
        [
         "475",
         "HIG",
         "Hartford (The)",
         "True",
         "True",
         "True",
         "True",
         "True",
         "True",
         "False",
         "6"
        ],
        [
         "474",
         "HAL",
         "Halliburton",
         "True",
         "True",
         "True",
         "True",
         "True",
         "True",
         "False",
         "6"
        ],
        [
         "451",
         "ADM",
         "Archer Daniels Midland",
         "True",
         "False",
         "True",
         "True",
         "True",
         "True",
         "True",
         "6"
        ],
        [
         "321",
         "DVN",
         "Devon Energy",
         "True",
         "False",
         "True",
         "True",
         "True",
         "True",
         "True",
         "6"
        ],
        [
         "360",
         "FITB",
         "Fifth Third Bancorp",
         "True",
         "True",
         "False",
         "True",
         "False",
         "True",
         "True",
         "5"
        ],
        [
         "363",
         "L",
         "Loews Corporation",
         "True",
         "True",
         "False",
         "True",
         "False",
         "True",
         "True",
         "5"
        ],
        [
         "55",
         "MTCH",
         "Match Group",
         "True",
         "True",
         "True",
         "False",
         "False",
         "True",
         "True",
         "5"
        ],
        [
         "332",
         "AFL",
         "Aflac",
         "True",
         "False",
         "True",
         "True",
         "True",
         "True",
         "False",
         "5"
        ],
        [
         "333",
         "MCK",
         "McKesson Corporation",
         "True",
         "False",
         "True",
         "True",
         "True",
         "False",
         "True",
         "5"
        ],
        [
         "455",
         "CAT",
         "Caterpillar Inc.",
         "True",
         "False",
         "True",
         "True",
         "True",
         "True",
         "False",
         "5"
        ],
        [
         "67",
         "POOL",
         "Pool Corporation",
         "True",
         "True",
         "True",
         "True",
         "True",
         "False",
         "False",
         "5"
        ],
        [
         "462",
         "CVX",
         "Chevron Corporation",
         "True",
         "False",
         "True",
         "True",
         "True",
         "True",
         "False",
         "5"
        ],
        [
         "351",
         "HBAN",
         "Huntington Bancshares",
         "True",
         "True",
         "False",
         "True",
         "False",
         "True",
         "True",
         "5"
        ],
        [
         "325",
         "USB",
         "U.S. Bancorp",
         "True",
         "False",
         "True",
         "True",
         "False",
         "True",
         "True",
         "5"
        ],
        [
         "463",
         "DE",
         "Deere & Company",
         "True",
         "True",
         "True",
         "True",
         "True",
         "False",
         "False",
         "5"
        ],
        [
         "328",
         "QCOM",
         "Qualcomm",
         "True",
         "True",
         "True",
         "True",
         "True",
         "False",
         "False",
         "5"
        ],
        [
         "71",
         "WST",
         "West Pharmaceutical Services",
         "True",
         "True",
         "True",
         "True",
         "True",
         "False",
         "False",
         "5"
        ],
        [
         "79",
         "STE",
         "Steris",
         "True",
         "True",
         "True",
         "True",
         "True",
         "False",
         "False",
         "5"
        ],
        [
         "320",
         "NI",
         "NiSource",
         "True",
         "True",
         "True",
         "True",
         "True",
         "False",
         "False",
         "5"
        ],
        [
         "87",
         "IEX",
         "IDEX Corporation",
         "True",
         "True",
         "True",
         "True",
         "True",
         "False",
         "False",
         "5"
        ],
        [
         "235",
         "WELL",
         "Welltower",
         "True",
         "True",
         "True",
         "True",
         "True",
         "False",
         "False",
         "5"
        ],
        [
         "177",
         "MLM",
         "Martin Marietta Materials",
         "True",
         "True",
         "True",
         "True",
         "True",
         "False",
         "False",
         "5"
        ],
        [
         "402",
         "NUE",
         "Nucor",
         "True",
         "True",
         "False",
         "True",
         "False",
         "True",
         "True",
         "5"
        ],
        [
         "120",
         "PKG",
         "Packaging Corporation of America",
         "True",
         "True",
         "True",
         "True",
         "True",
         "False",
         "False",
         "5"
        ],
        [
         "302",
         "GS",
         "Goldman Sachs",
         "True",
         "True",
         "True",
         "False",
         "True",
         "True",
         "False",
         "5"
        ],
        [
         "85",
         "NVR",
         "NVR, Inc.",
         "True",
         "True",
         "True",
         "False",
         "True",
         "True",
         "False",
         "5"
        ],
        [
         "298",
         "TRV",
         "Travelers Companies (The)",
         "True",
         "True",
         "True",
         "False",
         "True",
         "True",
         "False",
         "5"
        ],
        [
         "100",
         "FANG",
         "Diamondback Energy",
         "True",
         "False",
         "True",
         "False",
         "True",
         "True",
         "True",
         "5"
        ],
        [
         "44",
         "ON",
         "ON Semiconductor",
         "True",
         "True",
         "True",
         "False",
         "True",
         "True",
         "False",
         "5"
        ],
        [
         "49",
         "NDSN",
         "Nordson Corporation",
         "True",
         "True",
         "True",
         "True",
         "True",
         "False",
         "False",
         "5"
        ],
        [
         "45",
         "VICI",
         "Vici Properties",
         "True",
         "True",
         "True",
         "False",
         "False",
         "True",
         "True",
         "5"
        ],
        [
         "32",
         "BG",
         "Bunge Global",
         "True",
         "True",
         "False",
         "True",
         "False",
         "True",
         "True",
         "5"
        ],
        [
         "262",
         "AIZ",
         "Assurant",
         "True",
         "True",
         "True",
         "False",
         "True",
         "True",
         "False",
         "5"
        ],
        [
         "129",
         "ARE",
         "Alexandria Real Estate Equities",
         "True",
         "False",
         "True",
         "True",
         "True",
         "False",
         "True",
         "5"
        ],
        [
         "130",
         "RJF",
         "Raymond James Financial",
         "True",
         "True",
         "True",
         "True",
         "True",
         "False",
         "False",
         "5"
        ],
        [
         "150",
         "GPN",
         "Global Payments",
         "True",
         "False",
         "True",
         "True",
         "True",
         "False",
         "True",
         "5"
        ],
        [
         "486",
         "MRK",
         "Merck & Co.",
         "True",
         "False",
         "True",
         "True",
         "True",
         "True",
         "False",
         "5"
        ],
        [
         "469",
         "EXC",
         "Exelon",
         "True",
         "True",
         "True",
         "True",
         "False",
         "False",
         "True",
         "5"
        ],
        [
         "247",
         "IVZ",
         "Invesco",
         "True",
         "True",
         "True",
         "False",
         "False",
         "True",
         "True",
         "5"
        ],
        [
         "194",
         "GRMN",
         "Garmin",
         "True",
         "True",
         "True",
         "True",
         "True",
         "False",
         "False",
         "5"
        ],
        [
         "476",
         "HON",
         "Honeywell",
         "True",
         "True",
         "True",
         "True",
         "True",
         "False",
         "False",
         "5"
        ],
        [
         "473",
         "GIS",
         "General Mills",
         "True",
         "False",
         "True",
         "True",
         "True",
         "True",
         "False",
         "5"
        ],
        [
         "490",
         "OXY",
         "Occidental Petroleum",
         "True",
         "False",
         "False",
         "True",
         "True",
         "True",
         "True",
         "5"
        ],
        [
         "497",
         "SLB",
         "Schlumberger",
         "True",
         "False",
         "True",
         "True",
         "True",
         "True",
         "False",
         "5"
        ]
       ],
       "shape": {
        "columns": 10,
        "rows": 503
       }
      },
      "text/html": [
       "<div>\n",
       "<style scoped>\n",
       "    .dataframe tbody tr th:only-of-type {\n",
       "        vertical-align: middle;\n",
       "    }\n",
       "\n",
       "    .dataframe tbody tr th {\n",
       "        vertical-align: top;\n",
       "    }\n",
       "\n",
       "    .dataframe thead th {\n",
       "        text-align: right;\n",
       "    }\n",
       "</style>\n",
       "<table border=\"1\" class=\"dataframe\">\n",
       "  <thead>\n",
       "    <tr style=\"text-align: right;\">\n",
       "      <th></th>\n",
       "      <th>symbol</th>\n",
       "      <th>name</th>\n",
       "      <th>large_market_cap</th>\n",
       "      <th>double_current_ratio</th>\n",
       "      <th>earnings_stability</th>\n",
       "      <th>dividend_record</th>\n",
       "      <th>earnings_growth</th>\n",
       "      <th>moderate_pe_ratio</th>\n",
       "      <th>moderate_pb_ratio</th>\n",
       "      <th>num_criteria</th>\n",
       "    </tr>\n",
       "  </thead>\n",
       "  <tbody>\n",
       "    <tr>\n",
       "      <th>340</th>\n",
       "      <td>COF</td>\n",
       "      <td>Capital One</td>\n",
       "      <td>True</td>\n",
       "      <td>True</td>\n",
       "      <td>True</td>\n",
       "      <td>True</td>\n",
       "      <td>True</td>\n",
       "      <td>True</td>\n",
       "      <td>True</td>\n",
       "      <td>7</td>\n",
       "    </tr>\n",
       "    <tr>\n",
       "      <th>485</th>\n",
       "      <td>MO</td>\n",
       "      <td>Altria</td>\n",
       "      <td>True</td>\n",
       "      <td>False</td>\n",
       "      <td>True</td>\n",
       "      <td>True</td>\n",
       "      <td>True</td>\n",
       "      <td>True</td>\n",
       "      <td>True</td>\n",
       "      <td>6</td>\n",
       "    </tr>\n",
       "    <tr>\n",
       "      <th>89</th>\n",
       "      <td>TROW</td>\n",
       "      <td>T. Rowe Price</td>\n",
       "      <td>True</td>\n",
       "      <td>True</td>\n",
       "      <td>True</td>\n",
       "      <td>True</td>\n",
       "      <td>True</td>\n",
       "      <td>True</td>\n",
       "      <td>False</td>\n",
       "      <td>6</td>\n",
       "    </tr>\n",
       "    <tr>\n",
       "      <th>317</th>\n",
       "      <td>MET</td>\n",
       "      <td>MetLife</td>\n",
       "      <td>True</td>\n",
       "      <td>True</td>\n",
       "      <td>True</td>\n",
       "      <td>True</td>\n",
       "      <td>True</td>\n",
       "      <td>True</td>\n",
       "      <td>False</td>\n",
       "      <td>6</td>\n",
       "    </tr>\n",
       "    <tr>\n",
       "      <th>294</th>\n",
       "      <td>STT</td>\n",
       "      <td>State Street Corporation</td>\n",
       "      <td>True</td>\n",
       "      <td>True</td>\n",
       "      <td>True</td>\n",
       "      <td>False</td>\n",
       "      <td>True</td>\n",
       "      <td>True</td>\n",
       "      <td>True</td>\n",
       "      <td>6</td>\n",
       "    </tr>\n",
       "    <tr>\n",
       "      <th>...</th>\n",
       "      <td>...</td>\n",
       "      <td>...</td>\n",
       "      <td>...</td>\n",
       "      <td>...</td>\n",
       "      <td>...</td>\n",
       "      <td>...</td>\n",
       "      <td>...</td>\n",
       "      <td>...</td>\n",
       "      <td>...</td>\n",
       "      <td>...</td>\n",
       "    </tr>\n",
       "    <tr>\n",
       "      <th>25</th>\n",
       "      <td>VLTO</td>\n",
       "      <td>Veralto</td>\n",
       "      <td>True</td>\n",
       "      <td>False</td>\n",
       "      <td>False</td>\n",
       "      <td>False</td>\n",
       "      <td>False</td>\n",
       "      <td>False</td>\n",
       "      <td>False</td>\n",
       "      <td>1</td>\n",
       "    </tr>\n",
       "    <tr>\n",
       "      <th>22</th>\n",
       "      <td>UBER</td>\n",
       "      <td>Uber</td>\n",
       "      <td>True</td>\n",
       "      <td>False</td>\n",
       "      <td>False</td>\n",
       "      <td>False</td>\n",
       "      <td>False</td>\n",
       "      <td>False</td>\n",
       "      <td>False</td>\n",
       "      <td>1</td>\n",
       "    </tr>\n",
       "    <tr>\n",
       "      <th>34</th>\n",
       "      <td>GEHC</td>\n",
       "      <td>GE HealthCare</td>\n",
       "      <td>True</td>\n",
       "      <td>False</td>\n",
       "      <td>False</td>\n",
       "      <td>False</td>\n",
       "      <td>False</td>\n",
       "      <td>False</td>\n",
       "      <td>False</td>\n",
       "      <td>1</td>\n",
       "    </tr>\n",
       "    <tr>\n",
       "      <th>2</th>\n",
       "      <td>TKO</td>\n",
       "      <td>TKO Group Holdings</td>\n",
       "      <td>True</td>\n",
       "      <td>False</td>\n",
       "      <td>False</td>\n",
       "      <td>False</td>\n",
       "      <td>False</td>\n",
       "      <td>False</td>\n",
       "      <td>False</td>\n",
       "      <td>1</td>\n",
       "    </tr>\n",
       "    <tr>\n",
       "      <th>0</th>\n",
       "      <td>DASH</td>\n",
       "      <td>DoorDash</td>\n",
       "      <td>True</td>\n",
       "      <td>False</td>\n",
       "      <td>False</td>\n",
       "      <td>False</td>\n",
       "      <td>False</td>\n",
       "      <td>False</td>\n",
       "      <td>False</td>\n",
       "      <td>1</td>\n",
       "    </tr>\n",
       "  </tbody>\n",
       "</table>\n",
       "<p>503 rows × 10 columns</p>\n",
       "</div>"
      ],
      "text/plain": [
       "    symbol                      name  large_market_cap  double_current_ratio  \\\n",
       "340    COF               Capital One              True                  True   \n",
       "485     MO                    Altria              True                 False   \n",
       "89    TROW             T. Rowe Price              True                  True   \n",
       "317    MET                   MetLife              True                  True   \n",
       "294    STT  State Street Corporation              True                  True   \n",
       "..     ...                       ...               ...                   ...   \n",
       "25    VLTO                   Veralto              True                 False   \n",
       "22    UBER                      Uber              True                 False   \n",
       "34    GEHC             GE HealthCare              True                 False   \n",
       "2      TKO        TKO Group Holdings              True                 False   \n",
       "0     DASH                  DoorDash              True                 False   \n",
       "\n",
       "     earnings_stability  dividend_record  earnings_growth  moderate_pe_ratio  \\\n",
       "340                True             True             True               True   \n",
       "485                True             True             True               True   \n",
       "89                 True             True             True               True   \n",
       "317                True             True             True               True   \n",
       "294                True            False             True               True   \n",
       "..                  ...              ...              ...                ...   \n",
       "25                False            False            False              False   \n",
       "22                False            False            False              False   \n",
       "34                False            False            False              False   \n",
       "2                 False            False            False              False   \n",
       "0                 False            False            False              False   \n",
       "\n",
       "     moderate_pb_ratio  num_criteria  \n",
       "340               True             7  \n",
       "485               True             6  \n",
       "89               False             6  \n",
       "317              False             6  \n",
       "294               True             6  \n",
       "..                 ...           ...  \n",
       "25               False             1  \n",
       "22               False             1  \n",
       "34               False             1  \n",
       "2                False             1  \n",
       "0                False             1  \n",
       "\n",
       "[503 rows x 10 columns]"
      ]
     },
     "execution_count": 48,
     "metadata": {},
     "output_type": "execute_result"
    }
   ],
   "source": [
    "# compile a dataframe of shape (symbol, criteria1, criteria2, ..., criteria7), where value of criteria is True if the company meets the criteria\n",
    "criteria_df = (\n",
    "    snp_data[[\"symbol\", \"name\"]]\n",
    "    .merge(\n",
    "        pd.DataFrame({\"symbol\": first_criteria, \"large_market_cap\": True}),\n",
    "        on=\"symbol\",\n",
    "        how=\"left\",\n",
    "    )\n",
    "    .fillna(False)\n",
    ")\n",
    "criteria_df = criteria_df.merge(\n",
    "    pd.DataFrame({\"symbol\": second_criteria, \"double_current_ratio\": True}),\n",
    "    on=\"symbol\",\n",
    "    how=\"left\",\n",
    ").fillna(False)\n",
    "criteria_df = criteria_df.merge(\n",
    "    pd.DataFrame({\"symbol\": third_criteria, \"earnings_stability\": True}),\n",
    "    on=\"symbol\",\n",
    "    how=\"left\",\n",
    ").fillna(False)\n",
    "criteria_df = criteria_df.merge(\n",
    "    pd.DataFrame({\"symbol\": fourth_criteria, \"dividend_record\": True}),\n",
    "    on=\"symbol\",\n",
    "    how=\"left\",\n",
    ").fillna(False)\n",
    "criteria_df = criteria_df.merge(\n",
    "    pd.DataFrame({\"symbol\": fifth_criteria, \"earnings_growth\": True}),\n",
    "    on=\"symbol\",\n",
    "    how=\"left\",\n",
    ").fillna(False)\n",
    "criteria_df = criteria_df.merge(\n",
    "    pd.DataFrame({\"symbol\": sixth_criteria, \"moderate_pe_ratio\": True}),\n",
    "    on=\"symbol\",\n",
    "    how=\"left\",\n",
    ").fillna(False)\n",
    "criteria_df = criteria_df.merge(\n",
    "    pd.DataFrame({\"symbol\": seventh_criteria, \"moderate_pb_ratio\": True}),\n",
    "    on=\"symbol\",\n",
    "    how=\"left\",\n",
    ").fillna(False)\n",
    "# count satisfied criteria\n",
    "criteria_df[\"num_criteria\"] = criteria_df[\n",
    "    [\n",
    "        \"large_market_cap\",\n",
    "        \"double_current_ratio\",\n",
    "        \"earnings_stability\",\n",
    "        \"dividend_record\",\n",
    "        \"earnings_growth\",\n",
    "        \"moderate_pe_ratio\",\n",
    "        \"moderate_pb_ratio\",\n",
    "    ]\n",
    "].sum(axis=1)\n",
    "criteria_df.sort_values(\"num_criteria\", ascending=False)"
   ]
  },
  {
   "cell_type": "code",
   "execution_count": null,
   "id": "ece298f68011cc9a",
   "metadata": {
    "ExecuteTime": {
     "end_time": "2025-02-27T20:50:08.639814Z",
     "start_time": "2025-02-27T20:50:08.633880Z"
    }
   },
   "outputs": [],
   "source": [
    "criteria_df.to_csv(f\"data/all_criteria_{date}.csv\", index=False)"
   ]
  },
  {
   "cell_type": "code",
   "execution_count": 49,
   "id": "8e8b68ff7dbdbbd",
   "metadata": {
    "ExecuteTime": {
     "end_time": "2025-02-27T21:45:06.576473Z",
     "start_time": "2025-02-27T21:45:06.539101Z"
    }
   },
   "outputs": [
    {
     "data": {
      "application/vnd.plotly.v1+json": {
       "config": {
        "plotlyServerURL": "https://plot.ly"
       },
       "data": [
        {
         "cells": {
          "align": [
           "center",
           "left",
           "center",
           "center",
           "center",
           "center",
           "center",
           "center",
           "center",
           "center"
          ],
          "fill": {
           "color": "rgb(246, 229, 141)"
          },
          "font": {
           "color": "rgb(50, 50, 50)",
           "family": "Arial, sans-serif",
           "size": 12
          },
          "height": 30,
          "line": {
           "color": "white",
           "width": 1
          },
          "values": [
           [
            "COF",
            "MO",
            "TROW",
            "MET",
            "STT",
            "RF",
            "HIG",
            "HAL",
            "ADM",
            "DVN",
            "FITB",
            "L",
            "MTCH",
            "AFL",
            "MCK",
            "CAT",
            "POOL",
            "CVX",
            "HBAN",
            "USB",
            "DE",
            "QCOM",
            "WST",
            "STE",
            "NI",
            "IEX",
            "WELL",
            "MLM",
            "NUE",
            "PKG",
            "GS",
            "NVR",
            "TRV",
            "FANG",
            "ON",
            "NDSN",
            "VICI",
            "BG",
            "AIZ",
            "ARE",
            "RJF",
            "GPN",
            "MRK",
            "EXC",
            "IVZ",
            "GRMN",
            "HON",
            "GIS",
            "OXY",
            "SLB",
            "BLK",
            "APH",
            "HSY",
            "CSX",
            "WM",
            "PAYX",
            "AES",
            "DHR",
            "ROK",
            "TFC",
            "BEN",
            "XOM",
            "FDS",
            "MOH",
            "CPT",
            "EIX",
            "ED",
            "BBY",
            "ADI",
            "VMC",
            "TDY",
            "TER",
            "ATO",
            "WAB",
            "FOX",
            "FOXA",
            "DD",
            "MKTX",
            "SBUX",
            "CMCSA",
            "A",
            "BRO",
            "TXN",
            "TECH",
            "SYK",
            "EOG",
            "BK",
            "NVDA",
            "WRB",
            "EPAM",
            "ETN",
            "MPWR",
            "TRMB",
            "NXPI",
            "BMY",
            "AEP",
            "CVS",
            "EMR",
            "SHW",
            "NEM",
            "JPM",
            "CDNS",
            "KEYS",
            "JKHY",
            "SRE",
            "ROL",
            "MTD",
            "ALB",
            "MAA",
            "ANET",
            "TDG",
            "LNT",
            "AOS",
            "AJG",
            "AMP",
            "DHI",
            "MTB",
            "DPZ",
            "PFG",
            "ELV",
            "ABT",
            "PRU",
            "GL",
            "UPS",
            "WAT",
            "KEY",
            "ANSS",
            "RMD",
            "LEN",
            "HLT",
            "EG",
            "CPRT",
            "EVRG",
            "MSCI",
            "FAST",
            "DOV",
            "PNC",
            "VRSN",
            "KIM",
            "BXP",
            "CTSH",
            "SNPS",
            "CHD",
            "WFC",
            "TAP",
            "BAC",
            "FRT",
            "EXR",
            "RL",
            "DFS",
            "HWM",
            "ORLY",
            "META",
            "BKNG",
            "REGN",
            "ALLE",
            "ES",
            "UHS",
            "DVA",
            "CTRA",
            "ISRG",
            "PM",
            "HCA",
            "CNC",
            "HOLX",
            "UDR",
            "EW",
            "LHX",
            "RSG",
            "SJM",
            "IRM",
            "JBHT",
            "O",
            "HRL",
            "AME",
            "GM",
            "TT",
            "ACN",
            "BRK-B",
            "ROP",
            "ESS",
            "OKE",
            "NSC",
            "NOC",
            "CCI",
            "XEL",
            "MNST",
            "LRCX",
            "ROST",
            "MDLZ",
            "GD",
            "F",
            "MCO",
            "PEP",
            "PG",
            "LMT",
            "SPGI",
            "UNP",
            "KR",
            "KO",
            "KMB",
            "IBM",
            "GE",
            "SO",
            "RTX",
            "PPG",
            "PFE",
            "PEG",
            "MSI",
            "DLTR",
            "KMI",
            "PNR",
            "DG",
            "V",
            "KMX",
            "CB",
            "JCI",
            "FDX",
            "MAS",
            "GWW",
            "SWK",
            "SNA",
            "VZ",
            "T",
            "LOW",
            "PHM",
            "HES",
            "FCX",
            "MOS",
            "TEL",
            "XYL",
            "NFLX",
            "FFIV",
            "NDAQ",
            "WEC",
            "WYNN",
            "VTR",
            "EQIX",
            "KHC",
            "PYPL",
            "ABBV",
            "ZTS",
            "NWSA",
            "VRTX",
            "TSCO",
            "PWR",
            "MCHP",
            "ICE",
            "EXPD",
            "J",
            "AMT",
            "MA",
            "CF",
            "AWK",
            "ULTA",
            "DLR",
            "LKQ",
            "GOOGL",
            "AVGO",
            "URI",
            "SWKS",
            "HSIC",
            "CRM",
            "RVTY",
            "MDT",
            "C",
            "GOOG",
            "CME",
            "FIS",
            "CBRE",
            "REG",
            "TGT",
            "INTC",
            "WBA",
            "VRSK",
            "HPE",
            "SYF",
            "WTW",
            "CFG",
            "AVB",
            "HST",
            "AKAM",
            "PLD",
            "BIIB",
            "TMO",
            "TPR",
            "LH",
            "STZ",
            "PSA",
            "IQV",
            "SBAC",
            "FTV",
            "COO",
            "D",
            "IDXX",
            "CBOE",
            "FTNT",
            "AMD",
            "IT",
            "ALGN",
            "AMZN",
            "NKE",
            "MS",
            "EMN",
            "EBAY",
            "EA",
            "CMI",
            "MCD",
            "HPQ",
            "HII",
            "BR",
            "TYL",
            "TMUS",
            "LDOS",
            "CDW",
            "DGX",
            "MKC",
            "GEN",
            "CTAS",
            "FI",
            "COR",
            "PTC",
            "CRL",
            "MRNA",
            "NOW",
            "ODFL",
            "ZBRA",
            "PAYC",
            "IR",
            "OTIS",
            "CARR",
            "PPL",
            "AMAT",
            "ALL",
            "CAH",
            "NTAP",
            "CPB",
            "COP",
            "CMS",
            "CL",
            "TSLA",
            "ENPH",
            "GNRC",
            "ETR",
            "STLD",
            "FSLR",
            "DTE",
            "PNW",
            "APA",
            "KLAC",
            "YUM",
            "CINF",
            "OMC",
            "NTRS",
            "MMM",
            "SMCI",
            "TPL",
            "LII",
            "DELL",
            "MAR",
            "ERIE",
            "PLTR",
            "DECK",
            "FE",
            "EQR",
            "INTU",
            "ZBH",
            "PARA",
            "MU",
            "AON",
            "DRI",
            "AZO",
            "CCL",
            "SCHW",
            "EFX",
            "AXON",
            "PODD",
            "KDP",
            "IP",
            "EXE",
            "FICO",
            "CSGP",
            "PCG",
            "BLDR",
            "WBD",
            "BX",
            "UNH",
            "LIN",
            "MSFT",
            "SPG",
            "VLO",
            "TSN",
            "GILD",
            "K",
            "AEE",
            "ECL",
            "EL",
            "TJX",
            "PH",
            "ITW",
            "SYY",
            "MMC",
            "AVY",
            "HD",
            "JNPR",
            "CHRW",
            "VTRS",
            "BF-B",
            "CMG",
            "NRG",
            "LYB",
            "STX",
            "PSX",
            "HAS",
            "CAG",
            "HUM",
            "ADP",
            "CNP",
            "APD",
            "BALL",
            "DOC",
            "EXPE",
            "MPC",
            "APTV",
            "MHK",
            "CPAY",
            "MGM",
            "IFF",
            "NEE",
            "INCY",
            "CHTR",
            "CI",
            "DUK",
            "AXP",
            "TXT",
            "AIG",
            "WY",
            "PCAR",
            "NWS",
            "AMCR",
            "BDX",
            "LLY",
            "TTWO",
            "WMB",
            "GPC",
            "JNJ",
            "BAX",
            "CTVA",
            "CLX",
            "ACGL",
            "HUBB",
            "BA",
            "DAY",
            "LW",
            "BKR",
            "LYV",
            "DXCM",
            "EQT",
            "GEV",
            "PGR",
            "WSM",
            "GDDY",
            "KKR",
            "WDAY",
            "SW",
            "APO",
            "SOLV",
            "VST",
            "CRWD",
            "ORCL",
            "ADSK",
            "DAL",
            "WMT",
            "AAPL",
            "WDC",
            "AMGN",
            "IPG",
            "ADBE",
            "GLW",
            "BSX",
            "LUV",
            "COST",
            "CSCO",
            "UAL",
            "RCL",
            "NCLH",
            "DIS",
            "DOW",
            "LVS",
            "JBL",
            "TRGP",
            "CZR",
            "CEG",
            "INVH",
            "LULU",
            "PANW",
            "KVUE",
            "ABNB",
            "VLTO",
            "UBER",
            "GEHC",
            "TKO",
            "DASH"
           ],
           [
            "Capital One",
            "Altria",
            "T. Rowe Price",
            "MetLife",
            "State Street Corporation",
            "Regions Financial Corporation",
            "Hartford (The)",
            "Halliburton",
            "Archer Daniels Midland",
            "Devon Energy",
            "Fifth Third Bancorp",
            "Loews Corporation",
            "Match Group",
            "Aflac",
            "McKesson Corporation",
            "Caterpillar Inc.",
            "Pool Corporation",
            "Chevron Corporation",
            "Huntington Bancshares",
            "U.S. Bancorp",
            "Deere & Company",
            "Qualcomm",
            "West Pharmaceutical Services",
            "Steris",
            "NiSource",
            "IDEX Corporation",
            "Welltower",
            "Martin Marietta Materials",
            "Nucor",
            "Packaging Corporation of America",
            "Goldman Sachs",
            "NVR, Inc.",
            "Travelers Companies (The)",
            "Diamondback Energy",
            "ON Semiconductor",
            "Nordson Corporation",
            "Vici Properties",
            "Bunge Global",
            "Assurant",
            "Alexandria Real Estate Equities",
            "Raymond James Financial",
            "Global Payments",
            "Merck & Co.",
            "Exelon",
            "Invesco",
            "Garmin",
            "Honeywell",
            "General Mills",
            "Occidental Petroleum",
            "Schlumberger",
            "BlackRock",
            "Amphenol",
            "Hershey Company (The)",
            "CSX Corporation",
            "Waste Management",
            "Paychex",
            "AES Corporation",
            "Danaher Corporation",
            "Rockwell Automation",
            "Truist Financial",
            "Franklin Resources",
            "ExxonMobil",
            "FactSet",
            "Molina Healthcare",
            "Camden Property Trust",
            "Edison International",
            "Consolidated Edison",
            "Best Buy",
            "Analog Devices",
            "Vulcan Materials Company",
            "Teledyne Technologies",
            "Teradyne",
            "Atmos Energy",
            "Wabtec",
            "Fox Corporation (Class B)",
            "Fox Corporation (Class A)",
            "DuPont",
            "MarketAxess",
            "Starbucks",
            "Comcast",
            "Agilent Technologies",
            "Brown & Brown",
            "Texas Instruments",
            "Bio-Techne",
            "Stryker Corporation",
            "EOG Resources",
            "BNY Mellon",
            "Nvidia",
            "W. R. Berkley Corporation",
            "EPAM Systems",
            "Eaton Corporation",
            "Monolithic Power Systems",
            "Trimble Inc.",
            "NXP Semiconductors",
            "Bristol Myers Squibb",
            "American Electric Power",
            "CVS Health",
            "Emerson Electric",
            "Sherwin-Williams",
            "Newmont",
            "JPMorgan Chase",
            "Cadence Design Systems",
            "Keysight Technologies",
            "Jack Henry & Associates",
            "Sempra",
            "Rollins, Inc.",
            "Mettler Toledo",
            "Albemarle Corporation",
            "Mid-America Apartment Communities",
            "Arista Networks",
            "TransDigm Group",
            "Alliant Energy",
            "A. O. Smith",
            "Arthur J. Gallagher & Co.",
            "Ameriprise Financial",
            "D. R. Horton",
            "M&T Bank",
            "Domino's",
            "Principal Financial Group",
            "Elevance Health",
            "Abbott Laboratories",
            "Prudential Financial",
            "Globe Life",
            "United Parcel Service",
            "Waters Corporation",
            "KeyCorp",
            "Ansys",
            "ResMed",
            "Lennar",
            "Hilton Worldwide",
            "Everest Group",
            "Copart",
            "Evergy",
            "MSCI",
            "Fastenal",
            "Dover Corporation",
            "PNC Financial Services",
            "Verisign",
            "Kimco Realty",
            "BXP, Inc.",
            "Cognizant",
            "Synopsys",
            "Church & Dwight",
            "Wells Fargo",
            "Molson Coors Beverage Company",
            "Bank of America",
            "Federal Realty Investment Trust",
            "Extra Space Storage",
            "Ralph Lauren Corporation",
            "Discover Financial",
            "Howmet Aerospace",
            "O'Reilly Auto Parts",
            "Meta Platforms",
            "Booking Holdings",
            "Regeneron Pharmaceuticals",
            "Allegion",
            "Eversource Energy",
            "Universal Health Services",
            "DaVita",
            "Coterra",
            "Intuitive Surgical",
            "Philip Morris International",
            "HCA Healthcare",
            "Centene Corporation",
            "Hologic",
            "UDR, Inc.",
            "Edwards Lifesciences",
            "L3Harris",
            "Republic Services",
            "J.M. Smucker Company (The)",
            "Iron Mountain",
            "J.B. Hunt",
            "Realty Income",
            "Hormel Foods",
            "Ametek",
            "General Motors",
            "Trane Technologies",
            "Accenture",
            "Berkshire Hathaway",
            "Roper Technologies",
            "Essex Property Trust",
            "ONEOK",
            "Norfolk Southern Railway",
            "Northrop Grumman",
            "Crown Castle",
            "Xcel Energy",
            "Monster Beverage",
            "Lam Research",
            "Ross Stores",
            "Mondelez International",
            "General Dynamics",
            "Ford Motor Company",
            "Moody's Corporation",
            "PepsiCo",
            "Procter & Gamble",
            "Lockheed Martin",
            "S&P Global",
            "Union Pacific Corporation",
            "Kroger",
            "Coca-Cola Company (The)",
            "Kimberly-Clark",
            "IBM",
            "GE Aerospace",
            "Southern Company",
            "RTX Corporation",
            "PPG Industries",
            "Pfizer",
            "Public Service Enterprise Group",
            "Motorola Solutions",
            "Dollar Tree",
            "Kinder Morgan",
            "Pentair",
            "Dollar General",
            "Visa Inc.",
            "CarMax",
            "Chubb Limited",
            "Johnson Controls",
            "FedEx",
            "Masco",
            "W. W. Grainger",
            "Stanley Black & Decker",
            "Snap-on",
            "Verizon",
            "AT&T",
            "Lowe's",
            "PulteGroup",
            "Hess Corporation",
            "Freeport-McMoRan",
            "Mosaic Company (The)",
            "TE Connectivity",
            "Xylem Inc.",
            "Netflix",
            "F5, Inc.",
            "Nasdaq, Inc.",
            "WEC Energy Group",
            "Wynn Resorts",
            "Ventas",
            "Equinix",
            "Kraft Heinz",
            "PayPal",
            "AbbVie",
            "Zoetis",
            "News Corp (Class A)",
            "Vertex Pharmaceuticals",
            "Tractor Supply",
            "Quanta Services",
            "Microchip Technology",
            "Intercontinental Exchange",
            "Expeditors International",
            "Jacobs Solutions",
            "American Tower",
            "Mastercard",
            "CF Industries",
            "American Water Works",
            "Ulta Beauty",
            "Digital Realty",
            "LKQ Corporation",
            "Alphabet Inc. (Class A)",
            "Broadcom",
            "United Rentals",
            "Skyworks Solutions",
            "Henry Schein",
            "Salesforce",
            "Revvity",
            "Medtronic",
            "Citigroup",
            "Alphabet Inc. (Class C)",
            "CME Group",
            "Fidelity National Information Services",
            "CBRE Group",
            "Regency Centers",
            "Target Corporation",
            "Intel",
            "Walgreens Boots Alliance",
            "Verisk Analytics",
            "Hewlett Packard Enterprise",
            "Synchrony Financial",
            "Willis Towers Watson",
            "Citizens Financial Group",
            "AvalonBay Communities",
            "Host Hotels & Resorts",
            "Akamai Technologies",
            "Prologis",
            "Biogen",
            "Thermo Fisher Scientific",
            "Tapestry, Inc.",
            "LabCorp",
            "Constellation Brands",
            "Public Storage",
            "IQVIA",
            "SBA Communications",
            "Fortive",
            "Cooper Companies (The)",
            "Dominion Energy",
            "Idexx Laboratories",
            "Cboe Global Markets",
            "Fortinet",
            "Advanced Micro Devices",
            "Gartner",
            "Align Technology",
            "Amazon",
            "Nike, Inc.",
            "Morgan Stanley",
            "Eastman Chemical Company",
            "eBay",
            "Electronic Arts",
            "Cummins",
            "McDonald's",
            "HP Inc.",
            "Huntington Ingalls Industries",
            "Broadridge Financial Solutions",
            "Tyler Technologies",
            "T-Mobile US",
            "Leidos",
            "CDW",
            "Quest Diagnostics",
            "McCormick & Company",
            "Gen Digital",
            "Cintas",
            "Fiserv",
            "Cencora",
            "PTC Inc.",
            "Charles River Laboratories",
            "Moderna",
            "ServiceNow",
            "Old Dominion",
            "Zebra Technologies",
            "Paycom",
            "Ingersoll Rand",
            "Otis Worldwide",
            "Carrier Global",
            "PPL Corporation",
            "Applied Materials",
            "Allstate",
            "Cardinal Health",
            "NetApp",
            "Campbell Soup Company",
            "ConocoPhillips",
            "CMS Energy",
            "Colgate-Palmolive",
            "Tesla, Inc.",
            "Enphase Energy",
            "Generac",
            "Entergy",
            "Steel Dynamics",
            "First Solar",
            "DTE Energy",
            "Pinnacle West",
            "APA Corporation",
            "KLA Corporation",
            "Yum! Brands",
            "Cincinnati Financial",
            "Omnicom Group",
            "Northern Trust",
            "3M",
            "Supermicro",
            "Texas Pacific Land Corporation",
            "Lennox International",
            "Dell Technologies",
            "Marriott International",
            "Erie Indemnity",
            "Palantir Technologies",
            "Deckers Brands",
            "FirstEnergy",
            "Equity Residential",
            "Intuit",
            "Zimmer Biomet",
            "Paramount Global",
            "Micron Technology",
            "Aon",
            "Darden Restaurants",
            "AutoZone",
            "Carnival",
            "Charles Schwab Corporation",
            "Equifax",
            "Axon Enterprise",
            "Insulet Corporation",
            "Keurig Dr Pepper",
            "International Paper",
            "Expand Energy",
            "Fair Isaac",
            "CoStar Group",
            "PG&E Corporation",
            "Builders FirstSource",
            "Warner Bros. Discovery",
            "Blackstone Inc.",
            "UnitedHealth Group",
            "Linde plc",
            "Microsoft",
            "Simon Property Group",
            "Valero Energy",
            "Tyson Foods",
            "Gilead Sciences",
            "Kellanova",
            "Ameren",
            "Ecolab",
            "Estée Lauder Companies (The)",
            "TJX Companies",
            "Parker Hannifin",
            "Illinois Tool Works",
            "Sysco",
            "Marsh McLennan",
            "Avery Dennison",
            "Home Depot (The)",
            "Juniper Networks",
            "C.H. Robinson",
            "Viatris",
            "Brown–Forman",
            "Chipotle Mexican Grill",
            "NRG Energy",
            "LyondellBasell",
            "Seagate Technology",
            "Phillips 66",
            "Hasbro",
            "Conagra Brands",
            "Humana",
            "Automatic Data Processing",
            "CenterPoint Energy",
            "Air Products",
            "Ball Corporation",
            "Healthpeak Properties",
            "Expedia Group",
            "Marathon Petroleum",
            "Aptiv",
            "Mohawk Industries",
            "Corpay",
            "MGM Resorts",
            "International Flavors & Fragrances",
            "NextEra Energy",
            "Incyte",
            "Charter Communications",
            "Cigna",
            "Duke Energy",
            "American Express",
            "Textron",
            "American International Group",
            "Weyerhaeuser",
            "Paccar",
            "News Corp (Class B)",
            "Amcor",
            "Becton Dickinson",
            "Lilly (Eli)",
            "Take-Two Interactive",
            "Williams Companies",
            "Genuine Parts Company",
            "Johnson & Johnson",
            "Baxter International",
            "Corteva",
            "Clorox",
            "Arch Capital Group",
            "Hubbell Incorporated",
            "Boeing",
            "Dayforce",
            "Lamb Weston",
            "Baker Hughes",
            "Live Nation Entertainment",
            "Dexcom",
            "EQT Corporation",
            "GE Vernova",
            "Progressive Corporation",
            "Williams-Sonoma",
            "GoDaddy",
            "KKR",
            "Workday, Inc.",
            "Smurfit WestRock",
            "Apollo Global Management",
            "Solventum",
            "Vistra Corp.",
            "CrowdStrike",
            "Oracle Corporation",
            "Autodesk",
            "Delta Air Lines",
            "Walmart",
            "Apple Inc.",
            "Western Digital",
            "Amgen",
            "Interpublic Group of Companies (The)",
            "Adobe Inc.",
            "Corning Inc.",
            "Boston Scientific",
            "Southwest Airlines",
            "Costco",
            "Cisco",
            "United Airlines Holdings",
            "Royal Caribbean Group",
            "Norwegian Cruise Line Holdings",
            "Walt Disney Company (The)",
            "Dow Inc.",
            "Las Vegas Sands",
            "Jabil",
            "Targa Resources",
            "Caesars Entertainment",
            "Constellation Energy",
            "Invitation Homes",
            "Lululemon Athletica",
            "Palo Alto Networks",
            "Kenvue",
            "Airbnb",
            "Veralto",
            "Uber",
            "GE HealthCare",
            "TKO Group Holdings",
            "DoorDash"
           ],
           [
            true,
            true,
            true,
            true,
            true,
            true,
            true,
            true,
            true,
            true,
            true,
            true,
            true,
            true,
            true,
            true,
            true,
            true,
            true,
            true,
            true,
            true,
            true,
            true,
            true,
            true,
            true,
            true,
            true,
            true,
            true,
            true,
            true,
            true,
            true,
            true,
            true,
            true,
            true,
            true,
            true,
            true,
            true,
            true,
            true,
            true,
            true,
            true,
            true,
            true,
            true,
            true,
            true,
            true,
            true,
            true,
            true,
            true,
            true,
            true,
            true,
            true,
            true,
            true,
            true,
            true,
            true,
            true,
            true,
            true,
            true,
            true,
            true,
            true,
            true,
            true,
            true,
            true,
            true,
            true,
            true,
            true,
            true,
            true,
            true,
            true,
            true,
            true,
            true,
            true,
            true,
            true,
            true,
            true,
            true,
            true,
            true,
            true,
            true,
            true,
            true,
            true,
            true,
            true,
            true,
            true,
            true,
            true,
            true,
            true,
            true,
            true,
            true,
            true,
            true,
            true,
            true,
            true,
            true,
            true,
            true,
            true,
            true,
            true,
            true,
            true,
            true,
            true,
            true,
            true,
            true,
            true,
            true,
            true,
            true,
            true,
            true,
            true,
            true,
            true,
            true,
            true,
            true,
            true,
            true,
            true,
            true,
            true,
            true,
            true,
            true,
            true,
            true,
            true,
            true,
            true,
            true,
            true,
            true,
            true,
            true,
            true,
            true,
            true,
            true,
            true,
            true,
            true,
            true,
            true,
            true,
            true,
            true,
            true,
            true,
            true,
            true,
            true,
            true,
            true,
            true,
            true,
            true,
            true,
            true,
            true,
            true,
            true,
            true,
            true,
            true,
            true,
            true,
            true,
            true,
            true,
            true,
            true,
            true,
            true,
            true,
            true,
            true,
            true,
            true,
            true,
            true,
            true,
            true,
            true,
            true,
            true,
            true,
            true,
            true,
            true,
            true,
            true,
            true,
            true,
            true,
            true,
            true,
            true,
            true,
            true,
            true,
            true,
            true,
            true,
            true,
            true,
            true,
            true,
            true,
            true,
            true,
            true,
            true,
            true,
            true,
            true,
            true,
            true,
            true,
            true,
            true,
            true,
            true,
            true,
            true,
            true,
            true,
            true,
            true,
            true,
            true,
            true,
            true,
            true,
            true,
            true,
            true,
            true,
            true,
            true,
            true,
            true,
            true,
            true,
            true,
            true,
            true,
            true,
            true,
            true,
            true,
            true,
            true,
            true,
            true,
            true,
            true,
            true,
            true,
            true,
            true,
            true,
            true,
            true,
            true,
            true,
            true,
            true,
            true,
            true,
            true,
            true,
            true,
            true,
            true,
            true,
            true,
            true,
            true,
            true,
            true,
            true,
            true,
            true,
            true,
            true,
            true,
            true,
            true,
            true,
            true,
            true,
            true,
            true,
            true,
            true,
            true,
            true,
            true,
            true,
            true,
            true,
            true,
            true,
            true,
            true,
            true,
            true,
            true,
            true,
            true,
            true,
            true,
            true,
            true,
            true,
            true,
            true,
            true,
            true,
            true,
            true,
            true,
            true,
            true,
            true,
            true,
            true,
            true,
            true,
            true,
            true,
            true,
            true,
            true,
            true,
            true,
            true,
            true,
            true,
            true,
            true,
            true,
            true,
            true,
            true,
            true,
            true,
            true,
            true,
            true,
            true,
            true,
            true,
            true,
            true,
            true,
            true,
            true,
            true,
            true,
            true,
            true,
            true,
            true,
            true,
            true,
            true,
            true,
            true,
            true,
            true,
            true,
            true,
            true,
            true,
            true,
            true,
            true,
            true,
            true,
            true,
            true,
            true,
            true,
            true,
            true,
            true,
            true,
            true,
            true,
            true,
            true,
            true,
            true,
            true,
            true,
            true,
            true,
            true,
            true,
            true,
            true,
            true,
            true,
            true,
            true,
            true,
            true,
            true,
            true,
            true,
            true,
            true,
            true,
            true,
            true,
            true,
            true,
            true,
            true,
            true,
            true,
            true,
            true,
            true,
            true,
            true,
            true,
            true,
            true,
            true,
            true,
            true,
            true,
            true,
            true,
            true,
            true,
            true,
            true,
            true,
            true,
            true,
            true,
            true,
            true,
            true,
            true,
            true,
            true,
            true,
            true,
            true,
            true,
            true,
            true,
            true,
            true,
            true,
            true,
            true,
            true,
            true,
            true,
            true,
            true,
            true,
            true,
            true,
            true,
            true,
            true,
            true,
            true,
            true,
            true
           ],
           [
            true,
            false,
            true,
            true,
            true,
            false,
            true,
            true,
            false,
            false,
            true,
            true,
            true,
            false,
            false,
            false,
            true,
            false,
            true,
            false,
            true,
            true,
            true,
            true,
            true,
            true,
            true,
            true,
            true,
            true,
            true,
            true,
            true,
            false,
            true,
            true,
            true,
            true,
            true,
            false,
            true,
            false,
            false,
            true,
            true,
            true,
            true,
            false,
            false,
            false,
            true,
            true,
            false,
            false,
            false,
            false,
            false,
            false,
            false,
            false,
            true,
            false,
            false,
            false,
            false,
            false,
            false,
            false,
            false,
            false,
            true,
            true,
            false,
            false,
            true,
            true,
            false,
            true,
            false,
            false,
            true,
            false,
            true,
            true,
            false,
            true,
            false,
            true,
            true,
            true,
            false,
            true,
            false,
            true,
            false,
            false,
            false,
            false,
            false,
            false,
            true,
            true,
            true,
            false,
            false,
            false,
            false,
            false,
            false,
            true,
            false,
            false,
            false,
            false,
            false,
            false,
            false,
            false,
            false,
            true,
            false,
            true,
            true,
            false,
            true,
            true,
            true,
            true,
            false,
            false,
            true,
            true,
            false,
            false,
            true,
            true,
            false,
            false,
            true,
            true,
            true,
            true,
            false,
            false,
            false,
            false,
            false,
            false,
            true,
            false,
            true,
            false,
            true,
            false,
            true,
            true,
            false,
            false,
            false,
            true,
            true,
            false,
            false,
            false,
            true,
            false,
            true,
            false,
            false,
            false,
            false,
            false,
            false,
            true,
            false,
            false,
            false,
            false,
            true,
            false,
            false,
            false,
            false,
            false,
            false,
            false,
            true,
            true,
            false,
            false,
            false,
            false,
            false,
            false,
            false,
            false,
            false,
            false,
            false,
            false,
            false,
            false,
            false,
            false,
            false,
            false,
            false,
            false,
            false,
            false,
            false,
            false,
            false,
            false,
            true,
            false,
            false,
            false,
            false,
            true,
            false,
            true,
            false,
            false,
            false,
            true,
            false,
            true,
            false,
            false,
            false,
            false,
            false,
            false,
            false,
            false,
            false,
            false,
            false,
            false,
            false,
            false,
            false,
            true,
            false,
            false,
            false,
            false,
            false,
            false,
            false,
            false,
            true,
            false,
            false,
            false,
            false,
            false,
            false,
            false,
            true,
            false,
            false,
            true,
            true,
            false,
            false,
            false,
            false,
            false,
            false,
            false,
            false,
            false,
            false,
            false,
            false,
            false,
            false,
            false,
            false,
            false,
            false,
            false,
            false,
            false,
            false,
            false,
            false,
            false,
            false,
            false,
            false,
            false,
            false,
            false,
            false,
            true,
            false,
            false,
            false,
            true,
            false,
            false,
            false,
            false,
            false,
            false,
            false,
            false,
            false,
            false,
            false,
            false,
            false,
            false,
            false,
            false,
            false,
            false,
            false,
            false,
            false,
            true,
            false,
            false,
            false,
            false,
            true,
            false,
            false,
            true,
            true,
            false,
            false,
            false,
            false,
            false,
            false,
            false,
            true,
            true,
            false,
            false,
            true,
            true,
            false,
            false,
            false,
            true,
            false,
            false,
            false,
            false,
            false,
            true,
            true,
            false,
            false,
            false,
            false,
            true,
            true,
            false,
            false,
            false,
            false,
            false,
            true,
            false,
            false,
            false,
            false,
            false,
            false,
            true,
            true,
            false,
            false,
            false,
            false,
            true,
            false,
            false,
            false,
            true,
            false,
            false,
            false,
            false,
            false,
            false,
            false,
            false,
            false,
            false,
            false,
            false,
            false,
            false,
            false,
            false,
            false,
            false,
            false,
            false,
            false,
            true,
            false,
            false,
            false,
            false,
            false,
            false,
            false,
            false,
            false,
            false,
            false,
            false,
            false,
            false,
            false,
            false,
            false,
            false,
            false,
            false,
            false,
            false,
            false,
            false,
            false,
            false,
            false,
            false,
            false,
            false,
            false,
            false,
            false,
            false,
            false,
            false,
            false,
            false,
            false,
            false,
            false,
            false,
            false,
            false,
            true,
            false,
            false,
            false,
            false,
            true,
            false,
            false,
            false,
            false,
            false,
            false,
            false,
            false,
            false,
            false,
            false,
            false,
            false,
            false,
            false,
            false,
            false,
            false,
            false,
            false,
            false,
            false,
            false,
            false,
            false,
            false,
            false,
            false,
            false,
            false,
            false,
            false,
            false,
            false,
            false,
            false,
            false,
            false,
            false,
            false,
            false,
            false,
            false,
            false,
            false
           ],
           [
            true,
            true,
            true,
            true,
            true,
            true,
            true,
            true,
            true,
            true,
            false,
            false,
            true,
            true,
            true,
            true,
            true,
            true,
            false,
            true,
            true,
            true,
            true,
            true,
            true,
            true,
            true,
            true,
            false,
            true,
            true,
            true,
            true,
            true,
            true,
            true,
            true,
            false,
            true,
            true,
            true,
            true,
            true,
            true,
            true,
            true,
            true,
            true,
            false,
            true,
            true,
            true,
            true,
            true,
            true,
            true,
            true,
            true,
            true,
            false,
            false,
            false,
            true,
            true,
            true,
            true,
            true,
            true,
            true,
            true,
            true,
            true,
            true,
            true,
            true,
            true,
            true,
            true,
            true,
            true,
            true,
            true,
            true,
            true,
            true,
            false,
            false,
            true,
            true,
            true,
            true,
            true,
            true,
            true,
            true,
            true,
            true,
            true,
            true,
            false,
            false,
            true,
            true,
            true,
            true,
            true,
            true,
            false,
            true,
            true,
            true,
            true,
            true,
            true,
            true,
            true,
            true,
            true,
            true,
            true,
            true,
            true,
            false,
            true,
            true,
            false,
            true,
            true,
            true,
            true,
            false,
            true,
            true,
            true,
            true,
            false,
            false,
            true,
            true,
            true,
            true,
            true,
            true,
            false,
            false,
            false,
            true,
            true,
            true,
            true,
            true,
            true,
            true,
            true,
            true,
            true,
            true,
            true,
            true,
            true,
            true,
            true,
            true,
            true,
            true,
            true,
            true,
            true,
            true,
            true,
            true,
            true,
            true,
            true,
            true,
            true,
            true,
            true,
            true,
            true,
            true,
            true,
            true,
            true,
            true,
            true,
            true,
            true,
            true,
            true,
            true,
            true,
            true,
            true,
            true,
            true,
            true,
            true,
            true,
            true,
            true,
            true,
            true,
            true,
            true,
            true,
            true,
            true,
            true,
            true,
            true,
            true,
            true,
            true,
            true,
            true,
            true,
            false,
            false,
            false,
            false,
            false,
            false,
            false,
            false,
            false,
            false,
            false,
            false,
            true,
            true,
            true,
            true,
            true,
            true,
            false,
            true,
            true,
            true,
            true,
            true,
            true,
            true,
            false,
            true,
            true,
            true,
            true,
            true,
            true,
            true,
            true,
            false,
            true,
            true,
            true,
            true,
            true,
            true,
            true,
            true,
            true,
            true,
            false,
            false,
            false,
            true,
            true,
            true,
            true,
            true,
            false,
            false,
            false,
            true,
            true,
            true,
            true,
            true,
            true,
            true,
            true,
            true,
            true,
            true,
            true,
            true,
            true,
            true,
            true,
            false,
            true,
            true,
            true,
            true,
            true,
            true,
            false,
            true,
            true,
            true,
            false,
            false,
            false,
            true,
            true,
            false,
            false,
            false,
            true,
            true,
            true,
            true,
            true,
            true,
            true,
            true,
            true,
            true,
            true,
            true,
            true,
            true,
            false,
            true,
            true,
            true,
            true,
            true,
            true,
            true,
            true,
            false,
            false,
            false,
            true,
            true,
            false,
            true,
            true,
            false,
            false,
            true,
            true,
            false,
            false,
            true,
            false,
            false,
            false,
            false,
            false,
            false,
            false,
            true,
            false,
            false,
            false,
            false,
            false,
            false,
            false,
            false,
            false,
            true,
            false,
            true,
            false,
            false,
            false,
            false,
            false,
            false,
            false,
            false,
            false,
            false,
            true,
            false,
            false,
            false,
            false,
            false,
            false,
            false,
            false,
            false,
            false,
            false,
            true,
            false,
            true,
            true,
            false,
            false,
            false,
            true,
            false,
            false,
            false,
            false,
            false,
            false,
            false,
            true,
            true,
            true,
            false,
            false,
            false,
            true,
            false,
            false,
            false,
            false,
            false,
            false,
            false,
            false,
            false,
            true,
            false,
            false,
            true,
            true,
            true,
            false,
            false,
            false,
            false,
            false,
            false,
            false,
            false,
            false,
            false,
            false,
            false,
            true,
            true,
            false,
            false,
            true,
            false,
            false,
            false,
            false,
            true,
            false,
            false,
            false,
            false,
            false,
            true,
            false,
            false,
            false,
            false,
            false,
            false,
            false,
            false,
            false,
            false,
            false,
            false,
            false,
            false,
            false,
            false,
            false,
            false,
            false,
            false,
            false,
            false,
            false,
            false,
            false,
            false,
            false,
            false,
            false,
            false,
            false,
            false,
            false,
            false,
            false,
            false,
            false,
            false,
            false,
            false,
            false,
            false,
            false,
            false,
            false,
            false,
            false,
            false,
            false
           ],
           [
            true,
            true,
            true,
            true,
            false,
            true,
            true,
            true,
            true,
            true,
            true,
            true,
            false,
            true,
            true,
            true,
            true,
            true,
            true,
            true,
            true,
            true,
            true,
            true,
            true,
            true,
            true,
            true,
            true,
            true,
            false,
            false,
            false,
            false,
            false,
            true,
            false,
            true,
            false,
            true,
            true,
            true,
            true,
            true,
            false,
            true,
            true,
            true,
            true,
            true,
            true,
            true,
            true,
            true,
            true,
            true,
            false,
            true,
            true,
            true,
            true,
            true,
            true,
            false,
            true,
            true,
            true,
            true,
            true,
            true,
            false,
            false,
            true,
            true,
            false,
            false,
            true,
            false,
            false,
            false,
            false,
            true,
            false,
            false,
            true,
            false,
            true,
            false,
            false,
            false,
            true,
            false,
            false,
            false,
            true,
            true,
            true,
            true,
            true,
            true,
            true,
            false,
            false,
            true,
            true,
            true,
            false,
            true,
            true,
            false,
            false,
            true,
            true,
            true,
            false,
            false,
            false,
            false,
            false,
            false,
            true,
            false,
            true,
            false,
            false,
            true,
            false,
            false,
            false,
            false,
            true,
            false,
            true,
            false,
            false,
            true,
            true,
            false,
            false,
            false,
            false,
            false,
            true,
            true,
            true,
            true,
            true,
            true,
            false,
            false,
            false,
            false,
            false,
            false,
            false,
            false,
            true,
            true,
            false,
            false,
            false,
            false,
            false,
            false,
            false,
            true,
            false,
            true,
            true,
            true,
            false,
            true,
            false,
            true,
            true,
            false,
            true,
            true,
            false,
            true,
            true,
            true,
            true,
            true,
            false,
            true,
            false,
            false,
            true,
            true,
            true,
            false,
            true,
            true,
            true,
            true,
            true,
            true,
            false,
            true,
            true,
            true,
            true,
            true,
            true,
            true,
            true,
            true,
            false,
            false,
            false,
            true,
            false,
            false,
            false,
            false,
            true,
            true,
            true,
            true,
            true,
            true,
            true,
            true,
            true,
            false,
            true,
            false,
            false,
            false,
            false,
            false,
            false,
            false,
            false,
            false,
            true,
            false,
            false,
            false,
            false,
            false,
            false,
            false,
            false,
            false,
            false,
            false,
            false,
            false,
            false,
            false,
            false,
            false,
            false,
            true,
            false,
            false,
            false,
            false,
            false,
            false,
            false,
            true,
            true,
            false,
            false,
            false,
            false,
            false,
            true,
            true,
            true,
            true,
            false,
            false,
            false,
            true,
            false,
            false,
            false,
            false,
            false,
            false,
            false,
            false,
            false,
            false,
            false,
            false,
            false,
            false,
            false,
            true,
            false,
            false,
            false,
            false,
            false,
            false,
            false,
            true,
            true,
            true,
            false,
            false,
            true,
            true,
            true,
            false,
            false,
            false,
            false,
            false,
            false,
            false,
            false,
            false,
            false,
            false,
            false,
            false,
            false,
            false,
            false,
            false,
            false,
            false,
            false,
            false,
            false,
            false,
            true,
            true,
            true,
            false,
            true,
            false,
            false,
            true,
            false,
            false,
            false,
            true,
            true,
            false,
            true,
            true,
            true,
            true,
            true,
            true,
            true,
            true,
            true,
            false,
            true,
            true,
            false,
            false,
            true,
            false,
            false,
            true,
            false,
            false,
            false,
            false,
            false,
            true,
            true,
            false,
            false,
            true,
            true,
            false,
            false,
            false,
            true,
            false,
            false,
            false,
            false,
            false,
            false,
            false,
            true,
            true,
            true,
            false,
            false,
            false,
            false,
            true,
            true,
            true,
            false,
            true,
            true,
            true,
            true,
            true,
            true,
            true,
            false,
            false,
            false,
            false,
            false,
            false,
            false,
            false,
            false,
            true,
            true,
            false,
            true,
            true,
            true,
            true,
            false,
            false,
            false,
            false,
            false,
            false,
            false,
            true,
            true,
            false,
            false,
            true,
            true,
            true,
            true,
            false,
            true,
            false,
            false,
            false,
            true,
            true,
            false,
            true,
            true,
            true,
            true,
            false,
            true,
            false,
            true,
            false,
            false,
            false,
            true,
            false,
            false,
            false,
            false,
            false,
            false,
            false,
            false,
            false,
            false,
            false,
            false,
            false,
            false,
            false,
            false,
            false,
            false,
            false,
            false,
            false,
            false,
            false,
            false,
            false,
            false,
            false,
            false,
            false,
            false,
            false,
            false,
            false,
            false,
            false,
            false,
            false,
            false,
            false,
            false,
            false,
            false,
            false,
            false,
            false,
            false,
            false,
            false
           ],
           [
            true,
            true,
            true,
            true,
            true,
            true,
            true,
            true,
            true,
            true,
            false,
            false,
            false,
            true,
            true,
            true,
            true,
            true,
            false,
            false,
            true,
            true,
            true,
            true,
            true,
            true,
            true,
            true,
            false,
            true,
            true,
            true,
            true,
            true,
            true,
            true,
            false,
            false,
            true,
            true,
            true,
            true,
            true,
            false,
            false,
            true,
            true,
            true,
            true,
            true,
            true,
            true,
            true,
            true,
            true,
            true,
            true,
            true,
            true,
            false,
            false,
            true,
            true,
            true,
            true,
            false,
            false,
            true,
            true,
            true,
            true,
            true,
            true,
            true,
            false,
            false,
            false,
            true,
            true,
            true,
            true,
            true,
            true,
            true,
            true,
            true,
            false,
            true,
            true,
            true,
            true,
            true,
            true,
            true,
            true,
            true,
            false,
            true,
            true,
            false,
            false,
            true,
            true,
            true,
            true,
            true,
            true,
            true,
            true,
            true,
            true,
            true,
            true,
            true,
            true,
            true,
            true,
            true,
            true,
            true,
            true,
            false,
            false,
            true,
            true,
            false,
            true,
            true,
            true,
            true,
            false,
            true,
            false,
            true,
            true,
            false,
            false,
            true,
            false,
            false,
            true,
            true,
            true,
            false,
            false,
            false,
            true,
            true,
            true,
            true,
            true,
            true,
            true,
            true,
            true,
            true,
            false,
            true,
            true,
            false,
            true,
            true,
            true,
            true,
            true,
            true,
            true,
            true,
            true,
            true,
            true,
            true,
            true,
            false,
            true,
            true,
            true,
            true,
            true,
            true,
            true,
            true,
            true,
            true,
            true,
            true,
            true,
            true,
            true,
            true,
            true,
            false,
            true,
            true,
            true,
            true,
            true,
            true,
            true,
            false,
            false,
            false,
            false,
            false,
            false,
            false,
            false,
            false,
            true,
            true,
            true,
            false,
            true,
            true,
            false,
            true,
            false,
            false,
            false,
            false,
            false,
            false,
            false,
            false,
            false,
            false,
            false,
            true,
            true,
            true,
            true,
            true,
            true,
            true,
            true,
            true,
            false,
            true,
            false,
            true,
            true,
            true,
            true,
            true,
            true,
            true,
            true,
            true,
            true,
            true,
            true,
            true,
            true,
            true,
            true,
            false,
            true,
            true,
            true,
            true,
            false,
            true,
            true,
            false,
            false,
            false,
            true,
            true,
            true,
            true,
            false,
            false,
            false,
            false,
            true,
            false,
            true,
            false,
            false,
            true,
            false,
            true,
            true,
            false,
            true,
            true,
            true,
            true,
            true,
            true,
            true,
            true,
            true,
            false,
            true,
            true,
            true,
            true,
            true,
            true,
            true,
            false,
            false,
            false,
            true,
            true,
            false,
            false,
            false,
            true,
            true,
            true,
            true,
            true,
            true,
            true,
            true,
            true,
            true,
            true,
            true,
            true,
            true,
            false,
            true,
            true,
            true,
            true,
            false,
            false,
            false,
            false,
            false,
            false,
            false,
            true,
            false,
            true,
            true,
            false,
            true,
            true,
            true,
            false,
            false,
            false,
            false,
            false,
            false,
            false,
            false,
            false,
            false,
            false,
            false,
            false,
            false,
            false,
            false,
            false,
            false,
            false,
            false,
            false,
            false,
            true,
            false,
            false,
            false,
            false,
            false,
            false,
            false,
            false,
            false,
            false,
            false,
            false,
            false,
            false,
            false,
            false,
            false,
            false,
            false,
            false,
            false,
            false,
            false,
            false,
            true,
            false,
            false,
            false,
            false,
            false,
            false,
            false,
            false,
            false,
            false,
            false,
            false,
            false,
            false,
            false,
            false,
            false,
            true,
            true,
            false,
            false,
            true,
            false,
            false,
            true,
            false,
            false,
            false,
            false,
            false,
            true,
            true,
            false,
            false,
            false,
            true,
            false,
            false,
            true,
            true,
            false,
            false,
            false,
            false,
            false,
            false,
            false,
            false,
            false,
            false,
            false,
            false,
            false,
            false,
            false,
            false,
            false,
            false,
            false,
            false,
            false,
            false,
            false,
            false,
            true,
            true,
            false,
            false,
            false,
            false,
            false,
            false,
            false,
            false,
            false,
            false,
            false,
            false,
            false,
            false,
            false,
            false,
            false,
            false,
            false,
            false,
            false,
            false,
            false,
            false,
            false,
            false,
            false,
            false,
            false,
            false,
            false,
            false,
            false,
            false,
            false,
            false,
            false,
            false,
            false,
            false,
            false,
            false,
            false,
            false,
            false,
            false
           ],
           [
            true,
            true,
            true,
            true,
            true,
            true,
            true,
            true,
            true,
            true,
            true,
            true,
            true,
            true,
            false,
            true,
            false,
            true,
            true,
            true,
            false,
            false,
            false,
            false,
            false,
            false,
            false,
            false,
            true,
            false,
            true,
            true,
            true,
            true,
            true,
            false,
            true,
            true,
            true,
            false,
            false,
            false,
            true,
            false,
            true,
            false,
            false,
            true,
            true,
            true,
            false,
            false,
            true,
            false,
            false,
            false,
            true,
            false,
            false,
            true,
            false,
            true,
            false,
            true,
            false,
            true,
            false,
            false,
            false,
            false,
            false,
            false,
            false,
            false,
            true,
            true,
            false,
            false,
            false,
            true,
            false,
            false,
            false,
            false,
            false,
            true,
            true,
            false,
            false,
            false,
            false,
            false,
            true,
            false,
            false,
            false,
            false,
            false,
            false,
            true,
            true,
            false,
            false,
            false,
            false,
            false,
            false,
            false,
            false,
            false,
            false,
            false,
            false,
            false,
            true,
            true,
            true,
            false,
            true,
            false,
            false,
            true,
            true,
            true,
            false,
            false,
            false,
            false,
            true,
            false,
            false,
            false,
            false,
            false,
            false,
            true,
            true,
            false,
            false,
            false,
            false,
            false,
            false,
            true,
            true,
            true,
            false,
            false,
            false,
            true,
            false,
            false,
            false,
            false,
            false,
            false,
            false,
            false,
            true,
            false,
            false,
            false,
            false,
            false,
            false,
            false,
            false,
            false,
            false,
            false,
            false,
            false,
            false,
            false,
            false,
            false,
            false,
            false,
            false,
            false,
            false,
            false,
            false,
            false,
            false,
            false,
            false,
            false,
            false,
            false,
            false,
            true,
            false,
            false,
            false,
            false,
            false,
            false,
            false,
            false,
            false,
            false,
            false,
            false,
            false,
            false,
            false,
            false,
            false,
            false,
            false,
            false,
            false,
            false,
            false,
            false,
            false,
            true,
            false,
            false,
            false,
            false,
            true,
            false,
            false,
            true,
            true,
            false,
            false,
            false,
            false,
            false,
            false,
            false,
            false,
            false,
            false,
            false,
            false,
            false,
            false,
            false,
            false,
            false,
            false,
            false,
            false,
            false,
            false,
            false,
            false,
            false,
            false,
            false,
            false,
            false,
            false,
            false,
            false,
            false,
            false,
            false,
            false,
            false,
            false,
            true,
            false,
            false,
            false,
            false,
            false,
            true,
            false,
            false,
            false,
            false,
            false,
            false,
            false,
            false,
            true,
            false,
            false,
            true,
            false,
            false,
            false,
            false,
            false,
            false,
            false,
            false,
            false,
            false,
            false,
            false,
            false,
            false,
            false,
            false,
            false,
            false,
            true,
            true,
            false,
            false,
            true,
            false,
            true,
            false,
            false,
            false,
            false,
            false,
            false,
            false,
            false,
            false,
            false,
            false,
            false,
            false,
            false,
            false,
            false,
            false,
            false,
            false,
            false,
            false,
            true,
            false,
            false,
            true,
            false,
            false,
            false,
            true,
            false,
            false,
            false,
            false,
            false,
            false,
            false,
            true,
            false,
            false,
            true,
            false,
            false,
            true,
            true,
            true,
            false,
            true,
            false,
            false,
            false,
            false,
            false,
            false,
            false,
            false,
            false,
            false,
            false,
            false,
            false,
            false,
            false,
            false,
            true,
            false,
            false,
            false,
            false,
            false,
            false,
            false,
            false,
            false,
            false,
            true,
            false,
            false,
            false,
            false,
            false,
            false,
            false,
            false,
            false,
            false,
            false,
            false,
            false,
            false,
            false,
            false,
            false,
            false,
            false,
            false,
            false,
            false,
            false,
            false,
            false,
            false,
            false,
            false,
            false,
            false,
            false,
            false,
            false,
            false,
            false,
            false,
            false,
            false,
            false,
            false,
            false,
            false,
            false,
            false,
            false,
            false,
            false,
            false,
            false,
            false,
            false,
            false,
            false,
            true,
            false,
            false,
            false,
            false,
            false,
            false,
            false,
            false,
            false,
            false,
            false,
            true,
            false,
            false,
            false,
            false,
            false,
            false,
            false,
            false,
            false,
            false,
            false,
            false,
            false,
            false,
            false,
            false,
            false,
            false,
            false,
            false,
            false,
            false,
            false,
            false,
            false,
            false,
            false,
            false,
            false,
            false,
            false,
            false,
            false,
            false,
            false,
            false,
            false,
            false,
            false,
            false,
            false,
            false,
            false,
            false,
            false,
            false,
            false,
            false,
            false,
            false,
            false,
            false,
            false
           ],
           [
            true,
            true,
            false,
            false,
            true,
            true,
            false,
            false,
            true,
            true,
            true,
            true,
            true,
            false,
            true,
            false,
            false,
            false,
            true,
            true,
            false,
            false,
            false,
            false,
            false,
            false,
            false,
            false,
            true,
            false,
            false,
            false,
            false,
            true,
            false,
            false,
            true,
            true,
            false,
            true,
            false,
            true,
            false,
            true,
            true,
            false,
            false,
            false,
            true,
            false,
            false,
            false,
            false,
            false,
            false,
            false,
            false,
            false,
            false,
            true,
            true,
            false,
            false,
            false,
            false,
            false,
            true,
            false,
            false,
            false,
            false,
            false,
            false,
            false,
            false,
            false,
            true,
            false,
            true,
            false,
            false,
            false,
            false,
            false,
            false,
            false,
            true,
            false,
            false,
            false,
            false,
            false,
            false,
            false,
            false,
            false,
            true,
            false,
            false,
            true,
            false,
            false,
            false,
            false,
            false,
            false,
            true,
            true,
            false,
            false,
            true,
            false,
            false,
            false,
            false,
            false,
            false,
            true,
            false,
            false,
            false,
            false,
            false,
            false,
            false,
            true,
            false,
            false,
            false,
            true,
            true,
            false,
            true,
            true,
            false,
            false,
            true,
            true,
            true,
            true,
            false,
            false,
            false,
            true,
            true,
            true,
            false,
            false,
            false,
            false,
            false,
            true,
            false,
            true,
            false,
            false,
            true,
            false,
            false,
            true,
            false,
            true,
            true,
            true,
            false,
            false,
            false,
            false,
            false,
            false,
            true,
            false,
            true,
            false,
            false,
            true,
            false,
            false,
            false,
            false,
            false,
            false,
            false,
            false,
            true,
            false,
            false,
            false,
            false,
            false,
            false,
            true,
            false,
            false,
            false,
            false,
            false,
            false,
            false,
            false,
            false,
            false,
            false,
            false,
            false,
            false,
            false,
            false,
            false,
            false,
            false,
            false,
            false,
            false,
            false,
            false,
            false,
            false,
            true,
            false,
            true,
            false,
            false,
            true,
            true,
            false,
            false,
            false,
            true,
            false,
            false,
            false,
            false,
            false,
            false,
            true,
            false,
            false,
            true,
            false,
            false,
            false,
            false,
            false,
            false,
            false,
            false,
            false,
            false,
            false,
            false,
            false,
            false,
            false,
            false,
            false,
            false,
            false,
            false,
            false,
            false,
            false,
            false,
            false,
            false,
            true,
            false,
            false,
            false,
            false,
            false,
            false,
            true,
            true,
            false,
            true,
            false,
            false,
            true,
            false,
            false,
            false,
            false,
            false,
            false,
            false,
            false,
            false,
            false,
            false,
            true,
            false,
            false,
            false,
            false,
            false,
            false,
            false,
            false,
            false,
            false,
            false,
            false,
            false,
            false,
            false,
            false,
            true,
            false,
            false,
            false,
            false,
            false,
            false,
            false,
            false,
            false,
            false,
            false,
            false,
            false,
            false,
            false,
            true,
            false,
            false,
            false,
            false,
            false,
            true,
            false,
            false,
            false,
            false,
            true,
            false,
            false,
            false,
            false,
            false,
            false,
            false,
            false,
            false,
            false,
            false,
            false,
            true,
            false,
            false,
            true,
            false,
            false,
            false,
            false,
            false,
            false,
            false,
            true,
            true,
            false,
            false,
            false,
            false,
            false,
            false,
            false,
            true,
            false,
            false,
            false,
            true,
            false,
            false,
            false,
            false,
            false,
            false,
            false,
            true,
            true,
            false,
            true,
            false,
            true,
            false,
            false,
            false,
            false,
            false,
            false,
            false,
            false,
            false,
            false,
            false,
            false,
            false,
            false,
            false,
            false,
            false,
            false,
            false,
            false,
            false,
            false,
            false,
            false,
            false,
            false,
            true,
            false,
            false,
            false,
            false,
            false,
            false,
            false,
            false,
            false,
            false,
            false,
            false,
            false,
            false,
            false,
            false,
            false,
            false,
            false,
            false,
            false,
            false,
            false,
            true,
            false,
            false,
            false,
            false,
            false,
            false,
            false,
            false,
            false,
            false,
            false,
            false,
            false,
            false,
            false,
            true,
            false,
            false,
            false,
            false,
            false,
            false,
            false,
            false,
            false,
            false,
            false,
            false,
            false,
            false,
            false,
            false,
            false,
            false,
            false,
            false,
            false,
            false,
            false,
            false,
            false,
            false,
            false,
            false,
            false,
            false,
            false,
            false,
            false,
            false,
            false,
            false,
            false,
            false,
            false,
            false,
            false,
            false,
            false,
            false,
            false,
            false,
            false,
            false,
            false,
            false,
            false
           ],
           [
            7,
            6,
            6,
            6,
            6,
            6,
            6,
            6,
            6,
            6,
            5,
            5,
            5,
            5,
            5,
            5,
            5,
            5,
            5,
            5,
            5,
            5,
            5,
            5,
            5,
            5,
            5,
            5,
            5,
            5,
            5,
            5,
            5,
            5,
            5,
            5,
            5,
            5,
            5,
            5,
            5,
            5,
            5,
            5,
            5,
            5,
            5,
            5,
            5,
            5,
            5,
            5,
            5,
            4,
            4,
            4,
            4,
            4,
            4,
            4,
            4,
            4,
            4,
            4,
            4,
            4,
            4,
            4,
            4,
            4,
            4,
            4,
            4,
            4,
            4,
            4,
            4,
            4,
            4,
            4,
            4,
            4,
            4,
            4,
            4,
            4,
            4,
            4,
            4,
            4,
            4,
            4,
            4,
            4,
            4,
            4,
            4,
            4,
            4,
            4,
            4,
            4,
            4,
            4,
            4,
            4,
            4,
            4,
            4,
            4,
            4,
            4,
            4,
            4,
            4,
            4,
            4,
            4,
            4,
            4,
            4,
            4,
            4,
            4,
            4,
            4,
            4,
            4,
            4,
            4,
            4,
            4,
            4,
            4,
            4,
            4,
            4,
            4,
            4,
            4,
            4,
            4,
            4,
            4,
            4,
            4,
            4,
            4,
            4,
            4,
            4,
            4,
            4,
            4,
            4,
            4,
            4,
            4,
            4,
            4,
            4,
            4,
            4,
            4,
            4,
            4,
            4,
            4,
            4,
            4,
            4,
            4,
            4,
            4,
            4,
            4,
            4,
            4,
            4,
            4,
            4,
            4,
            4,
            4,
            4,
            4,
            4,
            4,
            4,
            4,
            4,
            4,
            4,
            4,
            4,
            4,
            4,
            4,
            3,
            3,
            3,
            3,
            3,
            3,
            3,
            3,
            3,
            3,
            3,
            3,
            3,
            3,
            3,
            3,
            3,
            3,
            3,
            3,
            3,
            3,
            3,
            3,
            3,
            3,
            3,
            3,
            3,
            3,
            3,
            3,
            3,
            3,
            3,
            3,
            3,
            3,
            3,
            3,
            3,
            3,
            3,
            3,
            3,
            3,
            3,
            3,
            3,
            3,
            3,
            3,
            3,
            3,
            3,
            3,
            3,
            3,
            3,
            3,
            3,
            3,
            3,
            3,
            3,
            3,
            3,
            3,
            3,
            3,
            3,
            3,
            3,
            3,
            3,
            3,
            3,
            3,
            3,
            3,
            3,
            3,
            3,
            3,
            3,
            3,
            3,
            3,
            3,
            3,
            3,
            3,
            3,
            3,
            3,
            3,
            3,
            3,
            3,
            3,
            3,
            3,
            3,
            3,
            3,
            3,
            3,
            3,
            3,
            3,
            3,
            3,
            3,
            3,
            3,
            3,
            3,
            3,
            3,
            3,
            3,
            3,
            3,
            3,
            3,
            3,
            3,
            3,
            3,
            3,
            3,
            3,
            3,
            3,
            3,
            3,
            3,
            3,
            3,
            3,
            3,
            3,
            3,
            3,
            3,
            3,
            3,
            3,
            3,
            3,
            3,
            3,
            3,
            3,
            3,
            3,
            3,
            3,
            3,
            2,
            2,
            2,
            2,
            2,
            2,
            2,
            2,
            2,
            2,
            2,
            2,
            2,
            2,
            2,
            2,
            2,
            2,
            2,
            2,
            2,
            2,
            2,
            2,
            2,
            2,
            2,
            2,
            2,
            2,
            2,
            2,
            2,
            2,
            2,
            2,
            2,
            2,
            2,
            2,
            2,
            2,
            2,
            2,
            2,
            2,
            2,
            2,
            2,
            2,
            2,
            2,
            2,
            2,
            2,
            2,
            2,
            2,
            2,
            2,
            2,
            2,
            2,
            2,
            2,
            2,
            2,
            2,
            2,
            2,
            2,
            2,
            2,
            2,
            2,
            2,
            2,
            2,
            2,
            2,
            2,
            2,
            2,
            2,
            2,
            2,
            2,
            2,
            2,
            2,
            2,
            2,
            2,
            2,
            2,
            2,
            2,
            2,
            2,
            2,
            2,
            1,
            1,
            1,
            1,
            1,
            1,
            1,
            1,
            1,
            1,
            1,
            1,
            1,
            1,
            1,
            1,
            1,
            1,
            1,
            1,
            1,
            1,
            1,
            1,
            1,
            1,
            1,
            1,
            1,
            1,
            1,
            1,
            1,
            1,
            1,
            1,
            1,
            1,
            1,
            1,
            1,
            1,
            1,
            1,
            1
           ]
          ]
         },
         "columnwidth": [
          60,
          150,
          100,
          100,
          100,
          100,
          100,
          100,
          100,
          100
         ],
         "header": {
          "align": "center",
          "fill": {
           "color": "rgb(153, 128, 250)"
          },
          "font": {
           "color": "white",
           "family": "Arial, sans-serif",
           "size": 12
          },
          "height": 60,
          "line": {
           "color": "white",
           "width": 1.5
          },
          "values": [
           "symbol",
           "name",
           "large<br>market<br>cap",
           "double<br>current<br>ratio",
           "earnings<br>stability",
           "dividend<br>record",
           "earnings<br>growth",
           "moderate<br>pe<br>ratio",
           "moderate<br>pb<br>ratio",
           "num<br>criteria"
          ]
         },
         "type": "table"
        }
       ],
       "layout": {
        "height": 450,
        "margin": {
         "b": 10,
         "l": 10,
         "r": 10,
         "t": 10
        },
        "paper_bgcolor": "white",
        "plot_bgcolor": "white",
        "template": {
         "data": {
          "bar": [
           {
            "error_x": {
             "color": "#2a3f5f"
            },
            "error_y": {
             "color": "#2a3f5f"
            },
            "marker": {
             "line": {
              "color": "#E5ECF6",
              "width": 0.5
             },
             "pattern": {
              "fillmode": "overlay",
              "size": 10,
              "solidity": 0.2
             }
            },
            "type": "bar"
           }
          ],
          "barpolar": [
           {
            "marker": {
             "line": {
              "color": "#E5ECF6",
              "width": 0.5
             },
             "pattern": {
              "fillmode": "overlay",
              "size": 10,
              "solidity": 0.2
             }
            },
            "type": "barpolar"
           }
          ],
          "carpet": [
           {
            "aaxis": {
             "endlinecolor": "#2a3f5f",
             "gridcolor": "white",
             "linecolor": "white",
             "minorgridcolor": "white",
             "startlinecolor": "#2a3f5f"
            },
            "baxis": {
             "endlinecolor": "#2a3f5f",
             "gridcolor": "white",
             "linecolor": "white",
             "minorgridcolor": "white",
             "startlinecolor": "#2a3f5f"
            },
            "type": "carpet"
           }
          ],
          "choropleth": [
           {
            "colorbar": {
             "outlinewidth": 0,
             "ticks": ""
            },
            "type": "choropleth"
           }
          ],
          "contour": [
           {
            "colorbar": {
             "outlinewidth": 0,
             "ticks": ""
            },
            "colorscale": [
             [
              0,
              "#0d0887"
             ],
             [
              0.1111111111111111,
              "#46039f"
             ],
             [
              0.2222222222222222,
              "#7201a8"
             ],
             [
              0.3333333333333333,
              "#9c179e"
             ],
             [
              0.4444444444444444,
              "#bd3786"
             ],
             [
              0.5555555555555556,
              "#d8576b"
             ],
             [
              0.6666666666666666,
              "#ed7953"
             ],
             [
              0.7777777777777778,
              "#fb9f3a"
             ],
             [
              0.8888888888888888,
              "#fdca26"
             ],
             [
              1,
              "#f0f921"
             ]
            ],
            "type": "contour"
           }
          ],
          "contourcarpet": [
           {
            "colorbar": {
             "outlinewidth": 0,
             "ticks": ""
            },
            "type": "contourcarpet"
           }
          ],
          "heatmap": [
           {
            "colorbar": {
             "outlinewidth": 0,
             "ticks": ""
            },
            "colorscale": [
             [
              0,
              "#0d0887"
             ],
             [
              0.1111111111111111,
              "#46039f"
             ],
             [
              0.2222222222222222,
              "#7201a8"
             ],
             [
              0.3333333333333333,
              "#9c179e"
             ],
             [
              0.4444444444444444,
              "#bd3786"
             ],
             [
              0.5555555555555556,
              "#d8576b"
             ],
             [
              0.6666666666666666,
              "#ed7953"
             ],
             [
              0.7777777777777778,
              "#fb9f3a"
             ],
             [
              0.8888888888888888,
              "#fdca26"
             ],
             [
              1,
              "#f0f921"
             ]
            ],
            "type": "heatmap"
           }
          ],
          "heatmapgl": [
           {
            "colorbar": {
             "outlinewidth": 0,
             "ticks": ""
            },
            "colorscale": [
             [
              0,
              "#0d0887"
             ],
             [
              0.1111111111111111,
              "#46039f"
             ],
             [
              0.2222222222222222,
              "#7201a8"
             ],
             [
              0.3333333333333333,
              "#9c179e"
             ],
             [
              0.4444444444444444,
              "#bd3786"
             ],
             [
              0.5555555555555556,
              "#d8576b"
             ],
             [
              0.6666666666666666,
              "#ed7953"
             ],
             [
              0.7777777777777778,
              "#fb9f3a"
             ],
             [
              0.8888888888888888,
              "#fdca26"
             ],
             [
              1,
              "#f0f921"
             ]
            ],
            "type": "heatmapgl"
           }
          ],
          "histogram": [
           {
            "marker": {
             "pattern": {
              "fillmode": "overlay",
              "size": 10,
              "solidity": 0.2
             }
            },
            "type": "histogram"
           }
          ],
          "histogram2d": [
           {
            "colorbar": {
             "outlinewidth": 0,
             "ticks": ""
            },
            "colorscale": [
             [
              0,
              "#0d0887"
             ],
             [
              0.1111111111111111,
              "#46039f"
             ],
             [
              0.2222222222222222,
              "#7201a8"
             ],
             [
              0.3333333333333333,
              "#9c179e"
             ],
             [
              0.4444444444444444,
              "#bd3786"
             ],
             [
              0.5555555555555556,
              "#d8576b"
             ],
             [
              0.6666666666666666,
              "#ed7953"
             ],
             [
              0.7777777777777778,
              "#fb9f3a"
             ],
             [
              0.8888888888888888,
              "#fdca26"
             ],
             [
              1,
              "#f0f921"
             ]
            ],
            "type": "histogram2d"
           }
          ],
          "histogram2dcontour": [
           {
            "colorbar": {
             "outlinewidth": 0,
             "ticks": ""
            },
            "colorscale": [
             [
              0,
              "#0d0887"
             ],
             [
              0.1111111111111111,
              "#46039f"
             ],
             [
              0.2222222222222222,
              "#7201a8"
             ],
             [
              0.3333333333333333,
              "#9c179e"
             ],
             [
              0.4444444444444444,
              "#bd3786"
             ],
             [
              0.5555555555555556,
              "#d8576b"
             ],
             [
              0.6666666666666666,
              "#ed7953"
             ],
             [
              0.7777777777777778,
              "#fb9f3a"
             ],
             [
              0.8888888888888888,
              "#fdca26"
             ],
             [
              1,
              "#f0f921"
             ]
            ],
            "type": "histogram2dcontour"
           }
          ],
          "mesh3d": [
           {
            "colorbar": {
             "outlinewidth": 0,
             "ticks": ""
            },
            "type": "mesh3d"
           }
          ],
          "parcoords": [
           {
            "line": {
             "colorbar": {
              "outlinewidth": 0,
              "ticks": ""
             }
            },
            "type": "parcoords"
           }
          ],
          "pie": [
           {
            "automargin": true,
            "type": "pie"
           }
          ],
          "scatter": [
           {
            "fillpattern": {
             "fillmode": "overlay",
             "size": 10,
             "solidity": 0.2
            },
            "type": "scatter"
           }
          ],
          "scatter3d": [
           {
            "line": {
             "colorbar": {
              "outlinewidth": 0,
              "ticks": ""
             }
            },
            "marker": {
             "colorbar": {
              "outlinewidth": 0,
              "ticks": ""
             }
            },
            "type": "scatter3d"
           }
          ],
          "scattercarpet": [
           {
            "marker": {
             "colorbar": {
              "outlinewidth": 0,
              "ticks": ""
             }
            },
            "type": "scattercarpet"
           }
          ],
          "scattergeo": [
           {
            "marker": {
             "colorbar": {
              "outlinewidth": 0,
              "ticks": ""
             }
            },
            "type": "scattergeo"
           }
          ],
          "scattergl": [
           {
            "marker": {
             "colorbar": {
              "outlinewidth": 0,
              "ticks": ""
             }
            },
            "type": "scattergl"
           }
          ],
          "scattermapbox": [
           {
            "marker": {
             "colorbar": {
              "outlinewidth": 0,
              "ticks": ""
             }
            },
            "type": "scattermapbox"
           }
          ],
          "scatterpolar": [
           {
            "marker": {
             "colorbar": {
              "outlinewidth": 0,
              "ticks": ""
             }
            },
            "type": "scatterpolar"
           }
          ],
          "scatterpolargl": [
           {
            "marker": {
             "colorbar": {
              "outlinewidth": 0,
              "ticks": ""
             }
            },
            "type": "scatterpolargl"
           }
          ],
          "scatterternary": [
           {
            "marker": {
             "colorbar": {
              "outlinewidth": 0,
              "ticks": ""
             }
            },
            "type": "scatterternary"
           }
          ],
          "surface": [
           {
            "colorbar": {
             "outlinewidth": 0,
             "ticks": ""
            },
            "colorscale": [
             [
              0,
              "#0d0887"
             ],
             [
              0.1111111111111111,
              "#46039f"
             ],
             [
              0.2222222222222222,
              "#7201a8"
             ],
             [
              0.3333333333333333,
              "#9c179e"
             ],
             [
              0.4444444444444444,
              "#bd3786"
             ],
             [
              0.5555555555555556,
              "#d8576b"
             ],
             [
              0.6666666666666666,
              "#ed7953"
             ],
             [
              0.7777777777777778,
              "#fb9f3a"
             ],
             [
              0.8888888888888888,
              "#fdca26"
             ],
             [
              1,
              "#f0f921"
             ]
            ],
            "type": "surface"
           }
          ],
          "table": [
           {
            "cells": {
             "fill": {
              "color": "#EBF0F8"
             },
             "line": {
              "color": "white"
             }
            },
            "header": {
             "fill": {
              "color": "#C8D4E3"
             },
             "line": {
              "color": "white"
             }
            },
            "type": "table"
           }
          ]
         },
         "layout": {
          "annotationdefaults": {
           "arrowcolor": "#2a3f5f",
           "arrowhead": 0,
           "arrowwidth": 1
          },
          "autotypenumbers": "strict",
          "coloraxis": {
           "colorbar": {
            "outlinewidth": 0,
            "ticks": ""
           }
          },
          "colorscale": {
           "diverging": [
            [
             0,
             "#8e0152"
            ],
            [
             0.1,
             "#c51b7d"
            ],
            [
             0.2,
             "#de77ae"
            ],
            [
             0.3,
             "#f1b6da"
            ],
            [
             0.4,
             "#fde0ef"
            ],
            [
             0.5,
             "#f7f7f7"
            ],
            [
             0.6,
             "#e6f5d0"
            ],
            [
             0.7,
             "#b8e186"
            ],
            [
             0.8,
             "#7fbc41"
            ],
            [
             0.9,
             "#4d9221"
            ],
            [
             1,
             "#276419"
            ]
           ],
           "sequential": [
            [
             0,
             "#0d0887"
            ],
            [
             0.1111111111111111,
             "#46039f"
            ],
            [
             0.2222222222222222,
             "#7201a8"
            ],
            [
             0.3333333333333333,
             "#9c179e"
            ],
            [
             0.4444444444444444,
             "#bd3786"
            ],
            [
             0.5555555555555556,
             "#d8576b"
            ],
            [
             0.6666666666666666,
             "#ed7953"
            ],
            [
             0.7777777777777778,
             "#fb9f3a"
            ],
            [
             0.8888888888888888,
             "#fdca26"
            ],
            [
             1,
             "#f0f921"
            ]
           ],
           "sequentialminus": [
            [
             0,
             "#0d0887"
            ],
            [
             0.1111111111111111,
             "#46039f"
            ],
            [
             0.2222222222222222,
             "#7201a8"
            ],
            [
             0.3333333333333333,
             "#9c179e"
            ],
            [
             0.4444444444444444,
             "#bd3786"
            ],
            [
             0.5555555555555556,
             "#d8576b"
            ],
            [
             0.6666666666666666,
             "#ed7953"
            ],
            [
             0.7777777777777778,
             "#fb9f3a"
            ],
            [
             0.8888888888888888,
             "#fdca26"
            ],
            [
             1,
             "#f0f921"
            ]
           ]
          },
          "colorway": [
           "#636efa",
           "#EF553B",
           "#00cc96",
           "#ab63fa",
           "#FFA15A",
           "#19d3f3",
           "#FF6692",
           "#B6E880",
           "#FF97FF",
           "#FECB52"
          ],
          "font": {
           "color": "#2a3f5f"
          },
          "geo": {
           "bgcolor": "white",
           "lakecolor": "white",
           "landcolor": "#E5ECF6",
           "showlakes": true,
           "showland": true,
           "subunitcolor": "white"
          },
          "hoverlabel": {
           "align": "left"
          },
          "hovermode": "closest",
          "mapbox": {
           "style": "light"
          },
          "paper_bgcolor": "white",
          "plot_bgcolor": "#E5ECF6",
          "polar": {
           "angularaxis": {
            "gridcolor": "white",
            "linecolor": "white",
            "ticks": ""
           },
           "bgcolor": "#E5ECF6",
           "radialaxis": {
            "gridcolor": "white",
            "linecolor": "white",
            "ticks": ""
           }
          },
          "scene": {
           "xaxis": {
            "backgroundcolor": "#E5ECF6",
            "gridcolor": "white",
            "gridwidth": 2,
            "linecolor": "white",
            "showbackground": true,
            "ticks": "",
            "zerolinecolor": "white"
           },
           "yaxis": {
            "backgroundcolor": "#E5ECF6",
            "gridcolor": "white",
            "gridwidth": 2,
            "linecolor": "white",
            "showbackground": true,
            "ticks": "",
            "zerolinecolor": "white"
           },
           "zaxis": {
            "backgroundcolor": "#E5ECF6",
            "gridcolor": "white",
            "gridwidth": 2,
            "linecolor": "white",
            "showbackground": true,
            "ticks": "",
            "zerolinecolor": "white"
           }
          },
          "shapedefaults": {
           "line": {
            "color": "#2a3f5f"
           }
          },
          "ternary": {
           "aaxis": {
            "gridcolor": "white",
            "linecolor": "white",
            "ticks": ""
           },
           "baxis": {
            "gridcolor": "white",
            "linecolor": "white",
            "ticks": ""
           },
           "bgcolor": "#E5ECF6",
           "caxis": {
            "gridcolor": "white",
            "linecolor": "white",
            "ticks": ""
           }
          },
          "title": {
           "x": 0.05
          },
          "xaxis": {
           "automargin": true,
           "gridcolor": "white",
           "linecolor": "white",
           "ticks": "",
           "title": {
            "standoff": 15
           },
           "zerolinecolor": "white",
           "zerolinewidth": 2
          },
          "yaxis": {
           "automargin": true,
           "gridcolor": "white",
           "linecolor": "white",
           "ticks": "",
           "title": {
            "standoff": 15
           },
           "zerolinecolor": "white",
           "zerolinewidth": 2
          }
         }
        },
        "width": 1000
       }
      }
     },
     "metadata": {},
     "output_type": "display_data"
    }
   ],
   "source": [
    "import plotly.graph_objects as go\n",
    "\n",
    "\n",
    "# Convert column names to have line breaks for better fitting\n",
    "def format_header(col_name):\n",
    "    # Replace underscores with line breaks\n",
    "    return col_name.replace(\"_\", \"<br>\")\n",
    "\n",
    "\n",
    "# Format all column headers\n",
    "formatted_headers = [format_header(col) for col in criteria_df.columns]\n",
    "\n",
    "# Adjust column widths - first column narrower, second wider for names, others standard\n",
    "columnwidth = [60, 150] + [100] * (len(criteria_df.columns) - 2)\n",
    "\n",
    "fig = go.Figure(\n",
    "    data=go.Table(\n",
    "        columnwidth=columnwidth,\n",
    "        header=dict(\n",
    "            values=list(formatted_headers),\n",
    "            fill_color=\"rgb(153, 128, 250)\",  # Purple similar to #9980FA\n",
    "            font=dict(color=\"white\", size=12, family=\"Arial, sans-serif\"),\n",
    "            align=\"center\",\n",
    "            height=60,\n",
    "            line=dict(color=\"white\", width=1.5),\n",
    "        ),\n",
    "        cells=dict(\n",
    "            values=criteria_df.sort_values(by=\"num_criteria\", ascending=False)\n",
    "            .transpose()\n",
    "            .values.tolist(),\n",
    "            fill_color=\"rgb(246, 229, 141)\",  # Yellow similar to #f6e58d\n",
    "            font=dict(color=\"rgb(50, 50, 50)\", size=12, family=\"Arial, sans-serif\"),\n",
    "            align=[\"center\", \"left\"]\n",
    "            + [\"center\"] * (len(criteria_df.columns) - 2),  # Align name column left\n",
    "            height=30,\n",
    "            line=dict(color=\"white\", width=1),\n",
    "        ),\n",
    "    )\n",
    ")\n",
    "\n",
    "# Update layout for better visual appearance\n",
    "fig.update_layout(\n",
    "    paper_bgcolor=\"white\",\n",
    "    plot_bgcolor=\"white\",\n",
    "    margin=dict(l=10, r=10, t=10, b=10),\n",
    "    height=450,\n",
    "    width=1000,\n",
    ")\n",
    "\n",
    "fig.show()"
   ]
  },
  {
   "cell_type": "code",
   "execution_count": null,
   "id": "24b30a66e165632b",
   "metadata": {
    "ExecuteTime": {
     "end_time": "2025-02-27T21:46:42.947552Z",
     "start_time": "2025-02-27T21:46:42.941003Z"
    }
   },
   "outputs": [],
   "source": [
    "plotly.io.write_json(fig, \"data/all_criteria.json\")"
   ]
  },
  {
   "cell_type": "code",
   "execution_count": null,
   "id": "cf0e9ac105f9bb0",
   "metadata": {},
   "outputs": [],
   "source": []
  }
 ],
 "metadata": {
  "kernelspec": {
   "display_name": "investing",
   "language": "python",
   "name": "python3"
  },
  "language_info": {
   "codemirror_mode": {
    "name": "ipython",
    "version": 3
   },
   "file_extension": ".py",
   "mimetype": "text/x-python",
   "name": "python",
   "nbconvert_exporter": "python",
   "pygments_lexer": "ipython3",
   "version": "3.12.8"
  }
 },
 "nbformat": 4,
 "nbformat_minor": 5
}
